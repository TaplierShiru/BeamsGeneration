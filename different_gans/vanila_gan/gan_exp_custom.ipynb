{
 "cells": [
  {
   "cell_type": "code",
   "execution_count": null,
   "metadata": {
    "id": "zvAf5xTpWhHM"
   },
   "outputs": [],
   "source": [
    "#\n",
    "# Most of code taken from -- https://machinelearningmastery.com/how-to-develop-a-conditional-generative-adversarial-network-from-scratch/\n",
    "#\n",
    "# example of training an conditional gan on the fashion mnist dataset\n",
    "import os\n",
    "os.environ[\"CUDA_VISIBLE_DEVICES\"] = str(0)\n",
    "import sys\n",
    "# sys.path.append('..')\n",
    "# from utils import foldername2class\n",
    "\n",
    "from numpy import expand_dims\n",
    "from numpy import zeros\n",
    "from numpy import ones\n",
    "from numpy.random import randn\n",
    "from numpy.random import randint\n",
    "\n",
    "# example of loading the generator model and generating images\n",
    "from numpy import asarray\n",
    "from numpy.random import randn\n",
    "from numpy.random import randint\n",
    "from tensorflow.keras.models import load_model\n",
    "from matplotlib import pyplot\n",
    "\n",
    "\n",
    "import tensorflow as tf\n",
    "\n",
    "\n",
    "from tensorflow.keras.datasets.fashion_mnist import load_data\n",
    "from tensorflow.keras.optimizers import Adam\n",
    "from tensorflow.keras.models import Model\n",
    "from tensorflow.keras.layers import Input\n",
    "from tensorflow.keras.layers import Dense\n",
    "from tensorflow.keras.layers import Reshape\n",
    "from tensorflow.keras.layers import Flatten\n",
    "from tensorflow.keras.layers import Conv2D\n",
    "from tensorflow.keras.layers import Conv2DTranspose\n",
    "from tensorflow.keras.layers import LeakyReLU\n",
    "from tensorflow.keras.layers import Dropout\n",
    "from tensorflow.keras.layers import Embedding\n",
    "from tensorflow.keras.layers import Concatenate\n",
    "from tensorflow.keras.layers import BatchNormalization\n",
    "\n",
    "from tensorflow.keras import initializers\n",
    "\n",
    "from skimage import io\n",
    "import numpy as np\n",
    "import matplotlib.pyplot as plt\n",
    "from tqdm import tqdm\n",
    "import glob\n",
    "from sklearn.utils import shuffle"
   ]
  },
  {
   "cell_type": "code",
   "execution_count": null,
   "metadata": {},
   "outputs": [],
   "source": [
    "tf.config.list_physical_devices('GPU')"
   ]
  },
  {
   "cell_type": "code",
   "execution_count": null,
   "metadata": {
    "id": "JJonism8SksX"
   },
   "outputs": [],
   "source": [
    "H, W, C = 336, 336, 3\n",
    "batch_size = 10\n",
    "PATH_DATA = '../../expand_double_modes'\n",
    "\n",
    "train_images_path = []\n",
    "\n",
    "iterator = tqdm(glob.glob(PATH_DATA + \"/*\"))\n",
    "for single_folder in iterator:\n",
    "    img_folder = shuffle(glob.glob(single_folder + '/*'))\n",
    "    for indx, single_img_path in enumerate(img_folder):\n",
    "        train_images_path.append(single_img_path)\n",
    "iterator.close()\n",
    "\n",
    "train_images_path = shuffle(train_images_path)"
   ]
  },
  {
   "cell_type": "code",
   "execution_count": null,
   "metadata": {},
   "outputs": [],
   "source": [
    "def preprocess_images(images):\n",
    "  images = (images - 127.5) / 127.5\n",
    "  return images.astype('float32')\n",
    "\n",
    "def generator_img(path_list: list):\n",
    "    counter = 0\n",
    "    max_counter = len(path_list)\n",
    "    while True:\n",
    "        single_path = path_list[counter]\n",
    "        image_s = preprocess_images(np.asarray(io.imread(single_path), dtype=np.float32))\n",
    "        yield image_s\n",
    "        # yield np.ones((336, 336, 3))\n",
    "        counter += 1\n",
    "\n",
    "        if counter == max_counter:\n",
    "            counter = 0\n",
    "            path_list = shuffle(path_list)\n",
    "\n",
    "def train_gen():\n",
    "    return generator_img(train_images_path)"
   ]
  },
  {
   "cell_type": "code",
   "execution_count": null,
   "metadata": {},
   "outputs": [],
   "source": [
    "dataset = (\n",
    "    tf.data.Dataset.from_generator(\n",
    "        train_gen, \n",
    "        output_signature=(\n",
    "            tf.TensorSpec(shape=(H, W, C), dtype=np.float32)\n",
    "        )\n",
    "    )\n",
    "    .shuffle(batch_size * 10).batch(batch_size)\n",
    ")\n"
   ]
  },
  {
   "cell_type": "code",
   "execution_count": null,
   "metadata": {},
   "outputs": [],
   "source": [
    "train_size = len(train_images_path)\n",
    "\n",
    "print(f'train: {train_size}')"
   ]
  },
  {
   "cell_type": "code",
   "execution_count": null,
   "metadata": {},
   "outputs": [],
   "source": [
    "#def init_weights(shape, dtype=tf.float32):\n",
    "#    return initializers.Orthogonal(1 / np.sqrt(np.prod(shape[1:])))(shape=shape, dtype=dtype)\n",
    "\n",
    "def init_weights():\n",
    "    return initializers.RandomNormal(stddev=0.02)\n",
    "\n",
    "def generate_latent_points(latent_dim, n_samples):\n",
    "    return randn(n_samples, latent_dim)\n",
    "\n",
    "# create and save a plot of generated images\n",
    "def save_figure(examples, n, prefix=0):\n",
    "    # plot images\n",
    "    fig = pyplot.figure(figsize=(12,12))\n",
    "    for i in range(n * n):\n",
    "        # define subplot\n",
    "        pyplot.subplot(n, n, 1 + i)\n",
    "        # turn off axis\n",
    "        pyplot.axis('off')\n",
    "        # plot raw pixel data\n",
    "        pyplot.imshow(examples[i])\n",
    "    #pyplot.show()\n",
    "    fig.savefig(f'{prefix}_image.png')\n",
    "    plt.close('all')"
   ]
  },
  {
   "cell_type": "code",
   "execution_count": null,
   "metadata": {
    "colab": {
     "base_uri": "https://localhost:8080/"
    },
    "executionInfo": {
     "elapsed": 1027294,
     "status": "ok",
     "timestamp": 1622279877187,
     "user": {
      "displayName": "Danil Gribanov",
      "photoUrl": "",
      "userId": "05657406822922912924"
     },
     "user_tz": -240
    },
    "id": "dcYU88YaRdWM",
    "outputId": "14a203a7-466a-401d-9620-48137e7604f6"
   },
   "outputs": [],
   "source": [
    "# define the standalone discriminator model\n",
    "def define_discriminator(in_shape):\n",
    "    # image input\n",
    "    in_image = Input(shape=in_shape)                                 # 336\n",
    "    # downsample\n",
    "    fe = Conv2D(64, (3,3), strides=(2,2), padding='same', kernel_initializer=init_weights())(in_image) # 168\n",
    "    #fe = BatchNormalization()(fe)\n",
    "    fe = LeakyReLU(alpha=0.2)(fe)\n",
    "    # downsample\n",
    "    fe = Conv2D(128, (3,3), strides=(2,2), padding='same', kernel_initializer=init_weights())(fe)    # 84  \n",
    "    #fe = BatchNormalization()(fe)\n",
    "    fe = LeakyReLU(alpha=0.2)(fe)\n",
    "    # downsample\n",
    "    fe = Conv2D(128, (3,3), strides=(2,2), padding='same', kernel_initializer=init_weights())(fe)    # 42 \n",
    "    #fe = BatchNormalization()(fe)\n",
    "    fe = LeakyReLU(alpha=0.2)(fe)\n",
    "    # downsample\n",
    "    fe = Conv2D(128, (3,3), strides=(2,2), padding='same', kernel_initializer=init_weights())(fe)    # 21 \n",
    "    #fe = BatchNormalization()(fe)\n",
    "    fe = LeakyReLU(alpha=0.2)(fe)\n",
    "    \n",
    "    fe = Conv2D(64, (3,3), padding='same', kernel_initializer=init_weights())(fe)                   # 21 \n",
    "    #fe = BatchNormalization()(fe)\n",
    "    fe = LeakyReLU(alpha=0.2)(fe)\n",
    "    out_layer = Conv2D(1, (1,1), padding='same', activation='sigmoid', kernel_initializer=init_weights())(fe)\n",
    "    # flatten feature maps\n",
    "    #fe = Flatten()(fe)\n",
    "    #fe = Dropout(0.25)(fe)\n",
    "    #out_layer = Dense(1, activation='sigmoid')(fe)\n",
    "    # define model\n",
    "    model = Model([in_image], out_layer)\n",
    "    # compile model\n",
    "    opt = Adam(lr=0.0002, beta_1=0.5) # Adam(lr=0.0002, beta_1=0.5)\n",
    "    model.compile(loss='binary_crossentropy', optimizer=opt, metrics=['accuracy'])\n",
    "    return model\n",
    "\n",
    "# define the standalone generator model\n",
    "def define_generator(latent_dim, h_low=21, w_low=21):\n",
    "    # image generator input\n",
    "    in_lat = Input(shape=(latent_dim,))\n",
    "    # foundation for h_low x w_low image\n",
    "    n_nodes = 64 * h_low * w_low\n",
    "    gen = Dense(n_nodes)(in_lat)\n",
    "    gen = LeakyReLU(alpha=0.2)(gen)\n",
    "    gen = Reshape((h_low, w_low, 64))(gen)\n",
    "    # upsample to 42\n",
    "    gen = Conv2DTranspose(128, (4,4), strides=(2,2), padding='same', kernel_initializer=init_weights())(gen)  \n",
    "    gen = BatchNormalization(trainable=False)(gen)\n",
    "    gen = LeakyReLU(alpha=0.2)(gen)\n",
    "    # upsample to 84\n",
    "    gen = Conv2DTranspose(256, (4,4), strides=(2,2), padding='same', kernel_initializer=init_weights())(gen)\n",
    "    gen = BatchNormalization(trainable=False)(gen)\n",
    "    gen = LeakyReLU(alpha=0.2)(gen)\n",
    "    # upsample to 168\n",
    "    gen = Conv2DTranspose(256, (4,4), strides=(2,2), padding='same', kernel_initializer=init_weights())(gen)\n",
    "    gen = BatchNormalization(trainable=False)(gen)\n",
    "    gen = LeakyReLU(alpha=0.2)(gen)\n",
    "    # upsample to 336\n",
    "    gen = Conv2DTranspose(128, (4,4), strides=(2,2), padding='same', kernel_initializer=init_weights())(gen)\n",
    "    gen = BatchNormalization(trainable=False)(gen)\n",
    "    gen = LeakyReLU(alpha=0.2)(gen)\n",
    "    # output\n",
    "    out_layer = Conv2D(C, (4,4), activation='tanh', padding='same', kernel_initializer=init_weights())(gen)\n",
    "    # define model\n",
    "    model = Model([in_lat], out_layer)\n",
    "    return model\n",
    "\n",
    "# define the combined generator and discriminator model, for updating the generator\n",
    "def define_gan(g_model, d_model):\n",
    "    # make weights in the discriminator not trainable\n",
    "    d_model.trainable = False\n",
    "    # get noise and label inputs from generator model\n",
    "    gen_noise = g_model.input\n",
    "    # get image output from the generator model\n",
    "    gen_output = g_model.output\n",
    "    # connect image output and label input from generator as inputs to discriminator\n",
    "    gan_output = d_model([gen_output])\n",
    "    # define gan model as taking noise and label and outputting a classification\n",
    "    model = Model([gen_noise], gan_output)\n",
    "    # compile model\n",
    "    opt = Adam(lr=0.0002, beta_1=0.5)\n",
    "    model.compile(loss='binary_crossentropy', optimizer=opt)\n",
    "    return model\n",
    "\n",
    "# load fashion mnist images\n",
    "def load_real_samples():\n",
    "    # load dataset\n",
    "    (trainX, trainy), (_, _) = load_data()\n",
    "    # expand to 3d, e.g. add channels\n",
    "    X = expand_dims(trainX, axis=-1)\n",
    "    # convert from ints to floats\n",
    "    X = X.astype('float32')\n",
    "    # scale from [0,255] to [-1,1]\n",
    "    X = (X - 127.5) / 127.5\n",
    "    return [X, trainy]\n",
    "\n",
    "# # select real samples\n",
    "def generate_real_samples(dataset, n_samples):\n",
    "    # split into images and labels\n",
    "    X = list(dataset.take(1))[0]\n",
    "    # generate class labels\n",
    "    y = ones((n_samples, 21, 21, 1)) * 0.9\n",
    "    return X, y\n",
    "\n",
    "# use the generator to generate n fake examples, with class labels\n",
    "def generate_fake_samples(generator, latent_dim, n_samples):\n",
    "    # generate points in latent space\n",
    "    z_input = generate_latent_points(latent_dim, n_samples)\n",
    "    # predict outputs\n",
    "    images = generator.predict([z_input])\n",
    "    # create class labels\n",
    "    y = zeros((n_samples, 21, 21, 1))\n",
    "    return images, y\n",
    "\n",
    "# train the generator and discriminator\n",
    "def train(g_model, d_model, gan_model, dataset, latent_dim, n_epochs=1, n_batch=128, dataset_size=30000):\n",
    "    bat_per_epo = int(dataset_size / n_batch)\n",
    "    half_batch = int(n_batch / 2)\n",
    "    # manually enumerate epochs\n",
    "    for i in range(n_epochs):\n",
    "        # enumerate batches over the training set\n",
    "        for j in range(bat_per_epo):\n",
    "            # get randomly selected 'real' samples\n",
    "            X_real, y_real = generate_real_samples(dataset, half_batch)\n",
    "            # update discriminator model weights\n",
    "            d_loss1, _ = d_model.train_on_batch(X_real, y_real)\n",
    "            # generate 'fake' examples\n",
    "            X_fake, y_fake = generate_fake_samples(g_model, latent_dim, half_batch)\n",
    "            # update discriminator model weights\n",
    "            d_loss2, _ = d_model.train_on_batch(X_fake, y_fake)\n",
    "            # prepare points in latent space as input for the generator\n",
    "            z_input = generate_latent_points(latent_dim, n_batch)\n",
    "            # create inverted labels for the fake samples\n",
    "            y_gan = ones((n_batch, 21, 21, 1)) # * 0.9 do not use label smoothing\n",
    "            # update the generator via the discriminator's error\n",
    "            g_loss = gan_model.train_on_batch(z_input, y_gan)\n",
    "            # summarize loss on this batch\n",
    "            print('>%d, %d/%d, d1=%.3f, d2=%.3f g=%.3f' %\n",
    "                (i+1, j+1, bat_per_epo, d_loss1, d_loss2, g_loss))\n",
    "            \n",
    "            if j % 50 == 0:\n",
    "                g_model.save('cgan_generator.h5')\n",
    "                # load model\n",
    "                model = load_model('cgan_generator.h5')\n",
    "                # generate images\n",
    "                latent_points = generate_latent_points(latent_dim, 100)\n",
    "                # generate images\n",
    "                X  = model.predict([latent_points])\n",
    "                # scale from [-1,1] to [0,1]\n",
    "                X = (X + 1) / 2.0\n",
    "                # plot the result\n",
    "                save_figure(X, 10, prefix=f'e_{i}_be_{j}')\n",
    "    # save the generator model\n",
    "    g_model.save('cgan_generator.h5')"
   ]
  },
  {
   "cell_type": "code",
   "execution_count": null,
   "metadata": {
    "id": "RJ1xBlU-TH8C"
   },
   "outputs": [],
   "source": [
    "# size of the latent space\n",
    "latent_dim = 100"
   ]
  },
  {
   "cell_type": "code",
   "execution_count": null,
   "metadata": {
    "id": "QGCUymGpTKnI"
   },
   "outputs": [],
   "source": [
    "# create the discriminator\n",
    "d_model = define_discriminator((H, W, C))"
   ]
  },
  {
   "cell_type": "code",
   "execution_count": null,
   "metadata": {
    "id": "Q2ZxU_cWTKp2"
   },
   "outputs": [],
   "source": [
    "# create the generator\n",
    "g_model = define_generator(latent_dim)"
   ]
  },
  {
   "cell_type": "code",
   "execution_count": null,
   "metadata": {
    "id": "f5sikdTgSBhz"
   },
   "outputs": [],
   "source": [
    "# create the gan\n",
    "gan_model = define_gan(g_model, d_model)"
   ]
  },
  {
   "cell_type": "code",
   "execution_count": null,
   "metadata": {
    "id": "kE7j3ubeTP4E"
   },
   "outputs": [],
   "source": [
    "# load image data\n",
    "#dataset = load_real_samples()\n",
    "#dataset = (train_images, train_labels)"
   ]
  },
  {
   "cell_type": "code",
   "execution_count": null,
   "metadata": {
    "id": "wsrEGMOWSBkg",
    "scrolled": true
   },
   "outputs": [],
   "source": [
    "# train model\n",
    "train(g_model, d_model, gan_model, dataset, latent_dim, n_epochs=20, n_batch=batch_size * 2)"
   ]
  },
  {
   "cell_type": "code",
   "execution_count": null,
   "metadata": {
    "colab": {
     "base_uri": "https://localhost:8080/"
    },
    "executionInfo": {
     "elapsed": 3913,
     "status": "ok",
     "timestamp": 1622280528031,
     "user": {
      "displayName": "Danil Gribanov",
      "photoUrl": "",
      "userId": "05657406822922912924"
     },
     "user_tz": -240
    },
    "id": "4ppjqlA-Rwwp",
    "outputId": "c235c766-a1bd-4dc0-c16b-d897d5b61418"
   },
   "outputs": [],
   "source": [
    "# example of loading the generator model and generating images\n",
    "from numpy import asarray\n",
    "from numpy.random import randn\n",
    "from numpy.random import randint\n",
    "from tensorflow.keras.models import load_model\n",
    "from matplotlib import pyplot\n",
    "\n",
    "# generate points in latent space as input for the generator\n",
    "def generate_latent_points(latent_dim, n_samples, n_classes=21):\n",
    "    # generate points in the latent space\n",
    "    x_input = randn(latent_dim * n_samples)\n",
    "    # reshape into a batch of inputs for the network\n",
    "    z_input = x_input.reshape(n_samples, latent_dim)\n",
    "    # generate labels\n",
    "    labels = randint(0, n_classes, n_samples)\n",
    "    return [z_input, labels]\n",
    "\n",
    "# create and save a plot of generated images\n",
    "def save_plot(examples, n):\n",
    "    # plot images\n",
    "    pyplot.figure(figsize=(12,12))\n",
    "    for i in range(n * n):\n",
    "        # define subplot\n",
    "        pyplot.subplot(n, n, 1 + i)\n",
    "        # turn off axis\n",
    "        pyplot.axis('off')\n",
    "        # plot raw pixel data\n",
    "        pyplot.imshow(examples[i])\n",
    "    pyplot.show()\n",
    "\n",
    "# load model\n",
    "model = load_model('cgan_generator.h5')\n",
    "# generate images\n",
    "latent_points, labels = generate_latent_points(latent_dim, 100)\n",
    "# specify labels\n",
    "labels = asarray([x for _ in range(10) for x in range(10)])\n",
    "#labels = ones((100)) * 0 # generate one thing\n",
    "# generate images\n",
    "X  = model.predict([latent_points, labels])\n",
    "# scale from [-1,1] to [0,1]\n",
    "X = (X + 1) / 2.0\n",
    "# plot the result\n",
    "save_plot(X, 10)"
   ]
  },
  {
   "cell_type": "code",
   "execution_count": null,
   "metadata": {},
   "outputs": [],
   "source": []
  }
 ],
 "metadata": {
  "accelerator": "GPU",
  "colab": {
   "authorship_tag": "ABX9TyMDVcxSZ5AvJSGVhp8kSxMa",
   "collapsed_sections": [],
   "name": "cgan_exp_custom.ipynb",
   "provenance": []
  },
  "kernelspec": {
   "display_name": "Python 3",
   "language": "python",
   "name": "python3"
  },
  "language_info": {
   "codemirror_mode": {
    "name": "ipython",
    "version": 3
   },
   "file_extension": ".py",
   "mimetype": "text/x-python",
   "name": "python",
   "nbconvert_exporter": "python",
   "pygments_lexer": "ipython3",
   "version": "3.8.5"
  }
 },
 "nbformat": 4,
 "nbformat_minor": 1
}
