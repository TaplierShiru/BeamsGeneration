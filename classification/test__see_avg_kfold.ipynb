{
 "cells": [
  {
   "cell_type": "code",
   "execution_count": 1,
   "metadata": {},
   "outputs": [],
   "source": [
    "import numpy as np\n",
    "import matplotlib.pyplot as plt\n",
    "from glob import glob\n",
    "import os\n",
    "import seaborn as sns"
   ]
  },
  {
   "cell_type": "code",
   "execution_count": 2,
   "metadata": {},
   "outputs": [],
   "source": [
    "exp_folders = [\n",
    "    '/raid/rustam/danil/beams_test/beams_cnn_classification_train/exp_9756024'\n",
    "]"
   ]
  },
  {
   "cell_type": "code",
   "execution_count": 3,
   "metadata": {},
   "outputs": [],
   "source": [
    "def _rotation_range():\n",
    "    return range(-90, 90, 5)\n",
    "\n",
    "\n",
    "all_avg_matrix = []\n",
    "for single_exp_folder in exp_folders:\n",
    "    folders = glob(os.path.join(single_exp_folder, '*_exp'))\n",
    "\n",
    "    all_matrix = []\n",
    "    for single_folder in folders:\n",
    "        # Check matrix\n",
    "        max_accuracy_indx = np.load(os.path.join(single_folder, 'val_accuracy.npy')).argmax()\n",
    "        find_f = os.path.join(single_folder, 'conf_matrix', f'{str(max_accuracy_indx)}.npy')\n",
    "        if not os.path.exists(find_f):\n",
    "            print('error: ', single_folder)\n",
    "            print('not find: ', max_accuracy)\n",
    "            raise ValueError('B')\n",
    "        all_matrix.append(np.load(find_f))\n",
    "    new_matrix = np.sum(all_matrix, axis=0) / len(all_matrix)\n",
    "    fig, ax = plt.subplots(figsize=(14, 14), facecolor='white')\n",
    "    sns.heatmap(np.round(new_matrix, 2), annot=True)\n",
    "    fig.savefig(os.path.join(single_exp_folder,'avg_confuse_matrix.png'), facecolor=fig.get_facecolor(), edgecolor='none')\n",
    "    \n",
    "    all_avg_matrix.append(new_matrix)\n",
    "\n",
    "# avg on all\n",
    "new_matrix = np.sum(all_avg_matrix, axis=0) / len(all_avg_matrix)\n",
    "fig, ax = plt.subplots(figsize=(14, 14), facecolor='white')\n",
    "sns.heatmap(np.round(new_matrix, 2), annot=True)\n",
    "fig.savefig('AVG_ALL_KFOLD_confuse_matrix.svg', facecolor=fig.get_facecolor(), edgecolor='none')\n",
    "plt.close('all')"
   ]
  },
  {
   "cell_type": "code",
   "execution_count": 23,
   "metadata": {},
   "outputs": [
    {
     "name": "stdout",
     "output_type": "stream",
     "text": [
      "accuracy=0.9304 precision=0.9532 recall=0.9304 f1=0.9417 \n"
     ]
    }
   ],
   "source": [
    "cm = new_matrix.copy()\n",
    "true_pos = np.diag(cm)\n",
    "accuracy = np.mean(true_pos)\n",
    "precision = np.mean(true_pos / np.sum(cm, axis=0))\n",
    "recall = np.mean(true_pos / np.sum(cm, axis=1))\n",
    "f1 = (2 * precision * recall) / (recall + precision)\n",
    "print(f'accuracy={str(np.round(accuracy, 5))[:6]} '\n",
    "      f'precision={str(np.round(precision, 5))[:6]} ' \n",
    "      f'recall={str(np.round(recall, 5))[:6]} '\n",
    "      f'f1={str(np.round(f1, 5))[:6]} '\n",
    ")"
   ]
  },
  {
   "cell_type": "code",
   "execution_count": 5,
   "metadata": {},
   "outputs": [
    {
     "data": {
      "text/plain": [
       "(21, 21)"
      ]
     },
     "execution_count": 5,
     "metadata": {},
     "output_type": "execute_result"
    }
   ],
   "source": [
    "all_matrix[0].shape"
   ]
  },
  {
   "cell_type": "code",
   "execution_count": 6,
   "metadata": {},
   "outputs": [],
   "source": [
    "new_matrix = np.sum(all_matrix, axis=0) / len(all_matrix)"
   ]
  },
  {
   "cell_type": "code",
   "execution_count": null,
   "metadata": {},
   "outputs": [],
   "source": [
    "fig = plt.figure(figsize=(12, 12))\n",
    "sns.heatmap(np.round(new_matrix, 2), annot=True)\n",
    "#fig.savefig('avg_confuse_matrix.png')"
   ]
  },
  {
   "cell_type": "code",
   "execution_count": null,
   "metadata": {},
   "outputs": [],
   "source": [
    "plt.close('all')"
   ]
  },
  {
   "cell_type": "code",
   "execution_count": null,
   "metadata": {},
   "outputs": [],
   "source": []
  },
  {
   "cell_type": "code",
   "execution_count": null,
   "metadata": {},
   "outputs": [],
   "source": []
  },
  {
   "cell_type": "code",
   "execution_count": null,
   "metadata": {},
   "outputs": [],
   "source": []
  },
  {
   "cell_type": "code",
   "execution_count": null,
   "metadata": {},
   "outputs": [],
   "source": []
  }
 ],
 "metadata": {
  "kernelspec": {
   "display_name": "Python 3",
   "language": "python",
   "name": "python3"
  },
  "language_info": {
   "codemirror_mode": {
    "name": "ipython",
    "version": 3
   },
   "file_extension": ".py",
   "mimetype": "text/x-python",
   "name": "python",
   "nbconvert_exporter": "python",
   "pygments_lexer": "ipython3",
   "version": "3.8.5"
  }
 },
 "nbformat": 4,
 "nbformat_minor": 4
}
