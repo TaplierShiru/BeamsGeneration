{
 "cells": [
  {
   "cell_type": "code",
   "execution_count": 1,
   "metadata": {},
   "outputs": [],
   "source": [
    "import numpy as np\n",
    "import matplotlib.pyplot as plt\n",
    "from glob import glob\n",
    "import os\n",
    "import seaborn as sns"
   ]
  },
  {
   "cell_type": "code",
   "execution_count": 2,
   "metadata": {},
   "outputs": [],
   "source": [
    "exp_folders = [\n",
    "    'exp_classification_kfold',\n",
    "    'exp_classification_kfold_0',\n",
    "    'exp_classification_kfold_old'\n",
    "]"
   ]
  },
  {
   "cell_type": "code",
   "execution_count": 3,
   "metadata": {},
   "outputs": [],
   "source": [
    "def _rotation_range():\n",
    "    return range(-90, 90, 5)\n",
    "\n",
    "\n",
    "all_avg_matrix = []\n",
    "all_avg_angle_matrix = []\n",
    "for single_exp_folder in exp_folders:\n",
    "    folders = glob(os.path.join(single_exp_folder, '*_exp'))\n",
    "\n",
    "    all_matrix = []\n",
    "    all_angle_matrix = []\n",
    "    for single_folder in folders:\n",
    "        # Check matrix\n",
    "        max_accuracy = np.round(np.load(os.path.join(single_folder, 'max_acc.npy')), 2)\n",
    "        find_f = glob(os.path.join(single_folder, f'acc_{str(max_accuracy)}_*'))\n",
    "        if len(find_f) != 1:\n",
    "            print('error: ', single_folder)\n",
    "            print('not find: ', max_accuracy)\n",
    "            raise ValueError('B')\n",
    "        find_f = find_f[0]\n",
    "        all_matrix.append(np.load(os.path.join(find_f, 'conf_matrix.npy')))\n",
    "        all_angle_matrix.append(np.load(os.path.join(find_f, 'error_angle_all_class.npy')))\n",
    "    new_matrix = np.sum(all_matrix, axis=0) / len(all_matrix)\n",
    "    fig, ax = plt.subplots(figsize=(14, 14), facecolor='white')\n",
    "    sns.heatmap(np.round(new_matrix, 2), annot=True)\n",
    "    fig.savefig(os.path.join(single_exp_folder,'avg_confuse_matrix.png'), facecolor=fig.get_facecolor(), edgecolor='none')\n",
    "    \n",
    "    new_angle_matrix = np.sum(all_angle_matrix, axis=0) / len(all_angle_matrix)\n",
    "    fig, ax = plt.subplots(figsize=(20, 20), facecolor='white')\n",
    "    sns.heatmap(np.round(new_angle_matrix, 2), annot=True, \n",
    "        xticklabels=list(_rotation_range()), yticklabels=list(_rotation_range())\n",
    "    )\n",
    "    fig.savefig(os.path.join(single_exp_folder,'avg_confuse_angle_matrix.png'), facecolor=fig.get_facecolor(), edgecolor='none')\n",
    "    \n",
    "    all_avg_matrix.append(new_matrix)\n",
    "    all_avg_angle_matrix.append(new_angle_matrix)\n",
    "\n",
    "# avg on all\n",
    "new_matrix = np.sum(all_avg_matrix, axis=0) / len(all_avg_matrix)\n",
    "fig, ax = plt.subplots(figsize=(14, 14), facecolor='white')\n",
    "sns.heatmap(np.round(new_matrix, 2), annot=True)\n",
    "fig.savefig('AVG_ALL_KFOLD_confuse_matrix.png', facecolor=fig.get_facecolor(), edgecolor='none')\n",
    "\n",
    "new_angle_matrix = np.sum(all_avg_angle_matrix, axis=0) / len(all_avg_angle_matrix)\n",
    "fig, ax = plt.subplots(figsize=(20, 20), facecolor='white')\n",
    "sns.heatmap(np.round(new_angle_matrix, 2), annot=True, \n",
    "        xticklabels=list(_rotation_range()), yticklabels=list(_rotation_range())\n",
    ")\n",
    "fig.savefig('AVG_ALL_KFOLD_confuse_angle_matrix.png', facecolor=fig.get_facecolor(), edgecolor='none')\n",
    "\n",
    "plt.close('all')"
   ]
  },
  {
   "cell_type": "code",
   "execution_count": 20,
   "metadata": {},
   "outputs": [
    {
     "name": "stdout",
     "output_type": "stream",
     "text": [
      "precision= 0.7250985   recall= 0.72446126\n"
     ]
    }
   ],
   "source": [
    "cm = new_matrix.copy()\n",
    "true_pos = np.diag(cm) \n",
    "precision = np.mean(true_pos / np.sum(cm, axis=0))\n",
    "recall = np.mean(true_pos / np.sum(cm, axis=1))\n",
    "print('precision=', precision,'  recall=', recall)"
   ]
  },
  {
   "cell_type": "code",
   "execution_count": null,
   "metadata": {},
   "outputs": [],
   "source": [
    "all_matrix[0].shape"
   ]
  },
  {
   "cell_type": "code",
   "execution_count": null,
   "metadata": {},
   "outputs": [],
   "source": [
    "new_matrix = np.sum(all_matrix, axis=0) / len(all_matrix)"
   ]
  },
  {
   "cell_type": "code",
   "execution_count": null,
   "metadata": {},
   "outputs": [],
   "source": [
    "fig = plt.figure(figsize=(12, 12))\n",
    "sns.heatmap(np.round(new_matrix, 2), annot=True)\n",
    "#fig.savefig('avg_confuse_matrix.png')"
   ]
  },
  {
   "cell_type": "code",
   "execution_count": null,
   "metadata": {},
   "outputs": [],
   "source": [
    "plt.close('all')"
   ]
  },
  {
   "cell_type": "code",
   "execution_count": null,
   "metadata": {},
   "outputs": [],
   "source": []
  },
  {
   "cell_type": "code",
   "execution_count": null,
   "metadata": {},
   "outputs": [],
   "source": []
  },
  {
   "cell_type": "code",
   "execution_count": null,
   "metadata": {},
   "outputs": [],
   "source": [
    "folders = glob('*_exp')\n",
    "\n",
    "all_angle_matrix = []\n",
    "for single_folder in folders:\n",
    "    # Check matrix\n",
    "    max_accuracy = np.round(np.load(os.path.join(single_folder, 'max_acc.npy')), 2)\n",
    "    find_f = glob(os.path.join(single_folder, f'acc_{str(max_accuracy)}_*'))\n",
    "    if len(find_f) != 1:\n",
    "        print('error: ', single_folder)\n",
    "        print('not find: ', max_accuracy)\n",
    "        raise ValueError('B')\n",
    "    find_f = find_f[0]\n",
    "    all_angle_matrix.append(np.load(os.path.join(find_f, 'error_angle_all_class.npy')))"
   ]
  },
  {
   "cell_type": "code",
   "execution_count": null,
   "metadata": {},
   "outputs": [],
   "source": [
    "new_angle_matrix = np.sum(all_angle_matrix, axis=0) / len(all_angle_matrix)"
   ]
  },
  {
   "cell_type": "code",
   "execution_count": null,
   "metadata": {},
   "outputs": [],
   "source": [
    "fig = plt.figure(figsize=(20, 20))\n",
    "sns.heatmap(np.round(new_angle_matrix, 2), annot=True)\n",
    "fig.savefig('avg_confuse_angle_matrix.png')"
   ]
  },
  {
   "cell_type": "code",
   "execution_count": null,
   "metadata": {},
   "outputs": [],
   "source": []
  },
  {
   "cell_type": "code",
   "execution_count": null,
   "metadata": {},
   "outputs": [],
   "source": []
  }
 ],
 "metadata": {
  "kernelspec": {
   "display_name": "Python 3",
   "language": "python",
   "name": "python3"
  },
  "language_info": {
   "codemirror_mode": {
    "name": "ipython",
    "version": 3
   },
   "file_extension": ".py",
   "mimetype": "text/x-python",
   "name": "python",
   "nbconvert_exporter": "python",
   "pygments_lexer": "ipython3",
   "version": "3.8.5"
  }
 },
 "nbformat": 4,
 "nbformat_minor": 4
}
