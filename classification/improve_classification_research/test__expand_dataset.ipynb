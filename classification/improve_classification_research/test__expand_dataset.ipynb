{
 "cells": [
  {
   "cell_type": "code",
   "execution_count": 1,
   "metadata": {},
   "outputs": [
    {
     "name": "stdout",
     "output_type": "stream",
     "text": [
      "WARNING:tensorflow:Deprecation warnings have been disabled. Set TF_ENABLE_DEPRECATION_WARNINGS=1 to re-enable them.\n"
     ]
    }
   ],
   "source": [
    "import numpy as np\n",
    "import cv2\n",
    "import tensorflow as tf\n",
    "import matplotlib.pyplot as plt\n",
    "import os\n",
    "from glob import glob\n",
    "from tqdm import tqdm\n",
    "import random\n",
    "from PIL import Image\n",
    "import PIL"
   ]
  },
  {
   "cell_type": "code",
   "execution_count": 2,
   "metadata": {},
   "outputs": [],
   "source": [
    "\n",
    "\n",
    "path_to_data = 'double_modes' #'/content/drive/MyDrive/Neural network/work/beams/data'\n",
    "path_to_save = 'expand_double_modes'\n",
    "step_rotate = 5\n",
    "\n",
    "\n",
    "def single_process(single_folder):\n",
    "    # Single folder - 1 class\n",
    "    path_images_save = os.path.join(path_to_save, single_folder.split('/')[-1])\n",
    "    \n",
    "    os.makedirs(path_images_save, exist_ok=True)\n",
    "    \n",
    "    path_images = glob(single_folder + '/*')\n",
    "    size = len(path_images)\n",
    "    \n",
    "    for j, single_img_path in enumerate(path_images):\n",
    "        # Single rgb image\n",
    "        readed_img = cv2.imread(single_img_path)[..., ::-1]\n",
    "        single_img_prefix = single_img_path.replace('double_modes', 'expand_double_modes')\n",
    "        single_img_prefix = single_img_prefix[:-4] # cutout '.jpg'\n",
    "        # Rotate it by step\n",
    "        for step_r_single in range(-90, 90, step_rotate):\n",
    "            save_path_to_single_img = single_img_prefix + f'_angle_{step_r_single}.jpg'\n",
    "            orig_shape = readed_img.shape\n",
    "            rotated_image = np.array(\n",
    "                Image.fromarray(readed_img).rotate(step_r_single, resample=Image.BICUBIC).getdata()\n",
    "            ).reshape(*orig_shape)\n",
    "            cv2.imwrite(save_path_to_single_img, rotated_image[..., ::-1])\n",
    "    print('Done with: ', single_folder)\n"
   ]
  },
  {
   "cell_type": "code",
   "execution_count": 3,
   "metadata": {},
   "outputs": [
    {
     "name": "stdout",
     "output_type": "stream",
     "text": [
      "Done with:  double_modes/0.0\n",
      "Done with:  double_modes/0.55\n",
      "Done with:  double_modes/0.25\n",
      "Done with:  double_modes/0.7\n",
      "Done with:  double_modes/0.3\n",
      "Done with:  double_modes/0.1\n",
      "Done with:  double_modes/0.95\n",
      "Done with:  double_modes/0.2\n",
      "Done with:  double_modes/0.85\n",
      "Done with:  double_modes/0.15\n",
      "Done with:  double_modes/0.4\n",
      "Done with:  double_modes/0.9\n",
      "Done with:  double_modes/0.35\n",
      "Done with:  double_modes/0.6\n",
      "Done with:  double_modes/0.8\n",
      "Done with:  double_modes/1.0\n",
      "Done with:  double_modes/0.75\n",
      "Done with:  double_modes/0.45\n",
      "Done with:  double_modes/0.05\n",
      "Done with:  double_modes/0.65\n",
      "Done with:  double_modes/0.5\n"
     ]
    }
   ],
   "source": [
    "from multiprocessing import Pool\n",
    "\n",
    "with Pool(processes=10) as pool:\n",
    "    pool.map(single_process, glob(path_to_data + '/*'))"
   ]
  },
  {
   "cell_type": "code",
   "execution_count": null,
   "metadata": {},
   "outputs": [],
   "source": []
  }
 ],
 "metadata": {
  "kernelspec": {
   "display_name": "Python 3",
   "language": "python",
   "name": "python3"
  },
  "language_info": {
   "codemirror_mode": {
    "name": "ipython",
    "version": 3
   },
   "file_extension": ".py",
   "mimetype": "text/x-python",
   "name": "python",
   "nbconvert_exporter": "python",
   "pygments_lexer": "ipython3",
   "version": "3.8.5"
  }
 },
 "nbformat": 4,
 "nbformat_minor": 4
}
