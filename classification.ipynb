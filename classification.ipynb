{
 "cells": [
  {
   "cell_type": "code",
   "execution_count": null,
   "metadata": {
    "colab": {
     "base_uri": "https://localhost:8080/"
    },
    "id": "jnVNmf0_UoQZ",
    "outputId": "0d83adba-608d-4551-a2d2-576a4a944311"
   },
   "outputs": [],
   "source": [
    "import numpy as np\n",
    "import cv2\n",
    "import tensorflow as tf\n",
    "import matplotlib.pyplot as plt\n",
    "import os\n",
    "from glob import glob\n",
    "from tqdm import tqdm\n",
    "import random\n",
    "from PIL import Image\n",
    "import seaborn as sns\n",
    "import PIL\n",
    "import json\n",
    "\n",
    "from process import img_RGB2LAB_preprocess_np\n",
    "\n",
    "from scipy.ndimage.filters import gaussian_filter\n",
    "from sklearn.metrics import f1_score, confusion_matrix\n",
    "from sklearn.utils import shuffle\n",
    "from makizoo.backbones.resnetv1 import ResNet18\n",
    "from makizoo.backbones.mobilenetv2 import MobileNetV2_1_4, MobileNetV2_1_0, MobileNetV2_0_75\n",
    "from makiflow.layers import *\n",
    "from makiflow.models.classificator import Classificator, CETrainer\n",
    "from makiflow.generators.classification import cycle_generator\n",
    "from makiflow import set_main_gpu\n",
    "\n",
    "set_main_gpu(0)"
   ]
  },
  {
   "cell_type": "code",
   "execution_count": null,
   "metadata": {
    "colab": {
     "base_uri": "https://localhost:8080/"
    },
    "id": "0Fxo2li_VkpK",
    "outputId": "912c69ab-0097-43fa-d837-200326ae3429"
   },
   "outputs": [],
   "source": [
    "use_saved = True\n",
    "path_exp = 'weights_class'\n",
    "\n",
    "if use_saved:\n",
    "    with open(f'{path_exp}/config_train_test.json', 'r') as fp:\n",
    "        config_data = json.load(fp)\n",
    "else:    \n",
    "    config_data = {'train': [], 'test': []}\n",
    "\n",
    "SIZE_HW = (336, 336)\n",
    "\n",
    "path_to_data = 'expand_double_modes'\n",
    "folders_path = sorted(glob(path_to_data + '/*'), key=lambda x: float(x.split('/')[-1]))\n",
    "Xtrain = []\n",
    "Xtest = []\n",
    "\n",
    "Ytrain = []\n",
    "Ytest = []\n",
    "pred2param = {}\n",
    "\n",
    "\n",
    "test_div = 0.8\n",
    "\n",
    "if not use_saved:\n",
    "    print(len(folders_path))\n",
    "    for i, single_folder in enumerate(folders_path):\n",
    "        # Single folder - 1 class\n",
    "        pred2param[i] = str(single_folder.split('/')[-1])\n",
    "        path_images = shuffle(glob(single_folder + '/*'))\n",
    "        size = len(path_images)\n",
    "        iterator = tqdm(enumerate(path_images))\n",
    "        for j, single_img_path in iterator:\n",
    "            readed_img = cv2.resize(cv2.imread(single_img_path)[..., ::-1], SIZE_HW)\n",
    "            if int(size * test_div) > j:\n",
    "                # train\n",
    "                Xtrain.append(readed_img)\n",
    "                Ytrain.append(i)\n",
    "                config_data['train'] += [single_img_path]\n",
    "            else:\n",
    "                # test\n",
    "                Xtest.append(readed_img)\n",
    "                Ytest.append(i)\n",
    "                config_data['test'] += [single_img_path]\n",
    "        iterator.close()\n",
    "\n",
    "    with open(f'{path_exp}/config_train_test.json', 'w') as fp:\n",
    "        json.dump(config_data, fp)\n",
    "else:\n",
    "    pred2param = dict([(i, num_a.split('/')[-1]) for i, num_a in enumerate(folders_path)])\n",
    "    param2pred = dict([(num_a.split('/')[-1], i) for i, num_a in enumerate(folders_path)])\n",
    "    # train\n",
    "    iterator = tqdm(config_data['train'])\n",
    "    for single_img_path in iterator:\n",
    "        readed_img = cv2.resize(cv2.imread(single_img_path)[..., ::-1], SIZE_HW)\n",
    "        class_f = param2pred[single_img_path.split('/')[1]]\n",
    "        Xtrain.append(readed_img)\n",
    "        Ytrain.append(class_f)\n",
    "    iterator.close()\n",
    "    # test\n",
    "    iterator = tqdm(config_data['test'])\n",
    "    for single_img_path in iterator:\n",
    "        readed_img = cv2.resize(cv2.imread(single_img_path)[..., ::-1], SIZE_HW)\n",
    "        class_f = param2pred[single_img_path.split('/')[1]]\n",
    "        Xtest.append(readed_img)\n",
    "        Ytest.append(class_f)\n",
    "    iterator.close()\n",
    "\n",
    "print('train : ', len(Ytrain))\n",
    "print('test: ', len(Ytest))"
   ]
  },
  {
   "cell_type": "code",
   "execution_count": null,
   "metadata": {
    "id": "6aMIeScKh6r4"
   },
   "outputs": [],
   "source": [
    "coffe_norm = lambda x: (x - 128.0) / 128.0\n",
    "\n",
    "#Xtrain = coffe_norm(np.array(Xtrain)).astype(np.float32)\n",
    "#Xtest = coffe_norm(np.array(Xtest)).astype(np.float32)\n",
    "\n",
    "Ytrain = np.array(Ytrain).astype(np.int32)\n",
    "Ytest = np.array(Ytest).astype(np.int32)"
   ]
  },
  {
   "cell_type": "code",
   "execution_count": null,
   "metadata": {},
   "outputs": [],
   "source": [
    "%matplotlib inline"
   ]
  },
  {
   "cell_type": "code",
   "execution_count": null,
   "metadata": {
    "colab": {
     "base_uri": "https://localhost:8080/",
     "height": 286
    },
    "id": "l7-NpaZIVkvH",
    "outputId": "36f56f8c-6ba8-4513-ac37-b5f7b5a64dc3"
   },
   "outputs": [],
   "source": [
    "plt.imshow(Xtrain[2])"
   ]
  },
  {
   "cell_type": "code",
   "execution_count": null,
   "metadata": {
    "id": "foLn5zvGVMse"
   },
   "outputs": [],
   "source": [
    "BATCH_SIZE = 64"
   ]
  },
  {
   "cell_type": "code",
   "execution_count": null,
   "metadata": {
    "colab": {
     "base_uri": "https://localhost:8080/"
    },
    "id": "mQTY6vTsVRal",
    "outputId": "63f15c6f-7992-400b-ae04-0a820f97d77e"
   },
   "outputs": [],
   "source": [
    "inp, x = ResNet18([BATCH_SIZE, SIZE_HW[0], SIZE_HW[1], 3])\n",
    "\n",
    "x = GlobalAvgPoolLayer('flat')(x)\n",
    "# Head1\n",
    "x = DropoutLayer(name='drop_final', p_keep=0.75)(x)\n",
    "x = DenseLayer(in_d=x.get_shape()[-1], out_d=21, use_bias=False, activation=None, name='classification_head1')(x)"
   ]
  },
  {
   "cell_type": "code",
   "execution_count": null,
   "metadata": {
    "colab": {
     "base_uri": "https://localhost:8080/"
    },
    "id": "-H9OyPaYVMw6",
    "outputId": "b8740e32-a83f-475f-99d3-e2fef426aed2"
   },
   "outputs": [],
   "source": [
    "model = Classificator(inp, x, name='MakiResNet')\n",
    "sess = tf.Session()\n",
    "model.set_session(sess)"
   ]
  },
  {
   "cell_type": "code",
   "execution_count": null,
   "metadata": {
    "id": "l-7q57nOVMy3"
   },
   "outputs": [],
   "source": [
    "trainer = CETrainer(model, [inp])\n",
    "trainer.compile()"
   ]
  },
  {
   "cell_type": "code",
   "execution_count": null,
   "metadata": {
    "colab": {
     "base_uri": "https://localhost:8080/"
    },
    "id": "0077tq_OkeQZ",
    "outputId": "76279e58-83bb-4aee-acf7-aef0d04dcca8"
   },
   "outputs": [],
   "source": [
    "len(Ytrain)"
   ]
  },
  {
   "cell_type": "code",
   "execution_count": null,
   "metadata": {},
   "outputs": [],
   "source": [
    "global_step = tf.Variable(0, dtype=tf.int32)\n",
    "lr = tf.train.exponential_decay(5e-4, global_step, decay_steps=(len(Ytrain) // BATCH_SIZE) * 2, decay_rate=0.92)\n",
    "opt = tf.train.AdamOptimizer(lr)\n",
    "sess.run(tf.variables_initializer([global_step]))"
   ]
  },
  {
   "cell_type": "code",
   "execution_count": null,
   "metadata": {},
   "outputs": [],
   "source": [
    "def sigmoid(x):\n",
    "    return 1 / (1 + np.exp(-x))\n",
    "\n",
    "def softmax(A):\n",
    "    \"\"\"\n",
    "    Computes a softmax function. \n",
    "    Input: A (N, k) ndarray.\n",
    "    Returns: (N, k) ndarray.\n",
    "    \"\"\"\n",
    "    e = np.exp(A)\n",
    "    return e / np.sum(e, axis=-1, keepdims=True)\n",
    "\n",
    "def predict(data_pr):\n",
    "    output_mf = x\n",
    "    ans = [\n",
    "        output_mf.eval(feed_dict={inp: data_pr[i*BATCH_SIZE:(i+1)*BATCH_SIZE]}, sess=sess) \n",
    "        for i in range(len(data_pr)//BATCH_SIZE)\n",
    "    ]\n",
    "    ans = np.concatenate(ans, axis=0).reshape(-1, 21)\n",
    "    \n",
    "    return ans.astype(np.float32, copy=False)\n",
    "    \n",
    "def eval_model(x_data, y_data, calc_mean=True):\n",
    "    global model\n",
    "    accur_list = []\n",
    "    predictions_list = []\n",
    "    \n",
    "    for i in range(len(x_data)//BATCH_SIZE):\n",
    "        batched_data_x = preprocess_img(x_data[i*BATCH_SIZE:(i+1)*BATCH_SIZE])\n",
    "        batched_data_y = y_data[i*BATCH_SIZE:(i+1)*BATCH_SIZE]\n",
    "        argmax_np = np.argmax(softmax(predict(batched_data_x)), axis=-1)\n",
    "        predictions_list.append(argmax_np)\n",
    "        accur_list.append(argmax_np == batched_data_y)\n",
    "        \n",
    "    accur_np = np.asarray(accur_list).reshape(-1)\n",
    "    pred_np = np.asarray(predictions_list).reshape(-1)\n",
    "    if not calc_mean:\n",
    "        return accur_np, pred_np\n",
    "    \n",
    "    return np.mean(accur_list), pred_np\n",
    "\n",
    "\n",
    "def preprocess_img(data):\n",
    "    data = np.asarray(data).astype(np.float32, copy=False)\n",
    "    return coffe_norm(data).astype(np.float32, copy=False)\n",
    "    #return img_RGB2LAB_preprocess_np(data).astype(np.float32, copy=False)\n",
    "\n",
    "\n",
    "\n",
    "def generator_wrapper(gen_data, *args):\n",
    "    while True:\n",
    "        X_data, Y_data = next(gen_data)\n",
    "        X_data = X_data[0]\n",
    "        Y_data = Y_data[0]\n",
    "        \"\"\"\n",
    "        # Aug rotation and flip of the image\n",
    "        # In my case - images already rotated\n",
    "        \n",
    "        rotate_angle = np.random.uniform(-90, 90, size=(len(X_data))).astype(np.float32)\n",
    "        #X_data = [ndimage.rotate(X_data[i], rotate_angle[i], reshape=False) for i in range(len(X_data))]\n",
    "        X_data = [\n",
    "            np.array(\n",
    "                Image.fromarray(X_data[i]).rotate(rotate_angle[i], resample=Image.BICUBIC).getdata()\n",
    "            ).reshape(SIZE_HW[0], SIZE_HW[1], 3)\n",
    "            for i in range(len(X_data))\n",
    "        ]\n",
    "        \n",
    "        ra = random.random()\n",
    "        type_rotate = None\n",
    "        \n",
    "        if ra > 0.3 and ra < 0.5:\n",
    "            type_rotate = cv2.ROTATE_180\n",
    "        elif ra > 0.5 and ra < 0.7:\n",
    "            type_rotate = cv2.ROTATE_90_CLOCKWISE\n",
    "        elif ra > 0.7:\n",
    "            type_rotate = cv2.ROTATE_90_COUNTERCLOCKWISE\n",
    "        \n",
    "        if type_rotate is not None:\n",
    "            X_data = [cv2.rotate(X_data[i], type_rotate) for i in range(len(X_data))]\n",
    "        \"\"\"\n",
    "        \n",
    "        # sigma more than 1.0 - gives very bad looking image, i.e. sigma must be lower than 1.0\n",
    "        #if random.random() > 0.6:\n",
    "        #    X_data = [gaussian_filter(X_data[i], sigma=0.5) for i in range(len(X_data))]\n",
    "        \n",
    "        if random.random() > 22.5:\n",
    "            X_data = np.asarray(X_data).astype(np.float32, copy=False)\n",
    "            X_data += np.random.normal(scale=0.25, size=X_data.shape).astype(np.float32, copy=False)\n",
    "        \n",
    "        X_data = preprocess_img(X_data)\n",
    "        \n",
    "        yield (X_data,), (Y_data, )\n",
    "\n",
    "\n",
    "gen = generator_wrapper(cycle_generator(Xtrain, Ytrain.reshape(-1), BATCH_SIZE))"
   ]
  },
  {
   "cell_type": "code",
   "execution_count": null,
   "metadata": {},
   "outputs": [],
   "source": [
    "xxx = next(gen)[0]"
   ]
  },
  {
   "cell_type": "code",
   "execution_count": null,
   "metadata": {},
   "outputs": [],
   "source": [
    "plt.imshow(xxx[0][8])"
   ]
  },
  {
   "cell_type": "code",
   "execution_count": null,
   "metadata": {},
   "outputs": [],
   "source": [
    "trainer.set_common_l2_weight_decay(5e-5)"
   ]
  },
  {
   "cell_type": "code",
   "execution_count": null,
   "metadata": {
    "colab": {
     "base_uri": "https://localhost:8080/"
    },
    "id": "fk6UiHyoVXF2",
    "outputId": "ac5d9100-22d8-4353-dbdc-8a72435dbfb3",
    "scrolled": true
   },
   "outputs": [],
   "source": [
    "accur_list = []\n",
    "\n",
    "for z in range(20):\n",
    "    print('ep: ', z)\n",
    "    info1 = trainer.fit_generator(\n",
    "        gen, optimizer=opt, epochs=1, \n",
    "        iter=len(Xtrain)//(2*BATCH_SIZE), print_period=150, global_step=global_step\n",
    "    )\n",
    "    acc_float, _ = eval_model(Xtest, Ytest)\n",
    "    print('acc test: ', acc_float)\n",
    "    accur_list.append(acc_float)\n",
    "    if acc_float > 0.95:\n",
    "        print('Stop!')\n",
    "        break\n",
    "    "
   ]
  },
  {
   "cell_type": "code",
   "execution_count": null,
   "metadata": {},
   "outputs": [],
   "source": [
    "plt.plot(accur_list)"
   ]
  },
  {
   "cell_type": "code",
   "execution_count": null,
   "metadata": {
    "colab": {
     "base_uri": "https://localhost:8080/"
    },
    "id": "RXXex0F-VXIA",
    "outputId": "effab6f8-0257-4ec8-b781-dc11b0e37880",
    "scrolled": true
   },
   "outputs": [],
   "source": [
    "acc_test, predictions = eval_model(Xtest, Ytest, calc_mean=False)\n",
    "print(np.mean(acc_test))"
   ]
  },
  {
   "cell_type": "markdown",
   "metadata": {},
   "source": [
    "## Look at wrong predictions"
   ]
  },
  {
   "cell_type": "code",
   "execution_count": null,
   "metadata": {},
   "outputs": [],
   "source": [
    "# Error of nn\n",
    "img_wrong = np.asarray(Xtest[:len(acc_test)])[acc_test == False]\n",
    "y_wrong = Ytest[:len(acc_test)][acc_test == False]\n",
    "p_wrong = predictions[:len(acc_test)][acc_test == False]"
   ]
  },
  {
   "cell_type": "code",
   "execution_count": null,
   "metadata": {},
   "outputs": [],
   "source": [
    "temp = acc_test == False\n",
    "counter_h = 0\n",
    "for i in range(len(temp)):\n",
    "    if temp[i]:\n",
    "        print(i, 'c: ', counter_h, ' file: ', config_data['test'][i])\n",
    "        counter_h += 1"
   ]
  },
  {
   "cell_type": "code",
   "execution_count": null,
   "metadata": {},
   "outputs": [],
   "source": [
    "indx = 322\n",
    "print('true: ', pred2param[y_wrong[indx]], ' pred: ', pred2param[p_wrong[indx]])\n",
    "plt.imshow(img_wrong[indx])"
   ]
  },
  {
   "cell_type": "code",
   "execution_count": null,
   "metadata": {},
   "outputs": [],
   "source": [
    "for i in range(len(Ytrain)):\n",
    "    if 'z_60_angle_45.jpg' == config_data['train'][i] and pred2param[Ytrain[i]] == '0.95':\n",
    "        print(i)"
   ]
  },
  {
   "cell_type": "code",
   "execution_count": null,
   "metadata": {},
   "outputs": [],
   "source": [
    "for i in range(len(Ytest)):\n",
    "    if 'z_60_angle_45.jpg' == config_data['test'][i] and pred2param[Ytest[i]] == '0.9':\n",
    "        print(i)"
   ]
  },
  {
   "cell_type": "code",
   "execution_count": null,
   "metadata": {},
   "outputs": [],
   "source": [
    "for i in range(len(Ytest)):\n",
    "    if 'z_380_angle_-60.jpg' == config_data['test'][i] and pred2param[Ytest[i]] == '0.85':\n",
    "        print(i)"
   ]
  },
  {
   "cell_type": "code",
   "execution_count": null,
   "metadata": {},
   "outputs": [],
   "source": [
    "plt.imshow(Xtest[6726])"
   ]
  },
  {
   "cell_type": "code",
   "execution_count": null,
   "metadata": {},
   "outputs": [],
   "source": [
    "plt.imshow(Xtrain[27604])"
   ]
  },
  {
   "cell_type": "code",
   "execution_count": null,
   "metadata": {},
   "outputs": [],
   "source": [
    "sns.heatmap(np.abs(np.sum(Xtrain[27604].astype(np.float32) - Xtest[6726].astype(np.float32), axis=-1)))"
   ]
  },
  {
   "cell_type": "code",
   "execution_count": null,
   "metadata": {
    "colab": {
     "base_uri": "https://localhost:8080/",
     "height": 282
    },
    "id": "pGnQnMW8Vhcg",
    "outputId": "54126704-d491-443a-cdb2-cbe2b92b1f91"
   },
   "outputs": [],
   "source": [
    "plt.plot(info1[trainer.TRAINING_LOSS])"
   ]
  },
  {
   "cell_type": "code",
   "execution_count": null,
   "metadata": {},
   "outputs": [],
   "source": [
    "assert 1 == 3"
   ]
  },
  {
   "cell_type": "markdown",
   "metadata": {},
   "source": [
    "## Save arch/weights"
   ]
  },
  {
   "cell_type": "code",
   "execution_count": null,
   "metadata": {},
   "outputs": [],
   "source": [
    "#model.save_weights(f'{path_exp}/weights.ckpt')\n",
    "#model.save_architecture(f'{path_exp}/model.json')\n",
    "\n",
    "model.load_weights(f'{path_exp}/weights.ckpt')"
   ]
  },
  {
   "cell_type": "code",
   "execution_count": null,
   "metadata": {},
   "outputs": [],
   "source": [
    "assert 1 == 3"
   ]
  },
  {
   "cell_type": "markdown",
   "metadata": {},
   "source": [
    "## Deep analyze"
   ]
  },
  {
   "cell_type": "code",
   "execution_count": null,
   "metadata": {
    "scrolled": false
   },
   "outputs": [],
   "source": [
    "c_mat = confusion_matrix(\n",
    "    Ytest[:len(predictions)].reshape(-1), predictions.reshape(-1), \n",
    "    labels=range(21), normalize='true'\n",
    ").astype(np.float32) \n",
    "#c_mat = np.round(c_mat / (len(Xtest) // 21), 2)\n",
    "fig = plt.figure(figsize=(12, 12))\n",
    "sns.heatmap(c_mat, annot=True)\n",
    "fig.savefig('result_conf.png')"
   ]
  },
  {
   "cell_type": "code",
   "execution_count": null,
   "metadata": {},
   "outputs": [],
   "source": [
    "assert 1 == 3"
   ]
  },
  {
   "cell_type": "code",
   "execution_count": null,
   "metadata": {},
   "outputs": [],
   "source": [
    "# Error of nn\n",
    "y_z = Ytest[:len(predictions)].copy()\n",
    "p_z = predictions[:len(predictions)].copy()\n",
    "\n",
    "# dict - dict of every angle, each elem is array of size 2, 0-th - wrong pred, 1-th - all image\n",
    "angle_pred_count_d = dict([(str(i), None) for i in range(-90, 90, 5)])\n",
    "\n",
    "for i in range(len(predictions)):\n",
    "    angle_info = config_data['test'][i].split('/')[-1].split('.')[0].split('_')[-1]\n",
    "    \n",
    "    # Skip class with bigg accuracy\n",
    "    if y_z[i] not in [20, 19]:\n",
    "        continue\n",
    "    \n",
    "    if angle_pred_count_d[angle_info] is None:\n",
    "        angle_pred_count_d[angle_info] = [0, 0]\n",
    "    \n",
    "    if p_z[i] != y_z[i]:\n",
    "        angle_pred_count_d[angle_info][0] += 1\n",
    "    angle_pred_count_d[angle_info][1] += 1\n"
   ]
  },
  {
   "cell_type": "code",
   "execution_count": null,
   "metadata": {
    "scrolled": true
   },
   "outputs": [],
   "source": [
    "angle_pred_count_d"
   ]
  },
  {
   "cell_type": "code",
   "execution_count": null,
   "metadata": {},
   "outputs": [],
   "source": [
    "x = [int(single_elem) for single_elem in angle_pred_count_d.keys()]\n",
    "y = [angle_pred_count_d[k_a][0] / angle_pred_count_d[k_a][-1] for k_a in angle_pred_count_d]\n",
    "\n",
    "fig, ax = plt.subplots()\n",
    "ax.bar(x, y)\n",
    "ax.set_facecolor('seashell')\n",
    "ax.set_xlabel('Угол')\n",
    "ax.set_ylabel('% отношение ошибки ко всем кадрам')\n",
    "fig.set_facecolor('floralwhite')\n",
    "fig.set_figwidth(16)    #  ширина Figure\n",
    "fig.set_figheight(8)    #  высота Figure\n",
    "plt.show()"
   ]
  },
  {
   "cell_type": "code",
   "execution_count": null,
   "metadata": {},
   "outputs": [],
   "source": []
  },
  {
   "cell_type": "code",
   "execution_count": null,
   "metadata": {},
   "outputs": [],
   "source": [
    "# Error of nn on certain classes\n",
    "first_class = 19\n",
    "second_class = 20\n",
    "class_find = range(-90, 90, 5)#[first_class, second_class] range(-90, 90, 5)\n",
    "class_count = dict([(elem, 0) for elem in class_find])\n",
    "\n",
    "y_z = Ytest[:len(predictions)].copy()\n",
    "p_z = predictions[:len(predictions)].copy()\n",
    "\n",
    "# dict - dict of every angle, each elem is array of size 2, 0-th - wrong pred, 1-th - all image\n",
    "angle_count = dict([(str(i), 0) for i in range(-90, 90, 5)])\n",
    "pred_data_angle = []\n",
    "true_data_angle = []\n",
    "\n",
    "eror_counter = 0\n",
    "success_counter = 0\n",
    "\n",
    "test_y = []\n",
    "test_p = []\n",
    "\n",
    "for i in range(len(predictions)):\n",
    "    angle_info = config_data['test'][i].split('/')[-1].split('.')[0].split('_')[-1]\n",
    "    class_name_z = config_data['test'][i].split('/')[1]\n",
    "    \n",
    "    # Skip class with bigg accuracy\n",
    "    if y_z[i] not in class_find:\n",
    "        continue\n",
    "    \n",
    "    if p_z[i] != y_z[i]:\n",
    "        pred_data_angle.append(float(angle_info))\n",
    "        true_data_angle.append(float(angle_info))\n",
    "        eror_counter += 1\n",
    "    else:\n",
    "        pred_data_angle.append(float(100000000000.0)) # wrong pred\n",
    "        true_data_angle.append(float(angle_info))\n",
    "        success_counter += 1\n",
    "    angle_count[angle_info] += 1\n",
    "\n",
    "    test_y.append(y_z[i])\n",
    "    test_p.append(p_z[i])"
   ]
  },
  {
   "cell_type": "code",
   "execution_count": null,
   "metadata": {},
   "outputs": [],
   "source": [
    "angle_count"
   ]
  },
  {
   "cell_type": "code",
   "execution_count": null,
   "metadata": {},
   "outputs": [],
   "source": [
    "len(predictions)"
   ]
  },
  {
   "cell_type": "code",
   "execution_count": null,
   "metadata": {},
   "outputs": [],
   "source": [
    "c_mat = confusion_matrix(true_data_angle, pred_data_angle, labels=range(-90, 90, 5)).astype(np.float32)"
   ]
  },
  {
   "cell_type": "code",
   "execution_count": null,
   "metadata": {},
   "outputs": [],
   "source": [
    "c_mat"
   ]
  },
  {
   "cell_type": "code",
   "execution_count": null,
   "metadata": {},
   "outputs": [],
   "source": [
    "print('s: ', sum([c_mat[i, i] for i in range(len(list(range(-90, 90, 5))))]))"
   ]
  },
  {
   "cell_type": "code",
   "execution_count": null,
   "metadata": {},
   "outputs": [],
   "source": [
    "c_mat = confusion_matrix(true_data_angle, pred_data_angle, labels=range(-90, 90, 5)).astype(np.float32) \n",
    "for i, z in enumerate(range(-90, 90, 5)):\n",
    "    c_mat[i, i] /= float(angle_count[str(z)])\n",
    "fig, ax = plt.subplots(figsize=(26, 26), facecolor='white')\n",
    "sns.heatmap(\n",
    "    c_mat, annot=True, \n",
    "    xticklabels=list(range(-90, 90, 5)), yticklabels=list(range(-90, 90, 5))\n",
    ")\n",
    "print('s: ', sum([c_mat[i, i] for i in range(len(list(range(-90, 90, 5))))]))\n",
    "fig.savefig('result_conf_angle.png', facecolor=fig.get_facecolor(), edgecolor='none')"
   ]
  },
  {
   "cell_type": "markdown",
   "metadata": {},
   "source": [
    "#### Check accuracy on train data"
   ]
  },
  {
   "cell_type": "code",
   "execution_count": null,
   "metadata": {
    "id": "af0QFbOKVher"
   },
   "outputs": [],
   "source": [
    "predictions = model.predict(coffe_norm(np.array(Xtrain)))\n",
    "predictions = np.argmax(predictions, axis=-1)\n",
    "print(np.mean(predictions == Ytrain.reshape(-1)))"
   ]
  },
  {
   "cell_type": "code",
   "execution_count": null,
   "metadata": {},
   "outputs": [],
   "source": [
    "assert 1 == 3"
   ]
  },
  {
   "cell_type": "markdown",
   "metadata": {},
   "source": [
    "## Correlation"
   ]
  },
  {
   "cell_type": "code",
   "execution_count": null,
   "metadata": {},
   "outputs": [],
   "source": [
    "one_hot_y = np.zeros((Ytest.size, Ytest.max()+1))\n",
    "one_hot_y[np.arange(Ytest.size),Ytest] = 1"
   ]
  },
  {
   "cell_type": "code",
   "execution_count": null,
   "metadata": {
    "scrolled": true
   },
   "outputs": [],
   "source": [
    "plt.figure(figsize=(15,15))\n",
    "sns.heatmap(np.corrcoef(one_hot_y.T), cmap=\"RdYlBu\", vmin=-1, vmax=1)"
   ]
  },
  {
   "cell_type": "code",
   "execution_count": null,
   "metadata": {},
   "outputs": [],
   "source": [
    "np.corrcoef(one_hot_y.T).shape"
   ]
  },
  {
   "cell_type": "code",
   "execution_count": null,
   "metadata": {},
   "outputs": [],
   "source": [
    "one_hot_y.T.shape"
   ]
  },
  {
   "cell_type": "markdown",
   "metadata": {},
   "source": [
    "### TSNE and PCA analyze"
   ]
  },
  {
   "cell_type": "code",
   "execution_count": null,
   "metadata": {},
   "outputs": [],
   "source": [
    "output_mf = model.get_node('flat')"
   ]
  },
  {
   "cell_type": "code",
   "execution_count": null,
   "metadata": {},
   "outputs": [],
   "source": [
    "ans = [output_mf.eval(feed_dict={inp: Xtest[i*BATCH_SIZE:(i+1)*BATCH_SIZE]}, sess=sess) for i in range(len(Xtest)//BATCH_SIZE)]"
   ]
  },
  {
   "cell_type": "code",
   "execution_count": null,
   "metadata": {},
   "outputs": [],
   "source": [
    "ans = np.concatenate(ans, axis=0)"
   ]
  },
  {
   "cell_type": "code",
   "execution_count": null,
   "metadata": {},
   "outputs": [],
   "source": [
    "from sklearn.decomposition import PCA\n",
    "from sklearn.manifold import TSNE"
   ]
  },
  {
   "cell_type": "code",
   "execution_count": null,
   "metadata": {},
   "outputs": [],
   "source": [
    "single_class_num = len(Xtest) // 21\n",
    "\n",
    "certain_classes = [19, 20]\n",
    "new_ans = []\n",
    "y_new_ans = []\n",
    "img_orig = []\n",
    "\n",
    "for single_class in certain_classes:\n",
    "    for indx_z in range(single_class_num*single_class, min((single_class+1)*single_class_num, len(ans))):\n",
    "        new_ans.append(ans[indx_z])\n",
    "        y_new_ans.append(Ytest[indx_z])\n",
    "        img_orig.append(Xtest[indx_z])\n",
    "\n",
    "new_ans = np.array(new_ans)\n",
    "y_new_ans = np.array(y_new_ans)"
   ]
  },
  {
   "cell_type": "code",
   "execution_count": null,
   "metadata": {},
   "outputs": [],
   "source": [
    "%matplotlib inline"
   ]
  },
  {
   "cell_type": "code",
   "execution_count": null,
   "metadata": {},
   "outputs": [],
   "source": [
    "pca = PCA()\n",
    "reduced = pca.fit_transform(new_ans)\n",
    "plt.scatter(reduced[:,0],reduced[:,1] ,s=100,c=y_new_ans[:ans.shape[0]],alpha=0.5)\n",
    "plt.savefig('pca_0_20.jpg')"
   ]
  },
  {
   "cell_type": "code",
   "execution_count": null,
   "metadata": {},
   "outputs": [],
   "source": [
    "tsne = TSNE()\n",
    "Z = tsne.fit_transform(new_ans)\n",
    "plt.scatter(Z[:,0],Z[:,1] ,s=100,c=Ytest[:y_new_ans.shape[0]],alpha=0.5)\n",
    "plt.savefig('tsne_0_20.jpg')"
   ]
  },
  {
   "cell_type": "code",
   "execution_count": null,
   "metadata": {},
   "outputs": [],
   "source": [
    "%matplotlib notebook"
   ]
  },
  {
   "cell_type": "code",
   "execution_count": null,
   "metadata": {},
   "outputs": [],
   "source": [
    "# 0 AND 20\n",
    "tsne = TSNE(n_components=3)\n",
    "Z = tsne.fit_transform(new_ans)\n",
    "figure = plt.figure(figsize=(9,9))\n",
    "axes = figure.add_subplot(111,projection = \"3d\")\n",
    "dots = axes.scatter(xs = Z[:,0],ys = Z[:,1],zs = Z[:,2],\n",
    "                    c=Ytest[:new_ans.shape[0]], cmap = plt.cm.get_cmap(\"nipy_spectral_r\",10))"
   ]
  },
  {
   "cell_type": "code",
   "execution_count": null,
   "metadata": {},
   "outputs": [],
   "source": [
    "# 19 AND 20\n",
    "tsne = TSNE(n_components=3)\n",
    "Z = tsne.fit_transform(new_ans)\n",
    "figure = plt.figure(figsize=(9,9))\n",
    "axes = figure.add_subplot(111,projection = \"3d\")\n",
    "dots = axes.scatter(xs = Z[:,0],ys = Z[:,1],zs = Z[:,2],\n",
    "                    c=Ytest[:new_ans.shape[0]], cmap = plt.cm.get_cmap(\"nipy_spectral_r\",10))"
   ]
  },
  {
   "cell_type": "markdown",
   "metadata": {},
   "source": [
    "### Look for clusters"
   ]
  },
  {
   "cell_type": "code",
   "execution_count": null,
   "metadata": {},
   "outputs": [],
   "source": [
    "from sklearn.cluster import KMeans"
   ]
  },
  {
   "cell_type": "code",
   "execution_count": null,
   "metadata": {},
   "outputs": [],
   "source": [
    "k_means = KMeans(n_clusters=3)\n",
    "k_means.fit(Z)\n",
    "k_means_predicted = k_means.predict(Z)\n",
    "centers = k_means.cluster_centers_\n",
    "\n",
    "figure = plt.figure(figsize=(9,9))\n",
    "axes = figure.add_subplot(111,projection = \"3d\")\n",
    "dots = axes.scatter(xs = centers[:,0],ys = centers[:,1],zs = centers[:,2],\n",
    "                    c=[1,2,3], cmap = plt.cm.get_cmap(\"nipy_spectral_r\",10))"
   ]
  },
  {
   "cell_type": "code",
   "execution_count": null,
   "metadata": {},
   "outputs": [],
   "source": [
    "centers"
   ]
  },
  {
   "cell_type": "code",
   "execution_count": null,
   "metadata": {},
   "outputs": [],
   "source": [
    "main_center = centers[2]\n",
    "lower = np.sum( (main_center - Z[0]) ** 2)\n",
    "lower_indx = 0\n",
    "\n",
    "for i in range(len(Z)):\n",
    "    if np.sum( (main_center - Z[i]) ** 2) < lower:\n",
    "        lower_indx = i\n",
    "        lower = np.sum( (main_center - Z[i]) ** 2)"
   ]
  },
  {
   "cell_type": "code",
   "execution_count": null,
   "metadata": {},
   "outputs": [],
   "source": [
    "%matplotlib inline"
   ]
  },
  {
   "cell_type": "code",
   "execution_count": null,
   "metadata": {},
   "outputs": [],
   "source": [
    "plt.imshow(img_orig[lower_indx])"
   ]
  },
  {
   "cell_type": "code",
   "execution_count": null,
   "metadata": {},
   "outputs": [],
   "source": [
    "lower"
   ]
  },
  {
   "cell_type": "code",
   "execution_count": null,
   "metadata": {},
   "outputs": [],
   "source": [
    "assert 1 == 3"
   ]
  },
  {
   "cell_type": "markdown",
   "metadata": {},
   "source": [
    "## Analyze data through fft"
   ]
  },
  {
   "cell_type": "code",
   "execution_count": null,
   "metadata": {},
   "outputs": [],
   "source": [
    "single_img = Xtest[9686] #13780 2927"
   ]
  },
  {
   "cell_type": "code",
   "execution_count": null,
   "metadata": {},
   "outputs": [],
   "source": [
    "plt.imshow(single_img)"
   ]
  },
  {
   "cell_type": "code",
   "execution_count": null,
   "metadata": {},
   "outputs": [],
   "source": [
    "single_img = Xtest[2927] #13780 2927\n",
    "plt.imshow(single_img)"
   ]
  },
  {
   "cell_type": "code",
   "execution_count": null,
   "metadata": {},
   "outputs": [],
   "source": [
    "single_img_t = single_img.transpose(-1, 0, 1)[0]"
   ]
  },
  {
   "cell_type": "code",
   "execution_count": null,
   "metadata": {},
   "outputs": [],
   "source": [
    "single_img_t = np.zer (single_img_t, )"
   ]
  },
  {
   "cell_type": "code",
   "execution_count": null,
   "metadata": {},
   "outputs": [],
   "source": [
    "shift_im = np.fft.fftshift(single_img_t)"
   ]
  },
  {
   "cell_type": "code",
   "execution_count": null,
   "metadata": {},
   "outputs": [],
   "source": [
    "fft_im = np.fft.fft2(shift_im)"
   ]
  },
  {
   "cell_type": "code",
   "execution_count": null,
   "metadata": {},
   "outputs": [],
   "source": [
    "np.abs(fft_im).shape"
   ]
  },
  {
   "cell_type": "code",
   "execution_count": null,
   "metadata": {},
   "outputs": [],
   "source": [
    "sns.heatmap(np.abs(fft_im))"
   ]
  },
  {
   "cell_type": "code",
   "execution_count": null,
   "metadata": {},
   "outputs": [],
   "source": [
    "shift_fft_im = np.fft.fftshift(fft_im)"
   ]
  },
  {
   "cell_type": "code",
   "execution_count": null,
   "metadata": {},
   "outputs": [],
   "source": [
    "sns.heatmap(np.abs(shift_fft_im))"
   ]
  },
  {
   "cell_type": "code",
   "execution_count": null,
   "metadata": {},
   "outputs": [],
   "source": [
    "sns.heatmap(np.angle(shift_fft_im))"
   ]
  },
  {
   "cell_type": "code",
   "execution_count": null,
   "metadata": {},
   "outputs": [],
   "source": [
    "def fast_fourier_transform_2d(f, N, M, a):\n",
    "    h = 1e-5\n",
    "    padding = (M - N) // 2\n",
    "    \n",
    "    input_f = np.pad(f, padding)          # Шаг 2\n",
    "    input_f = np.fft.fftshift(input_f)    # Шаг 3\n",
    "    res = np.fft.fft2(input_f) * (h ** 2) # Шаг 4 \n",
    "    \n",
    "    res = np.fft.fftshift(res)\n",
    "    fft_result = res[padding:-padding, padding:-padding]\n",
    "    \n",
    "    b = (N ** 2) / (4 * a * M)\n",
    "    xv, yv = np.linspace(-b, b, N), np.linspace(-b, b, N)\n",
    "    new_xs, new_ys = np.meshgrid(xv, yv)\n",
    "    return fft_result, new_xs, new_ys, b"
   ]
  },
  {
   "cell_type": "code",
   "execution_count": null,
   "metadata": {},
   "outputs": [],
   "source": [
    "fft_result, new_xs, new_ys, b = fast_fourier_transform_2d(single_img_t, 336, 512, 3)"
   ]
  },
  {
   "cell_type": "code",
   "execution_count": null,
   "metadata": {},
   "outputs": [],
   "source": [
    "sns.heatmap(np.angle(fft_result))"
   ]
  },
  {
   "cell_type": "code",
   "execution_count": null,
   "metadata": {},
   "outputs": [],
   "source": [
    "sns.heatmap(np.angle(fft_result))"
   ]
  },
  {
   "cell_type": "code",
   "execution_count": null,
   "metadata": {},
   "outputs": [],
   "source": [
    "sns.heatmap(np.abs(fft_result))#[100:250, 120:200])"
   ]
  },
  {
   "cell_type": "code",
   "execution_count": null,
   "metadata": {},
   "outputs": [],
   "source": [
    "sns.heatmap(np.abs(fft_result))#[100:250, 120:200])"
   ]
  },
  {
   "cell_type": "code",
   "execution_count": null,
   "metadata": {},
   "outputs": [],
   "source": [
    "a = cv2.cvtColor(cv2.imread('expand_double_modes/0.95/z_600_angle_0.jpg'), cv2.COLOR_BGR2RGB) #Xtest[9686]\n",
    "a = a.transpose(-1, 0, 1)[0]\n",
    "b = cv2.cvtColor(cv2.imread('expand_double_modes/1.0/z_600_angle_0.jpg'), cv2.COLOR_BGR2RGB) #Xtest[2927]\n",
    "b = b.transpose(-1, 0, 1)[0]"
   ]
  },
  {
   "cell_type": "code",
   "execution_count": null,
   "metadata": {},
   "outputs": [],
   "source": [
    "%matplotlib inline"
   ]
  },
  {
   "cell_type": "code",
   "execution_count": null,
   "metadata": {},
   "outputs": [],
   "source": [
    "fft_resultbbbb, new_xs, new_ys, _ = fast_fourier_transform_2d(b, 336, 4048, 3)\n",
    "sns.heatmap(np.angle(fft_resultbbbb))"
   ]
  },
  {
   "cell_type": "code",
   "execution_count": null,
   "metadata": {},
   "outputs": [],
   "source": [
    "fft_resultaaaaa, new_xs, new_ys, _ = fast_fourier_transform_2d(a, 336, 4048, 3)\n",
    "sns.heatmap(np.angle(fft_resultaaaaa))"
   ]
  },
  {
   "cell_type": "code",
   "execution_count": null,
   "metadata": {},
   "outputs": [],
   "source": [
    "sns.heatmap(np.abs(fft_resultaaaaa)) #[100:250, 120:200])"
   ]
  },
  {
   "cell_type": "code",
   "execution_count": null,
   "metadata": {},
   "outputs": [],
   "source": [
    "sns.heatmap(np.abs(fft_resultbbbb)) #[100:250, 120:200])"
   ]
  },
  {
   "cell_type": "code",
   "execution_count": null,
   "metadata": {},
   "outputs": [],
   "source": [
    "plt.imshow(a)"
   ]
  },
  {
   "cell_type": "code",
   "execution_count": null,
   "metadata": {},
   "outputs": [],
   "source": [
    "plt.imshow(b)"
   ]
  },
  {
   "cell_type": "code",
   "execution_count": null,
   "metadata": {},
   "outputs": [],
   "source": [
    "plt.imshow(np.abs(a - b))"
   ]
  },
  {
   "cell_type": "code",
   "execution_count": null,
   "metadata": {},
   "outputs": [],
   "source": []
  },
  {
   "cell_type": "code",
   "execution_count": null,
   "metadata": {},
   "outputs": [],
   "source": []
  },
  {
   "cell_type": "code",
   "execution_count": null,
   "metadata": {},
   "outputs": [],
   "source": [
    "assert 1 == 3"
   ]
  },
  {
   "cell_type": "code",
   "execution_count": null,
   "metadata": {},
   "outputs": [],
   "source": [
    "model.save_weights('weights_class/weights.ckpt')"
   ]
  },
  {
   "cell_type": "code",
   "execution_count": null,
   "metadata": {},
   "outputs": [],
   "source": [
    "list(x.get_previous_tensors().keys())"
   ]
  },
  {
   "cell_type": "code",
   "execution_count": null,
   "metadata": {},
   "outputs": [],
   "source": [
    "sns.distplot(img_RGB2LAB_preprocess_np(np.asarray(Xtest[:2])))"
   ]
  },
  {
   "cell_type": "code",
   "execution_count": null,
   "metadata": {},
   "outputs": [],
   "source": []
  }
 ],
 "metadata": {
  "accelerator": "GPU",
  "colab": {
   "collapsed_sections": [],
   "name": "classification.ipynb",
   "provenance": []
  },
  "kernelspec": {
   "display_name": "Python 3",
   "language": "python",
   "name": "python3"
  },
  "language_info": {
   "codemirror_mode": {
    "name": "ipython",
    "version": 3
   },
   "file_extension": ".py",
   "mimetype": "text/x-python",
   "name": "python",
   "nbconvert_exporter": "python",
   "pygments_lexer": "ipython3",
   "version": "3.8.5"
  }
 },
 "nbformat": 4,
 "nbformat_minor": 1
}
