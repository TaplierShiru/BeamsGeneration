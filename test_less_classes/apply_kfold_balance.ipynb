{
 "cells": [
  {
   "cell_type": "code",
   "execution_count": 1,
   "metadata": {},
   "outputs": [
    {
     "name": "stdout",
     "output_type": "stream",
     "text": [
      "WARNING:tensorflow:Deprecation warnings have been disabled. Set TF_ENABLE_DEPRECATION_WARNINGS=1 to re-enable them.\n",
      "WARNING:tensorflow:From /usr/local/lib/python3.8/dist-packages/makiflow/core/inference/maki_core.py:108: The name tf.Session is deprecated. Please use tf.compat.v1.Session instead.\n",
      "\n"
     ]
    }
   ],
   "source": [
    "import sys\n",
    "\n",
    "sys.path.append('..')\n",
    "\n",
    "from utils import TRAIN, TEST, MakiKFoldBalance, foldername2_minor_class as foldername2class #foldername2class, \n",
    "from sklearn.model_selection import KFold\n",
    "from sklearn.utils import shuffle\n",
    "import matplotlib.pyplot as plt\n",
    "import numpy as np\n",
    "\n",
    "from glob import glob\n",
    "\n",
    "import seaborn as sns\n",
    "import os\n",
    "import json\n",
    "import copy\n"
   ]
  },
  {
   "cell_type": "code",
   "execution_count": 2,
   "metadata": {},
   "outputs": [],
   "source": [
    "NUM_K = 10\n",
    "NUM_CLASSES = 11\n",
    "PATH_DATASET = '../expand_double_modes'\n",
    "EXP_FOLDER = 'dataset_kfold_2'"
   ]
  },
  {
   "cell_type": "code",
   "execution_count": 3,
   "metadata": {},
   "outputs": [],
   "source": [
    "# First - collect all data into massive\n",
    "data_path = []\n",
    "labels = []\n",
    "for single_folder in glob(os.path.join(PATH_DATASET, '*')):\n",
    "    # Each folder - collect images\n",
    "    folder_class = single_folder.split('/')[-1]\n",
    "    if foldername2class.get(folder_class) is None:\n",
    "        continue\n",
    "    \n",
    "    for single_img_path in glob(os.path.join(single_folder, '*')):\n",
    "        data_path.append(single_img_path)\n",
    "        labels.append(foldername2class[folder_class])"
   ]
  },
  {
   "cell_type": "code",
   "execution_count": 4,
   "metadata": {},
   "outputs": [],
   "source": [
    "data_path, labels = shuffle(data_path, labels)\n",
    "kf = MakiKFoldBalance(n_groups=NUM_K, shuffle_data=True)"
   ]
  },
  {
   "cell_type": "code",
   "execution_count": 5,
   "metadata": {},
   "outputs": [],
   "source": [
    "# Third - save each part as config file\n",
    "# i.e as json file with train and test data\n",
    "\n",
    "for inum_kfold, (train, test) in enumerate(kf.split(data_path, labels, NUM_CLASSES)):\n",
    "    # Create folder with certain dataset config\n",
    "    folder_exp_single = os.path.join(EXP_FOLDER, f'{inum_kfold}_exp')\n",
    "    os.makedirs(folder_exp_single, exist_ok=True)\n",
    "    config_data = {\n",
    "        TRAIN: (np.asarray(copy.deepcopy(data_path))[train]).tolist(),\n",
    "        TEST: (np.asarray(copy.deepcopy(data_path))[test]).tolist()\n",
    "    }\n",
    "    \n",
    "    with open(os.path.join(folder_exp_single, 'config_data.json'), 'w') as fp:\n",
    "        json.dump(config_data, fp)"
   ]
  },
  {
   "cell_type": "code",
   "execution_count": null,
   "metadata": {},
   "outputs": [],
   "source": []
  },
  {
   "cell_type": "code",
   "execution_count": null,
   "metadata": {},
   "outputs": [],
   "source": []
  }
 ],
 "metadata": {
  "kernelspec": {
   "display_name": "Python 3",
   "language": "python",
   "name": "python3"
  },
  "language_info": {
   "codemirror_mode": {
    "name": "ipython",
    "version": 3
   },
   "file_extension": ".py",
   "mimetype": "text/x-python",
   "name": "python",
   "nbconvert_exporter": "python",
   "pygments_lexer": "ipython3",
   "version": "3.8.5"
  }
 },
 "nbformat": 4,
 "nbformat_minor": 4
}
