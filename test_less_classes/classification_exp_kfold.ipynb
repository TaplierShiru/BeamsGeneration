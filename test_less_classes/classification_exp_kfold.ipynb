{
 "cells": [
  {
   "cell_type": "code",
   "execution_count": 1,
   "metadata": {
    "colab": {
     "base_uri": "https://localhost:8080/"
    },
    "id": "jnVNmf0_UoQZ",
    "outputId": "0d83adba-608d-4551-a2d2-576a4a944311"
   },
   "outputs": [
    {
     "name": "stdout",
     "output_type": "stream",
     "text": [
      "WARNING:tensorflow:Deprecation warnings have been disabled. Set TF_ENABLE_DEPRECATION_WARNINGS=1 to re-enable them.\n",
      "WARNING:tensorflow:From /usr/local/lib/python3.8/dist-packages/makiflow/core/inference/maki_core.py:108: The name tf.Session is deprecated. Please use tf.compat.v1.Session instead.\n",
      "\n"
     ]
    }
   ],
   "source": [
    "import sys\n",
    "\n",
    "sys.path.append('..')\n",
    "\n",
    "from utils import (load_data_minor, CLASSIFICATION, REGRESSION, coffe_norm, get_model,\n",
    "                  save_conf_matrix, error_angle, eval_model, get_generator_wrapper, foldername2_minor_class)\n",
    "import numpy as np\n",
    "import os\n",
    "import matplotlib.pyplot as plt \n",
    "from glob import glob\n",
    "from makiflow import set_main_gpu\n",
    "\n",
    "set_main_gpu(1)"
   ]
  },
  {
   "cell_type": "code",
   "execution_count": 2,
   "metadata": {
    "id": "foLn5zvGVMse"
   },
   "outputs": [],
   "source": [
    "EXP_FOLDER = 'dataset_kfold_2'\n",
    "BATCH_SIZE = 32\n",
    "EXP_FOLDERS = glob(os.path.join(EXP_FOLDER, '*'))\n",
    "EPOCHS = 20"
   ]
  },
  {
   "cell_type": "code",
   "execution_count": null,
   "metadata": {
    "colab": {
     "base_uri": "https://localhost:8080/"
    },
    "id": "0Fxo2li_VkpK",
    "outputId": "912c69ab-0097-43fa-d837-200326ae3429",
    "scrolled": true
   },
   "outputs": [
    {
     "name": "stderr",
     "output_type": "stream",
     "text": [
      "100%|██████████| 17820/17820 [00:34<00:00, 523.44it/s]\n",
      "100%|██████████| 1980/1980 [00:03<00:00, 531.12it/s]"
     ]
    },
    {
     "name": "stdout",
     "output_type": "stream",
     "text": [
      "train :  17820\n",
      "test:  1980\n",
      "WARNING:tensorflow:From /usr/local/lib/python3.8/dist-packages/makiflow/layers/untrainable_layers.py:44: The name tf.placeholder is deprecated. Please use tf.compat.v1.placeholder instead.\n",
      "\n",
      "WARNING:tensorflow:From /usr/local/lib/python3.8/dist-packages/makiflow/layers/untrainable_layers.py:494: The name tf.nn.max_pool is deprecated. Please use tf.nn.max_pool2d instead.\n",
      "\n"
     ]
    },
    {
     "name": "stderr",
     "output_type": "stream",
     "text": [
      "\n"
     ]
    },
    {
     "name": "stdout",
     "output_type": "stream",
     "text": [
      "WARNING:tensorflow:From /usr/local/lib/python3.8/dist-packages/makiflow/core/inference/maki_core.py:117: The name tf.variables_initializer is deprecated. Please use tf.compat.v1.variables_initializer instead.\n",
      "\n",
      "WARNING:tensorflow:From /usr/local/lib/python3.8/dist-packages/makiflow/layers/trainable_layers.py:1052: The name tf.assign is deprecated. Please use tf.compat.v1.assign instead.\n",
      "\n",
      "WARNING:tensorflow:From /usr/local/lib/python3.8/dist-packages/makiflow/core/training/tensorboard.py:41: The name tf.summary.scalar is deprecated. Please use tf.compat.v1.summary.scalar instead.\n",
      "\n",
      "Loss is built.\n",
      "WARNING:tensorflow:From ../utils/model_tools.py:60: The name tf.train.exponential_decay is deprecated. Please use tf.compat.v1.train.exponential_decay instead.\n",
      "\n",
      "WARNING:tensorflow:From ../utils/model_tools.py:61: The name tf.train.AdamOptimizer is deprecated. Please use tf.compat.v1.train.AdamOptimizer instead.\n",
      "\n",
      "ep:  0\n",
      "Collecting histogram tensors...\n",
      "WARNING:tensorflow:From /usr/local/lib/python3.8/dist-packages/makiflow/core/training/tensorboard.py:61: The name tf.summary.merge is deprecated. Please use tf.compat.v1.summary.merge instead.\n",
      "\n"
     ]
    },
    {
     "name": "stderr",
     "output_type": "stream",
     "text": [
      "\r",
      "  0%|          | 0/278 [00:00<?, ?it/s]"
     ]
    },
    {
     "name": "stdout",
     "output_type": "stream",
     "text": [
      "New optimizer is used.\n"
     ]
    },
    {
     "name": "stderr",
     "output_type": "stream",
     "text": [
      " 54%|█████▍    | 150/278 [01:12<00:49,  2.60it/s]"
     ]
    },
    {
     "name": "stdout",
     "output_type": "stream",
     "text": [
      "Epoch: 0\n",
      "Cross_Entropy: 0.9396599 \n",
      "Training_Loss: 0.9396599 \n",
      "\n",
      "\n"
     ]
    },
    {
     "name": "stderr",
     "output_type": "stream",
     "text": [
      "100%|██████████| 278/278 [02:08<00:00,  2.16it/s]\n"
     ]
    },
    {
     "name": "stdout",
     "output_type": "stream",
     "text": [
      "acc test:  0.1019467213114754\n",
      "WARNING:tensorflow:From /usr/local/lib/python3.8/dist-packages/makiflow/core/inference/model_serializer.py:71: The name tf.train.Saver is deprecated. Please use tf.compat.v1.train.Saver instead.\n",
      "\n",
      "Weights are saved to dataset_kfold_2/1_exp/acc_0.1_ep_0_exp/weights.ckpt\n",
      "Model's architecture is saved to dataset_kfold_2/1_exp/acc_0.1_ep_0_exp/model.json.\n"
     ]
    },
    {
     "name": "stderr",
     "output_type": "stream",
     "text": [
      "\r",
      "  0%|          | 0/278 [00:00<?, ?it/s]"
     ]
    },
    {
     "name": "stdout",
     "output_type": "stream",
     "text": [
      "ep:  1\n"
     ]
    },
    {
     "name": "stderr",
     "output_type": "stream",
     "text": [
      " 54%|█████▍    | 150/278 [01:05<00:57,  2.24it/s]"
     ]
    },
    {
     "name": "stdout",
     "output_type": "stream",
     "text": [
      "Epoch: 0\n",
      "Cross_Entropy: 0.6203461 \n",
      "Training_Loss: 0.6203461 \n",
      "\n",
      "\n"
     ]
    },
    {
     "name": "stderr",
     "output_type": "stream",
     "text": [
      "100%|██████████| 278/278 [02:00<00:00,  2.30it/s]\n"
     ]
    },
    {
     "name": "stdout",
     "output_type": "stream",
     "text": [
      "acc test:  0.7540983606557377\n",
      "Weights are saved to dataset_kfold_2/1_exp/acc_0.75_ep_1_exp/weights.ckpt\n",
      "Model's architecture is saved to dataset_kfold_2/1_exp/acc_0.75_ep_1_exp/model.json.\n"
     ]
    },
    {
     "name": "stderr",
     "output_type": "stream",
     "text": [
      "\r",
      "  0%|          | 0/278 [00:00<?, ?it/s]"
     ]
    },
    {
     "name": "stdout",
     "output_type": "stream",
     "text": [
      "ep:  2\n"
     ]
    },
    {
     "name": "stderr",
     "output_type": "stream",
     "text": [
      " 54%|█████▍    | 150/278 [01:05<00:39,  3.26it/s]"
     ]
    },
    {
     "name": "stdout",
     "output_type": "stream",
     "text": [
      "Epoch: 0\n",
      "Cross_Entropy: 1.5345506 \n",
      "Training_Loss: 1.5345506 \n",
      "\n",
      "\n"
     ]
    },
    {
     "name": "stderr",
     "output_type": "stream",
     "text": [
      "100%|██████████| 278/278 [02:01<00:00,  2.28it/s]\n"
     ]
    },
    {
     "name": "stdout",
     "output_type": "stream",
     "text": [
      "acc test:  0.4667008196721312\n",
      "Weights are saved to dataset_kfold_2/1_exp/acc_0.47_ep_2_exp/weights.ckpt\n",
      "Model's architecture is saved to dataset_kfold_2/1_exp/acc_0.47_ep_2_exp/model.json.\n"
     ]
    },
    {
     "name": "stderr",
     "output_type": "stream",
     "text": [
      "\r",
      "  0%|          | 0/278 [00:00<?, ?it/s]"
     ]
    },
    {
     "name": "stdout",
     "output_type": "stream",
     "text": [
      "ep:  3\n"
     ]
    },
    {
     "name": "stderr",
     "output_type": "stream",
     "text": [
      " 54%|█████▍    | 150/278 [01:05<00:55,  2.32it/s]"
     ]
    },
    {
     "name": "stdout",
     "output_type": "stream",
     "text": [
      "Epoch: 0\n",
      "Cross_Entropy: 0.6622690 \n",
      "Training_Loss: 0.6622690 \n",
      "\n",
      "\n"
     ]
    },
    {
     "name": "stderr",
     "output_type": "stream",
     "text": [
      "100%|██████████| 278/278 [02:02<00:00,  2.28it/s]\n"
     ]
    },
    {
     "name": "stdout",
     "output_type": "stream",
     "text": [
      "acc test:  0.5998975409836066\n",
      "Weights are saved to dataset_kfold_2/1_exp/acc_0.6_ep_3_exp/weights.ckpt\n",
      "Model's architecture is saved to dataset_kfold_2/1_exp/acc_0.6_ep_3_exp/model.json.\n"
     ]
    },
    {
     "name": "stderr",
     "output_type": "stream",
     "text": [
      "\r",
      "  0%|          | 0/278 [00:00<?, ?it/s]"
     ]
    },
    {
     "name": "stdout",
     "output_type": "stream",
     "text": [
      "ep:  4\n"
     ]
    },
    {
     "name": "stderr",
     "output_type": "stream",
     "text": [
      " 54%|█████▍    | 150/278 [01:05<01:09,  1.85it/s]"
     ]
    },
    {
     "name": "stdout",
     "output_type": "stream",
     "text": [
      "Epoch: 0\n",
      "Cross_Entropy: 0.4432996 \n",
      "Training_Loss: 0.4432996 \n",
      "\n",
      "\n"
     ]
    },
    {
     "name": "stderr",
     "output_type": "stream",
     "text": [
      "100%|██████████| 278/278 [02:00<00:00,  2.31it/s]\n"
     ]
    },
    {
     "name": "stdout",
     "output_type": "stream",
     "text": [
      "acc test:  0.5148565573770492\n",
      "Weights are saved to dataset_kfold_2/1_exp/acc_0.51_ep_4_exp/weights.ckpt\n",
      "Model's architecture is saved to dataset_kfold_2/1_exp/acc_0.51_ep_4_exp/model.json.\n"
     ]
    },
    {
     "name": "stderr",
     "output_type": "stream",
     "text": [
      "\r",
      "  0%|          | 0/278 [00:00<?, ?it/s]"
     ]
    },
    {
     "name": "stdout",
     "output_type": "stream",
     "text": [
      "ep:  5\n"
     ]
    },
    {
     "name": "stderr",
     "output_type": "stream",
     "text": [
      " 54%|█████▍    | 150/278 [01:10<01:14,  1.72it/s]"
     ]
    },
    {
     "name": "stdout",
     "output_type": "stream",
     "text": [
      "Epoch: 0\n",
      "Cross_Entropy: 0.4103107 \n",
      "Training_Loss: 0.4103107 \n",
      "\n",
      "\n"
     ]
    },
    {
     "name": "stderr",
     "output_type": "stream",
     "text": [
      "100%|██████████| 278/278 [02:10<00:00,  2.12it/s]\n"
     ]
    },
    {
     "name": "stdout",
     "output_type": "stream",
     "text": [
      "acc test:  0.5676229508196722\n",
      "Weights are saved to dataset_kfold_2/1_exp/acc_0.57_ep_5_exp/weights.ckpt\n",
      "Model's architecture is saved to dataset_kfold_2/1_exp/acc_0.57_ep_5_exp/model.json.\n"
     ]
    },
    {
     "name": "stderr",
     "output_type": "stream",
     "text": [
      "\r",
      "  0%|          | 0/278 [00:00<?, ?it/s]"
     ]
    },
    {
     "name": "stdout",
     "output_type": "stream",
     "text": [
      "ep:  6\n"
     ]
    },
    {
     "name": "stderr",
     "output_type": "stream",
     "text": [
      " 54%|█████▍    | 150/278 [01:05<01:09,  1.83it/s]"
     ]
    },
    {
     "name": "stdout",
     "output_type": "stream",
     "text": [
      "Epoch: 0\n",
      "Cross_Entropy: 2.9893121 \n",
      "Training_Loss: 2.9893121 \n",
      "\n",
      "\n"
     ]
    },
    {
     "name": "stderr",
     "output_type": "stream",
     "text": [
      "100%|██████████| 278/278 [02:01<00:00,  2.30it/s]\n"
     ]
    },
    {
     "name": "stdout",
     "output_type": "stream",
     "text": [
      "acc test:  0.22028688524590165\n",
      "Weights are saved to dataset_kfold_2/1_exp/acc_0.22_ep_6_exp/weights.ckpt\n",
      "Model's architecture is saved to dataset_kfold_2/1_exp/acc_0.22_ep_6_exp/model.json.\n"
     ]
    },
    {
     "name": "stderr",
     "output_type": "stream",
     "text": [
      "\r",
      "  0%|          | 0/278 [00:00<?, ?it/s]"
     ]
    },
    {
     "name": "stdout",
     "output_type": "stream",
     "text": [
      "ep:  7\n"
     ]
    },
    {
     "name": "stderr",
     "output_type": "stream",
     "text": [
      " 54%|█████▍    | 150/278 [01:08<01:05,  1.96it/s]"
     ]
    },
    {
     "name": "stdout",
     "output_type": "stream",
     "text": [
      "Epoch: 0\n",
      "Cross_Entropy: 0.4511483 \n",
      "Training_Loss: 0.4511483 \n",
      "\n",
      "\n"
     ]
    },
    {
     "name": "stderr",
     "output_type": "stream",
     "text": [
      "100%|██████████| 278/278 [02:08<00:00,  2.16it/s]\n"
     ]
    },
    {
     "name": "stdout",
     "output_type": "stream",
     "text": [
      "acc test:  0.48360655737704916\n",
      "Weights are saved to dataset_kfold_2/1_exp/acc_0.48_ep_7_exp/weights.ckpt\n",
      "Model's architecture is saved to dataset_kfold_2/1_exp/acc_0.48_ep_7_exp/model.json.\n"
     ]
    },
    {
     "name": "stderr",
     "output_type": "stream",
     "text": [
      "\r",
      "  0%|          | 0/278 [00:00<?, ?it/s]"
     ]
    },
    {
     "name": "stdout",
     "output_type": "stream",
     "text": [
      "ep:  8\n"
     ]
    },
    {
     "name": "stderr",
     "output_type": "stream",
     "text": [
      " 54%|█████▍    | 150/278 [01:04<01:04,  1.99it/s]"
     ]
    },
    {
     "name": "stdout",
     "output_type": "stream",
     "text": [
      "Epoch: 0\n",
      "Cross_Entropy: 0.3148790 \n",
      "Training_Loss: 0.3148790 \n",
      "\n",
      "\n"
     ]
    },
    {
     "name": "stderr",
     "output_type": "stream",
     "text": [
      "100%|██████████| 278/278 [01:59<00:00,  2.33it/s]\n"
     ]
    },
    {
     "name": "stdout",
     "output_type": "stream",
     "text": [
      "acc test:  0.7904713114754098\n",
      "Weights are saved to dataset_kfold_2/1_exp/acc_0.79_ep_8_exp/weights.ckpt\n",
      "Model's architecture is saved to dataset_kfold_2/1_exp/acc_0.79_ep_8_exp/model.json.\n"
     ]
    },
    {
     "name": "stderr",
     "output_type": "stream",
     "text": [
      "\r",
      "  0%|          | 0/278 [00:00<?, ?it/s]"
     ]
    },
    {
     "name": "stdout",
     "output_type": "stream",
     "text": [
      "ep:  9\n"
     ]
    },
    {
     "name": "stderr",
     "output_type": "stream",
     "text": [
      " 54%|█████▍    | 150/278 [01:07<00:55,  2.29it/s]"
     ]
    },
    {
     "name": "stdout",
     "output_type": "stream",
     "text": [
      "Epoch: 0\n",
      "Cross_Entropy: 0.2472133 \n",
      "Training_Loss: 0.2472133 \n",
      "\n",
      "\n"
     ]
    },
    {
     "name": "stderr",
     "output_type": "stream",
     "text": [
      "100%|██████████| 278/278 [02:03<00:00,  2.25it/s]\n"
     ]
    },
    {
     "name": "stdout",
     "output_type": "stream",
     "text": [
      "acc test:  0.7617827868852459\n",
      "Weights are saved to dataset_kfold_2/1_exp/acc_0.76_ep_9_exp/weights.ckpt\n",
      "Model's architecture is saved to dataset_kfold_2/1_exp/acc_0.76_ep_9_exp/model.json.\n"
     ]
    },
    {
     "name": "stderr",
     "output_type": "stream",
     "text": [
      "\r",
      "  0%|          | 0/278 [00:00<?, ?it/s]"
     ]
    },
    {
     "name": "stdout",
     "output_type": "stream",
     "text": [
      "ep:  10\n"
     ]
    },
    {
     "name": "stderr",
     "output_type": "stream",
     "text": [
      " 54%|█████▍    | 150/278 [01:07<00:59,  2.15it/s]"
     ]
    },
    {
     "name": "stdout",
     "output_type": "stream",
     "text": [
      "Epoch: 0\n",
      "Cross_Entropy: 0.2232658 \n",
      "Training_Loss: 0.2232658 \n",
      "\n",
      "\n"
     ]
    },
    {
     "name": "stderr",
     "output_type": "stream",
     "text": [
      "100%|██████████| 278/278 [02:04<00:00,  2.23it/s]\n"
     ]
    },
    {
     "name": "stdout",
     "output_type": "stream",
     "text": [
      "acc test:  0.8790983606557377\n",
      "Weights are saved to dataset_kfold_2/1_exp/acc_0.88_ep_10_exp/weights.ckpt\n",
      "Model's architecture is saved to dataset_kfold_2/1_exp/acc_0.88_ep_10_exp/model.json.\n"
     ]
    },
    {
     "name": "stderr",
     "output_type": "stream",
     "text": [
      "\r",
      "  0%|          | 0/278 [00:00<?, ?it/s]"
     ]
    },
    {
     "name": "stdout",
     "output_type": "stream",
     "text": [
      "ep:  11\n"
     ]
    },
    {
     "name": "stderr",
     "output_type": "stream",
     "text": [
      " 54%|█████▍    | 150/278 [01:08<01:12,  1.77it/s]"
     ]
    },
    {
     "name": "stdout",
     "output_type": "stream",
     "text": [
      "Epoch: 0\n",
      "Cross_Entropy: 1.0349884 \n",
      "Training_Loss: 1.0349884 \n",
      "\n",
      "\n"
     ]
    },
    {
     "name": "stderr",
     "output_type": "stream",
     "text": [
      "100%|██████████| 278/278 [02:04<00:00,  2.23it/s]\n"
     ]
    },
    {
     "name": "stdout",
     "output_type": "stream",
     "text": [
      "acc test:  0.6777663934426229\n",
      "Weights are saved to dataset_kfold_2/1_exp/acc_0.68_ep_11_exp/weights.ckpt\n",
      "Model's architecture is saved to dataset_kfold_2/1_exp/acc_0.68_ep_11_exp/model.json.\n"
     ]
    },
    {
     "name": "stderr",
     "output_type": "stream",
     "text": [
      "\r",
      "  0%|          | 0/278 [00:00<?, ?it/s]"
     ]
    },
    {
     "name": "stdout",
     "output_type": "stream",
     "text": [
      "ep:  12\n"
     ]
    },
    {
     "name": "stderr",
     "output_type": "stream",
     "text": [
      " 54%|█████▍    | 150/278 [01:05<00:45,  2.84it/s]"
     ]
    },
    {
     "name": "stdout",
     "output_type": "stream",
     "text": [
      "Epoch: 0\n",
      "Cross_Entropy: 0.5115528 \n",
      "Training_Loss: 0.5115528 \n",
      "\n",
      "\n"
     ]
    },
    {
     "name": "stderr",
     "output_type": "stream",
     "text": [
      "100%|██████████| 278/278 [02:04<00:00,  2.24it/s]\n"
     ]
    },
    {
     "name": "stdout",
     "output_type": "stream",
     "text": [
      "acc test:  0.42161885245901637\n",
      "Weights are saved to dataset_kfold_2/1_exp/acc_0.42_ep_12_exp/weights.ckpt\n",
      "Model's architecture is saved to dataset_kfold_2/1_exp/acc_0.42_ep_12_exp/model.json.\n"
     ]
    },
    {
     "name": "stderr",
     "output_type": "stream",
     "text": [
      "\r",
      "  0%|          | 0/278 [00:00<?, ?it/s]"
     ]
    },
    {
     "name": "stdout",
     "output_type": "stream",
     "text": [
      "ep:  13\n"
     ]
    },
    {
     "name": "stderr",
     "output_type": "stream",
     "text": [
      " 54%|█████▍    | 151/278 [01:03<00:59,  2.14it/s]"
     ]
    },
    {
     "name": "stdout",
     "output_type": "stream",
     "text": [
      "Epoch: 0\n",
      "Cross_Entropy: 0.3281157 \n",
      "Training_Loss: 0.3281157 \n",
      "\n",
      "\n"
     ]
    },
    {
     "name": "stderr",
     "output_type": "stream",
     "text": [
      "100%|██████████| 278/278 [02:01<00:00,  2.29it/s]\n"
     ]
    },
    {
     "name": "stdout",
     "output_type": "stream",
     "text": [
      "acc test:  0.2766393442622951\n",
      "Weights are saved to dataset_kfold_2/1_exp/acc_0.28_ep_13_exp/weights.ckpt\n",
      "Model's architecture is saved to dataset_kfold_2/1_exp/acc_0.28_ep_13_exp/model.json.\n"
     ]
    },
    {
     "name": "stderr",
     "output_type": "stream",
     "text": [
      "\r",
      "  0%|          | 0/278 [00:00<?, ?it/s]"
     ]
    },
    {
     "name": "stdout",
     "output_type": "stream",
     "text": [
      "ep:  14\n"
     ]
    },
    {
     "name": "stderr",
     "output_type": "stream",
     "text": [
      " 54%|█████▍    | 150/278 [01:08<00:47,  2.68it/s]"
     ]
    },
    {
     "name": "stdout",
     "output_type": "stream",
     "text": [
      "Epoch: 0\n",
      "Cross_Entropy: 0.8878099 \n",
      "Training_Loss: 0.8878099 \n",
      "\n",
      "\n"
     ]
    },
    {
     "name": "stderr",
     "output_type": "stream",
     "text": [
      "100%|██████████| 278/278 [02:07<00:00,  2.19it/s]\n"
     ]
    },
    {
     "name": "stdout",
     "output_type": "stream",
     "text": [
      "acc test:  0.6234631147540983\n",
      "Weights are saved to dataset_kfold_2/1_exp/acc_0.62_ep_14_exp/weights.ckpt\n",
      "Model's architecture is saved to dataset_kfold_2/1_exp/acc_0.62_ep_14_exp/model.json.\n"
     ]
    },
    {
     "name": "stderr",
     "output_type": "stream",
     "text": [
      "\r",
      "  0%|          | 0/278 [00:00<?, ?it/s]"
     ]
    },
    {
     "name": "stdout",
     "output_type": "stream",
     "text": [
      "ep:  15\n"
     ]
    },
    {
     "name": "stderr",
     "output_type": "stream",
     "text": [
      " 54%|█████▍    | 150/278 [01:11<01:13,  1.74it/s]"
     ]
    },
    {
     "name": "stdout",
     "output_type": "stream",
     "text": [
      "Epoch: 0\n",
      "Cross_Entropy: 0.3718475 \n",
      "Training_Loss: 0.3718475 \n",
      "\n",
      "\n"
     ]
    },
    {
     "name": "stderr",
     "output_type": "stream",
     "text": [
      "100%|██████████| 278/278 [02:09<00:00,  2.15it/s]\n"
     ]
    },
    {
     "name": "stdout",
     "output_type": "stream",
     "text": [
      "acc test:  0.6695696721311475\n",
      "Weights are saved to dataset_kfold_2/1_exp/acc_0.67_ep_15_exp/weights.ckpt\n",
      "Model's architecture is saved to dataset_kfold_2/1_exp/acc_0.67_ep_15_exp/model.json.\n"
     ]
    },
    {
     "name": "stderr",
     "output_type": "stream",
     "text": [
      "\r",
      "  0%|          | 0/278 [00:00<?, ?it/s]"
     ]
    },
    {
     "name": "stdout",
     "output_type": "stream",
     "text": [
      "ep:  16\n"
     ]
    },
    {
     "name": "stderr",
     "output_type": "stream",
     "text": [
      " 54%|█████▍    | 150/278 [01:06<00:50,  2.51it/s]"
     ]
    },
    {
     "name": "stdout",
     "output_type": "stream",
     "text": [
      "Epoch: 0\n",
      "Cross_Entropy: 0.2373513 \n",
      "Training_Loss: 0.2373513 \n",
      "\n",
      "\n"
     ]
    },
    {
     "name": "stderr",
     "output_type": "stream",
     "text": [
      "100%|██████████| 278/278 [02:04<00:00,  2.23it/s]\n"
     ]
    },
    {
     "name": "stdout",
     "output_type": "stream",
     "text": [
      "acc test:  0.8217213114754098\n",
      "Weights are saved to dataset_kfold_2/1_exp/acc_0.82_ep_16_exp/weights.ckpt\n",
      "Model's architecture is saved to dataset_kfold_2/1_exp/acc_0.82_ep_16_exp/model.json.\n"
     ]
    },
    {
     "name": "stderr",
     "output_type": "stream",
     "text": [
      "\r",
      "  0%|          | 0/278 [00:00<?, ?it/s]"
     ]
    },
    {
     "name": "stdout",
     "output_type": "stream",
     "text": [
      "ep:  17\n"
     ]
    },
    {
     "name": "stderr",
     "output_type": "stream",
     "text": [
      " 54%|█████▍    | 150/278 [01:07<00:56,  2.26it/s]"
     ]
    },
    {
     "name": "stdout",
     "output_type": "stream",
     "text": [
      "Epoch: 0\n",
      "Cross_Entropy: 0.2454250 \n",
      "Training_Loss: 0.2454250 \n",
      "\n",
      "\n"
     ]
    },
    {
     "name": "stderr",
     "output_type": "stream",
     "text": [
      "100%|██████████| 278/278 [02:05<00:00,  2.21it/s]\n"
     ]
    },
    {
     "name": "stdout",
     "output_type": "stream",
     "text": [
      "acc test:  0.7761270491803278\n",
      "Weights are saved to dataset_kfold_2/1_exp/acc_0.78_ep_17_exp/weights.ckpt\n",
      "Model's architecture is saved to dataset_kfold_2/1_exp/acc_0.78_ep_17_exp/model.json.\n"
     ]
    },
    {
     "name": "stderr",
     "output_type": "stream",
     "text": [
      "\r",
      "  0%|          | 0/278 [00:00<?, ?it/s]"
     ]
    },
    {
     "name": "stdout",
     "output_type": "stream",
     "text": [
      "ep:  18\n"
     ]
    },
    {
     "name": "stderr",
     "output_type": "stream",
     "text": [
      " 54%|█████▍    | 150/278 [01:04<00:50,  2.52it/s]"
     ]
    },
    {
     "name": "stdout",
     "output_type": "stream",
     "text": [
      "Epoch: 0\n",
      "Cross_Entropy: 0.1844197 \n",
      "Training_Loss: 0.1844197 \n",
      "\n",
      "\n"
     ]
    },
    {
     "name": "stderr",
     "output_type": "stream",
     "text": [
      "100%|██████████| 278/278 [02:00<00:00,  2.31it/s]\n"
     ]
    },
    {
     "name": "stdout",
     "output_type": "stream",
     "text": [
      "acc test:  0.7838114754098361\n",
      "Weights are saved to dataset_kfold_2/1_exp/acc_0.78_ep_18_exp/weights.ckpt\n",
      "Model's architecture is saved to dataset_kfold_2/1_exp/acc_0.78_ep_18_exp/model.json.\n"
     ]
    },
    {
     "name": "stderr",
     "output_type": "stream",
     "text": [
      "  0%|          | 1/278 [00:00<00:55,  5.03it/s]"
     ]
    },
    {
     "name": "stdout",
     "output_type": "stream",
     "text": [
      "ep:  19\n"
     ]
    },
    {
     "name": "stderr",
     "output_type": "stream",
     "text": [
      " 54%|█████▍    | 150/278 [01:04<00:38,  3.34it/s]"
     ]
    },
    {
     "name": "stdout",
     "output_type": "stream",
     "text": [
      "Epoch: 0\n",
      "Cross_Entropy: 0.1796291 \n",
      "Training_Loss: 0.1796291 \n",
      "\n",
      "\n"
     ]
    },
    {
     "name": "stderr",
     "output_type": "stream",
     "text": [
      "100%|██████████| 278/278 [02:01<00:00,  2.28it/s]\n"
     ]
    },
    {
     "name": "stdout",
     "output_type": "stream",
     "text": [
      "acc test:  0.9390368852459017\n",
      "Weights are saved to dataset_kfold_2/1_exp/acc_0.94_ep_19_exp/weights.ckpt\n",
      "Model's architecture is saved to dataset_kfold_2/1_exp/acc_0.94_ep_19_exp/model.json.\n"
     ]
    },
    {
     "name": "stderr",
     "output_type": "stream",
     "text": [
      "100%|██████████| 17820/17820 [00:28<00:00, 618.13it/s]\n",
      "100%|██████████| 1980/1980 [00:03<00:00, 632.22it/s]\n"
     ]
    },
    {
     "name": "stdout",
     "output_type": "stream",
     "text": [
      "train :  17820\n",
      "test:  1980\n",
      "Loss is built.\n",
      "ep:  0\n",
      "Collecting histogram tensors...\n"
     ]
    },
    {
     "name": "stderr",
     "output_type": "stream",
     "text": [
      "\r",
      "  0%|          | 0/278 [00:00<?, ?it/s]"
     ]
    },
    {
     "name": "stdout",
     "output_type": "stream",
     "text": [
      "New optimizer is used.\n"
     ]
    },
    {
     "name": "stderr",
     "output_type": "stream",
     "text": [
      " 54%|█████▍    | 150/278 [01:03<01:03,  2.02it/s]"
     ]
    },
    {
     "name": "stdout",
     "output_type": "stream",
     "text": [
      "Epoch: 0\n",
      "Cross_Entropy: 0.9931281 \n",
      "Training_Loss: 0.9931281 \n",
      "\n",
      "\n"
     ]
    },
    {
     "name": "stderr",
     "output_type": "stream",
     "text": [
      "100%|██████████| 278/278 [01:54<00:00,  2.43it/s]\n"
     ]
    },
    {
     "name": "stdout",
     "output_type": "stream",
     "text": [
      "acc test:  0.40010245901639346\n",
      "Weights are saved to dataset_kfold_2/7_exp/acc_0.4_ep_0_exp/weights.ckpt\n",
      "Model's architecture is saved to dataset_kfold_2/7_exp/acc_0.4_ep_0_exp/model.json.\n"
     ]
    },
    {
     "name": "stderr",
     "output_type": "stream",
     "text": [
      "\r",
      "  0%|          | 0/278 [00:00<?, ?it/s]"
     ]
    },
    {
     "name": "stdout",
     "output_type": "stream",
     "text": [
      "ep:  1\n"
     ]
    },
    {
     "name": "stderr",
     "output_type": "stream",
     "text": [
      " 54%|█████▍    | 150/278 [01:00<00:54,  2.36it/s]"
     ]
    },
    {
     "name": "stdout",
     "output_type": "stream",
     "text": [
      "Epoch: 0\n",
      "Cross_Entropy: 0.5954644 \n",
      "Training_Loss: 0.5954644 \n",
      "\n",
      "\n"
     ]
    },
    {
     "name": "stderr",
     "output_type": "stream",
     "text": [
      "100%|██████████| 278/278 [01:51<00:00,  2.48it/s]\n"
     ]
    },
    {
     "name": "stdout",
     "output_type": "stream",
     "text": [
      "acc test:  0.1403688524590164\n",
      "Weights are saved to dataset_kfold_2/7_exp/acc_0.14_ep_1_exp/weights.ckpt\n",
      "Model's architecture is saved to dataset_kfold_2/7_exp/acc_0.14_ep_1_exp/model.json.\n"
     ]
    },
    {
     "name": "stderr",
     "output_type": "stream",
     "text": [
      "\r",
      "  0%|          | 0/278 [00:00<?, ?it/s]"
     ]
    },
    {
     "name": "stdout",
     "output_type": "stream",
     "text": [
      "ep:  2\n"
     ]
    },
    {
     "name": "stderr",
     "output_type": "stream",
     "text": [
      " 54%|█████▍    | 150/278 [01:03<00:54,  2.35it/s]"
     ]
    },
    {
     "name": "stdout",
     "output_type": "stream",
     "text": [
      "Epoch: 0\n",
      "Cross_Entropy: 0.4794123 \n",
      "Training_Loss: 0.4794123 \n",
      "\n",
      "\n"
     ]
    },
    {
     "name": "stderr",
     "output_type": "stream",
     "text": [
      "100%|██████████| 278/278 [01:56<00:00,  2.38it/s]\n"
     ]
    },
    {
     "name": "stdout",
     "output_type": "stream",
     "text": [
      "acc test:  0.13217213114754098\n",
      "Weights are saved to dataset_kfold_2/7_exp/acc_0.13_ep_2_exp/weights.ckpt\n",
      "Model's architecture is saved to dataset_kfold_2/7_exp/acc_0.13_ep_2_exp/model.json.\n"
     ]
    },
    {
     "name": "stderr",
     "output_type": "stream",
     "text": [
      "\r",
      "  0%|          | 0/278 [00:00<?, ?it/s]"
     ]
    },
    {
     "name": "stdout",
     "output_type": "stream",
     "text": [
      "ep:  3\n"
     ]
    },
    {
     "name": "stderr",
     "output_type": "stream",
     "text": [
      " 54%|█████▍    | 150/278 [01:04<00:57,  2.23it/s]"
     ]
    },
    {
     "name": "stdout",
     "output_type": "stream",
     "text": [
      "Epoch: 0\n",
      "Cross_Entropy: 0.3536201 \n",
      "Training_Loss: 0.3536201 \n",
      "\n",
      "\n"
     ]
    },
    {
     "name": "stderr",
     "output_type": "stream",
     "text": [
      "100%|██████████| 278/278 [01:56<00:00,  2.39it/s]\n",
      "../utils/model_tools.py:77: RuntimeWarning: overflow encountered in exp\n",
      "  e = np.exp(A)\n",
      "../utils/model_tools.py:78: RuntimeWarning: invalid value encountered in true_divide\n",
      "  return e / np.sum(e, axis=-1, keepdims=True)\n"
     ]
    },
    {
     "name": "stdout",
     "output_type": "stream",
     "text": [
      "acc test:  0.1557377049180328\n",
      "Weights are saved to dataset_kfold_2/7_exp/acc_0.16_ep_3_exp/weights.ckpt\n",
      "Model's architecture is saved to dataset_kfold_2/7_exp/acc_0.16_ep_3_exp/model.json.\n"
     ]
    },
    {
     "name": "stderr",
     "output_type": "stream",
     "text": [
      "\r",
      "  0%|          | 0/278 [00:00<?, ?it/s]"
     ]
    },
    {
     "name": "stdout",
     "output_type": "stream",
     "text": [
      "ep:  4\n"
     ]
    },
    {
     "name": "stderr",
     "output_type": "stream",
     "text": [
      " 54%|█████▍    | 150/278 [01:03<01:06,  1.93it/s]"
     ]
    },
    {
     "name": "stdout",
     "output_type": "stream",
     "text": [
      "Epoch: 0\n",
      "Cross_Entropy: 0.3210399 \n",
      "Training_Loss: 0.3210399 \n",
      "\n",
      "\n"
     ]
    },
    {
     "name": "stderr",
     "output_type": "stream",
     "text": [
      "100%|██████████| 278/278 [01:56<00:00,  2.38it/s]\n"
     ]
    },
    {
     "name": "stdout",
     "output_type": "stream",
     "text": [
      "acc test:  0.1173155737704918\n",
      "Weights are saved to dataset_kfold_2/7_exp/acc_0.12_ep_4_exp/weights.ckpt\n",
      "Model's architecture is saved to dataset_kfold_2/7_exp/acc_0.12_ep_4_exp/model.json.\n"
     ]
    },
    {
     "name": "stderr",
     "output_type": "stream",
     "text": [
      "\r",
      "  0%|          | 0/278 [00:00<?, ?it/s]"
     ]
    },
    {
     "name": "stdout",
     "output_type": "stream",
     "text": [
      "ep:  5\n"
     ]
    },
    {
     "name": "stderr",
     "output_type": "stream",
     "text": [
      " 54%|█████▍    | 150/278 [00:59<00:43,  2.97it/s]"
     ]
    },
    {
     "name": "stdout",
     "output_type": "stream",
     "text": [
      "Epoch: 0\n",
      "Cross_Entropy: 0.2476717 \n",
      "Training_Loss: 0.2476717 \n",
      "\n",
      "\n"
     ]
    },
    {
     "name": "stderr",
     "output_type": "stream",
     "text": [
      "100%|██████████| 278/278 [01:54<00:00,  2.43it/s]\n"
     ]
    },
    {
     "name": "stdout",
     "output_type": "stream",
     "text": [
      "acc test:  0.14549180327868852\n",
      "Weights are saved to dataset_kfold_2/7_exp/acc_0.15_ep_5_exp/weights.ckpt\n",
      "Model's architecture is saved to dataset_kfold_2/7_exp/acc_0.15_ep_5_exp/model.json.\n"
     ]
    },
    {
     "name": "stderr",
     "output_type": "stream",
     "text": [
      "\r",
      "  0%|          | 0/278 [00:00<?, ?it/s]"
     ]
    },
    {
     "name": "stdout",
     "output_type": "stream",
     "text": [
      "ep:  6\n"
     ]
    },
    {
     "name": "stderr",
     "output_type": "stream",
     "text": [
      " 54%|█████▍    | 150/278 [01:00<00:57,  2.22it/s]"
     ]
    },
    {
     "name": "stdout",
     "output_type": "stream",
     "text": [
      "Epoch: 0\n",
      "Cross_Entropy: 0.1551807 \n",
      "Training_Loss: 0.1551807 \n",
      "\n",
      "\n"
     ]
    },
    {
     "name": "stderr",
     "output_type": "stream",
     "text": [
      "100%|██████████| 278/278 [01:54<00:00,  2.43it/s]\n"
     ]
    },
    {
     "name": "stdout",
     "output_type": "stream",
     "text": [
      "acc test:  0.19774590163934427\n",
      "Weights are saved to dataset_kfold_2/7_exp/acc_0.2_ep_6_exp/weights.ckpt\n",
      "Model's architecture is saved to dataset_kfold_2/7_exp/acc_0.2_ep_6_exp/model.json.\n"
     ]
    },
    {
     "name": "stderr",
     "output_type": "stream",
     "text": [
      "\r",
      "  0%|          | 0/278 [00:00<?, ?it/s]"
     ]
    },
    {
     "name": "stdout",
     "output_type": "stream",
     "text": [
      "ep:  7\n"
     ]
    },
    {
     "name": "stderr",
     "output_type": "stream",
     "text": [
      " 54%|█████▍    | 151/278 [01:00<00:33,  3.82it/s]"
     ]
    },
    {
     "name": "stdout",
     "output_type": "stream",
     "text": [
      "Epoch: 0\n",
      "Cross_Entropy: 0.1838370 \n",
      "Training_Loss: 0.1838370 \n",
      "\n",
      "\n"
     ]
    },
    {
     "name": "stderr",
     "output_type": "stream",
     "text": [
      "100%|██████████| 278/278 [01:53<00:00,  2.45it/s]\n",
      "/usr/local/lib/python3.8/dist-packages/numpy/core/fromnumeric.py:90: RuntimeWarning: overflow encountered in reduce\n",
      "  return ufunc.reduce(obj, axis, dtype, out, **passkwargs)\n"
     ]
    },
    {
     "name": "stdout",
     "output_type": "stream",
     "text": [
      "acc test:  0.2797131147540984\n",
      "Weights are saved to dataset_kfold_2/7_exp/acc_0.28_ep_7_exp/weights.ckpt\n",
      "Model's architecture is saved to dataset_kfold_2/7_exp/acc_0.28_ep_7_exp/model.json.\n"
     ]
    },
    {
     "name": "stderr",
     "output_type": "stream",
     "text": [
      "\r",
      "  0%|          | 0/278 [00:00<?, ?it/s]"
     ]
    },
    {
     "name": "stdout",
     "output_type": "stream",
     "text": [
      "ep:  8\n"
     ]
    },
    {
     "name": "stderr",
     "output_type": "stream",
     "text": [
      " 54%|█████▍    | 150/278 [01:01<00:55,  2.30it/s]"
     ]
    },
    {
     "name": "stdout",
     "output_type": "stream",
     "text": [
      "Epoch: 0\n",
      "Cross_Entropy: 0.1186281 \n",
      "Training_Loss: 0.1186281 \n",
      "\n",
      "\n"
     ]
    },
    {
     "name": "stderr",
     "output_type": "stream",
     "text": [
      "100%|██████████| 278/278 [01:57<00:00,  2.37it/s]\n"
     ]
    },
    {
     "name": "stdout",
     "output_type": "stream",
     "text": [
      "acc test:  0.09016393442622951\n",
      "Weights are saved to dataset_kfold_2/7_exp/acc_0.09_ep_8_exp/weights.ckpt\n",
      "Model's architecture is saved to dataset_kfold_2/7_exp/acc_0.09_ep_8_exp/model.json.\n"
     ]
    },
    {
     "name": "stderr",
     "output_type": "stream",
     "text": [
      "\r",
      "  0%|          | 0/278 [00:00<?, ?it/s]"
     ]
    },
    {
     "name": "stdout",
     "output_type": "stream",
     "text": [
      "ep:  9\n"
     ]
    },
    {
     "name": "stderr",
     "output_type": "stream",
     "text": [
      " 54%|█████▍    | 150/278 [01:02<00:54,  2.35it/s]"
     ]
    },
    {
     "name": "stdout",
     "output_type": "stream",
     "text": [
      "Epoch: 0\n",
      "Cross_Entropy: 0.0938834 \n",
      "Training_Loss: 0.0938834 \n",
      "\n",
      "\n"
     ]
    },
    {
     "name": "stderr",
     "output_type": "stream",
     "text": [
      "100%|██████████| 278/278 [01:53<00:00,  2.45it/s]\n"
     ]
    },
    {
     "name": "stdout",
     "output_type": "stream",
     "text": [
      "acc test:  0.2863729508196721\n",
      "Weights are saved to dataset_kfold_2/7_exp/acc_0.29_ep_9_exp/weights.ckpt\n",
      "Model's architecture is saved to dataset_kfold_2/7_exp/acc_0.29_ep_9_exp/model.json.\n"
     ]
    },
    {
     "name": "stderr",
     "output_type": "stream",
     "text": [
      "\r",
      "  0%|          | 0/278 [00:00<?, ?it/s]"
     ]
    },
    {
     "name": "stdout",
     "output_type": "stream",
     "text": [
      "ep:  10\n"
     ]
    },
    {
     "name": "stderr",
     "output_type": "stream",
     "text": [
      " 54%|█████▍    | 150/278 [01:00<01:05,  1.95it/s]"
     ]
    },
    {
     "name": "stdout",
     "output_type": "stream",
     "text": [
      "Epoch: 0\n",
      "Cross_Entropy: 1.1394363 \n",
      "Training_Loss: 1.1394363 \n",
      "\n",
      "\n"
     ]
    },
    {
     "name": "stderr",
     "output_type": "stream",
     "text": [
      "100%|██████████| 278/278 [01:52<00:00,  2.46it/s]\n"
     ]
    },
    {
     "name": "stdout",
     "output_type": "stream",
     "text": [
      "acc test:  0.24385245901639344\n",
      "Weights are saved to dataset_kfold_2/7_exp/acc_0.24_ep_10_exp/weights.ckpt\n",
      "Model's architecture is saved to dataset_kfold_2/7_exp/acc_0.24_ep_10_exp/model.json.\n"
     ]
    },
    {
     "name": "stderr",
     "output_type": "stream",
     "text": [
      "  0%|          | 1/278 [00:00<00:48,  5.73it/s]"
     ]
    },
    {
     "name": "stdout",
     "output_type": "stream",
     "text": [
      "ep:  11\n"
     ]
    },
    {
     "name": "stderr",
     "output_type": "stream",
     "text": [
      " 54%|█████▍    | 150/278 [00:57<00:49,  2.56it/s]"
     ]
    },
    {
     "name": "stdout",
     "output_type": "stream",
     "text": [
      "Epoch: 0\n",
      "Cross_Entropy: 0.6644935 \n",
      "Training_Loss: 0.6644935 \n",
      "\n",
      "\n"
     ]
    },
    {
     "name": "stderr",
     "output_type": "stream",
     "text": [
      "100%|██████████| 278/278 [01:50<00:00,  2.52it/s]\n"
     ]
    },
    {
     "name": "stdout",
     "output_type": "stream",
     "text": [
      "acc test:  0.492827868852459\n",
      "Weights are saved to dataset_kfold_2/7_exp/acc_0.49_ep_11_exp/weights.ckpt\n",
      "Model's architecture is saved to dataset_kfold_2/7_exp/acc_0.49_ep_11_exp/model.json.\n"
     ]
    },
    {
     "name": "stderr",
     "output_type": "stream",
     "text": [
      "\r",
      "  0%|          | 0/278 [00:00<?, ?it/s]"
     ]
    },
    {
     "name": "stdout",
     "output_type": "stream",
     "text": [
      "ep:  12\n"
     ]
    },
    {
     "name": "stderr",
     "output_type": "stream",
     "text": [
      " 54%|█████▍    | 150/278 [01:02<00:59,  2.16it/s]"
     ]
    },
    {
     "name": "stdout",
     "output_type": "stream",
     "text": [
      "Epoch: 0\n",
      "Cross_Entropy: 0.4888088 \n",
      "Training_Loss: 0.4888088 \n",
      "\n",
      "\n"
     ]
    },
    {
     "name": "stderr",
     "output_type": "stream",
     "text": [
      "100%|██████████| 278/278 [01:55<00:00,  2.40it/s]\n"
     ]
    },
    {
     "name": "stdout",
     "output_type": "stream",
     "text": [
      "acc test:  0.5025614754098361\n",
      "Weights are saved to dataset_kfold_2/7_exp/acc_0.5_ep_12_exp/weights.ckpt\n",
      "Model's architecture is saved to dataset_kfold_2/7_exp/acc_0.5_ep_12_exp/model.json.\n"
     ]
    },
    {
     "name": "stderr",
     "output_type": "stream",
     "text": [
      "\r",
      "  0%|          | 0/278 [00:00<?, ?it/s]"
     ]
    },
    {
     "name": "stdout",
     "output_type": "stream",
     "text": [
      "ep:  13\n"
     ]
    },
    {
     "name": "stderr",
     "output_type": "stream",
     "text": [
      " 54%|█████▍    | 150/278 [01:01<00:55,  2.32it/s]"
     ]
    },
    {
     "name": "stdout",
     "output_type": "stream",
     "text": [
      "Epoch: 0\n",
      "Cross_Entropy: 0.4678429 \n",
      "Training_Loss: 0.4678429 \n",
      "\n",
      "\n"
     ]
    },
    {
     "name": "stderr",
     "output_type": "stream",
     "text": [
      "100%|██████████| 278/278 [01:50<00:00,  2.51it/s]\n"
     ]
    },
    {
     "name": "stdout",
     "output_type": "stream",
     "text": [
      "acc test:  0.4395491803278688\n",
      "Weights are saved to dataset_kfold_2/7_exp/acc_0.44_ep_13_exp/weights.ckpt\n",
      "Model's architecture is saved to dataset_kfold_2/7_exp/acc_0.44_ep_13_exp/model.json.\n"
     ]
    },
    {
     "name": "stderr",
     "output_type": "stream",
     "text": [
      "\r",
      "  0%|          | 0/278 [00:00<?, ?it/s]"
     ]
    },
    {
     "name": "stdout",
     "output_type": "stream",
     "text": [
      "ep:  14\n"
     ]
    },
    {
     "name": "stderr",
     "output_type": "stream",
     "text": [
      " 54%|█████▍    | 150/278 [01:05<01:01,  2.07it/s]"
     ]
    },
    {
     "name": "stdout",
     "output_type": "stream",
     "text": [
      "Epoch: 0\n",
      "Cross_Entropy: 0.2884583 \n",
      "Training_Loss: 0.2884583 \n",
      "\n",
      "\n"
     ]
    },
    {
     "name": "stderr",
     "output_type": "stream",
     "text": [
      "100%|██████████| 278/278 [01:57<00:00,  2.38it/s]\n"
     ]
    },
    {
     "name": "stdout",
     "output_type": "stream",
     "text": [
      "acc test:  0.6823770491803278\n",
      "Weights are saved to dataset_kfold_2/7_exp/acc_0.68_ep_14_exp/weights.ckpt\n",
      "Model's architecture is saved to dataset_kfold_2/7_exp/acc_0.68_ep_14_exp/model.json.\n"
     ]
    },
    {
     "name": "stderr",
     "output_type": "stream",
     "text": [
      "\r",
      "  0%|          | 0/278 [00:00<?, ?it/s]"
     ]
    },
    {
     "name": "stdout",
     "output_type": "stream",
     "text": [
      "ep:  15\n"
     ]
    },
    {
     "name": "stderr",
     "output_type": "stream",
     "text": [
      " 54%|█████▍    | 150/278 [01:03<00:43,  2.97it/s]"
     ]
    },
    {
     "name": "stdout",
     "output_type": "stream",
     "text": [
      "Epoch: 0\n",
      "Cross_Entropy: 0.2274446 \n",
      "Training_Loss: 0.2274446 \n",
      "\n",
      "\n"
     ]
    },
    {
     "name": "stderr",
     "output_type": "stream",
     "text": [
      "100%|██████████| 278/278 [01:56<00:00,  2.39it/s]\n"
     ]
    },
    {
     "name": "stdout",
     "output_type": "stream",
     "text": [
      "acc test:  0.6367827868852459\n",
      "Weights are saved to dataset_kfold_2/7_exp/acc_0.64_ep_15_exp/weights.ckpt\n",
      "Model's architecture is saved to dataset_kfold_2/7_exp/acc_0.64_ep_15_exp/model.json.\n"
     ]
    },
    {
     "name": "stderr",
     "output_type": "stream",
     "text": [
      "\r",
      "  0%|          | 0/278 [00:00<?, ?it/s]"
     ]
    },
    {
     "name": "stdout",
     "output_type": "stream",
     "text": [
      "ep:  16\n"
     ]
    },
    {
     "name": "stderr",
     "output_type": "stream",
     "text": [
      " 54%|█████▍    | 150/278 [00:59<00:38,  3.31it/s]"
     ]
    },
    {
     "name": "stdout",
     "output_type": "stream",
     "text": [
      "Epoch: 0\n",
      "Cross_Entropy: 0.3013961 \n",
      "Training_Loss: 0.3013961 \n",
      "\n",
      "\n"
     ]
    },
    {
     "name": "stderr",
     "output_type": "stream",
     "text": [
      "100%|██████████| 278/278 [01:50<00:00,  2.51it/s]\n"
     ]
    },
    {
     "name": "stdout",
     "output_type": "stream",
     "text": [
      "acc test:  0.10245901639344263\n",
      "Weights are saved to dataset_kfold_2/7_exp/acc_0.1_ep_16_exp/weights.ckpt\n",
      "Model's architecture is saved to dataset_kfold_2/7_exp/acc_0.1_ep_16_exp/model.json.\n"
     ]
    },
    {
     "name": "stderr",
     "output_type": "stream",
     "text": [
      "  0%|          | 1/278 [00:00<00:48,  5.70it/s]"
     ]
    },
    {
     "name": "stdout",
     "output_type": "stream",
     "text": [
      "ep:  17\n"
     ]
    },
    {
     "name": "stderr",
     "output_type": "stream",
     "text": [
      " 54%|█████▍    | 150/278 [01:01<00:56,  2.25it/s]"
     ]
    },
    {
     "name": "stdout",
     "output_type": "stream",
     "text": [
      "Epoch: 0\n",
      "Cross_Entropy: 0.9311870 \n",
      "Training_Loss: 0.9311870 \n",
      "\n",
      "\n"
     ]
    },
    {
     "name": "stderr",
     "output_type": "stream",
     "text": [
      "100%|██████████| 278/278 [01:57<00:00,  2.36it/s]\n"
     ]
    },
    {
     "name": "stdout",
     "output_type": "stream",
     "text": [
      "acc test:  0.29149590163934425\n",
      "Weights are saved to dataset_kfold_2/7_exp/acc_0.29_ep_17_exp/weights.ckpt\n",
      "Model's architecture is saved to dataset_kfold_2/7_exp/acc_0.29_ep_17_exp/model.json.\n"
     ]
    },
    {
     "name": "stderr",
     "output_type": "stream",
     "text": [
      "\r",
      "  0%|          | 0/278 [00:00<?, ?it/s]"
     ]
    },
    {
     "name": "stdout",
     "output_type": "stream",
     "text": [
      "ep:  18\n"
     ]
    },
    {
     "name": "stderr",
     "output_type": "stream",
     "text": [
      " 54%|█████▍    | 150/278 [01:03<00:44,  2.91it/s]"
     ]
    },
    {
     "name": "stdout",
     "output_type": "stream",
     "text": [
      "Epoch: 0\n",
      "Cross_Entropy: 0.5527767 \n",
      "Training_Loss: 0.5527767 \n",
      "\n",
      "\n"
     ]
    },
    {
     "name": "stderr",
     "output_type": "stream",
     "text": [
      "100%|██████████| 278/278 [01:54<00:00,  2.43it/s]\n"
     ]
    },
    {
     "name": "stdout",
     "output_type": "stream",
     "text": [
      "acc test:  0.3125\n",
      "Weights are saved to dataset_kfold_2/7_exp/acc_0.31_ep_18_exp/weights.ckpt\n",
      "Model's architecture is saved to dataset_kfold_2/7_exp/acc_0.31_ep_18_exp/model.json.\n"
     ]
    },
    {
     "name": "stderr",
     "output_type": "stream",
     "text": [
      "  0%|          | 1/278 [00:00<00:48,  5.75it/s]"
     ]
    },
    {
     "name": "stdout",
     "output_type": "stream",
     "text": [
      "ep:  19\n"
     ]
    },
    {
     "name": "stderr",
     "output_type": "stream",
     "text": [
      " 54%|█████▍    | 150/278 [01:00<00:54,  2.33it/s]"
     ]
    },
    {
     "name": "stdout",
     "output_type": "stream",
     "text": [
      "Epoch: 0\n",
      "Cross_Entropy: 0.3740931 \n",
      "Training_Loss: 0.3740931 \n",
      "\n",
      "\n"
     ]
    },
    {
     "name": "stderr",
     "output_type": "stream",
     "text": [
      "100%|██████████| 278/278 [01:56<00:00,  2.39it/s]\n"
     ]
    },
    {
     "name": "stdout",
     "output_type": "stream",
     "text": [
      "acc test:  0.20184426229508196\n",
      "Weights are saved to dataset_kfold_2/7_exp/acc_0.2_ep_19_exp/weights.ckpt\n",
      "Model's architecture is saved to dataset_kfold_2/7_exp/acc_0.2_ep_19_exp/model.json.\n"
     ]
    },
    {
     "name": "stderr",
     "output_type": "stream",
     "text": [
      "100%|██████████| 17820/17820 [00:28<00:00, 626.73it/s]\n",
      "100%|██████████| 1980/1980 [00:03<00:00, 637.23it/s]\n"
     ]
    },
    {
     "name": "stdout",
     "output_type": "stream",
     "text": [
      "train :  17820\n",
      "test:  1980\n",
      "Loss is built.\n",
      "ep:  0\n",
      "Collecting histogram tensors...\n"
     ]
    },
    {
     "name": "stderr",
     "output_type": "stream",
     "text": [
      "\r",
      "  0%|          | 0/278 [00:00<?, ?it/s]"
     ]
    },
    {
     "name": "stdout",
     "output_type": "stream",
     "text": [
      "New optimizer is used.\n"
     ]
    },
    {
     "name": "stderr",
     "output_type": "stream",
     "text": [
      " 54%|█████▍    | 150/278 [01:03<00:56,  2.27it/s]"
     ]
    },
    {
     "name": "stdout",
     "output_type": "stream",
     "text": [
      "Epoch: 0\n",
      "Cross_Entropy: 0.7423017 \n",
      "Training_Loss: 0.7423017 \n",
      "\n",
      "\n"
     ]
    },
    {
     "name": "stderr",
     "output_type": "stream",
     "text": [
      "100%|██████████| 278/278 [01:54<00:00,  2.43it/s]\n"
     ]
    },
    {
     "name": "stdout",
     "output_type": "stream",
     "text": [
      "acc test:  0.17059426229508196\n",
      "Weights are saved to dataset_kfold_2/0_exp/acc_0.17_ep_0_exp/weights.ckpt\n",
      "Model's architecture is saved to dataset_kfold_2/0_exp/acc_0.17_ep_0_exp/model.json.\n"
     ]
    },
    {
     "name": "stderr",
     "output_type": "stream",
     "text": [
      "  0%|          | 1/278 [00:00<00:48,  5.71it/s]"
     ]
    },
    {
     "name": "stdout",
     "output_type": "stream",
     "text": [
      "ep:  1\n"
     ]
    },
    {
     "name": "stderr",
     "output_type": "stream",
     "text": [
      " 54%|█████▍    | 151/278 [01:02<00:48,  2.61it/s]"
     ]
    },
    {
     "name": "stdout",
     "output_type": "stream",
     "text": [
      "Epoch: 0\n",
      "Cross_Entropy: 0.6173879 \n",
      "Training_Loss: 0.6173879 \n",
      "\n",
      "\n"
     ]
    },
    {
     "name": "stderr",
     "output_type": "stream",
     "text": [
      "100%|██████████| 278/278 [01:57<00:00,  2.37it/s]\n"
     ]
    },
    {
     "name": "stdout",
     "output_type": "stream",
     "text": [
      "acc test:  0.1526639344262295\n",
      "Weights are saved to dataset_kfold_2/0_exp/acc_0.15_ep_1_exp/weights.ckpt\n",
      "Model's architecture is saved to dataset_kfold_2/0_exp/acc_0.15_ep_1_exp/model.json.\n"
     ]
    },
    {
     "name": "stderr",
     "output_type": "stream",
     "text": [
      "\r",
      "  0%|          | 0/278 [00:00<?, ?it/s]"
     ]
    },
    {
     "name": "stdout",
     "output_type": "stream",
     "text": [
      "ep:  2\n"
     ]
    },
    {
     "name": "stderr",
     "output_type": "stream",
     "text": [
      " 54%|█████▍    | 150/278 [01:01<00:59,  2.17it/s]"
     ]
    },
    {
     "name": "stdout",
     "output_type": "stream",
     "text": [
      "Epoch: 0\n",
      "Cross_Entropy: 0.3510380 \n",
      "Training_Loss: 0.3510380 \n",
      "\n",
      "\n"
     ]
    },
    {
     "name": "stderr",
     "output_type": "stream",
     "text": [
      "100%|██████████| 278/278 [01:55<00:00,  2.41it/s]\n"
     ]
    },
    {
     "name": "stdout",
     "output_type": "stream",
     "text": [
      "acc test:  0.5604508196721312\n",
      "Weights are saved to dataset_kfold_2/0_exp/acc_0.56_ep_2_exp/weights.ckpt\n",
      "Model's architecture is saved to dataset_kfold_2/0_exp/acc_0.56_ep_2_exp/model.json.\n"
     ]
    },
    {
     "name": "stderr",
     "output_type": "stream",
     "text": [
      "\r",
      "  0%|          | 0/278 [00:00<?, ?it/s]"
     ]
    },
    {
     "name": "stdout",
     "output_type": "stream",
     "text": [
      "ep:  3\n"
     ]
    },
    {
     "name": "stderr",
     "output_type": "stream",
     "text": [
      " 54%|█████▍    | 150/278 [01:04<00:52,  2.42it/s]"
     ]
    },
    {
     "name": "stdout",
     "output_type": "stream",
     "text": [
      "Epoch: 0\n",
      "Cross_Entropy: 0.3679991 \n",
      "Training_Loss: 0.3679991 \n",
      "\n",
      "\n"
     ]
    },
    {
     "name": "stderr",
     "output_type": "stream",
     "text": [
      "100%|██████████| 278/278 [01:57<00:00,  2.36it/s]\n"
     ]
    },
    {
     "name": "stdout",
     "output_type": "stream",
     "text": [
      "acc test:  0.1987704918032787\n",
      "Weights are saved to dataset_kfold_2/0_exp/acc_0.2_ep_3_exp/weights.ckpt\n",
      "Model's architecture is saved to dataset_kfold_2/0_exp/acc_0.2_ep_3_exp/model.json.\n"
     ]
    },
    {
     "name": "stderr",
     "output_type": "stream",
     "text": [
      "\r",
      "  0%|          | 0/278 [00:00<?, ?it/s]"
     ]
    },
    {
     "name": "stdout",
     "output_type": "stream",
     "text": [
      "ep:  4\n"
     ]
    },
    {
     "name": "stderr",
     "output_type": "stream",
     "text": [
      " 54%|█████▍    | 150/278 [01:03<01:05,  1.94it/s]"
     ]
    },
    {
     "name": "stdout",
     "output_type": "stream",
     "text": [
      "Epoch: 0\n",
      "Cross_Entropy: 0.3554183 \n",
      "Training_Loss: 0.3554183 \n",
      "\n",
      "\n"
     ]
    },
    {
     "name": "stderr",
     "output_type": "stream",
     "text": [
      "100%|██████████| 278/278 [01:57<00:00,  2.37it/s]\n"
     ]
    },
    {
     "name": "stdout",
     "output_type": "stream",
     "text": [
      "acc test:  0.3099385245901639\n",
      "Weights are saved to dataset_kfold_2/0_exp/acc_0.31_ep_4_exp/weights.ckpt\n",
      "Model's architecture is saved to dataset_kfold_2/0_exp/acc_0.31_ep_4_exp/model.json.\n"
     ]
    },
    {
     "name": "stderr",
     "output_type": "stream",
     "text": [
      "\r",
      "  0%|          | 0/278 [00:00<?, ?it/s]"
     ]
    },
    {
     "name": "stdout",
     "output_type": "stream",
     "text": [
      "ep:  5\n"
     ]
    },
    {
     "name": "stderr",
     "output_type": "stream",
     "text": [
      " 54%|█████▍    | 150/278 [01:04<01:03,  2.02it/s]"
     ]
    },
    {
     "name": "stdout",
     "output_type": "stream",
     "text": [
      "Epoch: 0\n",
      "Cross_Entropy: 0.2724653 \n",
      "Training_Loss: 0.2724653 \n",
      "\n",
      "\n"
     ]
    },
    {
     "name": "stderr",
     "output_type": "stream",
     "text": [
      "100%|██████████| 278/278 [01:56<00:00,  2.40it/s]\n",
      "../utils/model_tools.py:77: RuntimeWarning: overflow encountered in exp\n",
      "  e = np.exp(A)\n",
      "../utils/model_tools.py:78: RuntimeWarning: invalid value encountered in true_divide\n",
      "  return e / np.sum(e, axis=-1, keepdims=True)\n",
      "/usr/local/lib/python3.8/dist-packages/numpy/core/fromnumeric.py:90: RuntimeWarning: overflow encountered in reduce\n",
      "  return ufunc.reduce(obj, axis, dtype, out, **passkwargs)\n"
     ]
    },
    {
     "name": "stdout",
     "output_type": "stream",
     "text": [
      "acc test:  0.1716188524590164\n",
      "Weights are saved to dataset_kfold_2/0_exp/acc_0.17_ep_5_exp/weights.ckpt\n",
      "Model's architecture is saved to dataset_kfold_2/0_exp/acc_0.17_ep_5_exp/model.json.\n"
     ]
    },
    {
     "name": "stderr",
     "output_type": "stream",
     "text": [
      "\r",
      "  0%|          | 0/278 [00:00<?, ?it/s]"
     ]
    },
    {
     "name": "stdout",
     "output_type": "stream",
     "text": [
      "ep:  6\n"
     ]
    },
    {
     "name": "stderr",
     "output_type": "stream",
     "text": [
      " 54%|█████▍    | 151/278 [01:01<00:36,  3.52it/s]"
     ]
    },
    {
     "name": "stdout",
     "output_type": "stream",
     "text": [
      "Epoch: 0\n",
      "Cross_Entropy: 0.1184919 \n",
      "Training_Loss: 0.1184919 \n",
      "\n",
      "\n"
     ]
    },
    {
     "name": "stderr",
     "output_type": "stream",
     "text": [
      "100%|██████████| 278/278 [01:53<00:00,  2.45it/s]\n"
     ]
    },
    {
     "name": "stdout",
     "output_type": "stream",
     "text": [
      "acc test:  0.26895491803278687\n",
      "Weights are saved to dataset_kfold_2/0_exp/acc_0.27_ep_6_exp/weights.ckpt\n",
      "Model's architecture is saved to dataset_kfold_2/0_exp/acc_0.27_ep_6_exp/model.json.\n"
     ]
    },
    {
     "name": "stderr",
     "output_type": "stream",
     "text": [
      "\r",
      "  0%|          | 0/278 [00:00<?, ?it/s]"
     ]
    },
    {
     "name": "stdout",
     "output_type": "stream",
     "text": [
      "ep:  7\n"
     ]
    },
    {
     "name": "stderr",
     "output_type": "stream",
     "text": [
      " 54%|█████▍    | 151/278 [01:02<00:45,  2.76it/s]"
     ]
    },
    {
     "name": "stdout",
     "output_type": "stream",
     "text": [
      "Epoch: 0\n",
      "Cross_Entropy: 0.1391642 \n",
      "Training_Loss: 0.1391642 \n",
      "\n",
      "\n"
     ]
    },
    {
     "name": "stderr",
     "output_type": "stream",
     "text": [
      "100%|██████████| 278/278 [01:56<00:00,  2.40it/s]\n"
     ]
    },
    {
     "name": "stdout",
     "output_type": "stream",
     "text": [
      "acc test:  0.19262295081967212\n",
      "Weights are saved to dataset_kfold_2/0_exp/acc_0.19_ep_7_exp/weights.ckpt\n",
      "Model's architecture is saved to dataset_kfold_2/0_exp/acc_0.19_ep_7_exp/model.json.\n"
     ]
    },
    {
     "name": "stderr",
     "output_type": "stream",
     "text": [
      "\r",
      "  0%|          | 0/278 [00:00<?, ?it/s]"
     ]
    },
    {
     "name": "stdout",
     "output_type": "stream",
     "text": [
      "ep:  8\n"
     ]
    },
    {
     "name": "stderr",
     "output_type": "stream",
     "text": [
      " 54%|█████▍    | 150/278 [01:03<00:45,  2.79it/s]"
     ]
    },
    {
     "name": "stdout",
     "output_type": "stream",
     "text": [
      "Epoch: 0\n",
      "Cross_Entropy: 0.1519657 \n",
      "Training_Loss: 0.1519657 \n",
      "\n",
      "\n"
     ]
    },
    {
     "name": "stderr",
     "output_type": "stream",
     "text": [
      "100%|██████████| 278/278 [01:57<00:00,  2.37it/s]\n"
     ]
    },
    {
     "name": "stdout",
     "output_type": "stream",
     "text": [
      "acc test:  0.2781762295081967\n",
      "Weights are saved to dataset_kfold_2/0_exp/acc_0.28_ep_8_exp/weights.ckpt\n",
      "Model's architecture is saved to dataset_kfold_2/0_exp/acc_0.28_ep_8_exp/model.json.\n"
     ]
    },
    {
     "name": "stderr",
     "output_type": "stream",
     "text": [
      "\r",
      "  0%|          | 0/278 [00:00<?, ?it/s]"
     ]
    },
    {
     "name": "stdout",
     "output_type": "stream",
     "text": [
      "ep:  9\n"
     ]
    },
    {
     "name": "stderr",
     "output_type": "stream",
     "text": [
      " 54%|█████▍    | 150/278 [01:03<00:59,  2.14it/s]"
     ]
    },
    {
     "name": "stdout",
     "output_type": "stream",
     "text": [
      "Epoch: 0\n",
      "Cross_Entropy: 0.0722624 \n",
      "Training_Loss: 0.0722624 \n",
      "\n",
      "\n"
     ]
    },
    {
     "name": "stderr",
     "output_type": "stream",
     "text": [
      "100%|██████████| 278/278 [01:56<00:00,  2.38it/s]\n"
     ]
    },
    {
     "name": "stdout",
     "output_type": "stream",
     "text": [
      "acc test:  0.44415983606557374\n",
      "Weights are saved to dataset_kfold_2/0_exp/acc_0.44_ep_9_exp/weights.ckpt\n",
      "Model's architecture is saved to dataset_kfold_2/0_exp/acc_0.44_ep_9_exp/model.json.\n"
     ]
    },
    {
     "name": "stderr",
     "output_type": "stream",
     "text": [
      "\r",
      "  0%|          | 0/278 [00:00<?, ?it/s]"
     ]
    },
    {
     "name": "stdout",
     "output_type": "stream",
     "text": [
      "ep:  10\n"
     ]
    },
    {
     "name": "stderr",
     "output_type": "stream",
     "text": [
      " 54%|█████▍    | 150/278 [01:00<00:38,  3.28it/s]"
     ]
    },
    {
     "name": "stdout",
     "output_type": "stream",
     "text": [
      "Epoch: 0\n",
      "Cross_Entropy: 0.0731286 \n",
      "Training_Loss: 0.0731286 \n",
      "\n",
      "\n"
     ]
    },
    {
     "name": "stderr",
     "output_type": "stream",
     "text": [
      "100%|██████████| 278/278 [01:53<00:00,  2.46it/s]\n"
     ]
    },
    {
     "name": "stdout",
     "output_type": "stream",
     "text": [
      "acc test:  0.15420081967213115\n",
      "Weights are saved to dataset_kfold_2/0_exp/acc_0.15_ep_10_exp/weights.ckpt\n",
      "Model's architecture is saved to dataset_kfold_2/0_exp/acc_0.15_ep_10_exp/model.json.\n"
     ]
    },
    {
     "name": "stderr",
     "output_type": "stream",
     "text": [
      "\r",
      "  0%|          | 0/278 [00:00<?, ?it/s]"
     ]
    },
    {
     "name": "stdout",
     "output_type": "stream",
     "text": [
      "ep:  11\n"
     ]
    },
    {
     "name": "stderr",
     "output_type": "stream",
     "text": [
      " 54%|█████▍    | 150/278 [01:03<00:33,  3.82it/s]"
     ]
    },
    {
     "name": "stdout",
     "output_type": "stream",
     "text": [
      "Epoch: 0\n",
      "Cross_Entropy: 0.0355363 \n",
      "Training_Loss: 0.0355363 \n",
      "\n",
      "\n"
     ]
    },
    {
     "name": "stderr",
     "output_type": "stream",
     "text": [
      "100%|██████████| 278/278 [01:54<00:00,  2.42it/s]\n"
     ]
    },
    {
     "name": "stdout",
     "output_type": "stream",
     "text": [
      "acc test:  0.20184426229508196\n",
      "Weights are saved to dataset_kfold_2/0_exp/acc_0.2_ep_11_exp/weights.ckpt\n",
      "Model's architecture is saved to dataset_kfold_2/0_exp/acc_0.2_ep_11_exp/model.json.\n"
     ]
    },
    {
     "name": "stderr",
     "output_type": "stream",
     "text": [
      "\r",
      "  0%|          | 0/278 [00:00<?, ?it/s]"
     ]
    },
    {
     "name": "stdout",
     "output_type": "stream",
     "text": [
      "ep:  12\n"
     ]
    },
    {
     "name": "stderr",
     "output_type": "stream",
     "text": [
      " 54%|█████▍    | 151/278 [01:03<00:40,  3.15it/s]"
     ]
    },
    {
     "name": "stdout",
     "output_type": "stream",
     "text": [
      "Epoch: 0\n",
      "Cross_Entropy: 0.0735605 \n",
      "Training_Loss: 0.0735605 \n",
      "\n",
      "\n"
     ]
    },
    {
     "name": "stderr",
     "output_type": "stream",
     "text": [
      "100%|██████████| 278/278 [01:56<00:00,  2.39it/s]\n"
     ]
    },
    {
     "name": "stdout",
     "output_type": "stream",
     "text": [
      "acc test:  0.12346311475409837\n",
      "Weights are saved to dataset_kfold_2/0_exp/acc_0.12_ep_12_exp/weights.ckpt\n",
      "Model's architecture is saved to dataset_kfold_2/0_exp/acc_0.12_ep_12_exp/model.json.\n"
     ]
    },
    {
     "name": "stderr",
     "output_type": "stream",
     "text": [
      "\r",
      "  0%|          | 0/278 [00:00<?, ?it/s]"
     ]
    },
    {
     "name": "stdout",
     "output_type": "stream",
     "text": [
      "ep:  13\n"
     ]
    },
    {
     "name": "stderr",
     "output_type": "stream",
     "text": [
      " 54%|█████▍    | 151/278 [01:02<00:44,  2.83it/s]"
     ]
    },
    {
     "name": "stdout",
     "output_type": "stream",
     "text": [
      "Epoch: 0\n",
      "Cross_Entropy: 0.0229835 \n",
      "Training_Loss: 0.0229835 \n",
      "\n",
      "\n"
     ]
    },
    {
     "name": "stderr",
     "output_type": "stream",
     "text": [
      "100%|██████████| 278/278 [01:58<00:00,  2.34it/s]\n"
     ]
    },
    {
     "name": "stdout",
     "output_type": "stream",
     "text": [
      "acc test:  0.22848360655737704\n",
      "Weights are saved to dataset_kfold_2/0_exp/acc_0.23_ep_13_exp/weights.ckpt\n",
      "Model's architecture is saved to dataset_kfold_2/0_exp/acc_0.23_ep_13_exp/model.json.\n"
     ]
    },
    {
     "name": "stderr",
     "output_type": "stream",
     "text": [
      "\r",
      "  0%|          | 0/278 [00:00<?, ?it/s]"
     ]
    },
    {
     "name": "stdout",
     "output_type": "stream",
     "text": [
      "ep:  14\n"
     ]
    },
    {
     "name": "stderr",
     "output_type": "stream",
     "text": [
      " 54%|█████▍    | 151/278 [01:03<00:50,  2.50it/s]"
     ]
    },
    {
     "name": "stdout",
     "output_type": "stream",
     "text": [
      "Epoch: 0\n",
      "Cross_Entropy: 0.0295865 \n",
      "Training_Loss: 0.0295865 \n",
      "\n",
      "\n"
     ]
    },
    {
     "name": "stderr",
     "output_type": "stream",
     "text": [
      "100%|██████████| 278/278 [01:57<00:00,  2.37it/s]\n"
     ]
    },
    {
     "name": "stdout",
     "output_type": "stream",
     "text": [
      "acc test:  0.3360655737704918\n",
      "Weights are saved to dataset_kfold_2/0_exp/acc_0.34_ep_14_exp/weights.ckpt\n",
      "Model's architecture is saved to dataset_kfold_2/0_exp/acc_0.34_ep_14_exp/model.json.\n"
     ]
    },
    {
     "name": "stderr",
     "output_type": "stream",
     "text": [
      "\r",
      "  0%|          | 0/278 [00:00<?, ?it/s]"
     ]
    },
    {
     "name": "stdout",
     "output_type": "stream",
     "text": [
      "ep:  15\n"
     ]
    },
    {
     "name": "stderr",
     "output_type": "stream",
     "text": [
      " 54%|█████▍    | 151/278 [01:02<00:44,  2.84it/s]"
     ]
    },
    {
     "name": "stdout",
     "output_type": "stream",
     "text": [
      "Epoch: 0\n",
      "Cross_Entropy: 2.3283527 \n",
      "Training_Loss: 2.3283527 \n",
      "\n",
      "\n"
     ]
    },
    {
     "name": "stderr",
     "output_type": "stream",
     "text": [
      "100%|██████████| 278/278 [01:51<00:00,  2.50it/s]\n"
     ]
    },
    {
     "name": "stdout",
     "output_type": "stream",
     "text": [
      "acc test:  0.5927254098360656\n",
      "Weights are saved to dataset_kfold_2/0_exp/acc_0.59_ep_15_exp/weights.ckpt\n",
      "Model's architecture is saved to dataset_kfold_2/0_exp/acc_0.59_ep_15_exp/model.json.\n"
     ]
    },
    {
     "name": "stderr",
     "output_type": "stream",
     "text": [
      "\r",
      "  0%|          | 0/278 [00:00<?, ?it/s]"
     ]
    },
    {
     "name": "stdout",
     "output_type": "stream",
     "text": [
      "ep:  16\n"
     ]
    },
    {
     "name": "stderr",
     "output_type": "stream",
     "text": [
      " 54%|█████▍    | 150/278 [01:05<01:02,  2.03it/s]"
     ]
    },
    {
     "name": "stdout",
     "output_type": "stream",
     "text": [
      "Epoch: 0\n",
      "Cross_Entropy: 0.4901092 \n",
      "Training_Loss: 0.4901092 \n",
      "\n",
      "\n"
     ]
    },
    {
     "name": "stderr",
     "output_type": "stream",
     "text": [
      "100%|██████████| 278/278 [01:56<00:00,  2.38it/s]\n"
     ]
    },
    {
     "name": "stdout",
     "output_type": "stream",
     "text": [
      "acc test:  0.7346311475409836\n",
      "Weights are saved to dataset_kfold_2/0_exp/acc_0.73_ep_16_exp/weights.ckpt\n",
      "Model's architecture is saved to dataset_kfold_2/0_exp/acc_0.73_ep_16_exp/model.json.\n"
     ]
    },
    {
     "name": "stderr",
     "output_type": "stream",
     "text": [
      "  0%|          | 1/278 [00:00<00:47,  5.81it/s]"
     ]
    },
    {
     "name": "stdout",
     "output_type": "stream",
     "text": [
      "ep:  17\n"
     ]
    },
    {
     "name": "stderr",
     "output_type": "stream",
     "text": [
      " 54%|█████▍    | 150/278 [00:58<01:05,  1.94it/s]"
     ]
    },
    {
     "name": "stdout",
     "output_type": "stream",
     "text": [
      "Epoch: 0\n",
      "Cross_Entropy: 0.2445892 \n",
      "Training_Loss: 0.2445892 \n",
      "\n",
      "\n"
     ]
    },
    {
     "name": "stderr",
     "output_type": "stream",
     "text": [
      "100%|██████████| 278/278 [01:53<00:00,  2.44it/s]\n"
     ]
    },
    {
     "name": "stdout",
     "output_type": "stream",
     "text": [
      "acc test:  0.10655737704918032\n",
      "Weights are saved to dataset_kfold_2/0_exp/acc_0.11_ep_17_exp/weights.ckpt\n",
      "Model's architecture is saved to dataset_kfold_2/0_exp/acc_0.11_ep_17_exp/model.json.\n"
     ]
    },
    {
     "name": "stderr",
     "output_type": "stream",
     "text": [
      "  0%|          | 1/278 [00:00<00:49,  5.59it/s]"
     ]
    },
    {
     "name": "stdout",
     "output_type": "stream",
     "text": [
      "ep:  18\n"
     ]
    },
    {
     "name": "stderr",
     "output_type": "stream",
     "text": [
      " 54%|█████▍    | 150/278 [00:57<00:44,  2.86it/s]"
     ]
    },
    {
     "name": "stdout",
     "output_type": "stream",
     "text": [
      "Epoch: 0\n",
      "Cross_Entropy: 0.3846832 \n",
      "Training_Loss: 0.3846832 \n",
      "\n",
      "\n"
     ]
    },
    {
     "name": "stderr",
     "output_type": "stream",
     "text": [
      "100%|██████████| 278/278 [01:52<00:00,  2.48it/s]\n"
     ]
    },
    {
     "name": "stdout",
     "output_type": "stream",
     "text": [
      "acc test:  0.29815573770491804\n",
      "Weights are saved to dataset_kfold_2/0_exp/acc_0.3_ep_18_exp/weights.ckpt\n",
      "Model's architecture is saved to dataset_kfold_2/0_exp/acc_0.3_ep_18_exp/model.json.\n"
     ]
    },
    {
     "name": "stderr",
     "output_type": "stream",
     "text": [
      "\r",
      "  0%|          | 0/278 [00:00<?, ?it/s]"
     ]
    },
    {
     "name": "stdout",
     "output_type": "stream",
     "text": [
      "ep:  19\n"
     ]
    },
    {
     "name": "stderr",
     "output_type": "stream",
     "text": [
      " 54%|█████▍    | 150/278 [00:56<00:40,  3.16it/s]"
     ]
    },
    {
     "name": "stdout",
     "output_type": "stream",
     "text": [
      "Epoch: 0\n",
      "Cross_Entropy: 0.2303852 \n",
      "Training_Loss: 0.2303852 \n",
      "\n",
      "\n"
     ]
    },
    {
     "name": "stderr",
     "output_type": "stream",
     "text": [
      "100%|██████████| 278/278 [01:48<00:00,  2.55it/s]\n"
     ]
    },
    {
     "name": "stdout",
     "output_type": "stream",
     "text": [
      "acc test:  0.7438524590163934\n",
      "Weights are saved to dataset_kfold_2/0_exp/acc_0.74_ep_19_exp/weights.ckpt\n",
      "Model's architecture is saved to dataset_kfold_2/0_exp/acc_0.74_ep_19_exp/model.json.\n"
     ]
    },
    {
     "name": "stderr",
     "output_type": "stream",
     "text": [
      "100%|██████████| 17820/17820 [00:27<00:00, 639.85it/s]\n",
      "100%|██████████| 1980/1980 [00:02<00:00, 678.01it/s]\n"
     ]
    },
    {
     "name": "stdout",
     "output_type": "stream",
     "text": [
      "train :  17820\n",
      "test:  1980\n",
      "Loss is built.\n",
      "ep:  0\n",
      "Collecting histogram tensors...\n"
     ]
    },
    {
     "name": "stderr",
     "output_type": "stream",
     "text": [
      "\r",
      "  0%|          | 0/278 [00:00<?, ?it/s]"
     ]
    },
    {
     "name": "stdout",
     "output_type": "stream",
     "text": [
      "New optimizer is used.\n"
     ]
    },
    {
     "name": "stderr",
     "output_type": "stream",
     "text": [
      " 54%|█████▍    | 150/278 [01:02<00:53,  2.40it/s]"
     ]
    },
    {
     "name": "stdout",
     "output_type": "stream",
     "text": [
      "Epoch: 0\n",
      "Cross_Entropy: 0.8607613 \n",
      "Training_Loss: 0.8607613 \n",
      "\n",
      "\n"
     ]
    },
    {
     "name": "stderr",
     "output_type": "stream",
     "text": [
      "100%|██████████| 278/278 [01:57<00:00,  2.37it/s]\n"
     ]
    },
    {
     "name": "stdout",
     "output_type": "stream",
     "text": [
      "acc test:  0.3242827868852459\n",
      "Weights are saved to dataset_kfold_2/2_exp/acc_0.32_ep_0_exp/weights.ckpt\n",
      "Model's architecture is saved to dataset_kfold_2/2_exp/acc_0.32_ep_0_exp/model.json.\n"
     ]
    },
    {
     "name": "stderr",
     "output_type": "stream",
     "text": [
      "\r",
      "  0%|          | 0/278 [00:00<?, ?it/s]"
     ]
    },
    {
     "name": "stdout",
     "output_type": "stream",
     "text": [
      "ep:  1\n"
     ]
    },
    {
     "name": "stderr",
     "output_type": "stream",
     "text": [
      " 54%|█████▍    | 151/278 [01:03<00:41,  3.08it/s]"
     ]
    },
    {
     "name": "stdout",
     "output_type": "stream",
     "text": [
      "Epoch: 0\n",
      "Cross_Entropy: 0.6103971 \n",
      "Training_Loss: 0.6103971 \n",
      "\n",
      "\n"
     ]
    },
    {
     "name": "stderr",
     "output_type": "stream",
     "text": [
      "100%|██████████| 278/278 [01:54<00:00,  2.42it/s]\n"
     ]
    },
    {
     "name": "stdout",
     "output_type": "stream",
     "text": [
      "acc test:  0.5809426229508197\n",
      "Weights are saved to dataset_kfold_2/2_exp/acc_0.58_ep_1_exp/weights.ckpt\n",
      "Model's architecture is saved to dataset_kfold_2/2_exp/acc_0.58_ep_1_exp/model.json.\n"
     ]
    },
    {
     "name": "stderr",
     "output_type": "stream",
     "text": [
      "  0%|          | 1/278 [00:00<00:50,  5.46it/s]"
     ]
    },
    {
     "name": "stdout",
     "output_type": "stream",
     "text": [
      "ep:  2\n"
     ]
    },
    {
     "name": "stderr",
     "output_type": "stream",
     "text": [
      " 54%|█████▍    | 150/278 [01:03<00:59,  2.15it/s]"
     ]
    },
    {
     "name": "stdout",
     "output_type": "stream",
     "text": [
      "Epoch: 0\n",
      "Cross_Entropy: 0.5347287 \n",
      "Training_Loss: 0.5347287 \n",
      "\n",
      "\n"
     ]
    },
    {
     "name": "stderr",
     "output_type": "stream",
     "text": [
      "100%|██████████| 278/278 [01:57<00:00,  2.37it/s]\n"
     ]
    },
    {
     "name": "stdout",
     "output_type": "stream",
     "text": [
      "acc test:  0.3130122950819672\n",
      "Weights are saved to dataset_kfold_2/2_exp/acc_0.31_ep_2_exp/weights.ckpt\n",
      "Model's architecture is saved to dataset_kfold_2/2_exp/acc_0.31_ep_2_exp/model.json.\n"
     ]
    },
    {
     "name": "stderr",
     "output_type": "stream",
     "text": [
      "  0%|          | 1/278 [00:00<00:48,  5.66it/s]"
     ]
    },
    {
     "name": "stdout",
     "output_type": "stream",
     "text": [
      "ep:  3\n"
     ]
    },
    {
     "name": "stderr",
     "output_type": "stream",
     "text": [
      " 54%|█████▍    | 150/278 [01:02<00:39,  3.25it/s]"
     ]
    },
    {
     "name": "stdout",
     "output_type": "stream",
     "text": [
      "Epoch: 0\n",
      "Cross_Entropy: 0.4027759 \n",
      "Training_Loss: 0.4027759 \n",
      "\n",
      "\n"
     ]
    },
    {
     "name": "stderr",
     "output_type": "stream",
     "text": [
      "100%|██████████| 278/278 [01:50<00:00,  2.50it/s]\n"
     ]
    },
    {
     "name": "stdout",
     "output_type": "stream",
     "text": [
      "acc test:  0.5215163934426229\n",
      "Weights are saved to dataset_kfold_2/2_exp/acc_0.52_ep_3_exp/weights.ckpt\n",
      "Model's architecture is saved to dataset_kfold_2/2_exp/acc_0.52_ep_3_exp/model.json.\n"
     ]
    },
    {
     "name": "stderr",
     "output_type": "stream",
     "text": [
      "\r",
      "  0%|          | 0/278 [00:00<?, ?it/s]"
     ]
    },
    {
     "name": "stdout",
     "output_type": "stream",
     "text": [
      "ep:  4\n"
     ]
    },
    {
     "name": "stderr",
     "output_type": "stream",
     "text": [
      " 54%|█████▍    | 150/278 [00:57<00:50,  2.51it/s]"
     ]
    },
    {
     "name": "stdout",
     "output_type": "stream",
     "text": [
      "Epoch: 0\n",
      "Cross_Entropy: 0.3375199 \n",
      "Training_Loss: 0.3375199 \n",
      "\n",
      "\n"
     ]
    },
    {
     "name": "stderr",
     "output_type": "stream",
     "text": [
      "100%|██████████| 278/278 [01:48<00:00,  2.57it/s]\n"
     ]
    },
    {
     "name": "stdout",
     "output_type": "stream",
     "text": [
      "acc test:  0.6997950819672131\n",
      "Weights are saved to dataset_kfold_2/2_exp/acc_0.7_ep_4_exp/weights.ckpt\n",
      "Model's architecture is saved to dataset_kfold_2/2_exp/acc_0.7_ep_4_exp/model.json.\n"
     ]
    },
    {
     "name": "stderr",
     "output_type": "stream",
     "text": [
      "\r",
      "  0%|          | 0/278 [00:00<?, ?it/s]"
     ]
    },
    {
     "name": "stdout",
     "output_type": "stream",
     "text": [
      "ep:  5\n"
     ]
    },
    {
     "name": "stderr",
     "output_type": "stream",
     "text": [
      " 54%|█████▍    | 151/278 [01:05<00:42,  2.96it/s]"
     ]
    },
    {
     "name": "stdout",
     "output_type": "stream",
     "text": [
      "Epoch: 0\n",
      "Cross_Entropy: 0.1486403 \n",
      "Training_Loss: 0.1486403 \n",
      "\n",
      "\n"
     ]
    },
    {
     "name": "stderr",
     "output_type": "stream",
     "text": [
      "100%|██████████| 278/278 [01:56<00:00,  2.39it/s]\n",
      "../utils/model_tools.py:77: RuntimeWarning: overflow encountered in exp\n",
      "  e = np.exp(A)\n",
      "../utils/model_tools.py:78: RuntimeWarning: invalid value encountered in true_divide\n",
      "  return e / np.sum(e, axis=-1, keepdims=True)\n"
     ]
    },
    {
     "name": "stdout",
     "output_type": "stream",
     "text": [
      "acc test:  0.24282786885245902\n",
      "Weights are saved to dataset_kfold_2/2_exp/acc_0.24_ep_5_exp/weights.ckpt\n",
      "Model's architecture is saved to dataset_kfold_2/2_exp/acc_0.24_ep_5_exp/model.json.\n"
     ]
    },
    {
     "name": "stderr",
     "output_type": "stream",
     "text": [
      "  0%|          | 1/278 [00:00<00:51,  5.37it/s]"
     ]
    },
    {
     "name": "stdout",
     "output_type": "stream",
     "text": [
      "ep:  6\n"
     ]
    },
    {
     "name": "stderr",
     "output_type": "stream",
     "text": [
      " 54%|█████▍    | 150/278 [00:58<00:49,  2.57it/s]"
     ]
    },
    {
     "name": "stdout",
     "output_type": "stream",
     "text": [
      "Epoch: 0\n",
      "Cross_Entropy: 0.1710934 \n",
      "Training_Loss: 0.1710934 \n",
      "\n",
      "\n"
     ]
    },
    {
     "name": "stderr",
     "output_type": "stream",
     "text": [
      "100%|██████████| 278/278 [01:52<00:00,  2.48it/s]\n"
     ]
    },
    {
     "name": "stdout",
     "output_type": "stream",
     "text": [
      "acc test:  0.19672131147540983\n",
      "Weights are saved to dataset_kfold_2/2_exp/acc_0.2_ep_6_exp/weights.ckpt\n",
      "Model's architecture is saved to dataset_kfold_2/2_exp/acc_0.2_ep_6_exp/model.json.\n"
     ]
    },
    {
     "name": "stderr",
     "output_type": "stream",
     "text": [
      "  0%|          | 1/278 [00:00<00:50,  5.51it/s]"
     ]
    },
    {
     "name": "stdout",
     "output_type": "stream",
     "text": [
      "ep:  7\n"
     ]
    },
    {
     "name": "stderr",
     "output_type": "stream",
     "text": [
      " 54%|█████▍    | 151/278 [01:02<00:45,  2.77it/s]"
     ]
    },
    {
     "name": "stdout",
     "output_type": "stream",
     "text": [
      "Epoch: 0\n",
      "Cross_Entropy: 0.1083808 \n",
      "Training_Loss: 0.1083808 \n",
      "\n",
      "\n"
     ]
    },
    {
     "name": "stderr",
     "output_type": "stream",
     "text": [
      "100%|██████████| 278/278 [01:55<00:00,  2.40it/s]\n"
     ]
    },
    {
     "name": "stdout",
     "output_type": "stream",
     "text": [
      "acc test:  0.2797131147540984\n",
      "Weights are saved to dataset_kfold_2/2_exp/acc_0.28_ep_7_exp/weights.ckpt\n",
      "Model's architecture is saved to dataset_kfold_2/2_exp/acc_0.28_ep_7_exp/model.json.\n"
     ]
    },
    {
     "name": "stderr",
     "output_type": "stream",
     "text": [
      "\r",
      "  0%|          | 0/278 [00:00<?, ?it/s]"
     ]
    },
    {
     "name": "stdout",
     "output_type": "stream",
     "text": [
      "ep:  8\n"
     ]
    },
    {
     "name": "stderr",
     "output_type": "stream",
     "text": [
      " 54%|█████▍    | 151/278 [01:01<00:47,  2.66it/s]"
     ]
    },
    {
     "name": "stdout",
     "output_type": "stream",
     "text": [
      "Epoch: 0\n",
      "Cross_Entropy: 0.0503724 \n",
      "Training_Loss: 0.0503724 \n",
      "\n",
      "\n"
     ]
    },
    {
     "name": "stderr",
     "output_type": "stream",
     "text": [
      "100%|██████████| 278/278 [01:53<00:00,  2.46it/s]\n"
     ]
    },
    {
     "name": "stdout",
     "output_type": "stream",
     "text": [
      "acc test:  0.32786885245901637\n",
      "Weights are saved to dataset_kfold_2/2_exp/acc_0.33_ep_8_exp/weights.ckpt\n",
      "Model's architecture is saved to dataset_kfold_2/2_exp/acc_0.33_ep_8_exp/model.json.\n"
     ]
    },
    {
     "name": "stderr",
     "output_type": "stream",
     "text": [
      "\r",
      "  0%|          | 0/278 [00:00<?, ?it/s]"
     ]
    },
    {
     "name": "stdout",
     "output_type": "stream",
     "text": [
      "ep:  9\n"
     ]
    },
    {
     "name": "stderr",
     "output_type": "stream",
     "text": [
      " 54%|█████▍    | 151/278 [01:05<00:47,  2.65it/s]"
     ]
    },
    {
     "name": "stdout",
     "output_type": "stream",
     "text": [
      "Epoch: 0\n",
      "Cross_Entropy: 0.1201977 \n",
      "Training_Loss: 0.1201977 \n",
      "\n",
      "\n"
     ]
    },
    {
     "name": "stderr",
     "output_type": "stream",
     "text": [
      "100%|██████████| 278/278 [01:57<00:00,  2.37it/s]\n"
     ]
    },
    {
     "name": "stdout",
     "output_type": "stream",
     "text": [
      "acc test:  0.2510245901639344\n",
      "Weights are saved to dataset_kfold_2/2_exp/acc_0.25_ep_9_exp/weights.ckpt\n",
      "Model's architecture is saved to dataset_kfold_2/2_exp/acc_0.25_ep_9_exp/model.json.\n"
     ]
    },
    {
     "name": "stderr",
     "output_type": "stream",
     "text": [
      "\r",
      "  0%|          | 0/278 [00:00<?, ?it/s]"
     ]
    },
    {
     "name": "stdout",
     "output_type": "stream",
     "text": [
      "ep:  10\n"
     ]
    },
    {
     "name": "stderr",
     "output_type": "stream",
     "text": [
      " 54%|█████▍    | 150/278 [01:04<01:09,  1.85it/s]"
     ]
    },
    {
     "name": "stdout",
     "output_type": "stream",
     "text": [
      "Epoch: 0\n",
      "Cross_Entropy: 0.0806836 \n",
      "Training_Loss: 0.0806836 \n",
      "\n",
      "\n"
     ]
    },
    {
     "name": "stderr",
     "output_type": "stream",
     "text": [
      "100%|██████████| 278/278 [01:56<00:00,  2.38it/s]\n"
     ]
    },
    {
     "name": "stdout",
     "output_type": "stream",
     "text": [
      "acc test:  0.26280737704918034\n",
      "Weights are saved to dataset_kfold_2/2_exp/acc_0.26_ep_10_exp/weights.ckpt\n",
      "Model's architecture is saved to dataset_kfold_2/2_exp/acc_0.26_ep_10_exp/model.json.\n"
     ]
    },
    {
     "name": "stderr",
     "output_type": "stream",
     "text": [
      "\r",
      "  0%|          | 0/278 [00:00<?, ?it/s]"
     ]
    },
    {
     "name": "stdout",
     "output_type": "stream",
     "text": [
      "ep:  11\n"
     ]
    },
    {
     "name": "stderr",
     "output_type": "stream",
     "text": [
      " 54%|█████▍    | 150/278 [01:03<00:45,  2.80it/s]"
     ]
    },
    {
     "name": "stdout",
     "output_type": "stream",
     "text": [
      "Epoch: 0\n",
      "Cross_Entropy: 0.1140054 \n",
      "Training_Loss: 0.1140054 \n",
      "\n",
      "\n"
     ]
    },
    {
     "name": "stderr",
     "output_type": "stream",
     "text": [
      "100%|██████████| 278/278 [01:56<00:00,  2.39it/s]\n"
     ]
    },
    {
     "name": "stdout",
     "output_type": "stream",
     "text": [
      "acc test:  0.7079918032786885\n",
      "Weights are saved to dataset_kfold_2/2_exp/acc_0.71_ep_11_exp/weights.ckpt\n",
      "Model's architecture is saved to dataset_kfold_2/2_exp/acc_0.71_ep_11_exp/model.json.\n"
     ]
    },
    {
     "name": "stderr",
     "output_type": "stream",
     "text": [
      "\r",
      "  0%|          | 0/278 [00:00<?, ?it/s]"
     ]
    },
    {
     "name": "stdout",
     "output_type": "stream",
     "text": [
      "ep:  12\n"
     ]
    },
    {
     "name": "stderr",
     "output_type": "stream",
     "text": [
      " 54%|█████▍    | 150/278 [01:00<00:46,  2.72it/s]"
     ]
    },
    {
     "name": "stdout",
     "output_type": "stream",
     "text": [
      "Epoch: 0\n",
      "Cross_Entropy: 0.1158557 \n",
      "Training_Loss: 0.1158557 \n",
      "\n",
      "\n"
     ]
    },
    {
     "name": "stderr",
     "output_type": "stream",
     "text": [
      "100%|██████████| 278/278 [01:54<00:00,  2.42it/s]\n"
     ]
    },
    {
     "name": "stdout",
     "output_type": "stream",
     "text": [
      "acc test:  0.19313524590163936\n",
      "Weights are saved to dataset_kfold_2/2_exp/acc_0.19_ep_12_exp/weights.ckpt\n",
      "Model's architecture is saved to dataset_kfold_2/2_exp/acc_0.19_ep_12_exp/model.json.\n"
     ]
    },
    {
     "name": "stderr",
     "output_type": "stream",
     "text": [
      "\r",
      "  0%|          | 0/278 [00:00<?, ?it/s]"
     ]
    },
    {
     "name": "stdout",
     "output_type": "stream",
     "text": [
      "ep:  13\n"
     ]
    },
    {
     "name": "stderr",
     "output_type": "stream",
     "text": [
      " 54%|█████▍    | 151/278 [01:02<00:58,  2.19it/s]"
     ]
    },
    {
     "name": "stdout",
     "output_type": "stream",
     "text": [
      "Epoch: 0\n",
      "Cross_Entropy: 0.0404427 \n",
      "Training_Loss: 0.0404427 \n",
      "\n",
      "\n"
     ]
    },
    {
     "name": "stderr",
     "output_type": "stream",
     "text": [
      "100%|██████████| 278/278 [01:57<00:00,  2.36it/s]\n"
     ]
    },
    {
     "name": "stdout",
     "output_type": "stream",
     "text": [
      "acc test:  0.3165983606557377\n",
      "Weights are saved to dataset_kfold_2/2_exp/acc_0.32_ep_13_exp/weights.ckpt\n",
      "Model's architecture is saved to dataset_kfold_2/2_exp/acc_0.32_ep_13_exp/model.json.\n"
     ]
    },
    {
     "name": "stderr",
     "output_type": "stream",
     "text": [
      "\r",
      "  0%|          | 0/278 [00:00<?, ?it/s]"
     ]
    },
    {
     "name": "stdout",
     "output_type": "stream",
     "text": [
      "ep:  14\n"
     ]
    },
    {
     "name": "stderr",
     "output_type": "stream",
     "text": [
      " 54%|█████▍    | 150/278 [01:02<00:49,  2.60it/s]"
     ]
    },
    {
     "name": "stdout",
     "output_type": "stream",
     "text": [
      "Epoch: 0\n",
      "Cross_Entropy: 0.0437293 \n",
      "Training_Loss: 0.0437293 \n",
      "\n",
      "\n"
     ]
    },
    {
     "name": "stderr",
     "output_type": "stream",
     "text": [
      "100%|██████████| 278/278 [01:49<00:00,  2.55it/s]\n"
     ]
    },
    {
     "name": "stdout",
     "output_type": "stream",
     "text": [
      "acc test:  0.3632172131147541\n",
      "Weights are saved to dataset_kfold_2/2_exp/acc_0.36_ep_14_exp/weights.ckpt\n",
      "Model's architecture is saved to dataset_kfold_2/2_exp/acc_0.36_ep_14_exp/model.json.\n"
     ]
    },
    {
     "name": "stderr",
     "output_type": "stream",
     "text": [
      "  0%|          | 1/278 [00:00<00:48,  5.67it/s]"
     ]
    },
    {
     "name": "stdout",
     "output_type": "stream",
     "text": [
      "ep:  15\n"
     ]
    },
    {
     "name": "stderr",
     "output_type": "stream",
     "text": [
      " 54%|█████▍    | 150/278 [01:02<00:51,  2.47it/s]"
     ]
    },
    {
     "name": "stdout",
     "output_type": "stream",
     "text": [
      "Epoch: 0\n",
      "Cross_Entropy: 1.5567728 \n",
      "Training_Loss: 1.5567728 \n",
      "\n",
      "\n"
     ]
    },
    {
     "name": "stderr",
     "output_type": "stream",
     "text": [
      "100%|██████████| 278/278 [01:55<00:00,  2.40it/s]\n"
     ]
    },
    {
     "name": "stdout",
     "output_type": "stream",
     "text": [
      "acc test:  0.4093237704918033\n",
      "Weights are saved to dataset_kfold_2/2_exp/acc_0.41_ep_15_exp/weights.ckpt\n",
      "Model's architecture is saved to dataset_kfold_2/2_exp/acc_0.41_ep_15_exp/model.json.\n"
     ]
    },
    {
     "name": "stderr",
     "output_type": "stream",
     "text": [
      "\r",
      "  0%|          | 0/278 [00:00<?, ?it/s]"
     ]
    },
    {
     "name": "stdout",
     "output_type": "stream",
     "text": [
      "ep:  16\n"
     ]
    },
    {
     "name": "stderr",
     "output_type": "stream",
     "text": [
      " 54%|█████▍    | 151/278 [01:02<00:38,  3.28it/s]"
     ]
    },
    {
     "name": "stdout",
     "output_type": "stream",
     "text": [
      "Epoch: 0\n",
      "Cross_Entropy: 0.5240356 \n",
      "Training_Loss: 0.5240356 \n",
      "\n",
      "\n"
     ]
    },
    {
     "name": "stderr",
     "output_type": "stream",
     "text": [
      "100%|██████████| 278/278 [01:53<00:00,  2.44it/s]\n"
     ]
    },
    {
     "name": "stdout",
     "output_type": "stream",
     "text": [
      "acc test:  0.6465163934426229\n",
      "Weights are saved to dataset_kfold_2/2_exp/acc_0.65_ep_16_exp/weights.ckpt\n",
      "Model's architecture is saved to dataset_kfold_2/2_exp/acc_0.65_ep_16_exp/model.json.\n"
     ]
    },
    {
     "name": "stderr",
     "output_type": "stream",
     "text": [
      "\r",
      "  0%|          | 0/278 [00:00<?, ?it/s]"
     ]
    },
    {
     "name": "stdout",
     "output_type": "stream",
     "text": [
      "ep:  17\n"
     ]
    },
    {
     "name": "stderr",
     "output_type": "stream",
     "text": [
      " 54%|█████▍    | 150/278 [01:00<01:05,  1.97it/s]"
     ]
    },
    {
     "name": "stdout",
     "output_type": "stream",
     "text": [
      "Epoch: 0\n",
      "Cross_Entropy: 0.4063112 \n",
      "Training_Loss: 0.4063112 \n",
      "\n",
      "\n"
     ]
    },
    {
     "name": "stderr",
     "output_type": "stream",
     "text": [
      "100%|██████████| 278/278 [01:53<00:00,  2.44it/s]\n"
     ]
    },
    {
     "name": "stdout",
     "output_type": "stream",
     "text": [
      "acc test:  0.9011270491803278\n",
      "Weights are saved to dataset_kfold_2/2_exp/acc_0.9_ep_17_exp/weights.ckpt\n",
      "Model's architecture is saved to dataset_kfold_2/2_exp/acc_0.9_ep_17_exp/model.json.\n"
     ]
    },
    {
     "name": "stderr",
     "output_type": "stream",
     "text": [
      "  0%|          | 1/278 [00:00<00:49,  5.56it/s]"
     ]
    },
    {
     "name": "stdout",
     "output_type": "stream",
     "text": [
      "ep:  18\n"
     ]
    },
    {
     "name": "stderr",
     "output_type": "stream",
     "text": [
      " 54%|█████▍    | 150/278 [01:04<01:01,  2.08it/s]"
     ]
    },
    {
     "name": "stdout",
     "output_type": "stream",
     "text": [
      "Epoch: 0\n",
      "Cross_Entropy: 0.2847422 \n",
      "Training_Loss: 0.2847422 \n",
      "\n",
      "\n"
     ]
    },
    {
     "name": "stderr",
     "output_type": "stream",
     "text": [
      "100%|██████████| 278/278 [01:56<00:00,  2.39it/s]\n"
     ]
    },
    {
     "name": "stdout",
     "output_type": "stream",
     "text": [
      "acc test:  0.8191598360655737\n",
      "Weights are saved to dataset_kfold_2/2_exp/acc_0.82_ep_18_exp/weights.ckpt\n",
      "Model's architecture is saved to dataset_kfold_2/2_exp/acc_0.82_ep_18_exp/model.json.\n"
     ]
    },
    {
     "name": "stderr",
     "output_type": "stream",
     "text": [
      "\r",
      "  0%|          | 0/278 [00:00<?, ?it/s]"
     ]
    },
    {
     "name": "stdout",
     "output_type": "stream",
     "text": [
      "ep:  19\n"
     ]
    },
    {
     "name": "stderr",
     "output_type": "stream",
     "text": [
      " 54%|█████▍    | 151/278 [00:59<00:55,  2.28it/s]"
     ]
    },
    {
     "name": "stdout",
     "output_type": "stream",
     "text": [
      "Epoch: 0\n",
      "Cross_Entropy: 0.2242158 \n",
      "Training_Loss: 0.2242158 \n",
      "\n",
      "\n"
     ]
    },
    {
     "name": "stderr",
     "output_type": "stream",
     "text": [
      "100%|██████████| 278/278 [01:52<00:00,  2.48it/s]\n"
     ]
    },
    {
     "name": "stdout",
     "output_type": "stream",
     "text": [
      "acc test:  0.9482581967213115\n",
      "Weights are saved to dataset_kfold_2/2_exp/acc_0.95_ep_19_exp/weights.ckpt\n",
      "Model's architecture is saved to dataset_kfold_2/2_exp/acc_0.95_ep_19_exp/model.json.\n"
     ]
    },
    {
     "name": "stderr",
     "output_type": "stream",
     "text": [
      "100%|██████████| 17820/17820 [00:26<00:00, 664.81it/s]\n",
      "100%|██████████| 1980/1980 [00:02<00:00, 670.08it/s]\n"
     ]
    },
    {
     "name": "stdout",
     "output_type": "stream",
     "text": [
      "train :  17820\n",
      "test:  1980\n",
      "Loss is built.\n",
      "ep:  0\n",
      "Collecting histogram tensors...\n"
     ]
    },
    {
     "name": "stderr",
     "output_type": "stream",
     "text": [
      "\r",
      "  0%|          | 0/278 [00:00<?, ?it/s]"
     ]
    },
    {
     "name": "stdout",
     "output_type": "stream",
     "text": [
      "New optimizer is used.\n"
     ]
    },
    {
     "name": "stderr",
     "output_type": "stream",
     "text": [
      " 54%|█████▍    | 150/278 [01:03<00:43,  2.96it/s]"
     ]
    },
    {
     "name": "stdout",
     "output_type": "stream",
     "text": [
      "Epoch: 0\n",
      "Cross_Entropy: 0.8530048 \n",
      "Training_Loss: 0.8530048 \n",
      "\n",
      "\n"
     ]
    },
    {
     "name": "stderr",
     "output_type": "stream",
     "text": [
      "100%|██████████| 278/278 [01:56<00:00,  2.38it/s]\n"
     ]
    },
    {
     "name": "stdout",
     "output_type": "stream",
     "text": [
      "acc test:  0.08965163934426229\n",
      "Weights are saved to dataset_kfold_2/4_exp/acc_0.09_ep_0_exp/weights.ckpt\n",
      "Model's architecture is saved to dataset_kfold_2/4_exp/acc_0.09_ep_0_exp/model.json.\n"
     ]
    },
    {
     "name": "stderr",
     "output_type": "stream",
     "text": [
      "\r",
      "  0%|          | 0/278 [00:00<?, ?it/s]"
     ]
    },
    {
     "name": "stdout",
     "output_type": "stream",
     "text": [
      "ep:  1\n"
     ]
    },
    {
     "name": "stderr",
     "output_type": "stream",
     "text": [
      " 54%|█████▍    | 150/278 [01:00<00:45,  2.82it/s]"
     ]
    },
    {
     "name": "stdout",
     "output_type": "stream",
     "text": [
      "Epoch: 0\n",
      "Cross_Entropy: 0.4666436 \n",
      "Training_Loss: 0.4666436 \n",
      "\n",
      "\n"
     ]
    },
    {
     "name": "stderr",
     "output_type": "stream",
     "text": [
      "100%|██████████| 278/278 [01:54<00:00,  2.43it/s]\n"
     ]
    },
    {
     "name": "stdout",
     "output_type": "stream",
     "text": [
      "acc test:  0.7530737704918032\n",
      "Weights are saved to dataset_kfold_2/4_exp/acc_0.75_ep_1_exp/weights.ckpt\n",
      "Model's architecture is saved to dataset_kfold_2/4_exp/acc_0.75_ep_1_exp/model.json.\n"
     ]
    },
    {
     "name": "stderr",
     "output_type": "stream",
     "text": [
      "\r",
      "  0%|          | 0/278 [00:00<?, ?it/s]"
     ]
    },
    {
     "name": "stdout",
     "output_type": "stream",
     "text": [
      "ep:  2\n"
     ]
    },
    {
     "name": "stderr",
     "output_type": "stream",
     "text": [
      " 54%|█████▍    | 150/278 [01:01<00:53,  2.40it/s]"
     ]
    },
    {
     "name": "stdout",
     "output_type": "stream",
     "text": [
      "Epoch: 0\n",
      "Cross_Entropy: 0.3730330 \n",
      "Training_Loss: 0.3730330 \n",
      "\n",
      "\n"
     ]
    },
    {
     "name": "stderr",
     "output_type": "stream",
     "text": [
      "100%|██████████| 278/278 [01:52<00:00,  2.46it/s]\n"
     ]
    },
    {
     "name": "stdout",
     "output_type": "stream",
     "text": [
      "acc test:  0.47899590163934425\n",
      "Weights are saved to dataset_kfold_2/4_exp/acc_0.48_ep_2_exp/weights.ckpt\n",
      "Model's architecture is saved to dataset_kfold_2/4_exp/acc_0.48_ep_2_exp/model.json.\n"
     ]
    },
    {
     "name": "stderr",
     "output_type": "stream",
     "text": [
      "  0%|          | 1/278 [00:00<00:49,  5.62it/s]"
     ]
    },
    {
     "name": "stdout",
     "output_type": "stream",
     "text": [
      "ep:  3\n"
     ]
    },
    {
     "name": "stderr",
     "output_type": "stream",
     "text": [
      " 54%|█████▍    | 150/278 [00:59<00:46,  2.78it/s]"
     ]
    },
    {
     "name": "stdout",
     "output_type": "stream",
     "text": [
      "Epoch: 0\n",
      "Cross_Entropy: 0.3571968 \n",
      "Training_Loss: 0.3571968 \n",
      "\n",
      "\n"
     ]
    },
    {
     "name": "stderr",
     "output_type": "stream",
     "text": [
      "100%|██████████| 278/278 [01:53<00:00,  2.46it/s]\n"
     ]
    },
    {
     "name": "stdout",
     "output_type": "stream",
     "text": [
      "acc test:  0.5563524590163934\n",
      "Weights are saved to dataset_kfold_2/4_exp/acc_0.56_ep_3_exp/weights.ckpt\n",
      "Model's architecture is saved to dataset_kfold_2/4_exp/acc_0.56_ep_3_exp/model.json.\n"
     ]
    },
    {
     "name": "stderr",
     "output_type": "stream",
     "text": [
      "\r",
      "  0%|          | 0/278 [00:00<?, ?it/s]"
     ]
    },
    {
     "name": "stdout",
     "output_type": "stream",
     "text": [
      "ep:  4\n"
     ]
    },
    {
     "name": "stderr",
     "output_type": "stream",
     "text": [
      " 54%|█████▍    | 150/278 [01:04<00:43,  2.97it/s]"
     ]
    },
    {
     "name": "stdout",
     "output_type": "stream",
     "text": [
      "Epoch: 0\n",
      "Cross_Entropy: 0.2626576 \n",
      "Training_Loss: 0.2626576 \n",
      "\n",
      "\n"
     ]
    },
    {
     "name": "stderr",
     "output_type": "stream",
     "text": [
      "100%|██████████| 278/278 [01:57<00:00,  2.36it/s]\n"
     ]
    },
    {
     "name": "stdout",
     "output_type": "stream",
     "text": [
      "acc test:  0.6475409836065574\n",
      "Weights are saved to dataset_kfold_2/4_exp/acc_0.65_ep_4_exp/weights.ckpt\n",
      "Model's architecture is saved to dataset_kfold_2/4_exp/acc_0.65_ep_4_exp/model.json.\n"
     ]
    },
    {
     "name": "stderr",
     "output_type": "stream",
     "text": [
      "\r",
      "  0%|          | 0/278 [00:00<?, ?it/s]"
     ]
    },
    {
     "name": "stdout",
     "output_type": "stream",
     "text": [
      "ep:  5\n"
     ]
    },
    {
     "name": "stderr",
     "output_type": "stream",
     "text": [
      " 54%|█████▍    | 150/278 [01:03<00:36,  3.51it/s]"
     ]
    },
    {
     "name": "stdout",
     "output_type": "stream",
     "text": [
      "Epoch: 0\n",
      "Cross_Entropy: 0.2462644 \n",
      "Training_Loss: 0.2462644 \n",
      "\n",
      "\n"
     ]
    },
    {
     "name": "stderr",
     "output_type": "stream",
     "text": [
      "100%|██████████| 278/278 [01:55<00:00,  2.40it/s]\n"
     ]
    },
    {
     "name": "stdout",
     "output_type": "stream",
     "text": [
      "acc test:  0.7264344262295082\n",
      "Weights are saved to dataset_kfold_2/4_exp/acc_0.73_ep_5_exp/weights.ckpt\n",
      "Model's architecture is saved to dataset_kfold_2/4_exp/acc_0.73_ep_5_exp/model.json.\n"
     ]
    },
    {
     "name": "stderr",
     "output_type": "stream",
     "text": [
      "\r",
      "  0%|          | 0/278 [00:00<?, ?it/s]"
     ]
    },
    {
     "name": "stdout",
     "output_type": "stream",
     "text": [
      "ep:  6\n"
     ]
    },
    {
     "name": "stderr",
     "output_type": "stream",
     "text": [
      " 54%|█████▍    | 150/278 [00:59<00:43,  2.98it/s]"
     ]
    },
    {
     "name": "stdout",
     "output_type": "stream",
     "text": [
      "Epoch: 0\n",
      "Cross_Entropy: 0.2353492 \n",
      "Training_Loss: 0.2353492 \n",
      "\n",
      "\n"
     ]
    },
    {
     "name": "stderr",
     "output_type": "stream",
     "text": [
      "100%|██████████| 278/278 [01:54<00:00,  2.42it/s]\n"
     ]
    },
    {
     "name": "stdout",
     "output_type": "stream",
     "text": [
      "acc test:  0.45901639344262296\n",
      "Weights are saved to dataset_kfold_2/4_exp/acc_0.46_ep_6_exp/weights.ckpt\n",
      "Model's architecture is saved to dataset_kfold_2/4_exp/acc_0.46_ep_6_exp/model.json.\n"
     ]
    },
    {
     "name": "stderr",
     "output_type": "stream",
     "text": [
      "\r",
      "  0%|          | 0/278 [00:00<?, ?it/s]"
     ]
    },
    {
     "name": "stdout",
     "output_type": "stream",
     "text": [
      "ep:  7\n"
     ]
    },
    {
     "name": "stderr",
     "output_type": "stream",
     "text": [
      " 54%|█████▍    | 151/278 [01:02<00:49,  2.58it/s]"
     ]
    },
    {
     "name": "stdout",
     "output_type": "stream",
     "text": [
      "Epoch: 0\n",
      "Cross_Entropy: 0.1754763 \n",
      "Training_Loss: 0.1754763 \n",
      "\n",
      "\n"
     ]
    },
    {
     "name": "stderr",
     "output_type": "stream",
     "text": [
      "100%|██████████| 278/278 [01:54<00:00,  2.42it/s]\n"
     ]
    },
    {
     "name": "stdout",
     "output_type": "stream",
     "text": [
      "acc test:  0.2023565573770492\n",
      "Weights are saved to dataset_kfold_2/4_exp/acc_0.2_ep_7_exp/weights.ckpt\n",
      "Model's architecture is saved to dataset_kfold_2/4_exp/acc_0.2_ep_7_exp/model.json.\n"
     ]
    },
    {
     "name": "stderr",
     "output_type": "stream",
     "text": [
      "\r",
      "  0%|          | 0/278 [00:00<?, ?it/s]"
     ]
    },
    {
     "name": "stdout",
     "output_type": "stream",
     "text": [
      "ep:  8\n"
     ]
    },
    {
     "name": "stderr",
     "output_type": "stream",
     "text": [
      " 54%|█████▍    | 150/278 [00:58<00:49,  2.60it/s]"
     ]
    },
    {
     "name": "stdout",
     "output_type": "stream",
     "text": [
      "Epoch: 0\n",
      "Cross_Entropy: 0.3116902 \n",
      "Training_Loss: 0.3116902 \n",
      "\n",
      "\n"
     ]
    },
    {
     "name": "stderr",
     "output_type": "stream",
     "text": [
      "100%|██████████| 278/278 [01:50<00:00,  2.52it/s]\n"
     ]
    },
    {
     "name": "stdout",
     "output_type": "stream",
     "text": [
      "acc test:  0.4098360655737705\n",
      "Weights are saved to dataset_kfold_2/4_exp/acc_0.41_ep_8_exp/weights.ckpt\n",
      "Model's architecture is saved to dataset_kfold_2/4_exp/acc_0.41_ep_8_exp/model.json.\n"
     ]
    },
    {
     "name": "stderr",
     "output_type": "stream",
     "text": [
      "\r",
      "  0%|          | 0/278 [00:00<?, ?it/s]"
     ]
    },
    {
     "name": "stdout",
     "output_type": "stream",
     "text": [
      "ep:  9\n"
     ]
    },
    {
     "name": "stderr",
     "output_type": "stream",
     "text": [
      " 54%|█████▍    | 150/278 [01:00<00:28,  4.49it/s]"
     ]
    },
    {
     "name": "stdout",
     "output_type": "stream",
     "text": [
      "Epoch: 0\n",
      "Cross_Entropy: 0.2406019 \n",
      "Training_Loss: 0.2406019 \n",
      "\n",
      "\n"
     ]
    },
    {
     "name": "stderr",
     "output_type": "stream",
     "text": [
      "100%|██████████| 278/278 [01:51<00:00,  2.49it/s]\n"
     ]
    },
    {
     "name": "stdout",
     "output_type": "stream",
     "text": [
      "acc test:  0.8299180327868853\n",
      "Weights are saved to dataset_kfold_2/4_exp/acc_0.83_ep_9_exp/weights.ckpt\n",
      "Model's architecture is saved to dataset_kfold_2/4_exp/acc_0.83_ep_9_exp/model.json.\n"
     ]
    },
    {
     "name": "stderr",
     "output_type": "stream",
     "text": [
      "\r",
      "  0%|          | 0/278 [00:00<?, ?it/s]"
     ]
    },
    {
     "name": "stdout",
     "output_type": "stream",
     "text": [
      "ep:  10\n"
     ]
    },
    {
     "name": "stderr",
     "output_type": "stream",
     "text": [
      " 54%|█████▍    | 151/278 [01:06<00:52,  2.41it/s]"
     ]
    },
    {
     "name": "stdout",
     "output_type": "stream",
     "text": [
      "Epoch: 0\n",
      "Cross_Entropy: 0.1207432 \n",
      "Training_Loss: 0.1207432 \n",
      "\n",
      "\n"
     ]
    },
    {
     "name": "stderr",
     "output_type": "stream",
     "text": [
      "100%|██████████| 278/278 [02:01<00:00,  2.29it/s]\n"
     ]
    },
    {
     "name": "stdout",
     "output_type": "stream",
     "text": [
      "acc test:  0.9743852459016393\n",
      "Weights are saved to dataset_kfold_2/4_exp/acc_0.97_ep_10_exp/weights.ckpt\n",
      "Model's architecture is saved to dataset_kfold_2/4_exp/acc_0.97_ep_10_exp/model.json.\n"
     ]
    },
    {
     "name": "stderr",
     "output_type": "stream",
     "text": [
      "\r",
      "  0%|          | 0/278 [00:00<?, ?it/s]"
     ]
    },
    {
     "name": "stdout",
     "output_type": "stream",
     "text": [
      "ep:  11\n"
     ]
    },
    {
     "name": "stderr",
     "output_type": "stream",
     "text": [
      " 54%|█████▍    | 151/278 [01:00<00:44,  2.83it/s]"
     ]
    },
    {
     "name": "stdout",
     "output_type": "stream",
     "text": [
      "Epoch: 0\n",
      "Cross_Entropy: 0.1566452 \n",
      "Training_Loss: 0.1566452 \n",
      "\n",
      "\n"
     ]
    },
    {
     "name": "stderr",
     "output_type": "stream",
     "text": [
      "100%|██████████| 278/278 [01:54<00:00,  2.43it/s]\n"
     ]
    },
    {
     "name": "stdout",
     "output_type": "stream",
     "text": [
      "acc test:  0.7213114754098361\n",
      "Weights are saved to dataset_kfold_2/4_exp/acc_0.72_ep_11_exp/weights.ckpt\n",
      "Model's architecture is saved to dataset_kfold_2/4_exp/acc_0.72_ep_11_exp/model.json.\n"
     ]
    },
    {
     "name": "stderr",
     "output_type": "stream",
     "text": [
      "  0%|          | 1/278 [00:00<00:51,  5.40it/s]"
     ]
    },
    {
     "name": "stdout",
     "output_type": "stream",
     "text": [
      "ep:  12\n"
     ]
    },
    {
     "name": "stderr",
     "output_type": "stream",
     "text": [
      " 54%|█████▍    | 150/278 [01:00<01:05,  1.96it/s]"
     ]
    },
    {
     "name": "stdout",
     "output_type": "stream",
     "text": [
      "Epoch: 0\n",
      "Cross_Entropy: 0.0650945 \n",
      "Training_Loss: 0.0650945 \n",
      "\n",
      "\n"
     ]
    },
    {
     "name": "stderr",
     "output_type": "stream",
     "text": [
      "100%|██████████| 278/278 [01:53<00:00,  2.46it/s]\n"
     ]
    },
    {
     "name": "stdout",
     "output_type": "stream",
     "text": [
      "acc test:  0.757172131147541\n",
      "Weights are saved to dataset_kfold_2/4_exp/acc_0.76_ep_12_exp/weights.ckpt\n",
      "Model's architecture is saved to dataset_kfold_2/4_exp/acc_0.76_ep_12_exp/model.json.\n"
     ]
    },
    {
     "name": "stderr",
     "output_type": "stream",
     "text": [
      "\r",
      "  0%|          | 0/278 [00:00<?, ?it/s]"
     ]
    },
    {
     "name": "stdout",
     "output_type": "stream",
     "text": [
      "ep:  13\n"
     ]
    },
    {
     "name": "stderr",
     "output_type": "stream",
     "text": [
      " 54%|█████▍    | 150/278 [01:02<00:56,  2.28it/s]"
     ]
    },
    {
     "name": "stdout",
     "output_type": "stream",
     "text": [
      "Epoch: 0\n",
      "Cross_Entropy: 0.1342913 \n",
      "Training_Loss: 0.1342913 \n",
      "\n",
      "\n"
     ]
    },
    {
     "name": "stderr",
     "output_type": "stream",
     "text": [
      "100%|██████████| 278/278 [01:59<00:00,  2.33it/s]\n"
     ]
    },
    {
     "name": "stdout",
     "output_type": "stream",
     "text": [
      "acc test:  0.7366803278688525\n",
      "Weights are saved to dataset_kfold_2/4_exp/acc_0.74_ep_13_exp/weights.ckpt\n",
      "Model's architecture is saved to dataset_kfold_2/4_exp/acc_0.74_ep_13_exp/model.json.\n"
     ]
    },
    {
     "name": "stderr",
     "output_type": "stream",
     "text": [
      "\r",
      "  0%|          | 0/278 [00:00<?, ?it/s]"
     ]
    },
    {
     "name": "stdout",
     "output_type": "stream",
     "text": [
      "ep:  14\n"
     ]
    },
    {
     "name": "stderr",
     "output_type": "stream",
     "text": [
      " 54%|█████▍    | 150/278 [00:59<00:49,  2.60it/s]"
     ]
    },
    {
     "name": "stdout",
     "output_type": "stream",
     "text": [
      "Epoch: 0\n",
      "Cross_Entropy: 0.0406732 \n",
      "Training_Loss: 0.0406732 \n",
      "\n",
      "\n"
     ]
    },
    {
     "name": "stderr",
     "output_type": "stream",
     "text": [
      "100%|██████████| 278/278 [01:50<00:00,  2.52it/s]\n"
     ]
    },
    {
     "name": "stdout",
     "output_type": "stream",
     "text": [
      "acc test:  0.8452868852459017\n",
      "Weights are saved to dataset_kfold_2/4_exp/acc_0.85_ep_14_exp/weights.ckpt\n",
      "Model's architecture is saved to dataset_kfold_2/4_exp/acc_0.85_ep_14_exp/model.json.\n"
     ]
    },
    {
     "name": "stderr",
     "output_type": "stream",
     "text": [
      "\r",
      "  0%|          | 0/278 [00:00<?, ?it/s]"
     ]
    },
    {
     "name": "stdout",
     "output_type": "stream",
     "text": [
      "ep:  15\n"
     ]
    },
    {
     "name": "stderr",
     "output_type": "stream",
     "text": [
      " 54%|█████▍    | 150/278 [01:00<00:36,  3.54it/s]"
     ]
    },
    {
     "name": "stdout",
     "output_type": "stream",
     "text": [
      "Epoch: 0\n",
      "Cross_Entropy: 0.0535557 \n",
      "Training_Loss: 0.0535557 \n",
      "\n",
      "\n"
     ]
    },
    {
     "name": "stderr",
     "output_type": "stream",
     "text": [
      "100%|██████████| 278/278 [01:53<00:00,  2.45it/s]\n"
     ]
    },
    {
     "name": "stdout",
     "output_type": "stream",
     "text": [
      "acc test:  0.8457991803278688\n",
      "Weights are saved to dataset_kfold_2/4_exp/acc_0.85_ep_15_exp/weights.ckpt\n",
      "Model's architecture is saved to dataset_kfold_2/4_exp/acc_0.85_ep_15_exp/model.json.\n"
     ]
    },
    {
     "name": "stderr",
     "output_type": "stream",
     "text": [
      "  0%|          | 1/278 [00:00<00:50,  5.45it/s]"
     ]
    },
    {
     "name": "stdout",
     "output_type": "stream",
     "text": [
      "ep:  16\n"
     ]
    },
    {
     "name": "stderr",
     "output_type": "stream",
     "text": [
      " 54%|█████▍    | 151/278 [01:08<00:51,  2.45it/s]"
     ]
    },
    {
     "name": "stdout",
     "output_type": "stream",
     "text": [
      "Epoch: 0\n",
      "Cross_Entropy: 0.0150617 \n",
      "Training_Loss: 0.0150617 \n",
      "\n",
      "\n"
     ]
    },
    {
     "name": "stderr",
     "output_type": "stream",
     "text": [
      "100%|██████████| 278/278 [01:59<00:00,  2.33it/s]\n"
     ]
    },
    {
     "name": "stdout",
     "output_type": "stream",
     "text": [
      "acc test:  0.8765368852459017\n",
      "Weights are saved to dataset_kfold_2/4_exp/acc_0.88_ep_16_exp/weights.ckpt\n",
      "Model's architecture is saved to dataset_kfold_2/4_exp/acc_0.88_ep_16_exp/model.json.\n"
     ]
    },
    {
     "name": "stderr",
     "output_type": "stream",
     "text": [
      "  0%|          | 1/278 [00:00<00:49,  5.65it/s]"
     ]
    },
    {
     "name": "stdout",
     "output_type": "stream",
     "text": [
      "ep:  17\n"
     ]
    },
    {
     "name": "stderr",
     "output_type": "stream",
     "text": [
      " 54%|█████▍    | 150/278 [01:01<00:41,  3.09it/s]"
     ]
    },
    {
     "name": "stdout",
     "output_type": "stream",
     "text": [
      "Epoch: 0\n",
      "Cross_Entropy: 0.7996631 \n",
      "Training_Loss: 0.7996631 \n",
      "\n",
      "\n"
     ]
    },
    {
     "name": "stderr",
     "output_type": "stream",
     "text": [
      "100%|██████████| 278/278 [01:53<00:00,  2.45it/s]\n"
     ]
    },
    {
     "name": "stdout",
     "output_type": "stream",
     "text": [
      "acc test:  0.735655737704918\n",
      "Weights are saved to dataset_kfold_2/4_exp/acc_0.74_ep_17_exp/weights.ckpt\n",
      "Model's architecture is saved to dataset_kfold_2/4_exp/acc_0.74_ep_17_exp/model.json.\n"
     ]
    },
    {
     "name": "stderr",
     "output_type": "stream",
     "text": [
      "\r",
      "  0%|          | 0/278 [00:00<?, ?it/s]"
     ]
    },
    {
     "name": "stdout",
     "output_type": "stream",
     "text": [
      "ep:  18\n"
     ]
    },
    {
     "name": "stderr",
     "output_type": "stream",
     "text": [
      " 54%|█████▍    | 150/278 [01:05<00:58,  2.21it/s]"
     ]
    },
    {
     "name": "stdout",
     "output_type": "stream",
     "text": [
      "Epoch: 0\n",
      "Cross_Entropy: 0.6921639 \n",
      "Training_Loss: 0.6921639 \n",
      "\n",
      "\n"
     ]
    },
    {
     "name": "stderr",
     "output_type": "stream",
     "text": [
      "100%|██████████| 278/278 [02:00<00:00,  2.30it/s]\n",
      "../utils/model_tools.py:77: RuntimeWarning: overflow encountered in exp\n",
      "  e = np.exp(A)\n",
      "../utils/model_tools.py:78: RuntimeWarning: invalid value encountered in true_divide\n",
      "  return e / np.sum(e, axis=-1, keepdims=True)\n"
     ]
    },
    {
     "name": "stdout",
     "output_type": "stream",
     "text": [
      "acc test:  0.5712090163934426\n",
      "Weights are saved to dataset_kfold_2/4_exp/acc_0.57_ep_18_exp/weights.ckpt\n",
      "Model's architecture is saved to dataset_kfold_2/4_exp/acc_0.57_ep_18_exp/model.json.\n"
     ]
    },
    {
     "name": "stderr",
     "output_type": "stream",
     "text": [
      "\r",
      "  0%|          | 0/278 [00:00<?, ?it/s]"
     ]
    },
    {
     "name": "stdout",
     "output_type": "stream",
     "text": [
      "ep:  19\n"
     ]
    },
    {
     "name": "stderr",
     "output_type": "stream",
     "text": [
      " 54%|█████▍    | 150/278 [01:00<00:52,  2.45it/s]"
     ]
    },
    {
     "name": "stdout",
     "output_type": "stream",
     "text": [
      "Epoch: 0\n",
      "Cross_Entropy: 1.4134428 \n",
      "Training_Loss: 1.4134428 \n",
      "\n",
      "\n"
     ]
    },
    {
     "name": "stderr",
     "output_type": "stream",
     "text": [
      "100%|██████████| 278/278 [01:58<00:00,  2.34it/s]\n"
     ]
    },
    {
     "name": "stdout",
     "output_type": "stream",
     "text": [
      "acc test:  0.33760245901639346\n",
      "Weights are saved to dataset_kfold_2/4_exp/acc_0.34_ep_19_exp/weights.ckpt\n",
      "Model's architecture is saved to dataset_kfold_2/4_exp/acc_0.34_ep_19_exp/model.json.\n"
     ]
    },
    {
     "name": "stderr",
     "output_type": "stream",
     "text": [
      "100%|██████████| 17820/17820 [00:27<00:00, 657.15it/s]\n",
      "100%|██████████| 1980/1980 [00:03<00:00, 657.16it/s]\n"
     ]
    },
    {
     "name": "stdout",
     "output_type": "stream",
     "text": [
      "train :  17820\n",
      "test:  1980\n",
      "Loss is built.\n",
      "ep:  0\n",
      "Collecting histogram tensors...\n"
     ]
    },
    {
     "name": "stderr",
     "output_type": "stream",
     "text": [
      "\r",
      "  0%|          | 0/278 [00:00<?, ?it/s]"
     ]
    },
    {
     "name": "stdout",
     "output_type": "stream",
     "text": [
      "New optimizer is used.\n"
     ]
    },
    {
     "name": "stderr",
     "output_type": "stream",
     "text": [
      " 54%|█████▍    | 150/278 [00:59<00:43,  2.93it/s]"
     ]
    },
    {
     "name": "stdout",
     "output_type": "stream",
     "text": [
      "Epoch: 0\n",
      "Cross_Entropy: 0.8958482 \n",
      "Training_Loss: 0.8958482 \n",
      "\n",
      "\n"
     ]
    },
    {
     "name": "stderr",
     "output_type": "stream",
     "text": [
      "100%|██████████| 278/278 [01:55<00:00,  2.40it/s]\n"
     ]
    },
    {
     "name": "stdout",
     "output_type": "stream",
     "text": [
      "acc test:  0.22540983606557377\n",
      "Weights are saved to dataset_kfold_2/6_exp/acc_0.23_ep_0_exp/weights.ckpt\n",
      "Model's architecture is saved to dataset_kfold_2/6_exp/acc_0.23_ep_0_exp/model.json.\n"
     ]
    },
    {
     "name": "stderr",
     "output_type": "stream",
     "text": [
      "\r",
      "  0%|          | 0/278 [00:00<?, ?it/s]"
     ]
    },
    {
     "name": "stdout",
     "output_type": "stream",
     "text": [
      "ep:  1\n"
     ]
    },
    {
     "name": "stderr",
     "output_type": "stream",
     "text": [
      " 54%|█████▍    | 150/278 [01:01<00:49,  2.56it/s]"
     ]
    },
    {
     "name": "stdout",
     "output_type": "stream",
     "text": [
      "Epoch: 0\n",
      "Cross_Entropy: 0.5192701 \n",
      "Training_Loss: 0.5192701 \n",
      "\n",
      "\n"
     ]
    },
    {
     "name": "stderr",
     "output_type": "stream",
     "text": [
      "100%|██████████| 278/278 [01:57<00:00,  2.36it/s]\n"
     ]
    },
    {
     "name": "stdout",
     "output_type": "stream",
     "text": [
      "acc test:  0.17879098360655737\n",
      "Weights are saved to dataset_kfold_2/6_exp/acc_0.18_ep_1_exp/weights.ckpt\n",
      "Model's architecture is saved to dataset_kfold_2/6_exp/acc_0.18_ep_1_exp/model.json.\n"
     ]
    },
    {
     "name": "stderr",
     "output_type": "stream",
     "text": [
      "\r",
      "  0%|          | 0/278 [00:00<?, ?it/s]"
     ]
    },
    {
     "name": "stdout",
     "output_type": "stream",
     "text": [
      "ep:  2\n"
     ]
    },
    {
     "name": "stderr",
     "output_type": "stream",
     "text": [
      " 54%|█████▍    | 150/278 [00:59<00:35,  3.56it/s]"
     ]
    },
    {
     "name": "stdout",
     "output_type": "stream",
     "text": [
      "Epoch: 0\n",
      "Cross_Entropy: 0.4266068 \n",
      "Training_Loss: 0.4266068 \n",
      "\n",
      "\n"
     ]
    },
    {
     "name": "stderr",
     "output_type": "stream",
     "text": [
      "100%|██████████| 278/278 [01:47<00:00,  2.58it/s]\n"
     ]
    },
    {
     "name": "stdout",
     "output_type": "stream",
     "text": [
      "acc test:  0.35297131147540983\n",
      "Weights are saved to dataset_kfold_2/6_exp/acc_0.35_ep_2_exp/weights.ckpt\n",
      "Model's architecture is saved to dataset_kfold_2/6_exp/acc_0.35_ep_2_exp/model.json.\n"
     ]
    },
    {
     "name": "stderr",
     "output_type": "stream",
     "text": [
      "\r",
      "  0%|          | 0/278 [00:00<?, ?it/s]"
     ]
    },
    {
     "name": "stdout",
     "output_type": "stream",
     "text": [
      "ep:  3\n"
     ]
    },
    {
     "name": "stderr",
     "output_type": "stream",
     "text": [
      " 54%|█████▍    | 151/278 [01:01<00:40,  3.14it/s]"
     ]
    },
    {
     "name": "stdout",
     "output_type": "stream",
     "text": [
      "Epoch: 0\n",
      "Cross_Entropy: 0.4334809 \n",
      "Training_Loss: 0.4334809 \n",
      "\n",
      "\n"
     ]
    },
    {
     "name": "stderr",
     "output_type": "stream",
     "text": [
      "100%|██████████| 278/278 [01:50<00:00,  2.51it/s]\n"
     ]
    },
    {
     "name": "stdout",
     "output_type": "stream",
     "text": [
      "acc test:  0.8744877049180327\n",
      "Weights are saved to dataset_kfold_2/6_exp/acc_0.87_ep_3_exp/weights.ckpt\n",
      "Model's architecture is saved to dataset_kfold_2/6_exp/acc_0.87_ep_3_exp/model.json.\n"
     ]
    },
    {
     "name": "stderr",
     "output_type": "stream",
     "text": [
      "\r",
      "  0%|          | 0/278 [00:00<?, ?it/s]"
     ]
    },
    {
     "name": "stdout",
     "output_type": "stream",
     "text": [
      "ep:  4\n"
     ]
    },
    {
     "name": "stderr",
     "output_type": "stream",
     "text": [
      " 54%|█████▍    | 150/278 [01:03<01:08,  1.88it/s]"
     ]
    },
    {
     "name": "stdout",
     "output_type": "stream",
     "text": [
      "Epoch: 0\n",
      "Cross_Entropy: 2.6162349 \n",
      "Training_Loss: 2.6162349 \n",
      "\n",
      "\n"
     ]
    },
    {
     "name": "stderr",
     "output_type": "stream",
     "text": [
      "100%|██████████| 278/278 [01:54<00:00,  2.42it/s]\n"
     ]
    },
    {
     "name": "stdout",
     "output_type": "stream",
     "text": [
      "acc test:  0.6470286885245902\n",
      "Weights are saved to dataset_kfold_2/6_exp/acc_0.65_ep_4_exp/weights.ckpt\n",
      "Model's architecture is saved to dataset_kfold_2/6_exp/acc_0.65_ep_4_exp/model.json.\n"
     ]
    },
    {
     "name": "stderr",
     "output_type": "stream",
     "text": [
      "\r",
      "  0%|          | 0/278 [00:00<?, ?it/s]"
     ]
    },
    {
     "name": "stdout",
     "output_type": "stream",
     "text": [
      "ep:  5\n"
     ]
    },
    {
     "name": "stderr",
     "output_type": "stream",
     "text": [
      " 54%|█████▍    | 151/278 [01:04<00:42,  3.01it/s]"
     ]
    },
    {
     "name": "stdout",
     "output_type": "stream",
     "text": [
      "Epoch: 0\n",
      "Cross_Entropy: 0.8412252 \n",
      "Training_Loss: 0.8412252 \n",
      "\n",
      "\n"
     ]
    },
    {
     "name": "stderr",
     "output_type": "stream",
     "text": [
      "100%|██████████| 278/278 [02:04<00:00,  2.24it/s]\n",
      "../utils/model_tools.py:77: RuntimeWarning: overflow encountered in exp\n",
      "  e = np.exp(A)\n",
      "../utils/model_tools.py:78: RuntimeWarning: invalid value encountered in true_divide\n",
      "  return e / np.sum(e, axis=-1, keepdims=True)\n"
     ]
    },
    {
     "name": "stdout",
     "output_type": "stream",
     "text": [
      "acc test:  0.09375\n",
      "Weights are saved to dataset_kfold_2/6_exp/acc_0.09_ep_5_exp/weights.ckpt\n",
      "Model's architecture is saved to dataset_kfold_2/6_exp/acc_0.09_ep_5_exp/model.json.\n"
     ]
    },
    {
     "name": "stderr",
     "output_type": "stream",
     "text": [
      "\r",
      "  0%|          | 0/278 [00:00<?, ?it/s]"
     ]
    },
    {
     "name": "stdout",
     "output_type": "stream",
     "text": [
      "ep:  6\n"
     ]
    },
    {
     "name": "stderr",
     "output_type": "stream",
     "text": [
      " 54%|█████▍    | 150/278 [01:02<00:45,  2.81it/s]"
     ]
    },
    {
     "name": "stdout",
     "output_type": "stream",
     "text": [
      "Epoch: 0\n",
      "Cross_Entropy: 0.6603386 \n",
      "Training_Loss: 0.6603386 \n",
      "\n",
      "\n"
     ]
    },
    {
     "name": "stderr",
     "output_type": "stream",
     "text": [
      "100%|██████████| 278/278 [01:56<00:00,  2.40it/s]\n"
     ]
    },
    {
     "name": "stdout",
     "output_type": "stream",
     "text": [
      "acc test:  0.7710040983606558\n",
      "Weights are saved to dataset_kfold_2/6_exp/acc_0.77_ep_6_exp/weights.ckpt\n",
      "Model's architecture is saved to dataset_kfold_2/6_exp/acc_0.77_ep_6_exp/model.json.\n"
     ]
    },
    {
     "name": "stderr",
     "output_type": "stream",
     "text": [
      "\r",
      "  0%|          | 0/278 [00:00<?, ?it/s]"
     ]
    },
    {
     "name": "stdout",
     "output_type": "stream",
     "text": [
      "ep:  7\n"
     ]
    },
    {
     "name": "stderr",
     "output_type": "stream",
     "text": [
      " 54%|█████▍    | 150/278 [01:02<00:56,  2.25it/s]"
     ]
    },
    {
     "name": "stdout",
     "output_type": "stream",
     "text": [
      "Epoch: 0\n",
      "Cross_Entropy: 0.4244999 \n",
      "Training_Loss: 0.4244999 \n",
      "\n",
      "\n"
     ]
    },
    {
     "name": "stderr",
     "output_type": "stream",
     "text": [
      "100%|██████████| 278/278 [01:51<00:00,  2.49it/s]\n"
     ]
    },
    {
     "name": "stdout",
     "output_type": "stream",
     "text": [
      "acc test:  0.8135245901639344\n",
      "Weights are saved to dataset_kfold_2/6_exp/acc_0.81_ep_7_exp/weights.ckpt\n",
      "Model's architecture is saved to dataset_kfold_2/6_exp/acc_0.81_ep_7_exp/model.json.\n"
     ]
    },
    {
     "name": "stderr",
     "output_type": "stream",
     "text": [
      "\r",
      "  0%|          | 0/278 [00:00<?, ?it/s]"
     ]
    },
    {
     "name": "stdout",
     "output_type": "stream",
     "text": [
      "ep:  8\n"
     ]
    },
    {
     "name": "stderr",
     "output_type": "stream",
     "text": [
      " 54%|█████▍    | 150/278 [01:03<00:57,  2.23it/s]"
     ]
    },
    {
     "name": "stdout",
     "output_type": "stream",
     "text": [
      "Epoch: 0\n",
      "Cross_Entropy: 0.3108969 \n",
      "Training_Loss: 0.3108969 \n",
      "\n",
      "\n"
     ]
    },
    {
     "name": "stderr",
     "output_type": "stream",
     "text": [
      "100%|██████████| 278/278 [01:56<00:00,  2.39it/s]\n"
     ]
    },
    {
     "name": "stdout",
     "output_type": "stream",
     "text": [
      "acc test:  0.8872950819672131\n",
      "Weights are saved to dataset_kfold_2/6_exp/acc_0.89_ep_8_exp/weights.ckpt\n",
      "Model's architecture is saved to dataset_kfold_2/6_exp/acc_0.89_ep_8_exp/model.json.\n"
     ]
    },
    {
     "name": "stderr",
     "output_type": "stream",
     "text": [
      "\r",
      "  0%|          | 0/278 [00:00<?, ?it/s]"
     ]
    },
    {
     "name": "stdout",
     "output_type": "stream",
     "text": [
      "ep:  9\n"
     ]
    },
    {
     "name": "stderr",
     "output_type": "stream",
     "text": [
      " 54%|█████▍    | 151/278 [01:02<00:50,  2.53it/s]"
     ]
    },
    {
     "name": "stdout",
     "output_type": "stream",
     "text": [
      "Epoch: 0\n",
      "Cross_Entropy: 0.2336764 \n",
      "Training_Loss: 0.2336764 \n",
      "\n",
      "\n"
     ]
    },
    {
     "name": "stderr",
     "output_type": "stream",
     "text": [
      "100%|██████████| 278/278 [01:56<00:00,  2.39it/s]\n"
     ]
    },
    {
     "name": "stdout",
     "output_type": "stream",
     "text": [
      "acc test:  0.8867827868852459\n",
      "Weights are saved to dataset_kfold_2/6_exp/acc_0.89_ep_9_exp/weights.ckpt\n",
      "Model's architecture is saved to dataset_kfold_2/6_exp/acc_0.89_ep_9_exp/model.json.\n"
     ]
    },
    {
     "name": "stderr",
     "output_type": "stream",
     "text": [
      "  0%|          | 1/278 [00:00<00:49,  5.62it/s]"
     ]
    },
    {
     "name": "stdout",
     "output_type": "stream",
     "text": [
      "ep:  10\n"
     ]
    },
    {
     "name": "stderr",
     "output_type": "stream",
     "text": [
      " 54%|█████▍    | 150/278 [00:59<00:44,  2.89it/s]"
     ]
    },
    {
     "name": "stdout",
     "output_type": "stream",
     "text": [
      "Epoch: 0\n",
      "Cross_Entropy: 0.2643383 \n",
      "Training_Loss: 0.2643383 \n",
      "\n",
      "\n"
     ]
    },
    {
     "name": "stderr",
     "output_type": "stream",
     "text": [
      "100%|██████████| 278/278 [01:51<00:00,  2.49it/s]\n"
     ]
    },
    {
     "name": "stdout",
     "output_type": "stream",
     "text": [
      "acc test:  0.9211065573770492\n",
      "Weights are saved to dataset_kfold_2/6_exp/acc_0.92_ep_10_exp/weights.ckpt\n",
      "Model's architecture is saved to dataset_kfold_2/6_exp/acc_0.92_ep_10_exp/model.json.\n"
     ]
    },
    {
     "name": "stderr",
     "output_type": "stream",
     "text": [
      "\r",
      "  0%|          | 0/278 [00:00<?, ?it/s]"
     ]
    },
    {
     "name": "stdout",
     "output_type": "stream",
     "text": [
      "ep:  11\n"
     ]
    },
    {
     "name": "stderr",
     "output_type": "stream",
     "text": [
      " 54%|█████▍    | 150/278 [01:00<00:55,  2.30it/s]"
     ]
    },
    {
     "name": "stdout",
     "output_type": "stream",
     "text": [
      "Epoch: 0\n",
      "Cross_Entropy: 0.1925289 \n",
      "Training_Loss: 0.1925289 \n",
      "\n",
      "\n"
     ]
    },
    {
     "name": "stderr",
     "output_type": "stream",
     "text": [
      "100%|██████████| 278/278 [01:45<00:00,  2.63it/s]\n"
     ]
    },
    {
     "name": "stdout",
     "output_type": "stream",
     "text": [
      "acc test:  0.9103483606557377\n",
      "Weights are saved to dataset_kfold_2/6_exp/acc_0.91_ep_11_exp/weights.ckpt\n",
      "Model's architecture is saved to dataset_kfold_2/6_exp/acc_0.91_ep_11_exp/model.json.\n"
     ]
    },
    {
     "name": "stderr",
     "output_type": "stream",
     "text": [
      "\r",
      "  0%|          | 0/278 [00:00<?, ?it/s]"
     ]
    },
    {
     "name": "stdout",
     "output_type": "stream",
     "text": [
      "ep:  12\n"
     ]
    },
    {
     "name": "stderr",
     "output_type": "stream",
     "text": [
      " 54%|█████▍    | 150/278 [00:59<01:06,  1.92it/s]"
     ]
    },
    {
     "name": "stdout",
     "output_type": "stream",
     "text": [
      "Epoch: 0\n",
      "Cross_Entropy: 0.1602771 \n",
      "Training_Loss: 0.1602771 \n",
      "\n",
      "\n"
     ]
    },
    {
     "name": "stderr",
     "output_type": "stream",
     "text": [
      "100%|██████████| 278/278 [01:51<00:00,  2.50it/s]\n"
     ]
    },
    {
     "name": "stdout",
     "output_type": "stream",
     "text": [
      "acc test:  0.9487704918032787\n",
      "Weights are saved to dataset_kfold_2/6_exp/acc_0.95_ep_12_exp/weights.ckpt\n",
      "Model's architecture is saved to dataset_kfold_2/6_exp/acc_0.95_ep_12_exp/model.json.\n"
     ]
    },
    {
     "name": "stderr",
     "output_type": "stream",
     "text": [
      "\r",
      "  0%|          | 0/278 [00:00<?, ?it/s]"
     ]
    },
    {
     "name": "stdout",
     "output_type": "stream",
     "text": [
      "ep:  13\n"
     ]
    },
    {
     "name": "stderr",
     "output_type": "stream",
     "text": [
      " 54%|█████▍    | 150/278 [01:03<01:03,  2.03it/s]"
     ]
    },
    {
     "name": "stdout",
     "output_type": "stream",
     "text": [
      "Epoch: 0\n",
      "Cross_Entropy: 0.1657097 \n",
      "Training_Loss: 0.1657097 \n",
      "\n",
      "\n"
     ]
    },
    {
     "name": "stderr",
     "output_type": "stream",
     "text": [
      "100%|██████████| 278/278 [01:58<00:00,  2.35it/s]\n"
     ]
    },
    {
     "name": "stdout",
     "output_type": "stream",
     "text": [
      "acc test:  0.9226434426229508\n",
      "Weights are saved to dataset_kfold_2/6_exp/acc_0.92_ep_13_exp/weights.ckpt\n",
      "Model's architecture is saved to dataset_kfold_2/6_exp/acc_0.92_ep_13_exp/model.json.\n"
     ]
    },
    {
     "name": "stderr",
     "output_type": "stream",
     "text": [
      "  0%|          | 1/278 [00:00<00:49,  5.65it/s]"
     ]
    },
    {
     "name": "stdout",
     "output_type": "stream",
     "text": [
      "ep:  14\n"
     ]
    },
    {
     "name": "stderr",
     "output_type": "stream",
     "text": [
      " 54%|█████▍    | 151/278 [01:04<00:43,  2.93it/s]"
     ]
    },
    {
     "name": "stdout",
     "output_type": "stream",
     "text": [
      "Epoch: 0\n",
      "Cross_Entropy: 0.1272791 \n",
      "Training_Loss: 0.1272791 \n",
      "\n",
      "\n"
     ]
    },
    {
     "name": "stderr",
     "output_type": "stream",
     "text": [
      "100%|██████████| 278/278 [01:58<00:00,  2.35it/s]\n"
     ]
    },
    {
     "name": "stdout",
     "output_type": "stream",
     "text": [
      "acc test:  0.8944672131147541\n",
      "Weights are saved to dataset_kfold_2/6_exp/acc_0.89_ep_14_exp/weights.ckpt\n",
      "Model's architecture is saved to dataset_kfold_2/6_exp/acc_0.89_ep_14_exp/model.json.\n"
     ]
    },
    {
     "name": "stderr",
     "output_type": "stream",
     "text": [
      "\r",
      "  0%|          | 0/278 [00:00<?, ?it/s]"
     ]
    },
    {
     "name": "stdout",
     "output_type": "stream",
     "text": [
      "ep:  15\n"
     ]
    },
    {
     "name": "stderr",
     "output_type": "stream",
     "text": [
      " 54%|█████▍    | 150/278 [01:03<00:52,  2.46it/s]"
     ]
    },
    {
     "name": "stdout",
     "output_type": "stream",
     "text": [
      "Epoch: 0\n",
      "Cross_Entropy: 0.1006936 \n",
      "Training_Loss: 0.1006936 \n",
      "\n",
      "\n"
     ]
    },
    {
     "name": "stderr",
     "output_type": "stream",
     "text": [
      "100%|██████████| 278/278 [01:58<00:00,  2.35it/s]\n"
     ]
    },
    {
     "name": "stdout",
     "output_type": "stream",
     "text": [
      "acc test:  0.9282786885245902\n",
      "Weights are saved to dataset_kfold_2/6_exp/acc_0.93_ep_15_exp/weights.ckpt\n",
      "Model's architecture is saved to dataset_kfold_2/6_exp/acc_0.93_ep_15_exp/model.json.\n"
     ]
    },
    {
     "name": "stderr",
     "output_type": "stream",
     "text": [
      "\r",
      "  0%|          | 0/278 [00:00<?, ?it/s]"
     ]
    },
    {
     "name": "stdout",
     "output_type": "stream",
     "text": [
      "ep:  16\n"
     ]
    },
    {
     "name": "stderr",
     "output_type": "stream",
     "text": [
      " 54%|█████▍    | 151/278 [01:04<00:38,  3.29it/s]"
     ]
    },
    {
     "name": "stdout",
     "output_type": "stream",
     "text": [
      "Epoch: 0\n",
      "Cross_Entropy: 0.1751339 \n",
      "Training_Loss: 0.1751339 \n",
      "\n",
      "\n"
     ]
    },
    {
     "name": "stderr",
     "output_type": "stream",
     "text": [
      "100%|██████████| 278/278 [01:55<00:00,  2.40it/s]\n"
     ]
    },
    {
     "name": "stdout",
     "output_type": "stream",
     "text": [
      "acc test:  0.9369877049180327\n",
      "Weights are saved to dataset_kfold_2/6_exp/acc_0.94_ep_16_exp/weights.ckpt\n",
      "Model's architecture is saved to dataset_kfold_2/6_exp/acc_0.94_ep_16_exp/model.json.\n"
     ]
    },
    {
     "name": "stderr",
     "output_type": "stream",
     "text": [
      "\r",
      "  0%|          | 0/278 [00:00<?, ?it/s]"
     ]
    },
    {
     "name": "stdout",
     "output_type": "stream",
     "text": [
      "ep:  17\n"
     ]
    },
    {
     "name": "stderr",
     "output_type": "stream",
     "text": [
      " 54%|█████▍    | 150/278 [01:01<00:40,  3.15it/s]"
     ]
    },
    {
     "name": "stdout",
     "output_type": "stream",
     "text": [
      "Epoch: 0\n",
      "Cross_Entropy: 0.1065954 \n",
      "Training_Loss: 0.1065954 \n",
      "\n",
      "\n"
     ]
    },
    {
     "name": "stderr",
     "output_type": "stream",
     "text": [
      "100%|██████████| 278/278 [01:55<00:00,  2.41it/s]\n"
     ]
    },
    {
     "name": "stdout",
     "output_type": "stream",
     "text": [
      "acc test:  0.826844262295082\n",
      "Weights are saved to dataset_kfold_2/6_exp/acc_0.83_ep_17_exp/weights.ckpt\n",
      "Model's architecture is saved to dataset_kfold_2/6_exp/acc_0.83_ep_17_exp/model.json.\n"
     ]
    },
    {
     "name": "stderr",
     "output_type": "stream",
     "text": [
      "  0%|          | 1/278 [00:00<00:50,  5.49it/s]"
     ]
    },
    {
     "name": "stdout",
     "output_type": "stream",
     "text": [
      "ep:  18\n"
     ]
    },
    {
     "name": "stderr",
     "output_type": "stream",
     "text": [
      " 54%|█████▍    | 151/278 [01:02<00:56,  2.26it/s]"
     ]
    },
    {
     "name": "stdout",
     "output_type": "stream",
     "text": [
      "Epoch: 0\n",
      "Cross_Entropy: 0.1109402 \n",
      "Training_Loss: 0.1109402 \n",
      "\n",
      "\n"
     ]
    },
    {
     "name": "stderr",
     "output_type": "stream",
     "text": [
      "100%|██████████| 278/278 [01:55<00:00,  2.42it/s]\n"
     ]
    },
    {
     "name": "stdout",
     "output_type": "stream",
     "text": [
      "acc test:  0.8488729508196722\n",
      "Weights are saved to dataset_kfold_2/6_exp/acc_0.85_ep_18_exp/weights.ckpt\n",
      "Model's architecture is saved to dataset_kfold_2/6_exp/acc_0.85_ep_18_exp/model.json.\n"
     ]
    },
    {
     "name": "stderr",
     "output_type": "stream",
     "text": [
      "\r",
      "  0%|          | 0/278 [00:00<?, ?it/s]"
     ]
    },
    {
     "name": "stdout",
     "output_type": "stream",
     "text": [
      "ep:  19\n"
     ]
    },
    {
     "name": "stderr",
     "output_type": "stream",
     "text": [
      " 54%|█████▍    | 150/278 [01:01<00:52,  2.43it/s]"
     ]
    },
    {
     "name": "stdout",
     "output_type": "stream",
     "text": [
      "Epoch: 0\n",
      "Cross_Entropy: 0.0550653 \n",
      "Training_Loss: 0.0550653 \n",
      "\n",
      "\n"
     ]
    },
    {
     "name": "stderr",
     "output_type": "stream",
     "text": [
      "100%|██████████| 278/278 [01:50<00:00,  2.50it/s]\n"
     ]
    },
    {
     "name": "stdout",
     "output_type": "stream",
     "text": [
      "acc test:  0.9579918032786885\n",
      "Weights are saved to dataset_kfold_2/6_exp/acc_0.96_ep_19_exp/weights.ckpt\n",
      "Model's architecture is saved to dataset_kfold_2/6_exp/acc_0.96_ep_19_exp/model.json.\n"
     ]
    },
    {
     "name": "stderr",
     "output_type": "stream",
     "text": [
      "100%|██████████| 17820/17820 [00:26<00:00, 663.45it/s]\n",
      "100%|██████████| 1980/1980 [00:03<00:00, 648.47it/s]\n"
     ]
    },
    {
     "name": "stdout",
     "output_type": "stream",
     "text": [
      "train :  17820\n",
      "test:  1980\n",
      "Loss is built.\n",
      "ep:  0\n",
      "Collecting histogram tensors...\n"
     ]
    },
    {
     "name": "stderr",
     "output_type": "stream",
     "text": [
      "\r",
      "  0%|          | 0/278 [00:00<?, ?it/s]"
     ]
    },
    {
     "name": "stdout",
     "output_type": "stream",
     "text": [
      "New optimizer is used.\n"
     ]
    },
    {
     "name": "stderr",
     "output_type": "stream",
     "text": [
      " 54%|█████▍    | 150/278 [01:03<00:46,  2.74it/s]"
     ]
    },
    {
     "name": "stdout",
     "output_type": "stream",
     "text": [
      "Epoch: 0\n",
      "Cross_Entropy: 1.0669484 \n",
      "Training_Loss: 1.0669484 \n",
      "\n",
      "\n"
     ]
    },
    {
     "name": "stderr",
     "output_type": "stream",
     "text": [
      "100%|██████████| 278/278 [01:56<00:00,  2.39it/s]\n"
     ]
    },
    {
     "name": "stdout",
     "output_type": "stream",
     "text": [
      "acc test:  0.2228483606557377\n",
      "Weights are saved to dataset_kfold_2/9_exp/acc_0.22_ep_0_exp/weights.ckpt\n",
      "Model's architecture is saved to dataset_kfold_2/9_exp/acc_0.22_ep_0_exp/model.json.\n"
     ]
    },
    {
     "name": "stderr",
     "output_type": "stream",
     "text": [
      "\r",
      "  0%|          | 0/278 [00:00<?, ?it/s]"
     ]
    },
    {
     "name": "stdout",
     "output_type": "stream",
     "text": [
      "ep:  1\n"
     ]
    },
    {
     "name": "stderr",
     "output_type": "stream",
     "text": [
      " 54%|█████▍    | 151/278 [00:57<00:43,  2.89it/s]"
     ]
    },
    {
     "name": "stdout",
     "output_type": "stream",
     "text": [
      "Epoch: 0\n",
      "Cross_Entropy: 0.4884908 \n",
      "Training_Loss: 0.4884908 \n",
      "\n",
      "\n"
     ]
    },
    {
     "name": "stderr",
     "output_type": "stream",
     "text": [
      "100%|██████████| 278/278 [01:51<00:00,  2.49it/s]\n",
      "../utils/model_tools.py:77: RuntimeWarning: overflow encountered in exp\n",
      "  e = np.exp(A)\n",
      "/usr/local/lib/python3.8/dist-packages/numpy/core/fromnumeric.py:90: RuntimeWarning: overflow encountered in reduce\n",
      "  return ufunc.reduce(obj, axis, dtype, out, **passkwargs)\n",
      "../utils/model_tools.py:78: RuntimeWarning: invalid value encountered in true_divide\n",
      "  return e / np.sum(e, axis=-1, keepdims=True)\n"
     ]
    },
    {
     "name": "stdout",
     "output_type": "stream",
     "text": [
      "acc test:  0.10553278688524591\n",
      "Weights are saved to dataset_kfold_2/9_exp/acc_0.11_ep_1_exp/weights.ckpt\n",
      "Model's architecture is saved to dataset_kfold_2/9_exp/acc_0.11_ep_1_exp/model.json.\n"
     ]
    },
    {
     "name": "stderr",
     "output_type": "stream",
     "text": [
      "\r",
      "  0%|          | 0/278 [00:00<?, ?it/s]"
     ]
    },
    {
     "name": "stdout",
     "output_type": "stream",
     "text": [
      "ep:  2\n"
     ]
    },
    {
     "name": "stderr",
     "output_type": "stream",
     "text": [
      " 54%|█████▍    | 151/278 [01:02<00:56,  2.26it/s]"
     ]
    },
    {
     "name": "stdout",
     "output_type": "stream",
     "text": [
      "Epoch: 0\n",
      "Cross_Entropy: 0.7346660 \n",
      "Training_Loss: 0.7346660 \n",
      "\n",
      "\n"
     ]
    },
    {
     "name": "stderr",
     "output_type": "stream",
     "text": [
      "100%|██████████| 278/278 [01:53<00:00,  2.45it/s]\n"
     ]
    },
    {
     "name": "stdout",
     "output_type": "stream",
     "text": [
      "acc test:  0.1839139344262295\n",
      "Weights are saved to dataset_kfold_2/9_exp/acc_0.18_ep_2_exp/weights.ckpt\n",
      "Model's architecture is saved to dataset_kfold_2/9_exp/acc_0.18_ep_2_exp/model.json.\n"
     ]
    },
    {
     "name": "stderr",
     "output_type": "stream",
     "text": [
      "  0%|          | 1/278 [00:00<00:46,  5.93it/s]"
     ]
    },
    {
     "name": "stdout",
     "output_type": "stream",
     "text": [
      "ep:  3\n"
     ]
    },
    {
     "name": "stderr",
     "output_type": "stream",
     "text": [
      " 54%|█████▍    | 151/278 [00:59<00:43,  2.92it/s]"
     ]
    },
    {
     "name": "stdout",
     "output_type": "stream",
     "text": [
      "Epoch: 0\n",
      "Cross_Entropy: 0.6529864 \n",
      "Training_Loss: 0.6529864 \n",
      "\n",
      "\n"
     ]
    },
    {
     "name": "stderr",
     "output_type": "stream",
     "text": [
      "100%|██████████| 278/278 [01:53<00:00,  2.44it/s]\n"
     ]
    },
    {
     "name": "stdout",
     "output_type": "stream",
     "text": [
      "acc test:  0.19006147540983606\n",
      "Weights are saved to dataset_kfold_2/9_exp/acc_0.19_ep_3_exp/weights.ckpt\n",
      "Model's architecture is saved to dataset_kfold_2/9_exp/acc_0.19_ep_3_exp/model.json.\n"
     ]
    },
    {
     "name": "stderr",
     "output_type": "stream",
     "text": [
      "\r",
      "  0%|          | 0/278 [00:00<?, ?it/s]"
     ]
    },
    {
     "name": "stdout",
     "output_type": "stream",
     "text": [
      "ep:  4\n"
     ]
    },
    {
     "name": "stderr",
     "output_type": "stream",
     "text": [
      " 54%|█████▍    | 150/278 [01:00<00:41,  3.06it/s]"
     ]
    },
    {
     "name": "stdout",
     "output_type": "stream",
     "text": [
      "Epoch: 0\n",
      "Cross_Entropy: 0.5406572 \n",
      "Training_Loss: 0.5406572 \n",
      "\n",
      "\n"
     ]
    },
    {
     "name": "stderr",
     "output_type": "stream",
     "text": [
      "100%|██████████| 278/278 [01:53<00:00,  2.46it/s]\n"
     ]
    },
    {
     "name": "stdout",
     "output_type": "stream",
     "text": [
      "acc test:  0.5578893442622951\n",
      "Weights are saved to dataset_kfold_2/9_exp/acc_0.56_ep_4_exp/weights.ckpt\n",
      "Model's architecture is saved to dataset_kfold_2/9_exp/acc_0.56_ep_4_exp/model.json.\n"
     ]
    },
    {
     "name": "stderr",
     "output_type": "stream",
     "text": [
      "\r",
      "  0%|          | 0/278 [00:00<?, ?it/s]"
     ]
    },
    {
     "name": "stdout",
     "output_type": "stream",
     "text": [
      "ep:  5\n"
     ]
    },
    {
     "name": "stderr",
     "output_type": "stream",
     "text": [
      " 54%|█████▍    | 150/278 [00:59<00:48,  2.62it/s]"
     ]
    },
    {
     "name": "stdout",
     "output_type": "stream",
     "text": [
      "Epoch: 0\n",
      "Cross_Entropy: 0.4467201 \n",
      "Training_Loss: 0.4467201 \n",
      "\n",
      "\n"
     ]
    },
    {
     "name": "stderr",
     "output_type": "stream",
     "text": [
      "100%|██████████| 278/278 [01:51<00:00,  2.50it/s]\n"
     ]
    },
    {
     "name": "stdout",
     "output_type": "stream",
     "text": [
      "acc test:  0.1285860655737705\n",
      "Weights are saved to dataset_kfold_2/9_exp/acc_0.13_ep_5_exp/weights.ckpt\n",
      "Model's architecture is saved to dataset_kfold_2/9_exp/acc_0.13_ep_5_exp/model.json.\n"
     ]
    },
    {
     "name": "stderr",
     "output_type": "stream",
     "text": [
      "\r",
      "  0%|          | 0/278 [00:00<?, ?it/s]"
     ]
    },
    {
     "name": "stdout",
     "output_type": "stream",
     "text": [
      "ep:  6\n"
     ]
    },
    {
     "name": "stderr",
     "output_type": "stream",
     "text": [
      " 54%|█████▍    | 150/278 [01:01<00:57,  2.23it/s]"
     ]
    },
    {
     "name": "stdout",
     "output_type": "stream",
     "text": [
      "Epoch: 0\n",
      "Cross_Entropy: 0.7333871 \n",
      "Training_Loss: 0.7333871 \n",
      "\n",
      "\n"
     ]
    },
    {
     "name": "stderr",
     "output_type": "stream",
     "text": [
      "100%|██████████| 278/278 [01:53<00:00,  2.45it/s]\n"
     ]
    },
    {
     "name": "stdout",
     "output_type": "stream",
     "text": [
      "acc test:  0.6014344262295082\n",
      "Weights are saved to dataset_kfold_2/9_exp/acc_0.6_ep_6_exp/weights.ckpt\n",
      "Model's architecture is saved to dataset_kfold_2/9_exp/acc_0.6_ep_6_exp/model.json.\n"
     ]
    },
    {
     "name": "stderr",
     "output_type": "stream",
     "text": [
      "  0%|          | 1/278 [00:00<00:47,  5.87it/s]"
     ]
    },
    {
     "name": "stdout",
     "output_type": "stream",
     "text": [
      "ep:  7\n"
     ]
    },
    {
     "name": "stderr",
     "output_type": "stream",
     "text": [
      " 54%|█████▍    | 150/278 [01:01<00:54,  2.34it/s]"
     ]
    },
    {
     "name": "stdout",
     "output_type": "stream",
     "text": [
      "Epoch: 0\n",
      "Cross_Entropy: 0.3884164 \n",
      "Training_Loss: 0.3884164 \n",
      "\n",
      "\n"
     ]
    },
    {
     "name": "stderr",
     "output_type": "stream",
     "text": [
      "100%|██████████| 278/278 [01:58<00:00,  2.35it/s]\n"
     ]
    },
    {
     "name": "stdout",
     "output_type": "stream",
     "text": [
      "acc test:  0.09170081967213115\n",
      "Weights are saved to dataset_kfold_2/9_exp/acc_0.09_ep_7_exp/weights.ckpt\n",
      "Model's architecture is saved to dataset_kfold_2/9_exp/acc_0.09_ep_7_exp/model.json.\n"
     ]
    },
    {
     "name": "stderr",
     "output_type": "stream",
     "text": [
      "\r",
      "  0%|          | 0/278 [00:00<?, ?it/s]"
     ]
    },
    {
     "name": "stdout",
     "output_type": "stream",
     "text": [
      "ep:  8\n"
     ]
    },
    {
     "name": "stderr",
     "output_type": "stream",
     "text": [
      " 54%|█████▍    | 150/278 [01:01<00:43,  2.92it/s]"
     ]
    },
    {
     "name": "stdout",
     "output_type": "stream",
     "text": [
      "Epoch: 0\n",
      "Cross_Entropy: 0.8684096 \n",
      "Training_Loss: 0.8684096 \n",
      "\n",
      "\n"
     ]
    },
    {
     "name": "stderr",
     "output_type": "stream",
     "text": [
      "100%|██████████| 278/278 [01:52<00:00,  2.47it/s]\n"
     ]
    },
    {
     "name": "stdout",
     "output_type": "stream",
     "text": [
      "acc test:  0.21413934426229508\n",
      "Weights are saved to dataset_kfold_2/9_exp/acc_0.21_ep_8_exp/weights.ckpt\n",
      "Model's architecture is saved to dataset_kfold_2/9_exp/acc_0.21_ep_8_exp/model.json.\n"
     ]
    },
    {
     "name": "stderr",
     "output_type": "stream",
     "text": [
      "  0%|          | 1/278 [00:00<00:48,  5.69it/s]"
     ]
    },
    {
     "name": "stdout",
     "output_type": "stream",
     "text": [
      "ep:  9\n"
     ]
    },
    {
     "name": "stderr",
     "output_type": "stream",
     "text": [
      " 54%|█████▍    | 150/278 [01:00<00:46,  2.75it/s]"
     ]
    },
    {
     "name": "stdout",
     "output_type": "stream",
     "text": [
      "Epoch: 0\n",
      "Cross_Entropy: 0.5133554 \n",
      "Training_Loss: 0.5133554 \n",
      "\n",
      "\n"
     ]
    },
    {
     "name": "stderr",
     "output_type": "stream",
     "text": [
      "100%|██████████| 278/278 [01:54<00:00,  2.42it/s]\n"
     ]
    },
    {
     "name": "stdout",
     "output_type": "stream",
     "text": [
      "acc test:  0.25563524590163933\n",
      "Weights are saved to dataset_kfold_2/9_exp/acc_0.26_ep_9_exp/weights.ckpt\n",
      "Model's architecture is saved to dataset_kfold_2/9_exp/acc_0.26_ep_9_exp/model.json.\n"
     ]
    },
    {
     "name": "stderr",
     "output_type": "stream",
     "text": [
      "\r",
      "  0%|          | 0/278 [00:00<?, ?it/s]"
     ]
    },
    {
     "name": "stdout",
     "output_type": "stream",
     "text": [
      "ep:  10\n"
     ]
    },
    {
     "name": "stderr",
     "output_type": "stream",
     "text": [
      " 54%|█████▍    | 151/278 [01:02<00:35,  3.56it/s]"
     ]
    },
    {
     "name": "stdout",
     "output_type": "stream",
     "text": [
      "Epoch: 0\n",
      "Cross_Entropy: 1.2939821 \n",
      "Training_Loss: 1.2939821 \n",
      "\n",
      "\n"
     ]
    },
    {
     "name": "stderr",
     "output_type": "stream",
     "text": [
      "100%|██████████| 278/278 [01:54<00:00,  2.43it/s]\n"
     ]
    },
    {
     "name": "stdout",
     "output_type": "stream",
     "text": [
      "acc test:  0.49334016393442626\n",
      "Weights are saved to dataset_kfold_2/9_exp/acc_0.49_ep_10_exp/weights.ckpt\n",
      "Model's architecture is saved to dataset_kfold_2/9_exp/acc_0.49_ep_10_exp/model.json.\n"
     ]
    },
    {
     "name": "stderr",
     "output_type": "stream",
     "text": [
      "\r",
      "  0%|          | 0/278 [00:00<?, ?it/s]"
     ]
    },
    {
     "name": "stdout",
     "output_type": "stream",
     "text": [
      "ep:  11\n"
     ]
    },
    {
     "name": "stderr",
     "output_type": "stream",
     "text": [
      " 54%|█████▍    | 151/278 [01:03<00:42,  3.00it/s]"
     ]
    },
    {
     "name": "stdout",
     "output_type": "stream",
     "text": [
      "Epoch: 0\n",
      "Cross_Entropy: 0.3929177 \n",
      "Training_Loss: 0.3929177 \n",
      "\n",
      "\n"
     ]
    },
    {
     "name": "stderr",
     "output_type": "stream",
     "text": [
      "100%|██████████| 278/278 [01:59<00:00,  2.32it/s]\n"
     ]
    },
    {
     "name": "stdout",
     "output_type": "stream",
     "text": [
      "acc test:  0.8627049180327869\n",
      "Weights are saved to dataset_kfold_2/9_exp/acc_0.86_ep_11_exp/weights.ckpt\n",
      "Model's architecture is saved to dataset_kfold_2/9_exp/acc_0.86_ep_11_exp/model.json.\n"
     ]
    },
    {
     "name": "stderr",
     "output_type": "stream",
     "text": [
      "\r",
      "  0%|          | 0/278 [00:00<?, ?it/s]"
     ]
    },
    {
     "name": "stdout",
     "output_type": "stream",
     "text": [
      "ep:  12\n"
     ]
    },
    {
     "name": "stderr",
     "output_type": "stream",
     "text": [
      " 54%|█████▍    | 151/278 [01:01<00:39,  3.20it/s]"
     ]
    },
    {
     "name": "stdout",
     "output_type": "stream",
     "text": [
      "Epoch: 0\n",
      "Cross_Entropy: 0.3300333 \n",
      "Training_Loss: 0.3300333 \n",
      "\n",
      "\n"
     ]
    },
    {
     "name": "stderr",
     "output_type": "stream",
     "text": [
      "100%|██████████| 278/278 [01:49<00:00,  2.53it/s]\n"
     ]
    },
    {
     "name": "stdout",
     "output_type": "stream",
     "text": [
      "acc test:  0.22592213114754098\n",
      "Weights are saved to dataset_kfold_2/9_exp/acc_0.23_ep_12_exp/weights.ckpt\n",
      "Model's architecture is saved to dataset_kfold_2/9_exp/acc_0.23_ep_12_exp/model.json.\n"
     ]
    },
    {
     "name": "stderr",
     "output_type": "stream",
     "text": [
      "\r",
      "  0%|          | 0/278 [00:00<?, ?it/s]"
     ]
    },
    {
     "name": "stdout",
     "output_type": "stream",
     "text": [
      "ep:  13\n"
     ]
    },
    {
     "name": "stderr",
     "output_type": "stream",
     "text": [
      " 54%|█████▍    | 150/278 [01:02<00:58,  2.20it/s]"
     ]
    },
    {
     "name": "stdout",
     "output_type": "stream",
     "text": [
      "Epoch: 0\n",
      "Cross_Entropy: 0.5045320 \n",
      "Training_Loss: 0.5045320 \n",
      "\n",
      "\n"
     ]
    },
    {
     "name": "stderr",
     "output_type": "stream",
     "text": [
      "100%|██████████| 278/278 [01:50<00:00,  2.51it/s]\n"
     ]
    },
    {
     "name": "stdout",
     "output_type": "stream",
     "text": [
      "acc test:  0.7295081967213115\n",
      "Weights are saved to dataset_kfold_2/9_exp/acc_0.73_ep_13_exp/weights.ckpt\n",
      "Model's architecture is saved to dataset_kfold_2/9_exp/acc_0.73_ep_13_exp/model.json.\n"
     ]
    },
    {
     "name": "stderr",
     "output_type": "stream",
     "text": [
      "\r",
      "  0%|          | 0/278 [00:00<?, ?it/s]"
     ]
    },
    {
     "name": "stdout",
     "output_type": "stream",
     "text": [
      "ep:  14\n"
     ]
    },
    {
     "name": "stderr",
     "output_type": "stream",
     "text": [
      " 54%|█████▍    | 150/278 [01:03<01:01,  2.09it/s]"
     ]
    },
    {
     "name": "stdout",
     "output_type": "stream",
     "text": [
      "Epoch: 0\n",
      "Cross_Entropy: 0.3194680 \n",
      "Training_Loss: 0.3194680 \n",
      "\n",
      "\n"
     ]
    },
    {
     "name": "stderr",
     "output_type": "stream",
     "text": [
      "100%|██████████| 278/278 [01:56<00:00,  2.39it/s]\n"
     ]
    },
    {
     "name": "stdout",
     "output_type": "stream",
     "text": [
      "acc test:  0.7638319672131147\n",
      "Weights are saved to dataset_kfold_2/9_exp/acc_0.76_ep_14_exp/weights.ckpt\n",
      "Model's architecture is saved to dataset_kfold_2/9_exp/acc_0.76_ep_14_exp/model.json.\n"
     ]
    },
    {
     "name": "stderr",
     "output_type": "stream",
     "text": [
      "\r",
      "  0%|          | 0/278 [00:00<?, ?it/s]"
     ]
    },
    {
     "name": "stdout",
     "output_type": "stream",
     "text": [
      "ep:  15\n"
     ]
    },
    {
     "name": "stderr",
     "output_type": "stream",
     "text": [
      " 54%|█████▍    | 151/278 [01:00<00:46,  2.75it/s]"
     ]
    },
    {
     "name": "stdout",
     "output_type": "stream",
     "text": [
      "Epoch: 0\n",
      "Cross_Entropy: 0.2587707 \n",
      "Training_Loss: 0.2587707 \n",
      "\n",
      "\n"
     ]
    },
    {
     "name": "stderr",
     "output_type": "stream",
     "text": [
      "100%|██████████| 278/278 [01:50<00:00,  2.52it/s]\n"
     ]
    },
    {
     "name": "stdout",
     "output_type": "stream",
     "text": [
      "acc test:  0.7653688524590164\n",
      "Weights are saved to dataset_kfold_2/9_exp/acc_0.77_ep_15_exp/weights.ckpt\n",
      "Model's architecture is saved to dataset_kfold_2/9_exp/acc_0.77_ep_15_exp/model.json.\n"
     ]
    },
    {
     "name": "stderr",
     "output_type": "stream",
     "text": [
      "\r",
      "  0%|          | 0/278 [00:00<?, ?it/s]"
     ]
    },
    {
     "name": "stdout",
     "output_type": "stream",
     "text": [
      "ep:  16\n"
     ]
    },
    {
     "name": "stderr",
     "output_type": "stream",
     "text": [
      " 54%|█████▍    | 151/278 [01:03<00:41,  3.06it/s]"
     ]
    },
    {
     "name": "stdout",
     "output_type": "stream",
     "text": [
      "Epoch: 0\n",
      "Cross_Entropy: 0.1375071 \n",
      "Training_Loss: 0.1375071 \n",
      "\n",
      "\n"
     ]
    },
    {
     "name": "stderr",
     "output_type": "stream",
     "text": [
      "100%|██████████| 278/278 [01:59<00:00,  2.33it/s]\n"
     ]
    },
    {
     "name": "stdout",
     "output_type": "stream",
     "text": [
      "acc test:  0.8473360655737705\n",
      "Weights are saved to dataset_kfold_2/9_exp/acc_0.85_ep_16_exp/weights.ckpt\n",
      "Model's architecture is saved to dataset_kfold_2/9_exp/acc_0.85_ep_16_exp/model.json.\n"
     ]
    },
    {
     "name": "stderr",
     "output_type": "stream",
     "text": [
      "  0%|          | 1/278 [00:00<00:47,  5.83it/s]"
     ]
    },
    {
     "name": "stdout",
     "output_type": "stream",
     "text": [
      "ep:  17\n"
     ]
    },
    {
     "name": "stderr",
     "output_type": "stream",
     "text": [
      " 54%|█████▍    | 150/278 [01:03<00:45,  2.82it/s]"
     ]
    },
    {
     "name": "stdout",
     "output_type": "stream",
     "text": [
      "Epoch: 0\n",
      "Cross_Entropy: 0.1683611 \n",
      "Training_Loss: 0.1683611 \n",
      "\n",
      "\n"
     ]
    },
    {
     "name": "stderr",
     "output_type": "stream",
     "text": [
      "100%|██████████| 278/278 [01:55<00:00,  2.41it/s]\n"
     ]
    },
    {
     "name": "stdout",
     "output_type": "stream",
     "text": [
      "acc test:  0.9482581967213115\n",
      "Weights are saved to dataset_kfold_2/9_exp/acc_0.95_ep_17_exp/weights.ckpt\n",
      "Model's architecture is saved to dataset_kfold_2/9_exp/acc_0.95_ep_17_exp/model.json.\n"
     ]
    },
    {
     "name": "stderr",
     "output_type": "stream",
     "text": [
      "\r",
      "  0%|          | 0/278 [00:00<?, ?it/s]"
     ]
    },
    {
     "name": "stdout",
     "output_type": "stream",
     "text": [
      "ep:  18\n"
     ]
    },
    {
     "name": "stderr",
     "output_type": "stream",
     "text": [
      " 54%|█████▍    | 151/278 [01:00<00:49,  2.55it/s]"
     ]
    },
    {
     "name": "stdout",
     "output_type": "stream",
     "text": [
      "Epoch: 0\n",
      "Cross_Entropy: 0.1114535 \n",
      "Training_Loss: 0.1114535 \n",
      "\n",
      "\n"
     ]
    },
    {
     "name": "stderr",
     "output_type": "stream",
     "text": [
      "100%|██████████| 278/278 [01:52<00:00,  2.48it/s]\n"
     ]
    },
    {
     "name": "stdout",
     "output_type": "stream",
     "text": [
      "acc test:  0.579405737704918\n",
      "Weights are saved to dataset_kfold_2/9_exp/acc_0.58_ep_18_exp/weights.ckpt\n",
      "Model's architecture is saved to dataset_kfold_2/9_exp/acc_0.58_ep_18_exp/model.json.\n"
     ]
    },
    {
     "name": "stderr",
     "output_type": "stream",
     "text": [
      "  0%|          | 1/278 [00:00<00:49,  5.65it/s]"
     ]
    },
    {
     "name": "stdout",
     "output_type": "stream",
     "text": [
      "ep:  19\n"
     ]
    },
    {
     "name": "stderr",
     "output_type": "stream",
     "text": [
      " 54%|█████▍    | 150/278 [01:02<00:45,  2.84it/s]"
     ]
    },
    {
     "name": "stdout",
     "output_type": "stream",
     "text": [
      "Epoch: 0\n",
      "Cross_Entropy: 0.1017701 \n",
      "Training_Loss: 0.1017701 \n",
      "\n",
      "\n"
     ]
    },
    {
     "name": "stderr",
     "output_type": "stream",
     "text": [
      "100%|██████████| 278/278 [01:54<00:00,  2.43it/s]\n"
     ]
    },
    {
     "name": "stdout",
     "output_type": "stream",
     "text": [
      "acc test:  0.7515368852459017\n",
      "Weights are saved to dataset_kfold_2/9_exp/acc_0.75_ep_19_exp/weights.ckpt\n",
      "Model's architecture is saved to dataset_kfold_2/9_exp/acc_0.75_ep_19_exp/model.json.\n"
     ]
    },
    {
     "name": "stderr",
     "output_type": "stream",
     "text": [
      "100%|██████████| 17820/17820 [00:27<00:00, 643.35it/s]\n",
      "100%|██████████| 1980/1980 [00:03<00:00, 650.98it/s]\n"
     ]
    },
    {
     "name": "stdout",
     "output_type": "stream",
     "text": [
      "train :  17820\n",
      "test:  1980\n",
      "Loss is built.\n",
      "ep:  0\n",
      "Collecting histogram tensors...\n"
     ]
    },
    {
     "name": "stderr",
     "output_type": "stream",
     "text": [
      "\r",
      "  0%|          | 0/278 [00:00<?, ?it/s]"
     ]
    },
    {
     "name": "stdout",
     "output_type": "stream",
     "text": [
      "New optimizer is used.\n"
     ]
    },
    {
     "name": "stderr",
     "output_type": "stream",
     "text": [
      " 54%|█████▍    | 150/278 [01:04<01:04,  1.99it/s]"
     ]
    },
    {
     "name": "stdout",
     "output_type": "stream",
     "text": [
      "Epoch: 0\n",
      "Cross_Entropy: 0.7897660 \n",
      "Training_Loss: 0.7897660 \n",
      "\n",
      "\n"
     ]
    },
    {
     "name": "stderr",
     "output_type": "stream",
     "text": [
      "100%|██████████| 278/278 [01:57<00:00,  2.36it/s]\n"
     ]
    },
    {
     "name": "stdout",
     "output_type": "stream",
     "text": [
      "acc test:  0.19211065573770492\n",
      "Weights are saved to dataset_kfold_2/8_exp/acc_0.19_ep_0_exp/weights.ckpt\n",
      "Model's architecture is saved to dataset_kfold_2/8_exp/acc_0.19_ep_0_exp/model.json.\n"
     ]
    },
    {
     "name": "stderr",
     "output_type": "stream",
     "text": [
      "  0%|          | 1/278 [00:00<00:46,  5.91it/s]"
     ]
    },
    {
     "name": "stdout",
     "output_type": "stream",
     "text": [
      "ep:  1\n"
     ]
    },
    {
     "name": "stderr",
     "output_type": "stream",
     "text": [
      " 54%|█████▍    | 150/278 [01:02<01:11,  1.78it/s]"
     ]
    },
    {
     "name": "stdout",
     "output_type": "stream",
     "text": [
      "Epoch: 0\n",
      "Cross_Entropy: 0.6041601 \n",
      "Training_Loss: 0.6041601 \n",
      "\n",
      "\n"
     ]
    },
    {
     "name": "stderr",
     "output_type": "stream",
     "text": [
      "100%|██████████| 278/278 [01:51<00:00,  2.49it/s]\n"
     ]
    },
    {
     "name": "stdout",
     "output_type": "stream",
     "text": [
      "acc test:  0.16188524590163936\n",
      "Weights are saved to dataset_kfold_2/8_exp/acc_0.16_ep_1_exp/weights.ckpt\n",
      "Model's architecture is saved to dataset_kfold_2/8_exp/acc_0.16_ep_1_exp/model.json.\n"
     ]
    },
    {
     "name": "stderr",
     "output_type": "stream",
     "text": [
      "\r",
      "  0%|          | 0/278 [00:00<?, ?it/s]"
     ]
    },
    {
     "name": "stdout",
     "output_type": "stream",
     "text": [
      "ep:  2\n"
     ]
    },
    {
     "name": "stderr",
     "output_type": "stream",
     "text": [
      " 54%|█████▍    | 151/278 [01:00<00:32,  3.94it/s]"
     ]
    },
    {
     "name": "stdout",
     "output_type": "stream",
     "text": [
      "Epoch: 0\n",
      "Cross_Entropy: 0.3607612 \n",
      "Training_Loss: 0.3607612 \n",
      "\n",
      "\n"
     ]
    },
    {
     "name": "stderr",
     "output_type": "stream",
     "text": [
      "100%|██████████| 278/278 [01:51<00:00,  2.48it/s]\n"
     ]
    },
    {
     "name": "stdout",
     "output_type": "stream",
     "text": [
      "acc test:  0.1869877049180328\n",
      "Weights are saved to dataset_kfold_2/8_exp/acc_0.19_ep_2_exp/weights.ckpt\n",
      "Model's architecture is saved to dataset_kfold_2/8_exp/acc_0.19_ep_2_exp/model.json.\n"
     ]
    },
    {
     "name": "stderr",
     "output_type": "stream",
     "text": [
      "  0%|          | 1/278 [00:00<00:47,  5.79it/s]"
     ]
    },
    {
     "name": "stdout",
     "output_type": "stream",
     "text": [
      "ep:  3\n"
     ]
    },
    {
     "name": "stderr",
     "output_type": "stream",
     "text": [
      " 54%|█████▍    | 150/278 [00:59<00:45,  2.82it/s]"
     ]
    },
    {
     "name": "stdout",
     "output_type": "stream",
     "text": [
      "Epoch: 0\n",
      "Cross_Entropy: 0.3091433 \n",
      "Training_Loss: 0.3091433 \n",
      "\n",
      "\n"
     ]
    },
    {
     "name": "stderr",
     "output_type": "stream",
     "text": [
      "100%|██████████| 278/278 [01:53<00:00,  2.44it/s]\n"
     ]
    },
    {
     "name": "stdout",
     "output_type": "stream",
     "text": [
      "acc test:  0.5112704918032787\n",
      "Weights are saved to dataset_kfold_2/8_exp/acc_0.51_ep_3_exp/weights.ckpt\n",
      "Model's architecture is saved to dataset_kfold_2/8_exp/acc_0.51_ep_3_exp/model.json.\n"
     ]
    },
    {
     "name": "stderr",
     "output_type": "stream",
     "text": [
      "\r",
      "  0%|          | 0/278 [00:00<?, ?it/s]"
     ]
    },
    {
     "name": "stdout",
     "output_type": "stream",
     "text": [
      "ep:  4\n"
     ]
    },
    {
     "name": "stderr",
     "output_type": "stream",
     "text": [
      " 54%|█████▍    | 150/278 [00:59<01:01,  2.09it/s]"
     ]
    },
    {
     "name": "stdout",
     "output_type": "stream",
     "text": [
      "Epoch: 0\n",
      "Cross_Entropy: 0.2379055 \n",
      "Training_Loss: 0.2379055 \n",
      "\n",
      "\n"
     ]
    },
    {
     "name": "stderr",
     "output_type": "stream",
     "text": [
      "100%|██████████| 278/278 [01:53<00:00,  2.45it/s]\n"
     ]
    },
    {
     "name": "stdout",
     "output_type": "stream",
     "text": [
      "acc test:  0.19313524590163936\n",
      "Weights are saved to dataset_kfold_2/8_exp/acc_0.19_ep_4_exp/weights.ckpt\n",
      "Model's architecture is saved to dataset_kfold_2/8_exp/acc_0.19_ep_4_exp/model.json.\n"
     ]
    },
    {
     "name": "stderr",
     "output_type": "stream",
     "text": [
      "\r",
      "  0%|          | 0/278 [00:00<?, ?it/s]"
     ]
    },
    {
     "name": "stdout",
     "output_type": "stream",
     "text": [
      "ep:  5\n"
     ]
    },
    {
     "name": "stderr",
     "output_type": "stream",
     "text": [
      " 54%|█████▍    | 150/278 [01:01<00:58,  2.18it/s]"
     ]
    },
    {
     "name": "stdout",
     "output_type": "stream",
     "text": [
      "Epoch: 0\n",
      "Cross_Entropy: 0.2076228 \n",
      "Training_Loss: 0.2076228 \n",
      "\n",
      "\n"
     ]
    },
    {
     "name": "stderr",
     "output_type": "stream",
     "text": [
      "100%|██████████| 278/278 [01:51<00:00,  2.50it/s]\n"
     ]
    },
    {
     "name": "stdout",
     "output_type": "stream",
     "text": [
      "acc test:  0.48924180327868855\n",
      "Weights are saved to dataset_kfold_2/8_exp/acc_0.49_ep_5_exp/weights.ckpt\n",
      "Model's architecture is saved to dataset_kfold_2/8_exp/acc_0.49_ep_5_exp/model.json.\n"
     ]
    },
    {
     "name": "stderr",
     "output_type": "stream",
     "text": [
      "\r",
      "  0%|          | 0/278 [00:00<?, ?it/s]"
     ]
    },
    {
     "name": "stdout",
     "output_type": "stream",
     "text": [
      "ep:  6\n"
     ]
    },
    {
     "name": "stderr",
     "output_type": "stream",
     "text": [
      " 54%|█████▍    | 150/278 [00:59<00:53,  2.39it/s]"
     ]
    },
    {
     "name": "stdout",
     "output_type": "stream",
     "text": [
      "Epoch: 0\n",
      "Cross_Entropy: 0.1605284 \n",
      "Training_Loss: 0.1605284 \n",
      "\n",
      "\n"
     ]
    },
    {
     "name": "stderr",
     "output_type": "stream",
     "text": [
      "100%|██████████| 278/278 [01:46<00:00,  2.62it/s]\n"
     ]
    },
    {
     "name": "stdout",
     "output_type": "stream",
     "text": [
      "acc test:  0.4057377049180328\n",
      "Weights are saved to dataset_kfold_2/8_exp/acc_0.41_ep_6_exp/weights.ckpt\n",
      "Model's architecture is saved to dataset_kfold_2/8_exp/acc_0.41_ep_6_exp/model.json.\n"
     ]
    },
    {
     "name": "stderr",
     "output_type": "stream",
     "text": [
      "\r",
      "  0%|          | 0/278 [00:00<?, ?it/s]"
     ]
    },
    {
     "name": "stdout",
     "output_type": "stream",
     "text": [
      "ep:  7\n"
     ]
    },
    {
     "name": "stderr",
     "output_type": "stream",
     "text": [
      " 54%|█████▍    | 150/278 [00:59<01:13,  1.75it/s]"
     ]
    },
    {
     "name": "stdout",
     "output_type": "stream",
     "text": [
      "Epoch: 0\n",
      "Cross_Entropy: 0.1364828 \n",
      "Training_Loss: 0.1364828 \n",
      "\n",
      "\n"
     ]
    },
    {
     "name": "stderr",
     "output_type": "stream",
     "text": [
      "100%|██████████| 278/278 [01:53<00:00,  2.44it/s]\n"
     ]
    },
    {
     "name": "stdout",
     "output_type": "stream",
     "text": [
      "acc test:  0.46311475409836067\n",
      "Weights are saved to dataset_kfold_2/8_exp/acc_0.46_ep_7_exp/weights.ckpt\n",
      "Model's architecture is saved to dataset_kfold_2/8_exp/acc_0.46_ep_7_exp/model.json.\n"
     ]
    },
    {
     "name": "stderr",
     "output_type": "stream",
     "text": [
      "  0%|          | 1/278 [00:00<00:53,  5.19it/s]"
     ]
    },
    {
     "name": "stdout",
     "output_type": "stream",
     "text": [
      "ep:  8\n"
     ]
    },
    {
     "name": "stderr",
     "output_type": "stream",
     "text": [
      " 54%|█████▍    | 150/278 [01:03<01:07,  1.89it/s]"
     ]
    },
    {
     "name": "stdout",
     "output_type": "stream",
     "text": [
      "Epoch: 0\n",
      "Cross_Entropy: 0.0514508 \n",
      "Training_Loss: 0.0514508 \n",
      "\n",
      "\n"
     ]
    },
    {
     "name": "stderr",
     "output_type": "stream",
     "text": [
      "100%|██████████| 278/278 [01:56<00:00,  2.39it/s]\n"
     ]
    },
    {
     "name": "stdout",
     "output_type": "stream",
     "text": [
      "acc test:  0.7756147540983607\n",
      "Weights are saved to dataset_kfold_2/8_exp/acc_0.78_ep_8_exp/weights.ckpt\n",
      "Model's architecture is saved to dataset_kfold_2/8_exp/acc_0.78_ep_8_exp/model.json.\n"
     ]
    },
    {
     "name": "stderr",
     "output_type": "stream",
     "text": [
      "\r",
      "  0%|          | 0/278 [00:00<?, ?it/s]"
     ]
    },
    {
     "name": "stdout",
     "output_type": "stream",
     "text": [
      "ep:  9\n"
     ]
    },
    {
     "name": "stderr",
     "output_type": "stream",
     "text": [
      " 54%|█████▍    | 150/278 [00:59<00:43,  2.92it/s]"
     ]
    },
    {
     "name": "stdout",
     "output_type": "stream",
     "text": [
      "Epoch: 0\n",
      "Cross_Entropy: 0.1489089 \n",
      "Training_Loss: 0.1489089 \n",
      "\n",
      "\n"
     ]
    },
    {
     "name": "stderr",
     "output_type": "stream",
     "text": [
      "100%|██████████| 278/278 [01:53<00:00,  2.45it/s]\n"
     ]
    },
    {
     "name": "stdout",
     "output_type": "stream",
     "text": [
      "acc test:  0.19569672131147542\n",
      "Weights are saved to dataset_kfold_2/8_exp/acc_0.2_ep_9_exp/weights.ckpt\n",
      "Model's architecture is saved to dataset_kfold_2/8_exp/acc_0.2_ep_9_exp/model.json.\n"
     ]
    },
    {
     "name": "stderr",
     "output_type": "stream",
     "text": [
      "\r",
      "  0%|          | 0/278 [00:00<?, ?it/s]"
     ]
    },
    {
     "name": "stdout",
     "output_type": "stream",
     "text": [
      "ep:  10\n"
     ]
    },
    {
     "name": "stderr",
     "output_type": "stream",
     "text": [
      " 54%|█████▍    | 151/278 [01:00<00:46,  2.75it/s]"
     ]
    },
    {
     "name": "stdout",
     "output_type": "stream",
     "text": [
      "Epoch: 0\n",
      "Cross_Entropy: 0.0998220 \n",
      "Training_Loss: 0.0998220 \n",
      "\n",
      "\n"
     ]
    },
    {
     "name": "stderr",
     "output_type": "stream",
     "text": [
      "100%|██████████| 278/278 [01:49<00:00,  2.53it/s]\n"
     ]
    },
    {
     "name": "stdout",
     "output_type": "stream",
     "text": [
      "acc test:  0.6173155737704918\n",
      "Weights are saved to dataset_kfold_2/8_exp/acc_0.62_ep_10_exp/weights.ckpt\n",
      "Model's architecture is saved to dataset_kfold_2/8_exp/acc_0.62_ep_10_exp/model.json.\n"
     ]
    },
    {
     "name": "stderr",
     "output_type": "stream",
     "text": [
      "\r",
      "  0%|          | 0/278 [00:00<?, ?it/s]"
     ]
    },
    {
     "name": "stdout",
     "output_type": "stream",
     "text": [
      "ep:  11\n"
     ]
    },
    {
     "name": "stderr",
     "output_type": "stream",
     "text": [
      " 54%|█████▍    | 150/278 [01:03<00:51,  2.48it/s]"
     ]
    },
    {
     "name": "stdout",
     "output_type": "stream",
     "text": [
      "Epoch: 0\n",
      "Cross_Entropy: 0.2711952 \n",
      "Training_Loss: 0.2711952 \n",
      "\n",
      "\n"
     ]
    },
    {
     "name": "stderr",
     "output_type": "stream",
     "text": [
      "100%|██████████| 278/278 [01:58<00:00,  2.34it/s]\n",
      "../utils/model_tools.py:77: RuntimeWarning: overflow encountered in exp\n",
      "  e = np.exp(A)\n",
      "../utils/model_tools.py:78: RuntimeWarning: invalid value encountered in true_divide\n",
      "  return e / np.sum(e, axis=-1, keepdims=True)\n"
     ]
    },
    {
     "name": "stdout",
     "output_type": "stream",
     "text": [
      "acc test:  0.27151639344262296\n",
      "Weights are saved to dataset_kfold_2/8_exp/acc_0.27_ep_11_exp/weights.ckpt\n",
      "Model's architecture is saved to dataset_kfold_2/8_exp/acc_0.27_ep_11_exp/model.json.\n"
     ]
    },
    {
     "name": "stderr",
     "output_type": "stream",
     "text": [
      "\r",
      "  0%|          | 0/278 [00:00<?, ?it/s]"
     ]
    },
    {
     "name": "stdout",
     "output_type": "stream",
     "text": [
      "ep:  12\n"
     ]
    },
    {
     "name": "stderr",
     "output_type": "stream",
     "text": [
      " 54%|█████▍    | 151/278 [00:58<00:48,  2.59it/s]"
     ]
    },
    {
     "name": "stdout",
     "output_type": "stream",
     "text": [
      "Epoch: 0\n",
      "Cross_Entropy: 0.0373675 \n",
      "Training_Loss: 0.0373675 \n",
      "\n",
      "\n"
     ]
    },
    {
     "name": "stderr",
     "output_type": "stream",
     "text": [
      "100%|██████████| 278/278 [01:50<00:00,  2.52it/s]\n"
     ]
    },
    {
     "name": "stdout",
     "output_type": "stream",
     "text": [
      "acc test:  0.576844262295082\n",
      "Weights are saved to dataset_kfold_2/8_exp/acc_0.58_ep_12_exp/weights.ckpt\n",
      "Model's architecture is saved to dataset_kfold_2/8_exp/acc_0.58_ep_12_exp/model.json.\n"
     ]
    },
    {
     "name": "stderr",
     "output_type": "stream",
     "text": [
      "\r",
      "  0%|          | 0/278 [00:00<?, ?it/s]"
     ]
    },
    {
     "name": "stdout",
     "output_type": "stream",
     "text": [
      "ep:  13\n"
     ]
    },
    {
     "name": "stderr",
     "output_type": "stream",
     "text": [
      " 54%|█████▍    | 150/278 [01:03<01:07,  1.89it/s]"
     ]
    },
    {
     "name": "stdout",
     "output_type": "stream",
     "text": [
      "Epoch: 0\n",
      "Cross_Entropy: 0.4805630 \n",
      "Training_Loss: 0.4805630 \n",
      "\n",
      "\n"
     ]
    },
    {
     "name": "stderr",
     "output_type": "stream",
     "text": [
      "100%|██████████| 278/278 [01:55<00:00,  2.41it/s]\n"
     ]
    },
    {
     "name": "stdout",
     "output_type": "stream",
     "text": [
      "acc test:  0.5870901639344263\n",
      "Weights are saved to dataset_kfold_2/8_exp/acc_0.59_ep_13_exp/weights.ckpt\n",
      "Model's architecture is saved to dataset_kfold_2/8_exp/acc_0.59_ep_13_exp/model.json.\n"
     ]
    },
    {
     "name": "stderr",
     "output_type": "stream",
     "text": [
      "\r",
      "  0%|          | 0/278 [00:00<?, ?it/s]"
     ]
    },
    {
     "name": "stdout",
     "output_type": "stream",
     "text": [
      "ep:  14\n"
     ]
    },
    {
     "name": "stderr",
     "output_type": "stream",
     "text": [
      " 54%|█████▍    | 150/278 [01:01<00:48,  2.64it/s]"
     ]
    },
    {
     "name": "stdout",
     "output_type": "stream",
     "text": [
      "Epoch: 0\n",
      "Cross_Entropy: 0.1728960 \n",
      "Training_Loss: 0.1728960 \n",
      "\n",
      "\n"
     ]
    },
    {
     "name": "stderr",
     "output_type": "stream",
     "text": [
      "100%|██████████| 278/278 [01:54<00:00,  2.43it/s]\n"
     ]
    },
    {
     "name": "stdout",
     "output_type": "stream",
     "text": [
      "acc test:  0.8411885245901639\n",
      "Weights are saved to dataset_kfold_2/8_exp/acc_0.84_ep_14_exp/weights.ckpt\n",
      "Model's architecture is saved to dataset_kfold_2/8_exp/acc_0.84_ep_14_exp/model.json.\n"
     ]
    },
    {
     "name": "stderr",
     "output_type": "stream",
     "text": [
      "\r",
      "  0%|          | 0/278 [00:00<?, ?it/s]"
     ]
    },
    {
     "name": "stdout",
     "output_type": "stream",
     "text": [
      "ep:  15\n"
     ]
    },
    {
     "name": "stderr",
     "output_type": "stream",
     "text": [
      " 54%|█████▍    | 150/278 [01:05<01:01,  2.10it/s]"
     ]
    },
    {
     "name": "stdout",
     "output_type": "stream",
     "text": [
      "Epoch: 0\n",
      "Cross_Entropy: 0.1575748 \n",
      "Training_Loss: 0.1575748 \n",
      "\n",
      "\n"
     ]
    },
    {
     "name": "stderr",
     "output_type": "stream",
     "text": [
      "100%|██████████| 278/278 [01:54<00:00,  2.42it/s]\n"
     ]
    },
    {
     "name": "stdout",
     "output_type": "stream",
     "text": [
      "acc test:  0.9631147540983607\n",
      "Weights are saved to dataset_kfold_2/8_exp/acc_0.96_ep_15_exp/weights.ckpt\n",
      "Model's architecture is saved to dataset_kfold_2/8_exp/acc_0.96_ep_15_exp/model.json.\n"
     ]
    },
    {
     "name": "stderr",
     "output_type": "stream",
     "text": [
      "\r",
      "  0%|          | 0/278 [00:00<?, ?it/s]"
     ]
    },
    {
     "name": "stdout",
     "output_type": "stream",
     "text": [
      "ep:  16\n"
     ]
    },
    {
     "name": "stderr",
     "output_type": "stream",
     "text": [
      " 54%|█████▍    | 150/278 [00:58<01:05,  1.96it/s]"
     ]
    },
    {
     "name": "stdout",
     "output_type": "stream",
     "text": [
      "Epoch: 0\n",
      "Cross_Entropy: 0.0957200 \n",
      "Training_Loss: 0.0957200 \n",
      "\n",
      "\n"
     ]
    },
    {
     "name": "stderr",
     "output_type": "stream",
     "text": [
      "100%|██████████| 278/278 [01:46<00:00,  2.61it/s]\n"
     ]
    },
    {
     "name": "stdout",
     "output_type": "stream",
     "text": [
      "acc test:  0.9359631147540983\n",
      "Weights are saved to dataset_kfold_2/8_exp/acc_0.94_ep_16_exp/weights.ckpt\n",
      "Model's architecture is saved to dataset_kfold_2/8_exp/acc_0.94_ep_16_exp/model.json.\n"
     ]
    },
    {
     "name": "stderr",
     "output_type": "stream",
     "text": [
      "  0%|          | 1/278 [00:00<00:47,  5.83it/s]"
     ]
    },
    {
     "name": "stdout",
     "output_type": "stream",
     "text": [
      "ep:  17\n"
     ]
    },
    {
     "name": "stderr",
     "output_type": "stream",
     "text": [
      " 54%|█████▍    | 151/278 [01:03<00:48,  2.64it/s]"
     ]
    },
    {
     "name": "stdout",
     "output_type": "stream",
     "text": [
      "Epoch: 0\n",
      "Cross_Entropy: 0.1124461 \n",
      "Training_Loss: 0.1124461 \n",
      "\n",
      "\n"
     ]
    },
    {
     "name": "stderr",
     "output_type": "stream",
     "text": [
      "100%|██████████| 278/278 [01:54<00:00,  2.43it/s]\n"
     ]
    },
    {
     "name": "stdout",
     "output_type": "stream",
     "text": [
      "acc test:  0.9871926229508197\n",
      "Weights are saved to dataset_kfold_2/8_exp/acc_0.99_ep_17_exp/weights.ckpt\n",
      "Model's architecture is saved to dataset_kfold_2/8_exp/acc_0.99_ep_17_exp/model.json.\n"
     ]
    },
    {
     "name": "stderr",
     "output_type": "stream",
     "text": [
      "\r",
      "  0%|          | 0/278 [00:00<?, ?it/s]"
     ]
    },
    {
     "name": "stdout",
     "output_type": "stream",
     "text": [
      "ep:  18\n"
     ]
    },
    {
     "name": "stderr",
     "output_type": "stream",
     "text": [
      " 54%|█████▍    | 150/278 [00:57<00:59,  2.14it/s]"
     ]
    },
    {
     "name": "stdout",
     "output_type": "stream",
     "text": [
      "Epoch: 0\n",
      "Cross_Entropy: 0.0505359 \n",
      "Training_Loss: 0.0505359 \n",
      "\n",
      "\n"
     ]
    },
    {
     "name": "stderr",
     "output_type": "stream",
     "text": [
      "100%|██████████| 278/278 [01:51<00:00,  2.50it/s]\n"
     ]
    },
    {
     "name": "stdout",
     "output_type": "stream",
     "text": [
      "acc test:  0.9456967213114754\n",
      "Weights are saved to dataset_kfold_2/8_exp/acc_0.95_ep_18_exp/weights.ckpt\n",
      "Model's architecture is saved to dataset_kfold_2/8_exp/acc_0.95_ep_18_exp/model.json.\n"
     ]
    },
    {
     "name": "stderr",
     "output_type": "stream",
     "text": [
      "\r",
      "  0%|          | 0/278 [00:00<?, ?it/s]"
     ]
    },
    {
     "name": "stdout",
     "output_type": "stream",
     "text": [
      "ep:  19\n"
     ]
    },
    {
     "name": "stderr",
     "output_type": "stream",
     "text": [
      " 54%|█████▍    | 150/278 [01:02<00:57,  2.24it/s]"
     ]
    },
    {
     "name": "stdout",
     "output_type": "stream",
     "text": [
      "Epoch: 0\n",
      "Cross_Entropy: 0.1202199 \n",
      "Training_Loss: 0.1202199 \n",
      "\n",
      "\n"
     ]
    },
    {
     "name": "stderr",
     "output_type": "stream",
     "text": [
      "100%|██████████| 278/278 [01:52<00:00,  2.47it/s]\n"
     ]
    },
    {
     "name": "stdout",
     "output_type": "stream",
     "text": [
      "acc test:  0.9462090163934426\n",
      "Weights are saved to dataset_kfold_2/8_exp/acc_0.95_ep_19_exp/weights.ckpt\n",
      "Model's architecture is saved to dataset_kfold_2/8_exp/acc_0.95_ep_19_exp/model.json.\n"
     ]
    },
    {
     "name": "stderr",
     "output_type": "stream",
     "text": [
      "100%|██████████| 17820/17820 [00:26<00:00, 661.45it/s]\n",
      "100%|██████████| 1980/1980 [00:03<00:00, 644.60it/s]\n"
     ]
    },
    {
     "name": "stdout",
     "output_type": "stream",
     "text": [
      "train :  17820\n",
      "test:  1980\n",
      "Loss is built.\n",
      "ep:  0\n",
      "Collecting histogram tensors...\n"
     ]
    },
    {
     "name": "stderr",
     "output_type": "stream",
     "text": [
      "\r",
      "  0%|          | 0/278 [00:00<?, ?it/s]"
     ]
    },
    {
     "name": "stdout",
     "output_type": "stream",
     "text": [
      "New optimizer is used.\n"
     ]
    },
    {
     "name": "stderr",
     "output_type": "stream",
     "text": [
      " 54%|█████▍    | 150/278 [01:02<00:54,  2.33it/s]"
     ]
    },
    {
     "name": "stdout",
     "output_type": "stream",
     "text": [
      "Epoch: 0\n",
      "Cross_Entropy: 0.7909756 \n",
      "Training_Loss: 0.7909756 \n",
      "\n",
      "\n"
     ]
    },
    {
     "name": "stderr",
     "output_type": "stream",
     "text": [
      "100%|██████████| 278/278 [01:57<00:00,  2.37it/s]\n"
     ]
    },
    {
     "name": "stdout",
     "output_type": "stream",
     "text": [
      "acc test:  0.5502049180327869\n",
      "Weights are saved to dataset_kfold_2/5_exp/acc_0.55_ep_0_exp/weights.ckpt\n",
      "Model's architecture is saved to dataset_kfold_2/5_exp/acc_0.55_ep_0_exp/model.json.\n"
     ]
    },
    {
     "name": "stderr",
     "output_type": "stream",
     "text": [
      "\r",
      "  0%|          | 0/278 [00:00<?, ?it/s]"
     ]
    },
    {
     "name": "stdout",
     "output_type": "stream",
     "text": [
      "ep:  1\n"
     ]
    },
    {
     "name": "stderr",
     "output_type": "stream",
     "text": [
      " 54%|█████▍    | 150/278 [01:01<00:49,  2.60it/s]"
     ]
    },
    {
     "name": "stdout",
     "output_type": "stream",
     "text": [
      "Epoch: 0\n",
      "Cross_Entropy: 0.5747434 \n",
      "Training_Loss: 0.5747434 \n",
      "\n",
      "\n"
     ]
    },
    {
     "name": "stderr",
     "output_type": "stream",
     "text": [
      "100%|██████████| 278/278 [01:53<00:00,  2.45it/s]\n"
     ]
    },
    {
     "name": "stdout",
     "output_type": "stream",
     "text": [
      "acc test:  0.38165983606557374\n",
      "Weights are saved to dataset_kfold_2/5_exp/acc_0.38_ep_1_exp/weights.ckpt\n",
      "Model's architecture is saved to dataset_kfold_2/5_exp/acc_0.38_ep_1_exp/model.json.\n"
     ]
    },
    {
     "name": "stderr",
     "output_type": "stream",
     "text": [
      "\r",
      "  0%|          | 0/278 [00:00<?, ?it/s]"
     ]
    },
    {
     "name": "stdout",
     "output_type": "stream",
     "text": [
      "ep:  2\n"
     ]
    },
    {
     "name": "stderr",
     "output_type": "stream",
     "text": [
      " 54%|█████▍    | 150/278 [01:02<00:45,  2.79it/s]"
     ]
    },
    {
     "name": "stdout",
     "output_type": "stream",
     "text": [
      "Epoch: 0\n",
      "Cross_Entropy: 0.3703501 \n",
      "Training_Loss: 0.3703501 \n",
      "\n",
      "\n"
     ]
    },
    {
     "name": "stderr",
     "output_type": "stream",
     "text": [
      "100%|██████████| 278/278 [01:53<00:00,  2.46it/s]\n"
     ]
    },
    {
     "name": "stdout",
     "output_type": "stream",
     "text": [
      "acc test:  0.2735655737704918\n",
      "Weights are saved to dataset_kfold_2/5_exp/acc_0.27_ep_2_exp/weights.ckpt\n",
      "Model's architecture is saved to dataset_kfold_2/5_exp/acc_0.27_ep_2_exp/model.json.\n"
     ]
    },
    {
     "name": "stderr",
     "output_type": "stream",
     "text": [
      "\r",
      "  0%|          | 0/278 [00:00<?, ?it/s]"
     ]
    },
    {
     "name": "stdout",
     "output_type": "stream",
     "text": [
      "ep:  3\n"
     ]
    },
    {
     "name": "stderr",
     "output_type": "stream",
     "text": [
      " 54%|█████▍    | 150/278 [00:58<00:43,  2.93it/s]"
     ]
    },
    {
     "name": "stdout",
     "output_type": "stream",
     "text": [
      "Epoch: 0\n",
      "Cross_Entropy: 0.3195071 \n",
      "Training_Loss: 0.3195071 \n",
      "\n",
      "\n"
     ]
    },
    {
     "name": "stderr",
     "output_type": "stream",
     "text": [
      "100%|██████████| 278/278 [01:50<00:00,  2.52it/s]\n"
     ]
    },
    {
     "name": "stdout",
     "output_type": "stream",
     "text": [
      "acc test:  0.4323770491803279\n",
      "Weights are saved to dataset_kfold_2/5_exp/acc_0.43_ep_3_exp/weights.ckpt\n",
      "Model's architecture is saved to dataset_kfold_2/5_exp/acc_0.43_ep_3_exp/model.json.\n"
     ]
    },
    {
     "name": "stderr",
     "output_type": "stream",
     "text": [
      "  0%|          | 1/278 [00:00<00:51,  5.38it/s]"
     ]
    },
    {
     "name": "stdout",
     "output_type": "stream",
     "text": [
      "ep:  4\n"
     ]
    },
    {
     "name": "stderr",
     "output_type": "stream",
     "text": [
      " 54%|█████▍    | 150/278 [01:03<00:46,  2.78it/s]"
     ]
    },
    {
     "name": "stdout",
     "output_type": "stream",
     "text": [
      "Epoch: 0\n",
      "Cross_Entropy: 0.3752350 \n",
      "Training_Loss: 0.3752350 \n",
      "\n",
      "\n"
     ]
    },
    {
     "name": "stderr",
     "output_type": "stream",
     "text": [
      "100%|██████████| 278/278 [01:54<00:00,  2.42it/s]\n"
     ]
    },
    {
     "name": "stdout",
     "output_type": "stream",
     "text": [
      "acc test:  0.35911885245901637\n",
      "Weights are saved to dataset_kfold_2/5_exp/acc_0.36_ep_4_exp/weights.ckpt\n",
      "Model's architecture is saved to dataset_kfold_2/5_exp/acc_0.36_ep_4_exp/model.json.\n"
     ]
    },
    {
     "name": "stderr",
     "output_type": "stream",
     "text": [
      "  0%|          | 1/278 [00:00<00:47,  5.83it/s]"
     ]
    },
    {
     "name": "stdout",
     "output_type": "stream",
     "text": [
      "ep:  5\n"
     ]
    },
    {
     "name": "stderr",
     "output_type": "stream",
     "text": [
      " 54%|█████▍    | 151/278 [01:02<00:42,  2.96it/s]"
     ]
    },
    {
     "name": "stdout",
     "output_type": "stream",
     "text": [
      "Epoch: 0\n",
      "Cross_Entropy: 0.2023957 \n",
      "Training_Loss: 0.2023957 \n",
      "\n",
      "\n"
     ]
    },
    {
     "name": "stderr",
     "output_type": "stream",
     "text": [
      "100%|██████████| 278/278 [01:54<00:00,  2.44it/s]\n"
     ]
    },
    {
     "name": "stdout",
     "output_type": "stream",
     "text": [
      "acc test:  0.3007172131147541\n",
      "Weights are saved to dataset_kfold_2/5_exp/acc_0.3_ep_5_exp/weights.ckpt\n",
      "Model's architecture is saved to dataset_kfold_2/5_exp/acc_0.3_ep_5_exp/model.json.\n"
     ]
    },
    {
     "name": "stderr",
     "output_type": "stream",
     "text": [
      "\r",
      "  0%|          | 0/278 [00:00<?, ?it/s]"
     ]
    },
    {
     "name": "stdout",
     "output_type": "stream",
     "text": [
      "ep:  6\n"
     ]
    },
    {
     "name": "stderr",
     "output_type": "stream",
     "text": [
      " 54%|█████▍    | 150/278 [01:01<00:38,  3.35it/s]"
     ]
    },
    {
     "name": "stdout",
     "output_type": "stream",
     "text": [
      "Epoch: 0\n",
      "Cross_Entropy: 0.2497165 \n",
      "Training_Loss: 0.2497165 \n",
      "\n",
      "\n"
     ]
    },
    {
     "name": "stderr",
     "output_type": "stream",
     "text": [
      "100%|██████████| 278/278 [01:55<00:00,  2.41it/s]\n",
      "../utils/model_tools.py:77: RuntimeWarning: overflow encountered in exp\n",
      "  e = np.exp(A)\n",
      "../utils/model_tools.py:78: RuntimeWarning: invalid value encountered in true_divide\n",
      "  return e / np.sum(e, axis=-1, keepdims=True)\n"
     ]
    },
    {
     "name": "stdout",
     "output_type": "stream",
     "text": [
      "acc test:  0.7254098360655737\n",
      "Weights are saved to dataset_kfold_2/5_exp/acc_0.73_ep_6_exp/weights.ckpt\n",
      "Model's architecture is saved to dataset_kfold_2/5_exp/acc_0.73_ep_6_exp/model.json.\n"
     ]
    },
    {
     "name": "stderr",
     "output_type": "stream",
     "text": [
      "\r",
      "  0%|          | 0/278 [00:00<?, ?it/s]"
     ]
    },
    {
     "name": "stdout",
     "output_type": "stream",
     "text": [
      "ep:  7\n"
     ]
    },
    {
     "name": "stderr",
     "output_type": "stream",
     "text": [
      " 54%|█████▍    | 150/278 [01:02<00:56,  2.26it/s]"
     ]
    },
    {
     "name": "stdout",
     "output_type": "stream",
     "text": [
      "Epoch: 0\n",
      "Cross_Entropy: 0.1974604 \n",
      "Training_Loss: 0.1974604 \n",
      "\n",
      "\n"
     ]
    },
    {
     "name": "stderr",
     "output_type": "stream",
     "text": [
      "100%|██████████| 278/278 [01:56<00:00,  2.38it/s]\n"
     ]
    },
    {
     "name": "stdout",
     "output_type": "stream",
     "text": [
      "acc test:  0.4328893442622951\n",
      "Weights are saved to dataset_kfold_2/5_exp/acc_0.43_ep_7_exp/weights.ckpt\n",
      "Model's architecture is saved to dataset_kfold_2/5_exp/acc_0.43_ep_7_exp/model.json.\n"
     ]
    },
    {
     "name": "stderr",
     "output_type": "stream",
     "text": [
      "\r",
      "  0%|          | 0/278 [00:00<?, ?it/s]"
     ]
    },
    {
     "name": "stdout",
     "output_type": "stream",
     "text": [
      "ep:  8\n"
     ]
    },
    {
     "name": "stderr",
     "output_type": "stream",
     "text": [
      " 54%|█████▍    | 151/278 [01:00<00:45,  2.76it/s]"
     ]
    },
    {
     "name": "stdout",
     "output_type": "stream",
     "text": [
      "Epoch: 0\n",
      "Cross_Entropy: 0.1224348 \n",
      "Training_Loss: 0.1224348 \n",
      "\n",
      "\n"
     ]
    },
    {
     "name": "stderr",
     "output_type": "stream",
     "text": [
      "100%|██████████| 278/278 [01:52<00:00,  2.48it/s]\n"
     ]
    },
    {
     "name": "stdout",
     "output_type": "stream",
     "text": [
      "acc test:  0.3073770491803279\n",
      "Weights are saved to dataset_kfold_2/5_exp/acc_0.31_ep_8_exp/weights.ckpt\n",
      "Model's architecture is saved to dataset_kfold_2/5_exp/acc_0.31_ep_8_exp/model.json.\n"
     ]
    },
    {
     "name": "stderr",
     "output_type": "stream",
     "text": [
      "  0%|          | 1/278 [00:00<00:49,  5.60it/s]"
     ]
    },
    {
     "name": "stdout",
     "output_type": "stream",
     "text": [
      "ep:  9\n"
     ]
    },
    {
     "name": "stderr",
     "output_type": "stream",
     "text": [
      " 54%|█████▍    | 150/278 [00:58<01:13,  1.73it/s]"
     ]
    },
    {
     "name": "stdout",
     "output_type": "stream",
     "text": [
      "Epoch: 0\n",
      "Cross_Entropy: 0.0739567 \n",
      "Training_Loss: 0.0739567 \n",
      "\n",
      "\n"
     ]
    },
    {
     "name": "stderr",
     "output_type": "stream",
     "text": [
      "100%|██████████| 278/278 [01:50<00:00,  2.51it/s]\n"
     ]
    },
    {
     "name": "stdout",
     "output_type": "stream",
     "text": [
      "acc test:  0.33043032786885246\n",
      "Weights are saved to dataset_kfold_2/5_exp/acc_0.33_ep_9_exp/weights.ckpt\n",
      "Model's architecture is saved to dataset_kfold_2/5_exp/acc_0.33_ep_9_exp/model.json.\n"
     ]
    },
    {
     "name": "stderr",
     "output_type": "stream",
     "text": [
      "  0%|          | 1/278 [00:00<00:50,  5.44it/s]"
     ]
    },
    {
     "name": "stdout",
     "output_type": "stream",
     "text": [
      "ep:  10\n"
     ]
    },
    {
     "name": "stderr",
     "output_type": "stream",
     "text": [
      " 54%|█████▍    | 150/278 [01:02<00:55,  2.29it/s]"
     ]
    },
    {
     "name": "stdout",
     "output_type": "stream",
     "text": [
      "Epoch: 0\n",
      "Cross_Entropy: 0.0935414 \n",
      "Training_Loss: 0.0935414 \n",
      "\n",
      "\n"
     ]
    },
    {
     "name": "stderr",
     "output_type": "stream",
     "text": [
      "100%|██████████| 278/278 [01:53<00:00,  2.44it/s]\n"
     ]
    },
    {
     "name": "stdout",
     "output_type": "stream",
     "text": [
      "acc test:  0.39702868852459017\n",
      "Weights are saved to dataset_kfold_2/5_exp/acc_0.4_ep_10_exp/weights.ckpt\n",
      "Model's architecture is saved to dataset_kfold_2/5_exp/acc_0.4_ep_10_exp/model.json.\n"
     ]
    },
    {
     "name": "stderr",
     "output_type": "stream",
     "text": [
      "\r",
      "  0%|          | 0/278 [00:00<?, ?it/s]"
     ]
    },
    {
     "name": "stdout",
     "output_type": "stream",
     "text": [
      "ep:  11\n"
     ]
    },
    {
     "name": "stderr",
     "output_type": "stream",
     "text": [
      " 54%|█████▍    | 150/278 [01:00<00:52,  2.44it/s]"
     ]
    },
    {
     "name": "stdout",
     "output_type": "stream",
     "text": [
      "Epoch: 0\n",
      "Cross_Entropy: 0.1037535 \n",
      "Training_Loss: 0.1037535 \n",
      "\n",
      "\n"
     ]
    },
    {
     "name": "stderr",
     "output_type": "stream",
     "text": [
      "100%|██████████| 278/278 [01:54<00:00,  2.43it/s]\n"
     ]
    },
    {
     "name": "stdout",
     "output_type": "stream",
     "text": [
      "acc test:  0.36526639344262296\n",
      "Weights are saved to dataset_kfold_2/5_exp/acc_0.37_ep_11_exp/weights.ckpt\n",
      "Model's architecture is saved to dataset_kfold_2/5_exp/acc_0.37_ep_11_exp/model.json.\n"
     ]
    },
    {
     "name": "stderr",
     "output_type": "stream",
     "text": [
      "\r",
      "  0%|          | 0/278 [00:00<?, ?it/s]"
     ]
    },
    {
     "name": "stdout",
     "output_type": "stream",
     "text": [
      "ep:  12\n"
     ]
    },
    {
     "name": "stderr",
     "output_type": "stream",
     "text": [
      " 54%|█████▍    | 150/278 [01:02<00:45,  2.82it/s]"
     ]
    },
    {
     "name": "stdout",
     "output_type": "stream",
     "text": [
      "Epoch: 0\n",
      "Cross_Entropy: 0.2171141 \n",
      "Training_Loss: 0.2171141 \n",
      "\n",
      "\n"
     ]
    },
    {
     "name": "stderr",
     "output_type": "stream",
     "text": [
      "100%|██████████| 278/278 [01:53<00:00,  2.45it/s]\n"
     ]
    },
    {
     "name": "stdout",
     "output_type": "stream",
     "text": [
      "acc test:  0.6301229508196722\n",
      "Weights are saved to dataset_kfold_2/5_exp/acc_0.63_ep_12_exp/weights.ckpt\n",
      "Model's architecture is saved to dataset_kfold_2/5_exp/acc_0.63_ep_12_exp/model.json.\n"
     ]
    },
    {
     "name": "stderr",
     "output_type": "stream",
     "text": [
      "  0%|          | 1/278 [00:00<00:48,  5.69it/s]"
     ]
    },
    {
     "name": "stdout",
     "output_type": "stream",
     "text": [
      "ep:  13\n"
     ]
    },
    {
     "name": "stderr",
     "output_type": "stream",
     "text": [
      " 54%|█████▍    | 150/278 [01:00<00:34,  3.72it/s]"
     ]
    },
    {
     "name": "stdout",
     "output_type": "stream",
     "text": [
      "Epoch: 0\n",
      "Cross_Entropy: 0.0401460 \n",
      "Training_Loss: 0.0401460 \n",
      "\n",
      "\n"
     ]
    },
    {
     "name": "stderr",
     "output_type": "stream",
     "text": [
      "100%|██████████| 278/278 [01:51<00:00,  2.49it/s]\n"
     ]
    },
    {
     "name": "stdout",
     "output_type": "stream",
     "text": [
      "acc test:  0.4047131147540984\n",
      "Weights are saved to dataset_kfold_2/5_exp/acc_0.4_ep_13_exp/weights.ckpt\n",
      "Model's architecture is saved to dataset_kfold_2/5_exp/acc_0.4_ep_13_exp/model.json.\n"
     ]
    },
    {
     "name": "stderr",
     "output_type": "stream",
     "text": [
      "  0%|          | 1/278 [00:00<00:51,  5.42it/s]"
     ]
    },
    {
     "name": "stdout",
     "output_type": "stream",
     "text": [
      "ep:  14\n"
     ]
    },
    {
     "name": "stderr",
     "output_type": "stream",
     "text": [
      " 54%|█████▍    | 150/278 [01:05<01:17,  1.64it/s]"
     ]
    },
    {
     "name": "stdout",
     "output_type": "stream",
     "text": [
      "Epoch: 0\n",
      "Cross_Entropy: 0.1405577 \n",
      "Training_Loss: 0.1405577 \n",
      "\n",
      "\n"
     ]
    },
    {
     "name": "stderr",
     "output_type": "stream",
     "text": [
      "100%|██████████| 278/278 [01:58<00:00,  2.35it/s]\n"
     ]
    },
    {
     "name": "stdout",
     "output_type": "stream",
     "text": [
      "acc test:  0.9907786885245902\n",
      "Weights are saved to dataset_kfold_2/5_exp/acc_0.99_ep_14_exp/weights.ckpt\n",
      "Model's architecture is saved to dataset_kfold_2/5_exp/acc_0.99_ep_14_exp/model.json.\n"
     ]
    },
    {
     "name": "stderr",
     "output_type": "stream",
     "text": [
      "\r",
      "  0%|          | 0/278 [00:00<?, ?it/s]"
     ]
    },
    {
     "name": "stdout",
     "output_type": "stream",
     "text": [
      "ep:  15\n"
     ]
    },
    {
     "name": "stderr",
     "output_type": "stream",
     "text": [
      " 54%|█████▍    | 151/278 [01:02<00:42,  2.96it/s]"
     ]
    },
    {
     "name": "stdout",
     "output_type": "stream",
     "text": [
      "Epoch: 0\n",
      "Cross_Entropy: 0.1195057 \n",
      "Training_Loss: 0.1195057 \n",
      "\n",
      "\n"
     ]
    },
    {
     "name": "stderr",
     "output_type": "stream",
     "text": [
      "100%|██████████| 278/278 [01:56<00:00,  2.40it/s]\n"
     ]
    },
    {
     "name": "stdout",
     "output_type": "stream",
     "text": [
      "acc test:  0.26588114754098363\n",
      "Weights are saved to dataset_kfold_2/5_exp/acc_0.27_ep_15_exp/weights.ckpt\n",
      "Model's architecture is saved to dataset_kfold_2/5_exp/acc_0.27_ep_15_exp/model.json.\n"
     ]
    },
    {
     "name": "stderr",
     "output_type": "stream",
     "text": [
      "  0%|          | 1/278 [00:00<00:53,  5.14it/s]"
     ]
    },
    {
     "name": "stdout",
     "output_type": "stream",
     "text": [
      "ep:  16\n"
     ]
    },
    {
     "name": "stderr",
     "output_type": "stream",
     "text": [
      " 54%|█████▍    | 150/278 [01:01<01:01,  2.09it/s]"
     ]
    },
    {
     "name": "stdout",
     "output_type": "stream",
     "text": [
      "Epoch: 0\n",
      "Cross_Entropy: 0.0882429 \n",
      "Training_Loss: 0.0882429 \n",
      "\n",
      "\n"
     ]
    },
    {
     "name": "stderr",
     "output_type": "stream",
     "text": [
      "100%|██████████| 278/278 [01:54<00:00,  2.42it/s]\n"
     ]
    },
    {
     "name": "stdout",
     "output_type": "stream",
     "text": [
      "acc test:  0.35809426229508196\n",
      "Weights are saved to dataset_kfold_2/5_exp/acc_0.36_ep_16_exp/weights.ckpt\n",
      "Model's architecture is saved to dataset_kfold_2/5_exp/acc_0.36_ep_16_exp/model.json.\n"
     ]
    },
    {
     "name": "stderr",
     "output_type": "stream",
     "text": [
      "  0%|          | 1/278 [00:00<00:47,  5.78it/s]"
     ]
    },
    {
     "name": "stdout",
     "output_type": "stream",
     "text": [
      "ep:  17\n"
     ]
    },
    {
     "name": "stderr",
     "output_type": "stream",
     "text": [
      " 54%|█████▍    | 151/278 [01:02<00:41,  3.02it/s]"
     ]
    },
    {
     "name": "stdout",
     "output_type": "stream",
     "text": [
      "Epoch: 0\n",
      "Cross_Entropy: 0.0235950 \n",
      "Training_Loss: 0.0235950 \n",
      "\n",
      "\n"
     ]
    },
    {
     "name": "stderr",
     "output_type": "stream",
     "text": [
      " 62%|██████▏   | 171/278 [01:10<00:44,  2.42it/s]"
     ]
    }
   ],
   "source": [
    "for path_to_exp in EXP_FOLDERS:\n",
    "    # At start of each experiments - create new dataset (shuffle it)\n",
    "    Xtrain, Ytrain, Xtest, Ytest, pred2params, config_data = load_data_minor(\n",
    "        path_exp_folder=path_to_exp,\n",
    "        foldername2class=foldername2_minor_class,\n",
    "        path_to_data='../expand_double_modes',\n",
    "        use_saved=True,\n",
    "        size_hw=(336, 336),\n",
    "        test_div=0.8,\n",
    "        data_type=CLASSIFICATION,\n",
    "        filename_config='config_data', index_shift=2\n",
    "    )\n",
    "\n",
    "    Ytrain = np.array(Ytrain).astype(np.int32)\n",
    "    Ytest = np.array(Ytest).astype(np.int32)\n",
    "    \n",
    "    # Create model\n",
    "    model, trainer, opt, global_step, sess = get_model(\n",
    "        size_hw=(336, 336), \n",
    "        batch_size=BATCH_SIZE, \n",
    "        size_dataset=len(Ytrain),\n",
    "        num_classes=11\n",
    "    )\n",
    "    gen = get_generator_wrapper(Xtrain, Ytrain, BATCH_SIZE)\n",
    "    accur_list = []\n",
    "    max_acc_np = np.float32(0.0)\n",
    "\n",
    "    for epoch_num in range(EPOCHS):\n",
    "        # Each epoch:\n",
    "        # Train -> eval -> create folder -> save weights/arch -> save results\n",
    "        print('ep: ', epoch_num)\n",
    "        info1 = trainer.fit_generator(\n",
    "            gen, optimizer=opt, epochs=1, \n",
    "            iter=len(Xtrain)//(2*BATCH_SIZE), print_period=150, global_step=global_step\n",
    "        )\n",
    "        acc_test, predictions = eval_model(model, Xtest, Ytest, BATCH_SIZE, calc_mean=False)\n",
    "        acc_float = np.mean(acc_test)\n",
    "        max_acc_np = np.max([max_acc_np, acc_float])\n",
    "        print('acc test: ', acc_float)\n",
    "        accur_list.append(acc_float)\n",
    "        \n",
    "        # Create folder\n",
    "        path_to_s_epoch = os.path.join(path_to_exp, f'acc_{round(acc_float, 2)}_ep_{epoch_num}_exp')\n",
    "        os.makedirs(path_to_s_epoch, exist_ok=True)\n",
    "        # Save weights/arch\n",
    "        model.save_weights(os.path.join(path_to_s_epoch, 'weights.ckpt'))\n",
    "        model.save_architecture(os.path.join(path_to_s_epoch, 'model.json'))\n",
    "        # Save results\n",
    "        save_conf_matrix(\n",
    "            Ytest, predictions, \n",
    "            os.path.join(path_to_s_epoch, 'conf_matrix'),\n",
    "            save_np=True, num_classes=11\n",
    "        )\n",
    "        error_angle(\n",
    "            os.path.join(path_to_s_epoch, 'error_angle_all_class'), \n",
    "            config_data, Ytest, predictions,\n",
    "            save_np=True, class_find=list(range(11))\n",
    "        )\n",
    "        \"\"\"\n",
    "        error_angle(\n",
    "            os.path.join(path_to_s_epoch, 'error_angle_20_19_classes'), \n",
    "            config_data, Ytest, predictions, class_find=[20, 19],\n",
    "            save_np=True, num_classes=11\n",
    "        )\n",
    "        error_angle(\n",
    "            os.path.join(path_to_s_epoch, 'error_angle_20_classes'), \n",
    "            config_data, Ytest, predictions, class_find=[20],\n",
    "            save_np=True, num_classes=11\n",
    "        )\n",
    "        error_angle(\n",
    "            os.path.join(path_to_s_epoch, 'error_angle_19_classes'), \n",
    "            config_data, Ytest, predictions, class_find=[19],\n",
    "            save_np=True, num_classes=11\n",
    "        )\n",
    "        \"\"\"\n",
    "        plt.close('all')\n",
    "    np.save(os.path.join(path_to_exp, 'max_acc.npy'), np.float32(max_acc_np))\n",
    "    fig = plt.figure(figsize=(8, 8))\n",
    "    plt.plot(accur_list)\n",
    "    fig.savefig(os.path.join(path_to_exp, 'acc.png'))\n",
    "    # Clear plt figures\n",
    "    plt.close('all')"
   ]
  },
  {
   "cell_type": "code",
   "execution_count": null,
   "metadata": {},
   "outputs": [],
   "source": [
    "%matplotlib inline"
   ]
  },
  {
   "cell_type": "code",
   "execution_count": null,
   "metadata": {},
   "outputs": [],
   "source": [
    "plt.imshow(Xtest[-100])"
   ]
  },
  {
   "cell_type": "code",
   "execution_count": null,
   "metadata": {},
   "outputs": [],
   "source": [
    "Ytest[-100]"
   ]
  },
  {
   "cell_type": "code",
   "execution_count": null,
   "metadata": {},
   "outputs": [],
   "source": [
    "len(acc_test)"
   ]
  },
  {
   "cell_type": "code",
   "execution_count": null,
   "metadata": {},
   "outputs": [],
   "source": [
    "len(predictions)"
   ]
  },
  {
   "cell_type": "code",
   "execution_count": null,
   "metadata": {},
   "outputs": [],
   "source": [
    "1"
   ]
  },
  {
   "cell_type": "code",
   "execution_count": null,
   "metadata": {},
   "outputs": [],
   "source": [
    "2"
   ]
  },
  {
   "cell_type": "code",
   "execution_count": null,
   "metadata": {},
   "outputs": [],
   "source": []
  }
 ],
 "metadata": {
  "accelerator": "GPU",
  "colab": {
   "collapsed_sections": [],
   "name": "classification.ipynb",
   "provenance": []
  },
  "kernelspec": {
   "display_name": "Python 3",
   "language": "python",
   "name": "python3"
  },
  "language_info": {
   "codemirror_mode": {
    "name": "ipython",
    "version": 3
   },
   "file_extension": ".py",
   "mimetype": "text/x-python",
   "name": "python",
   "nbconvert_exporter": "python",
   "pygments_lexer": "ipython3",
   "version": "3.8.5"
  }
 },
 "nbformat": 4,
 "nbformat_minor": 1
}
