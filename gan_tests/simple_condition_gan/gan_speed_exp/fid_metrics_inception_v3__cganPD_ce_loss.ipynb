{
 "cells": [
  {
   "cell_type": "code",
   "execution_count": 1,
   "metadata": {},
   "outputs": [],
   "source": [
    "# https://keras.io/examples/generative/wgan_gp/\n",
    "#\n",
    "\n",
    "import os\n",
    "os.environ[\"CUDA_VISIBLE_DEVICES\"] = str(2)\n",
    "import time\n",
    "import sys\n",
    "import numpy as np\n",
    "import tensorflow as tf\n",
    "from tensorflow import keras\n",
    "from tensorflow.keras import layers\n",
    "from tensorflow.keras.layers import *\n",
    "\n",
    "from tqdm import tqdm\n",
    "import matplotlib.pyplot as plt\n",
    "import glob\n",
    "from sklearn.utils import shuffle\n",
    "\n",
    "from numpy import expand_dims\n",
    "from numpy import zeros\n",
    "from numpy import ones\n",
    "from numpy.random import randn\n",
    "from numpy.random import randint\n",
    "\n",
    "# example of loading the generator model and generating images\n",
    "from numpy import asarray\n",
    "from numpy.random import randn\n",
    "from numpy.random import randint\n",
    "from tensorflow.keras.models import load_model\n",
    "from matplotlib import pyplot\n",
    "\n",
    "\n",
    "import tensorflow as tf\n",
    "\n",
    "\n",
    "from tensorflow.keras.datasets.fashion_mnist import load_data\n",
    "from tensorflow.keras.optimizers import Adam\n",
    "from tensorflow.keras.models import Model\n",
    "from tensorflow.keras.layers import Input\n",
    "from tensorflow.keras.layers import Dense\n",
    "from tensorflow.keras.layers import Reshape\n",
    "from tensorflow.keras.layers import Flatten\n",
    "from tensorflow.keras.layers import Conv2D\n",
    "from tensorflow.keras.layers import Conv2DTranspose\n",
    "from tensorflow.keras.layers import LeakyReLU\n",
    "from tensorflow.keras.layers import Dropout\n",
    "from tensorflow.keras.layers import Embedding\n",
    "from tensorflow.keras.layers import Concatenate\n",
    "from tensorflow.keras.layers import BatchNormalization\n",
    "from tensorflow.keras import layers as L\n",
    "from tensorflow.keras import initializers\n",
    "\n",
    "import numpy\n",
    "from numpy import cov\n",
    "from numpy import trace\n",
    "from numpy import iscomplexobj\n",
    "from numpy import asarray\n",
    "from numpy.random import randint\n",
    "from scipy.linalg import sqrtm\n",
    "from tensorflow.keras.applications.inception_v3 import InceptionV3\n",
    "from tensorflow.keras.applications.inception_v3 import preprocess_input\n",
    "from skimage.transform import resize\n",
    "\n",
    "from skimage import io\n",
    "import cv2\n",
    "import numpy as np\n",
    "import matplotlib.pyplot as plt\n",
    "from tqdm import tqdm\n",
    "import glob\n",
    "from sklearn.utils import shuffle"
   ]
  },
  {
   "cell_type": "code",
   "execution_count": 2,
   "metadata": {},
   "outputs": [],
   "source": [
    "foldername2class = {\n",
    "\t'0.0':  0,\n",
    "\t'0.05': 1,\n",
    "\t'0.1':  2,\n",
    "\t'0.15': 3,\n",
    "\t'0.2':  4,\n",
    "\t'0.25': 5,\n",
    "\t'0.3':  6,\n",
    "\t'0.35': 7,\n",
    "\t'0.4':  8,\n",
    "\t'0.45': 9,\n",
    "\t'0.5':  10,\n",
    "\t'0.55': 11,\n",
    "\t'0.6':  12,\n",
    "\t'0.65': 13,\n",
    "\t'0.7':  14,\n",
    "\t'0.75': 15,\n",
    "\t'0.8':  16,\n",
    "\t'0.85': 17,\n",
    "\t'0.9':  18,\n",
    "\t'0.95': 19,\n",
    "\t'1.0':  20,\n",
    "}"
   ]
  },
  {
   "cell_type": "code",
   "execution_count": 3,
   "metadata": {},
   "outputs": [
    {
     "name": "stderr",
     "output_type": "stream",
     "text": [
      "100%|██████████| 21/21 [00:00<00:00, 124.76it/s]\n"
     ]
    }
   ],
   "source": [
    "IMG_SHAPE = (128, 128, 3)\n",
    "BATCH_SIZE = 10\n",
    "N_CLASSES = len(foldername2class)\n",
    "# Size of the noise vector\n",
    "noise_dim = 100\n",
    "\n",
    "\n",
    "PATH_DATA = '../../../expand_double_modes'\n",
    "\n",
    "train_images_path = []\n",
    "\n",
    "iterator = tqdm(glob.glob(PATH_DATA + \"/*\"))\n",
    "for single_folder in iterator:\n",
    "    img_folder = shuffle(glob.glob(single_folder + '/*'))\n",
    "    for indx, single_img_path in enumerate(img_folder):\n",
    "        train_images_path.append(single_img_path)\n",
    "iterator.close()\n",
    "\n",
    "train_images_path = shuffle(train_images_path)"
   ]
  },
  {
   "cell_type": "code",
   "execution_count": 4,
   "metadata": {},
   "outputs": [
    {
     "name": "stderr",
     "output_type": "stream",
     "text": [
      "100%|██████████| 37800/37800 [01:20<00:00, 469.38it/s]\n"
     ]
    }
   ],
   "source": [
    "CLASS_TO_IMGS = {}\n",
    "\n",
    "\n",
    "def preprocess_images(images):\n",
    "  images = (images - 127.5) / 127.5\n",
    "  return images.astype('float32')\n",
    "\n",
    "def load_dataset(path_list: list):\n",
    "    iterator = tqdm(path_list)\n",
    "    for single_path in iterator:\n",
    "        label_s = foldername2class[single_path.split('/')[-2]]\n",
    "        image = io.imread(single_path)\n",
    "        image = cv2.resize(image, (IMG_SHAPE[1], IMG_SHAPE[0]))\n",
    "        image_s = np.asarray(image, dtype=np.float32)[..., :3]\n",
    "        if CLASS_TO_IMGS.get(str(label_s)) is None:\n",
    "            CLASS_TO_IMGS[str(label_s)] = []\n",
    "        CLASS_TO_IMGS[str(label_s)] += [image_s]\n",
    "    iterator.close()\n",
    "load_dataset(train_images_path)"
   ]
  },
  {
   "cell_type": "code",
   "execution_count": 5,
   "metadata": {},
   "outputs": [],
   "source": [
    "# prepare the inception v3 model\n",
    "model_incv3 = InceptionV3(include_top=False, pooling='avg', input_shape=(299,299,3))\n",
    "# scale an array of images to a new size\n",
    "def scale_images(images, new_shape):\n",
    "    images_list = list()\n",
    "    for image in images:\n",
    "        # resize with nearest neighbor interpolation\n",
    "        new_image = resize(image, new_shape, 0)\n",
    "        # store\n",
    "        images_list.append(new_image)\n",
    "    return asarray(images_list)\n",
    "\n",
    "# calculate frechet inception distance\n",
    "def calculate_fid(model, images1, images2, batch_calc=256):\n",
    "    assert len(images1) == len(images2)\n",
    "    n_batches = len(images1) // batch_calc\n",
    "    images1, images2 = images1[:n_batches * batch_calc], images2[:n_batches * batch_calc]\n",
    "    iterator = tqdm(range(n_batches))\n",
    "    res_1 = []\n",
    "    res_2 = []\n",
    "    \n",
    "    for i in iterator:\n",
    "        i1_b, i2_b = (\n",
    "            np.array(images1[i * batch_calc: (i+1)*batch_calc], dtype=np.float32), \n",
    "            np.array(images2[i * batch_calc: (i+1)*batch_calc], dtype=np.float32) \n",
    "        )\n",
    "        # resize\n",
    "        i1_b, i2_b = (\n",
    "            scale_images(i1_b, (299,299,3)), \n",
    "            scale_images(i2_b, (299,299,3))\n",
    "        )\n",
    "        # pre-process\n",
    "        i1_b, i2_b = (preprocess_input(i1_b), preprocess_input(i2_b))\n",
    "        # calculate activations\n",
    "        act1 = model.predict(i1_b)\n",
    "        act2 = model.predict(i2_b)\n",
    "        \n",
    "        res_1.append(act1)\n",
    "        res_2.append(act2)\n",
    "    iterator.close()\n",
    "    # calculate activations\n",
    "    act1 = np.concatenate(res_1, axis=0)\n",
    "    act2 = np.concatenate(res_2, axis=0)\n",
    "    # calculate mean and covariance statistics\n",
    "    mu1, sigma1 = act1.mean(axis=0), cov(act1, rowvar=False)\n",
    "    mu2, sigma2 = act2.mean(axis=0), cov(act2, rowvar=False)\n",
    "    # calculate sum squared difference between means\n",
    "    ssdiff = numpy.sum((mu1 - mu2)**2.0)\n",
    "    # calculate sqrt of product between cov\n",
    "    covmean = sqrtm(sigma1.dot(sigma2))\n",
    "    # check and correct imaginary numbers from sqrt\n",
    "    if iscomplexobj(covmean):\n",
    "        covmean = covmean.real\n",
    "    # calculate score\n",
    "    fid = ssdiff + trace(sigma1 + sigma2 - 2.0 * covmean)\n",
    "    return fid"
   ]
  },
  {
   "cell_type": "code",
   "execution_count": 6,
   "metadata": {},
   "outputs": [],
   "source": [
    "exp_name = 'cgan_pd/ce_loss'"
   ]
  },
  {
   "cell_type": "code",
   "execution_count": 7,
   "metadata": {
    "scrolled": true
   },
   "outputs": [
    {
     "name": "stderr",
     "output_type": "stream",
     "text": [
      "100%|██████████| 600/600 [00:06<00:00, 94.64it/s] \n",
      "100%|██████████| 600/600 [00:03<00:00, 162.24it/s]\n",
      "100%|██████████| 600/600 [00:03<00:00, 164.90it/s]\n",
      "100%|██████████| 600/600 [00:03<00:00, 160.40it/s]\n",
      "100%|██████████| 600/600 [00:03<00:00, 161.71it/s]\n",
      "100%|██████████| 600/600 [00:03<00:00, 162.45it/s]\n",
      "100%|██████████| 600/600 [00:03<00:00, 163.42it/s]\n",
      "100%|██████████| 600/600 [00:03<00:00, 158.77it/s]\n",
      "100%|██████████| 600/600 [00:03<00:00, 156.96it/s]\n",
      "100%|██████████| 600/600 [00:03<00:00, 163.49it/s]\n",
      "100%|██████████| 600/600 [00:03<00:00, 166.31it/s]\n",
      "100%|██████████| 600/600 [00:03<00:00, 159.91it/s]\n",
      "100%|██████████| 600/600 [00:03<00:00, 161.11it/s]\n",
      "100%|██████████| 600/600 [00:03<00:00, 154.04it/s]\n",
      "100%|██████████| 600/600 [00:03<00:00, 155.65it/s]\n",
      "100%|██████████| 600/600 [00:03<00:00, 163.05it/s]\n",
      "100%|██████████| 600/600 [00:03<00:00, 165.24it/s]\n",
      "100%|██████████| 600/600 [00:03<00:00, 171.64it/s]\n",
      "100%|██████████| 600/600 [00:03<00:00, 167.66it/s]\n",
      "100%|██████████| 600/600 [00:03<00:00, 154.03it/s]\n",
      "100%|██████████| 600/600 [00:03<00:00, 162.08it/s]\n",
      "100%|██████████| 49/49 [04:19<00:00,  5.30s/it]\n"
     ]
    },
    {
     "name": "stdout",
     "output_type": "stream",
     "text": [
      "FID (different): 119.289\n"
     ]
    },
    {
     "name": "stderr",
     "output_type": "stream",
     "text": [
      "100%|██████████| 600/600 [00:18<00:00, 32.25it/s]\n",
      "100%|██████████| 600/600 [00:20<00:00, 29.57it/s]\n",
      "100%|██████████| 600/600 [00:18<00:00, 31.91it/s] \n",
      "100%|██████████| 600/600 [00:08<00:00, 67.48it/s] \n",
      "100%|██████████| 600/600 [00:04<00:00, 130.51it/s]\n",
      "100%|██████████| 600/600 [00:04<00:00, 127.53it/s]\n",
      "100%|██████████| 600/600 [00:04<00:00, 127.63it/s]\n",
      "100%|██████████| 600/600 [00:04<00:00, 133.99it/s]\n",
      "100%|██████████| 600/600 [00:04<00:00, 129.43it/s]\n",
      "100%|██████████| 600/600 [00:04<00:00, 126.76it/s]\n",
      "100%|██████████| 600/600 [00:04<00:00, 127.10it/s]\n",
      "100%|██████████| 600/600 [00:04<00:00, 127.94it/s]\n",
      "100%|██████████| 600/600 [00:04<00:00, 125.95it/s]\n",
      "100%|██████████| 600/600 [00:04<00:00, 127.43it/s]\n",
      "100%|██████████| 600/600 [00:04<00:00, 124.53it/s]\n",
      "100%|██████████| 600/600 [00:04<00:00, 128.16it/s]\n",
      "100%|██████████| 600/600 [00:04<00:00, 127.38it/s]\n",
      "100%|██████████| 600/600 [00:04<00:00, 127.08it/s]\n",
      "100%|██████████| 600/600 [00:04<00:00, 124.35it/s]\n",
      "100%|██████████| 600/600 [00:04<00:00, 122.40it/s]\n",
      "100%|██████████| 600/600 [00:04<00:00, 126.45it/s]\n",
      "100%|██████████| 49/49 [04:18<00:00,  5.28s/it]\n"
     ]
    },
    {
     "name": "stdout",
     "output_type": "stream",
     "text": [
      "FID (different): 111.418\n"
     ]
    },
    {
     "name": "stderr",
     "output_type": "stream",
     "text": [
      "100%|██████████| 600/600 [00:04<00:00, 138.67it/s]\n",
      "100%|██████████| 600/600 [00:09<00:00, 65.89it/s] \n",
      "100%|██████████| 600/600 [00:21<00:00, 28.53it/s]\n",
      "100%|██████████| 600/600 [00:19<00:00, 30.21it/s]\n",
      "100%|██████████| 600/600 [00:17<00:00, 33.34it/s] \n",
      "100%|██████████| 600/600 [00:10<00:00, 57.13it/s] \n",
      "100%|██████████| 600/600 [00:03<00:00, 158.58it/s]\n",
      "100%|██████████| 600/600 [00:03<00:00, 163.46it/s]\n",
      "100%|██████████| 600/600 [00:03<00:00, 158.63it/s]\n",
      "100%|██████████| 600/600 [00:03<00:00, 165.61it/s]\n",
      "100%|██████████| 600/600 [00:03<00:00, 156.63it/s]\n",
      "100%|██████████| 600/600 [00:04<00:00, 149.48it/s]\n",
      "100%|██████████| 600/600 [00:04<00:00, 146.53it/s]\n",
      "100%|██████████| 600/600 [00:03<00:00, 156.06it/s]\n",
      "100%|██████████| 600/600 [00:03<00:00, 160.91it/s]\n",
      "100%|██████████| 600/600 [00:04<00:00, 145.44it/s]\n",
      "100%|██████████| 600/600 [00:04<00:00, 148.42it/s]\n",
      "100%|██████████| 600/600 [00:04<00:00, 143.96it/s]\n",
      "100%|██████████| 600/600 [00:04<00:00, 144.58it/s]\n",
      "100%|██████████| 600/600 [00:03<00:00, 160.19it/s]\n",
      "100%|██████████| 600/600 [00:03<00:00, 156.36it/s]\n",
      "100%|██████████| 49/49 [04:17<00:00,  5.26s/it]\n"
     ]
    },
    {
     "name": "stdout",
     "output_type": "stream",
     "text": [
      "FID (different): 106.556\n"
     ]
    },
    {
     "name": "stderr",
     "output_type": "stream",
     "text": [
      "100%|██████████| 600/600 [00:04<00:00, 129.96it/s]\n",
      "100%|██████████| 600/600 [00:04<00:00, 144.58it/s]\n",
      "100%|██████████| 600/600 [00:07<00:00, 77.81it/s] \n",
      "100%|██████████| 600/600 [00:20<00:00, 29.71it/s]\n",
      "100%|██████████| 600/600 [00:20<00:00, 29.53it/s]\n",
      "100%|██████████| 600/600 [00:18<00:00, 31.62it/s]\n",
      "100%|██████████| 600/600 [00:10<00:00, 56.39it/s] \n",
      "100%|██████████| 600/600 [00:04<00:00, 136.37it/s]\n",
      "100%|██████████| 600/600 [00:04<00:00, 136.59it/s]\n",
      "100%|██████████| 600/600 [00:04<00:00, 130.44it/s]\n",
      "100%|██████████| 600/600 [00:04<00:00, 130.61it/s]\n",
      "100%|██████████| 600/600 [00:04<00:00, 132.24it/s]\n",
      "100%|██████████| 600/600 [00:04<00:00, 137.91it/s]\n",
      "100%|██████████| 600/600 [00:04<00:00, 132.11it/s]\n",
      "100%|██████████| 600/600 [00:04<00:00, 135.92it/s]\n",
      "100%|██████████| 600/600 [00:04<00:00, 127.48it/s]\n",
      "100%|██████████| 600/600 [00:04<00:00, 138.09it/s]\n",
      "100%|██████████| 600/600 [00:04<00:00, 133.61it/s]\n",
      "100%|██████████| 600/600 [00:04<00:00, 131.13it/s]\n",
      "100%|██████████| 600/600 [00:04<00:00, 137.96it/s]\n",
      "100%|██████████| 600/600 [00:04<00:00, 131.62it/s]\n",
      "100%|██████████| 49/49 [04:22<00:00,  5.35s/it]\n"
     ]
    },
    {
     "name": "stdout",
     "output_type": "stream",
     "text": [
      "FID (different): 88.439\n"
     ]
    },
    {
     "name": "stderr",
     "output_type": "stream",
     "text": [
      "100%|██████████| 600/600 [00:04<00:00, 145.40it/s]\n",
      "100%|██████████| 600/600 [00:03<00:00, 165.47it/s]\n",
      "100%|██████████| 600/600 [00:03<00:00, 163.02it/s]\n",
      "100%|██████████| 600/600 [00:03<00:00, 159.54it/s]\n",
      "100%|██████████| 600/600 [00:04<00:00, 138.49it/s]\n",
      "100%|██████████| 600/600 [00:19<00:00, 31.42it/s]\n",
      "100%|██████████| 600/600 [00:19<00:00, 30.43it/s]\n",
      "100%|██████████| 600/600 [00:14<00:00, 41.82it/s] \n",
      "100%|██████████| 600/600 [00:03<00:00, 164.32it/s]\n",
      "100%|██████████| 600/600 [00:03<00:00, 173.12it/s]\n",
      "100%|██████████| 600/600 [00:03<00:00, 164.37it/s]\n",
      "100%|██████████| 600/600 [00:03<00:00, 170.72it/s]\n",
      "100%|██████████| 600/600 [00:03<00:00, 175.18it/s]\n",
      "100%|██████████| 600/600 [00:03<00:00, 165.54it/s]\n",
      "100%|██████████| 600/600 [00:03<00:00, 153.79it/s]\n",
      "100%|██████████| 600/600 [00:03<00:00, 164.37it/s]\n",
      "100%|██████████| 600/600 [00:03<00:00, 161.07it/s]\n",
      "100%|██████████| 600/600 [00:03<00:00, 171.37it/s]\n",
      "100%|██████████| 600/600 [00:03<00:00, 166.10it/s]\n",
      "100%|██████████| 600/600 [00:03<00:00, 171.62it/s]\n",
      "100%|██████████| 600/600 [00:03<00:00, 160.14it/s]\n",
      "100%|██████████| 49/49 [04:20<00:00,  5.32s/it]\n"
     ]
    },
    {
     "name": "stdout",
     "output_type": "stream",
     "text": [
      "FID (different): 79.208\n"
     ]
    },
    {
     "name": "stderr",
     "output_type": "stream",
     "text": [
      "100%|██████████| 600/600 [00:04<00:00, 126.10it/s]\n",
      "100%|██████████| 600/600 [00:04<00:00, 138.60it/s]\n",
      "100%|██████████| 600/600 [00:04<00:00, 139.37it/s]\n",
      "100%|██████████| 600/600 [00:04<00:00, 137.44it/s]\n",
      "100%|██████████| 600/600 [00:04<00:00, 137.87it/s]\n",
      "100%|██████████| 600/600 [00:15<00:00, 37.90it/s] \n",
      "100%|██████████| 600/600 [00:19<00:00, 31.10it/s]\n",
      "100%|██████████| 600/600 [00:15<00:00, 39.51it/s] \n",
      "100%|██████████| 600/600 [00:04<00:00, 136.70it/s]\n",
      "100%|██████████| 600/600 [00:04<00:00, 141.81it/s]\n",
      "100%|██████████| 600/600 [00:04<00:00, 136.59it/s]\n",
      "100%|██████████| 600/600 [00:04<00:00, 131.06it/s]\n",
      "100%|██████████| 600/600 [00:04<00:00, 133.59it/s]\n",
      "100%|██████████| 600/600 [00:04<00:00, 133.26it/s]\n",
      "100%|██████████| 600/600 [00:04<00:00, 138.79it/s]\n",
      "100%|██████████| 600/600 [00:04<00:00, 135.15it/s]\n",
      "100%|██████████| 600/600 [00:04<00:00, 136.59it/s]\n",
      "100%|██████████| 600/600 [00:04<00:00, 136.74it/s]\n",
      "100%|██████████| 600/600 [00:04<00:00, 134.10it/s]\n",
      "100%|██████████| 600/600 [00:04<00:00, 131.87it/s]\n",
      "100%|██████████| 600/600 [00:04<00:00, 136.86it/s]\n",
      "100%|██████████| 49/49 [04:21<00:00,  5.33s/it]\n"
     ]
    },
    {
     "name": "stdout",
     "output_type": "stream",
     "text": [
      "FID (different): 86.739\n"
     ]
    },
    {
     "name": "stderr",
     "output_type": "stream",
     "text": [
      "100%|██████████| 600/600 [00:04<00:00, 122.86it/s]\n",
      "100%|██████████| 600/600 [00:04<00:00, 131.93it/s]\n",
      "100%|██████████| 600/600 [00:04<00:00, 134.70it/s]\n",
      "100%|██████████| 600/600 [00:04<00:00, 133.54it/s]\n",
      "100%|██████████| 600/600 [00:04<00:00, 133.67it/s]\n",
      "100%|██████████| 600/600 [00:04<00:00, 130.78it/s]\n",
      "100%|██████████| 600/600 [00:18<00:00, 32.99it/s]\n",
      "100%|██████████| 600/600 [00:21<00:00, 28.30it/s]\n",
      "100%|██████████| 600/600 [00:20<00:00, 29.52it/s]\n",
      "100%|██████████| 600/600 [00:09<00:00, 63.17it/s] \n",
      "100%|██████████| 600/600 [00:04<00:00, 131.44it/s]\n",
      "100%|██████████| 600/600 [00:04<00:00, 129.08it/s]\n",
      "100%|██████████| 600/600 [00:04<00:00, 130.00it/s]\n",
      "100%|██████████| 600/600 [00:04<00:00, 132.76it/s]\n",
      "100%|██████████| 600/600 [00:04<00:00, 128.10it/s]\n",
      "100%|██████████| 600/600 [00:04<00:00, 129.33it/s]\n",
      "100%|██████████| 600/600 [00:04<00:00, 130.41it/s]\n",
      "100%|██████████| 600/600 [00:04<00:00, 130.04it/s]\n",
      "100%|██████████| 600/600 [00:04<00:00, 130.31it/s]\n",
      "100%|██████████| 600/600 [00:04<00:00, 128.66it/s]\n",
      "100%|██████████| 600/600 [00:04<00:00, 128.14it/s]\n",
      "100%|██████████| 49/49 [04:25<00:00,  5.42s/it]\n"
     ]
    },
    {
     "name": "stdout",
     "output_type": "stream",
     "text": [
      "FID (different): 81.147\n"
     ]
    },
    {
     "name": "stderr",
     "output_type": "stream",
     "text": [
      "100%|██████████| 600/600 [00:04<00:00, 122.53it/s]\n",
      "100%|██████████| 600/600 [00:04<00:00, 135.62it/s]\n",
      "100%|██████████| 600/600 [00:04<00:00, 136.83it/s]\n",
      "100%|██████████| 600/600 [00:04<00:00, 130.99it/s]\n",
      "100%|██████████| 600/600 [00:04<00:00, 130.86it/s]\n",
      "100%|██████████| 600/600 [00:04<00:00, 136.37it/s]\n",
      "100%|██████████| 600/600 [00:04<00:00, 132.99it/s]\n",
      "100%|██████████| 600/600 [00:10<00:00, 55.90it/s] \n",
      "100%|██████████| 600/600 [00:20<00:00, 29.30it/s]\n",
      "100%|██████████| 600/600 [00:19<00:00, 31.41it/s]\n",
      "100%|██████████| 600/600 [00:11<00:00, 53.47it/s] \n",
      "100%|██████████| 600/600 [00:04<00:00, 135.33it/s]\n",
      "100%|██████████| 600/600 [00:04<00:00, 140.64it/s]\n",
      "100%|██████████| 600/600 [00:04<00:00, 143.11it/s]\n",
      "100%|██████████| 600/600 [00:04<00:00, 137.46it/s]\n",
      "100%|██████████| 600/600 [00:04<00:00, 140.25it/s]\n",
      "100%|██████████| 600/600 [00:04<00:00, 131.73it/s]\n",
      "100%|██████████| 600/600 [00:04<00:00, 135.38it/s]\n",
      "100%|██████████| 600/600 [00:04<00:00, 140.89it/s]\n",
      "100%|██████████| 600/600 [00:04<00:00, 130.44it/s]\n",
      "100%|██████████| 600/600 [00:04<00:00, 137.57it/s]\n",
      "100%|██████████| 49/49 [04:33<00:00,  5.58s/it]\n"
     ]
    },
    {
     "name": "stdout",
     "output_type": "stream",
     "text": [
      "FID (different): 72.516\n"
     ]
    },
    {
     "name": "stderr",
     "output_type": "stream",
     "text": [
      "100%|██████████| 600/600 [00:04<00:00, 122.94it/s]\n",
      "100%|██████████| 600/600 [00:04<00:00, 129.47it/s]\n",
      "100%|██████████| 600/600 [00:04<00:00, 136.72it/s]\n",
      "100%|██████████| 600/600 [00:04<00:00, 134.15it/s]\n",
      "100%|██████████| 600/600 [00:04<00:00, 129.98it/s]\n",
      "100%|██████████| 600/600 [00:04<00:00, 130.94it/s]\n",
      "100%|██████████| 600/600 [00:04<00:00, 134.68it/s]\n",
      "100%|██████████| 600/600 [00:13<00:00, 45.38it/s] \n",
      "100%|██████████| 600/600 [00:20<00:00, 29.65it/s]\n",
      "100%|██████████| 600/600 [00:20<00:00, 29.99it/s]\n",
      "100%|██████████| 600/600 [00:06<00:00, 90.59it/s] \n",
      "100%|██████████| 600/600 [00:04<00:00, 130.73it/s]\n",
      "100%|██████████| 600/600 [00:04<00:00, 128.18it/s]\n",
      "100%|██████████| 600/600 [00:04<00:00, 128.01it/s]\n",
      "100%|██████████| 600/600 [00:04<00:00, 126.79it/s]\n",
      "100%|██████████| 600/600 [00:04<00:00, 130.01it/s]\n",
      "100%|██████████| 600/600 [00:04<00:00, 131.51it/s]\n",
      "100%|██████████| 600/600 [00:04<00:00, 130.42it/s]\n",
      "100%|██████████| 600/600 [00:04<00:00, 129.50it/s]\n",
      "100%|██████████| 600/600 [00:04<00:00, 126.17it/s]\n",
      "100%|██████████| 600/600 [00:04<00:00, 130.87it/s]\n",
      "100%|██████████| 49/49 [04:35<00:00,  5.61s/it]\n"
     ]
    },
    {
     "name": "stdout",
     "output_type": "stream",
     "text": [
      "FID (different): 64.788\n"
     ]
    },
    {
     "name": "stderr",
     "output_type": "stream",
     "text": [
      "100%|██████████| 600/600 [00:04<00:00, 146.04it/s]\n",
      "100%|██████████| 600/600 [00:04<00:00, 149.92it/s]\n",
      "100%|██████████| 600/600 [00:03<00:00, 163.28it/s]\n",
      "100%|██████████| 600/600 [00:03<00:00, 167.63it/s]\n",
      "100%|██████████| 600/600 [00:03<00:00, 171.12it/s]\n",
      "100%|██████████| 600/600 [00:03<00:00, 166.70it/s]\n",
      "100%|██████████| 600/600 [00:03<00:00, 165.15it/s]\n",
      "100%|██████████| 600/600 [00:03<00:00, 150.35it/s]\n",
      "100%|██████████| 600/600 [00:03<00:00, 158.89it/s]\n",
      "100%|██████████| 600/600 [00:03<00:00, 165.07it/s]\n",
      "100%|██████████| 600/600 [00:15<00:00, 39.08it/s] \n",
      "100%|██████████| 600/600 [00:20<00:00, 28.76it/s]\n",
      "100%|██████████| 600/600 [00:14<00:00, 42.80it/s] \n",
      "100%|██████████| 600/600 [00:03<00:00, 156.91it/s]\n",
      "100%|██████████| 600/600 [00:03<00:00, 174.54it/s]\n",
      "100%|██████████| 600/600 [00:03<00:00, 172.62it/s]\n",
      "100%|██████████| 600/600 [00:03<00:00, 165.41it/s]\n",
      "100%|██████████| 600/600 [00:03<00:00, 170.72it/s]\n",
      "100%|██████████| 600/600 [00:03<00:00, 159.97it/s]\n",
      "100%|██████████| 600/600 [00:03<00:00, 163.10it/s]\n",
      "100%|██████████| 600/600 [00:03<00:00, 168.18it/s]\n",
      "100%|██████████| 49/49 [04:24<00:00,  5.39s/it]\n"
     ]
    },
    {
     "name": "stdout",
     "output_type": "stream",
     "text": [
      "FID (different): 52.380\n"
     ]
    }
   ],
   "source": [
    "fid_list = []\n",
    "for model_path in sorted(\n",
    "            glob.glob(\n",
    "                f'/raid/rustam/danil/beams_gan_speed_test/{exp_name}/ep_*/models/i_2999_ep_*'\n",
    "            ), key=lambda x: int(x.split('_')[-1])\n",
    "        ):\n",
    "    model = tf.saved_model.load(model_path)\n",
    "\n",
    "    # Generate all images\n",
    "    N_GENERATE = 600\n",
    "\n",
    "    generated_images = []\n",
    "\n",
    "    for class_i in range(N_CLASSES):\n",
    "        iterator = tqdm(range(N_GENERATE))\n",
    "        for _ in iterator:\n",
    "            random_latent_vectors = np.random.normal(size=(1, noise_dim)).astype(np.float32)\n",
    "            gen_img = model(label_i=np.array([[class_i]], dtype=np.int32), noise_i=random_latent_vectors)[0]\n",
    "            # scale from [-1,1] to [0,1]\n",
    "            gen_img = (gen_img + 1) / 2.0\n",
    "            gen_img = np.clip(gen_img * 255.0, 0, 255).astype(np.float32)\n",
    "            generated_images.append(gen_img)\n",
    "        iterator.close()\n",
    "\n",
    "    images1 = generated_images\n",
    "    images2 = []\n",
    "    for class_i in range(N_CLASSES):\n",
    "        images2 += CLASS_TO_IMGS[str(class_i)][:N_GENERATE]\n",
    "    # fid between images1 and images2\n",
    "    fid = calculate_fid(model_incv3, images1, images2)\n",
    "    print('FID (different): %.3f' % fid)\n",
    "    fid_list.append(fid)\n",
    "file_name = '-'.join(exp_name.split('/'))\n",
    "np.save(f'results/{file_name}.npy', np.asarray(fid_list))"
   ]
  },
  {
   "cell_type": "code",
   "execution_count": null,
   "metadata": {},
   "outputs": [],
   "source": []
  },
  {
   "cell_type": "code",
   "execution_count": null,
   "metadata": {},
   "outputs": [],
   "source": []
  },
  {
   "cell_type": "code",
   "execution_count": null,
   "metadata": {},
   "outputs": [],
   "source": []
  },
  {
   "cell_type": "code",
   "execution_count": null,
   "metadata": {},
   "outputs": [],
   "source": []
  }
 ],
 "metadata": {
  "kernelspec": {
   "display_name": "Python 3",
   "language": "python",
   "name": "python3"
  },
  "language_info": {
   "codemirror_mode": {
    "name": "ipython",
    "version": 3
   },
   "file_extension": ".py",
   "mimetype": "text/x-python",
   "name": "python",
   "nbconvert_exporter": "python",
   "pygments_lexer": "ipython3",
   "version": "3.8.5"
  }
 },
 "nbformat": 4,
 "nbformat_minor": 2
}
