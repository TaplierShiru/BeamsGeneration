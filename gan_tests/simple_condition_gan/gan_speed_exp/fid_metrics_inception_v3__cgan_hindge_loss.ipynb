{
 "cells": [
  {
   "cell_type": "code",
   "execution_count": 1,
   "metadata": {},
   "outputs": [],
   "source": [
    "# https://keras.io/examples/generative/wgan_gp/\n",
    "#\n",
    "\n",
    "import os\n",
    "os.environ[\"CUDA_VISIBLE_DEVICES\"] = str(1)\n",
    "import time\n",
    "import sys\n",
    "import numpy as np\n",
    "import tensorflow as tf\n",
    "from tensorflow import keras\n",
    "from tensorflow.keras import layers\n",
    "from tensorflow.keras.layers import *\n",
    "\n",
    "from tqdm import tqdm\n",
    "import matplotlib.pyplot as plt\n",
    "import glob\n",
    "from sklearn.utils import shuffle\n",
    "\n",
    "from numpy import expand_dims\n",
    "from numpy import zeros\n",
    "from numpy import ones\n",
    "from numpy.random import randn\n",
    "from numpy.random import randint\n",
    "\n",
    "# example of loading the generator model and generating images\n",
    "from numpy import asarray\n",
    "from numpy.random import randn\n",
    "from numpy.random import randint\n",
    "from tensorflow.keras.models import load_model\n",
    "from matplotlib import pyplot\n",
    "\n",
    "\n",
    "import tensorflow as tf\n",
    "\n",
    "\n",
    "from tensorflow.keras.datasets.fashion_mnist import load_data\n",
    "from tensorflow.keras.optimizers import Adam\n",
    "from tensorflow.keras.models import Model\n",
    "from tensorflow.keras.layers import Input\n",
    "from tensorflow.keras.layers import Dense\n",
    "from tensorflow.keras.layers import Reshape\n",
    "from tensorflow.keras.layers import Flatten\n",
    "from tensorflow.keras.layers import Conv2D\n",
    "from tensorflow.keras.layers import Conv2DTranspose\n",
    "from tensorflow.keras.layers import LeakyReLU\n",
    "from tensorflow.keras.layers import Dropout\n",
    "from tensorflow.keras.layers import Embedding\n",
    "from tensorflow.keras.layers import Concatenate\n",
    "from tensorflow.keras.layers import BatchNormalization\n",
    "from tensorflow.keras import layers as L\n",
    "from tensorflow.keras import initializers\n",
    "\n",
    "import numpy\n",
    "from numpy import cov\n",
    "from numpy import trace\n",
    "from numpy import iscomplexobj\n",
    "from numpy import asarray\n",
    "from numpy.random import randint\n",
    "from scipy.linalg import sqrtm\n",
    "from tensorflow.keras.applications.inception_v3 import InceptionV3\n",
    "from tensorflow.keras.applications.inception_v3 import preprocess_input\n",
    "from skimage.transform import resize\n",
    "\n",
    "from skimage import io\n",
    "import cv2\n",
    "import numpy as np\n",
    "import matplotlib.pyplot as plt\n",
    "from tqdm import tqdm\n",
    "import glob\n",
    "from sklearn.utils import shuffle"
   ]
  },
  {
   "cell_type": "code",
   "execution_count": 2,
   "metadata": {},
   "outputs": [],
   "source": [
    "foldername2class = {\n",
    "\t'0.0':  0,\n",
    "\t'0.05': 1,\n",
    "\t'0.1':  2,\n",
    "\t'0.15': 3,\n",
    "\t'0.2':  4,\n",
    "\t'0.25': 5,\n",
    "\t'0.3':  6,\n",
    "\t'0.35': 7,\n",
    "\t'0.4':  8,\n",
    "\t'0.45': 9,\n",
    "\t'0.5':  10,\n",
    "\t'0.55': 11,\n",
    "\t'0.6':  12,\n",
    "\t'0.65': 13,\n",
    "\t'0.7':  14,\n",
    "\t'0.75': 15,\n",
    "\t'0.8':  16,\n",
    "\t'0.85': 17,\n",
    "\t'0.9':  18,\n",
    "\t'0.95': 19,\n",
    "\t'1.0':  20,\n",
    "}"
   ]
  },
  {
   "cell_type": "code",
   "execution_count": 3,
   "metadata": {},
   "outputs": [
    {
     "name": "stderr",
     "output_type": "stream",
     "text": [
      "100%|██████████| 21/21 [00:00<00:00, 123.13it/s]\n"
     ]
    }
   ],
   "source": [
    "IMG_SHAPE = (128, 128, 3)\n",
    "BATCH_SIZE = 10\n",
    "N_CLASSES = len(foldername2class)\n",
    "# Size of the noise vector\n",
    "noise_dim = 100\n",
    "\n",
    "\n",
    "PATH_DATA = '../../../expand_double_modes'\n",
    "\n",
    "train_images_path = []\n",
    "\n",
    "iterator = tqdm(glob.glob(PATH_DATA + \"/*\"))\n",
    "for single_folder in iterator:\n",
    "    img_folder = shuffle(glob.glob(single_folder + '/*'))\n",
    "    for indx, single_img_path in enumerate(img_folder):\n",
    "        train_images_path.append(single_img_path)\n",
    "iterator.close()\n",
    "\n",
    "train_images_path = shuffle(train_images_path)"
   ]
  },
  {
   "cell_type": "code",
   "execution_count": 4,
   "metadata": {},
   "outputs": [
    {
     "name": "stderr",
     "output_type": "stream",
     "text": [
      "100%|██████████| 37800/37800 [01:20<00:00, 469.75it/s]\n"
     ]
    }
   ],
   "source": [
    "CLASS_TO_IMGS = {}\n",
    "\n",
    "\n",
    "def preprocess_images(images):\n",
    "  images = (images - 127.5) / 127.5\n",
    "  return images.astype('float32')\n",
    "\n",
    "def load_dataset(path_list: list):\n",
    "    iterator = tqdm(path_list)\n",
    "    for single_path in iterator:\n",
    "        label_s = foldername2class[single_path.split('/')[-2]]\n",
    "        image = io.imread(single_path)\n",
    "        image = cv2.resize(image, (IMG_SHAPE[1], IMG_SHAPE[0]))\n",
    "        image_s = np.asarray(image, dtype=np.float32)[..., :3]\n",
    "        if CLASS_TO_IMGS.get(str(label_s)) is None:\n",
    "            CLASS_TO_IMGS[str(label_s)] = []\n",
    "        CLASS_TO_IMGS[str(label_s)] += [image_s]\n",
    "    iterator.close()\n",
    "load_dataset(train_images_path)"
   ]
  },
  {
   "cell_type": "code",
   "execution_count": 5,
   "metadata": {},
   "outputs": [],
   "source": [
    "# prepare the inception v3 model\n",
    "model_incv3 = InceptionV3(include_top=False, pooling='avg', input_shape=(299,299,3))\n",
    "# scale an array of images to a new size\n",
    "def scale_images(images, new_shape):\n",
    "    images_list = list()\n",
    "    for image in images:\n",
    "        # resize with nearest neighbor interpolation\n",
    "        new_image = resize(image, new_shape, 0)\n",
    "        # store\n",
    "        images_list.append(new_image)\n",
    "    return asarray(images_list)\n",
    "\n",
    "# calculate frechet inception distance\n",
    "def calculate_fid(model, images1, images2, batch_calc=256):\n",
    "    assert len(images1) == len(images2)\n",
    "    n_batches = len(images1) // batch_calc\n",
    "    images1, images2 = images1[:n_batches * batch_calc], images2[:n_batches * batch_calc]\n",
    "    iterator = tqdm(range(n_batches))\n",
    "    res_1 = []\n",
    "    res_2 = []\n",
    "    \n",
    "    for i in iterator:\n",
    "        i1_b, i2_b = (\n",
    "            np.array(images1[i * batch_calc: (i+1)*batch_calc], dtype=np.float32), \n",
    "            np.array(images2[i * batch_calc: (i+1)*batch_calc], dtype=np.float32) \n",
    "        )\n",
    "        # resize\n",
    "        i1_b, i2_b = (\n",
    "            scale_images(i1_b, (299,299,3)), \n",
    "            scale_images(i2_b, (299,299,3))\n",
    "        )\n",
    "        # pre-process\n",
    "        i1_b, i2_b = (preprocess_input(i1_b), preprocess_input(i2_b))\n",
    "        # calculate activations\n",
    "        act1 = model.predict(i1_b)\n",
    "        act2 = model.predict(i2_b)\n",
    "        \n",
    "        res_1.append(act1)\n",
    "        res_2.append(act2)\n",
    "    iterator.close()\n",
    "    # calculate activations\n",
    "    act1 = np.concatenate(res_1, axis=0)\n",
    "    act2 = np.concatenate(res_2, axis=0)\n",
    "    # calculate mean and covariance statistics\n",
    "    mu1, sigma1 = act1.mean(axis=0), cov(act1, rowvar=False)\n",
    "    mu2, sigma2 = act2.mean(axis=0), cov(act2, rowvar=False)\n",
    "    # calculate sum squared difference between means\n",
    "    ssdiff = numpy.sum((mu1 - mu2)**2.0)\n",
    "    # calculate sqrt of product between cov\n",
    "    covmean = sqrtm(sigma1.dot(sigma2))\n",
    "    # check and correct imaginary numbers from sqrt\n",
    "    if iscomplexobj(covmean):\n",
    "        covmean = covmean.real\n",
    "    # calculate score\n",
    "    fid = ssdiff + trace(sigma1 + sigma2 - 2.0 * covmean)\n",
    "    return fid"
   ]
  },
  {
   "cell_type": "code",
   "execution_count": 6,
   "metadata": {},
   "outputs": [],
   "source": [
    "exp_name = 'cgan/hinge_loss'"
   ]
  },
  {
   "cell_type": "code",
   "execution_count": 7,
   "metadata": {
    "scrolled": true
   },
   "outputs": [
    {
     "name": "stderr",
     "output_type": "stream",
     "text": [
      "100%|██████████| 600/600 [00:05<00:00, 104.55it/s]\n",
      "100%|██████████| 600/600 [00:03<00:00, 179.30it/s]\n",
      "100%|██████████| 600/600 [00:03<00:00, 168.62it/s]\n",
      "100%|██████████| 600/600 [00:03<00:00, 170.35it/s]\n",
      "100%|██████████| 600/600 [00:03<00:00, 168.32it/s]\n",
      "100%|██████████| 600/600 [00:03<00:00, 168.04it/s]\n",
      "100%|██████████| 600/600 [00:03<00:00, 173.94it/s]\n",
      "100%|██████████| 600/600 [00:03<00:00, 166.83it/s]\n",
      "100%|██████████| 600/600 [00:03<00:00, 173.65it/s]\n",
      "100%|██████████| 600/600 [00:03<00:00, 172.42it/s]\n",
      "100%|██████████| 600/600 [00:03<00:00, 163.43it/s]\n",
      "100%|██████████| 600/600 [00:03<00:00, 166.39it/s]\n",
      "100%|██████████| 600/600 [00:03<00:00, 171.57it/s]\n",
      "100%|██████████| 600/600 [00:03<00:00, 172.76it/s]\n",
      "100%|██████████| 600/600 [00:03<00:00, 178.31it/s]\n",
      "100%|██████████| 600/600 [00:03<00:00, 167.82it/s]\n",
      "100%|██████████| 600/600 [00:03<00:00, 163.17it/s]\n",
      "100%|██████████| 600/600 [00:03<00:00, 162.37it/s]\n",
      "100%|██████████| 600/600 [00:03<00:00, 169.88it/s]\n",
      "100%|██████████| 600/600 [00:03<00:00, 178.47it/s]\n",
      "100%|██████████| 600/600 [00:03<00:00, 182.93it/s]\n",
      "100%|██████████| 49/49 [03:41<00:00,  4.51s/it]\n"
     ]
    },
    {
     "name": "stdout",
     "output_type": "stream",
     "text": [
      "FID (different): 112.367\n"
     ]
    },
    {
     "name": "stderr",
     "output_type": "stream",
     "text": [
      "100%|██████████| 600/600 [00:19<00:00, 30.45it/s]\n",
      "100%|██████████| 600/600 [00:19<00:00, 31.44it/s]\n",
      "100%|██████████| 600/600 [00:13<00:00, 43.52it/s] \n",
      "100%|██████████| 600/600 [00:03<00:00, 171.73it/s]\n",
      "100%|██████████| 600/600 [00:13<00:00, 45.31it/s] \n",
      "100%|██████████| 600/600 [00:17<00:00, 33.72it/s]\n",
      "100%|██████████| 600/600 [00:18<00:00, 31.76it/s]\n",
      "100%|██████████| 600/600 [00:14<00:00, 41.15it/s] \n",
      "100%|██████████| 600/600 [00:03<00:00, 161.09it/s]\n",
      "100%|██████████| 600/600 [00:04<00:00, 147.69it/s]\n",
      "100%|██████████| 600/600 [00:03<00:00, 159.23it/s]\n",
      "100%|██████████| 600/600 [00:03<00:00, 156.59it/s]\n",
      "100%|██████████| 600/600 [00:03<00:00, 159.69it/s]\n",
      "100%|██████████| 600/600 [00:03<00:00, 158.62it/s]\n",
      "100%|██████████| 600/600 [00:04<00:00, 146.84it/s]\n",
      "100%|██████████| 600/600 [00:04<00:00, 140.10it/s]\n",
      "100%|██████████| 600/600 [00:03<00:00, 152.89it/s]\n",
      "100%|██████████| 600/600 [00:03<00:00, 163.86it/s]\n",
      "100%|██████████| 600/600 [00:03<00:00, 165.72it/s]\n",
      "100%|██████████| 600/600 [00:03<00:00, 150.69it/s]\n",
      "100%|██████████| 600/600 [00:04<00:00, 140.80it/s]\n",
      "100%|██████████| 49/49 [03:37<00:00,  4.44s/it]\n"
     ]
    },
    {
     "name": "stdout",
     "output_type": "stream",
     "text": [
      "FID (different): 116.897\n"
     ]
    },
    {
     "name": "stderr",
     "output_type": "stream",
     "text": [
      "100%|██████████| 600/600 [00:03<00:00, 158.30it/s]\n",
      "100%|██████████| 600/600 [00:03<00:00, 172.26it/s]\n",
      "100%|██████████| 600/600 [00:03<00:00, 177.02it/s]\n",
      "100%|██████████| 600/600 [00:03<00:00, 169.09it/s]\n",
      "100%|██████████| 600/600 [00:03<00:00, 182.65it/s]\n",
      "100%|██████████| 600/600 [00:06<00:00, 97.80it/s] \n",
      "100%|██████████| 600/600 [00:18<00:00, 32.24it/s]\n",
      "100%|██████████| 600/600 [00:18<00:00, 31.85it/s]\n",
      "100%|██████████| 600/600 [00:14<00:00, 41.21it/s] \n",
      "100%|██████████| 600/600 [00:03<00:00, 166.86it/s]\n",
      "100%|██████████| 600/600 [00:03<00:00, 173.65it/s]\n",
      "100%|██████████| 600/600 [00:03<00:00, 170.43it/s]\n",
      "100%|██████████| 600/600 [00:15<00:00, 37.62it/s]\n",
      "100%|██████████| 600/600 [00:18<00:00, 32.82it/s]\n",
      "100%|██████████| 600/600 [00:17<00:00, 34.84it/s]\n",
      "100%|██████████| 600/600 [00:16<00:00, 35.57it/s] \n",
      "100%|██████████| 600/600 [00:08<00:00, 71.75it/s] \n",
      "100%|██████████| 600/600 [00:03<00:00, 174.15it/s]\n",
      "100%|██████████| 600/600 [00:03<00:00, 167.55it/s]\n",
      "100%|██████████| 600/600 [00:03<00:00, 171.41it/s]\n",
      "100%|██████████| 600/600 [00:03<00:00, 164.94it/s]\n",
      "100%|██████████| 49/49 [03:19<00:00,  4.07s/it]\n"
     ]
    },
    {
     "name": "stdout",
     "output_type": "stream",
     "text": [
      "FID (different): 104.902\n"
     ]
    },
    {
     "name": "stderr",
     "output_type": "stream",
     "text": [
      "100%|██████████| 600/600 [00:03<00:00, 158.89it/s]\n",
      "100%|██████████| 600/600 [00:03<00:00, 171.05it/s]\n",
      "100%|██████████| 600/600 [00:03<00:00, 168.22it/s]\n",
      "100%|██████████| 600/600 [00:03<00:00, 165.37it/s]\n",
      "100%|██████████| 600/600 [00:03<00:00, 172.51it/s]\n",
      "100%|██████████| 600/600 [00:03<00:00, 182.07it/s]\n",
      "100%|██████████| 600/600 [00:03<00:00, 169.03it/s]\n",
      "100%|██████████| 600/600 [00:03<00:00, 164.98it/s]\n",
      "100%|██████████| 600/600 [00:03<00:00, 179.09it/s]\n",
      "100%|██████████| 600/600 [00:03<00:00, 183.64it/s]\n",
      "100%|██████████| 600/600 [00:16<00:00, 35.80it/s]\n",
      "100%|██████████| 600/600 [00:17<00:00, 33.68it/s]\n",
      "100%|██████████| 600/600 [00:18<00:00, 31.78it/s]\n",
      "100%|██████████| 600/600 [00:10<00:00, 55.14it/s] \n",
      "100%|██████████| 600/600 [00:03<00:00, 159.59it/s]\n",
      "100%|██████████| 600/600 [00:03<00:00, 153.33it/s]\n",
      "100%|██████████| 600/600 [00:03<00:00, 165.43it/s]\n",
      "100%|██████████| 600/600 [00:04<00:00, 133.01it/s]\n",
      "100%|██████████| 600/600 [00:17<00:00, 34.30it/s]\n",
      "100%|██████████| 600/600 [00:17<00:00, 33.68it/s]\n",
      "100%|██████████| 600/600 [00:18<00:00, 33.17it/s]\n",
      "100%|██████████| 49/49 [03:35<00:00,  4.39s/it]\n"
     ]
    },
    {
     "name": "stdout",
     "output_type": "stream",
     "text": [
      "FID (different): 90.506\n"
     ]
    },
    {
     "name": "stderr",
     "output_type": "stream",
     "text": [
      "100%|██████████| 600/600 [00:04<00:00, 149.22it/s]\n",
      "100%|██████████| 600/600 [00:03<00:00, 157.15it/s]\n",
      "100%|██████████| 600/600 [00:03<00:00, 163.50it/s]\n",
      "100%|██████████| 600/600 [00:03<00:00, 167.98it/s]\n",
      "100%|██████████| 600/600 [00:03<00:00, 175.90it/s]\n",
      "100%|██████████| 600/600 [00:03<00:00, 172.24it/s]\n",
      "100%|██████████| 600/600 [00:03<00:00, 163.04it/s]\n",
      "100%|██████████| 600/600 [00:03<00:00, 178.10it/s]\n",
      "100%|██████████| 600/600 [00:03<00:00, 176.19it/s]\n",
      "100%|██████████| 600/600 [00:03<00:00, 173.14it/s]\n",
      "100%|██████████| 600/600 [00:03<00:00, 176.01it/s]\n",
      "100%|██████████| 600/600 [00:03<00:00, 176.80it/s]\n",
      "100%|██████████| 600/600 [00:03<00:00, 175.45it/s]\n",
      "100%|██████████| 600/600 [00:03<00:00, 167.93it/s]\n",
      "100%|██████████| 600/600 [00:03<00:00, 176.25it/s]\n",
      "100%|██████████| 600/600 [00:11<00:00, 52.93it/s] \n",
      "100%|██████████| 600/600 [00:18<00:00, 32.09it/s]\n",
      "100%|██████████| 600/600 [00:19<00:00, 30.31it/s]\n",
      "100%|██████████| 600/600 [00:17<00:00, 34.77it/s] \n",
      "100%|██████████| 600/600 [00:03<00:00, 175.01it/s]\n",
      "100%|██████████| 600/600 [00:03<00:00, 176.24it/s]\n",
      "100%|██████████| 49/49 [04:00<00:00,  4.92s/it]\n"
     ]
    },
    {
     "name": "stdout",
     "output_type": "stream",
     "text": [
      "FID (different): 92.374\n"
     ]
    },
    {
     "name": "stderr",
     "output_type": "stream",
     "text": [
      "100%|██████████| 600/600 [00:06<00:00, 88.92it/s] \n",
      "100%|██████████| 600/600 [00:03<00:00, 156.51it/s]\n",
      "100%|██████████| 600/600 [00:03<00:00, 166.26it/s]\n",
      "100%|██████████| 600/600 [00:03<00:00, 164.78it/s]\n",
      "100%|██████████| 600/600 [00:03<00:00, 170.10it/s]\n",
      "100%|██████████| 600/600 [00:03<00:00, 171.17it/s]\n",
      "100%|██████████| 600/600 [00:03<00:00, 168.52it/s]\n",
      "100%|██████████| 600/600 [00:03<00:00, 174.35it/s]\n",
      "100%|██████████| 600/600 [00:03<00:00, 170.23it/s]\n",
      "100%|██████████| 600/600 [00:03<00:00, 183.57it/s]\n",
      "100%|██████████| 600/600 [00:03<00:00, 179.60it/s]\n",
      "100%|██████████| 600/600 [00:03<00:00, 182.50it/s]\n",
      "100%|██████████| 600/600 [00:03<00:00, 173.43it/s]\n",
      "100%|██████████| 600/600 [00:03<00:00, 170.90it/s]\n",
      "100%|██████████| 600/600 [00:03<00:00, 178.95it/s]\n",
      "100%|██████████| 600/600 [00:03<00:00, 175.88it/s]\n",
      "100%|██████████| 600/600 [00:03<00:00, 173.99it/s]\n",
      "100%|██████████| 600/600 [00:03<00:00, 177.90it/s]\n",
      "100%|██████████| 600/600 [00:15<00:00, 39.44it/s]\n",
      "100%|██████████| 600/600 [00:18<00:00, 32.80it/s]\n",
      "100%|██████████| 600/600 [00:18<00:00, 32.97it/s]\n",
      "100%|██████████| 49/49 [04:09<00:00,  5.10s/it]\n"
     ]
    },
    {
     "name": "stdout",
     "output_type": "stream",
     "text": [
      "FID (different): 67.644\n"
     ]
    },
    {
     "name": "stderr",
     "output_type": "stream",
     "text": [
      "100%|██████████| 600/600 [00:09<00:00, 62.76it/s] \n",
      "100%|██████████| 600/600 [00:03<00:00, 166.37it/s]\n",
      "100%|██████████| 600/600 [00:03<00:00, 162.81it/s]\n",
      "100%|██████████| 600/600 [00:03<00:00, 171.83it/s]\n",
      "100%|██████████| 600/600 [00:03<00:00, 165.34it/s]\n",
      "100%|██████████| 600/600 [00:03<00:00, 170.47it/s]\n",
      "100%|██████████| 600/600 [00:03<00:00, 174.37it/s]\n",
      "100%|██████████| 600/600 [00:03<00:00, 175.51it/s]\n",
      "100%|██████████| 600/600 [00:03<00:00, 181.80it/s]\n",
      "100%|██████████| 600/600 [00:03<00:00, 179.99it/s]\n",
      "100%|██████████| 600/600 [00:03<00:00, 173.30it/s]\n",
      "100%|██████████| 600/600 [00:03<00:00, 171.42it/s]\n",
      "100%|██████████| 600/600 [00:03<00:00, 169.08it/s]\n",
      "100%|██████████| 600/600 [00:04<00:00, 147.22it/s]\n",
      "100%|██████████| 600/600 [00:03<00:00, 177.44it/s]\n",
      "100%|██████████| 600/600 [00:03<00:00, 163.78it/s]\n",
      "100%|██████████| 600/600 [00:03<00:00, 173.00it/s]\n",
      "100%|██████████| 600/600 [00:03<00:00, 166.79it/s]\n",
      "100%|██████████| 600/600 [00:03<00:00, 180.51it/s]\n",
      "100%|██████████| 600/600 [00:03<00:00, 165.88it/s]\n",
      "100%|██████████| 600/600 [00:03<00:00, 168.03it/s]\n",
      "100%|██████████| 49/49 [04:47<00:00,  5.86s/it]\n"
     ]
    },
    {
     "name": "stdout",
     "output_type": "stream",
     "text": [
      "FID (different): 64.772\n"
     ]
    },
    {
     "name": "stderr",
     "output_type": "stream",
     "text": [
      "100%|██████████| 600/600 [00:19<00:00, 31.57it/s] \n",
      "100%|██████████| 600/600 [00:04<00:00, 129.18it/s]\n",
      "100%|██████████| 600/600 [00:03<00:00, 155.30it/s]\n",
      "100%|██████████| 600/600 [00:03<00:00, 161.26it/s]\n",
      "100%|██████████| 600/600 [00:03<00:00, 172.40it/s]\n",
      "100%|██████████| 600/600 [00:03<00:00, 160.73it/s]\n",
      "100%|██████████| 600/600 [00:03<00:00, 169.89it/s]\n",
      "100%|██████████| 600/600 [00:03<00:00, 162.96it/s]\n",
      "100%|██████████| 600/600 [00:03<00:00, 170.26it/s]\n",
      "100%|██████████| 600/600 [00:03<00:00, 166.38it/s]\n",
      "100%|██████████| 600/600 [00:03<00:00, 180.42it/s]\n",
      "100%|██████████| 600/600 [00:03<00:00, 179.12it/s]\n",
      "100%|██████████| 600/600 [00:03<00:00, 167.58it/s]\n",
      "100%|██████████| 600/600 [00:03<00:00, 169.46it/s]\n",
      "100%|██████████| 600/600 [00:03<00:00, 167.54it/s]\n",
      "100%|██████████| 600/600 [00:03<00:00, 162.06it/s]\n",
      "100%|██████████| 600/600 [00:03<00:00, 170.72it/s]\n",
      "100%|██████████| 600/600 [00:03<00:00, 175.81it/s]\n",
      "100%|██████████| 600/600 [00:03<00:00, 172.21it/s]\n",
      "100%|██████████| 600/600 [00:03<00:00, 176.27it/s]\n",
      "100%|██████████| 600/600 [00:03<00:00, 183.06it/s]\n",
      "100%|██████████| 49/49 [04:42<00:00,  5.77s/it]\n"
     ]
    },
    {
     "name": "stdout",
     "output_type": "stream",
     "text": [
      "FID (different): 65.576\n"
     ]
    },
    {
     "name": "stderr",
     "output_type": "stream",
     "text": [
      "100%|██████████| 600/600 [00:16<00:00, 36.71it/s]\n",
      "100%|██████████| 600/600 [00:18<00:00, 32.73it/s]\n",
      "100%|██████████| 600/600 [00:16<00:00, 36.36it/s] \n",
      "100%|██████████| 600/600 [00:04<00:00, 124.97it/s]\n",
      "100%|██████████| 600/600 [00:03<00:00, 166.71it/s]\n",
      "100%|██████████| 600/600 [00:03<00:00, 169.59it/s]\n",
      "100%|██████████| 600/600 [00:03<00:00, 156.85it/s]\n",
      "100%|██████████| 600/600 [00:03<00:00, 165.12it/s]\n",
      "100%|██████████| 600/600 [00:03<00:00, 167.85it/s]\n",
      "100%|██████████| 600/600 [00:03<00:00, 185.89it/s]\n",
      "100%|██████████| 600/600 [00:03<00:00, 173.18it/s]\n",
      "100%|██████████| 600/600 [00:03<00:00, 177.58it/s]\n",
      "100%|██████████| 600/600 [00:03<00:00, 162.13it/s]\n",
      "100%|██████████| 600/600 [00:03<00:00, 176.86it/s]\n",
      "100%|██████████| 600/600 [00:03<00:00, 169.98it/s]\n",
      "100%|██████████| 600/600 [00:03<00:00, 176.47it/s]\n",
      "100%|██████████| 600/600 [00:03<00:00, 174.25it/s]\n",
      "100%|██████████| 600/600 [00:03<00:00, 166.02it/s]\n",
      "100%|██████████| 600/600 [00:03<00:00, 156.03it/s]\n",
      "100%|██████████| 600/600 [00:03<00:00, 162.92it/s]\n",
      "100%|██████████| 600/600 [00:03<00:00, 175.76it/s]\n",
      "100%|██████████| 49/49 [04:36<00:00,  5.63s/it]\n"
     ]
    },
    {
     "name": "stdout",
     "output_type": "stream",
     "text": [
      "FID (different): 67.935\n"
     ]
    },
    {
     "name": "stderr",
     "output_type": "stream",
     "text": [
      "100%|██████████| 600/600 [00:03<00:00, 150.00it/s]\n",
      "100%|██████████| 600/600 [00:12<00:00, 46.92it/s] \n",
      "100%|██████████| 600/600 [00:19<00:00, 31.09it/s]\n",
      "100%|██████████| 600/600 [00:12<00:00, 47.81it/s] \n",
      "100%|██████████| 600/600 [00:03<00:00, 156.44it/s]\n",
      "100%|██████████| 600/600 [00:03<00:00, 178.50it/s]\n",
      "100%|██████████| 600/600 [00:03<00:00, 169.30it/s]\n",
      "100%|██████████| 600/600 [00:03<00:00, 172.94it/s]\n",
      "100%|██████████| 600/600 [00:03<00:00, 172.79it/s]\n",
      "100%|██████████| 600/600 [00:03<00:00, 160.72it/s]\n",
      "100%|██████████| 600/600 [00:03<00:00, 178.69it/s]\n",
      "100%|██████████| 600/600 [00:03<00:00, 171.42it/s]\n",
      "100%|██████████| 600/600 [00:03<00:00, 167.87it/s]\n",
      "100%|██████████| 600/600 [00:03<00:00, 173.92it/s]\n",
      "100%|██████████| 600/600 [00:03<00:00, 180.28it/s]\n",
      "100%|██████████| 600/600 [00:03<00:00, 176.00it/s]\n",
      "100%|██████████| 600/600 [00:03<00:00, 175.49it/s]\n",
      "100%|██████████| 600/600 [00:03<00:00, 179.29it/s]\n",
      "100%|██████████| 600/600 [00:03<00:00, 174.85it/s]\n",
      "100%|██████████| 600/600 [00:03<00:00, 175.63it/s]\n",
      "100%|██████████| 600/600 [00:03<00:00, 171.50it/s]\n",
      "100%|██████████| 49/49 [04:29<00:00,  5.50s/it]\n"
     ]
    },
    {
     "name": "stdout",
     "output_type": "stream",
     "text": [
      "FID (different): 59.479\n"
     ]
    }
   ],
   "source": [
    "fid_list = []\n",
    "for model_path in sorted(\n",
    "            glob.glob(\n",
    "                f'/raid/rustam/danil/beams_gan_speed_test/{exp_name}/ep_*/models/i_2999_ep_*'\n",
    "            ), key=lambda x: int(x.split('_')[-1])\n",
    "        ):\n",
    "    model = tf.saved_model.load(model_path)\n",
    "\n",
    "    # Generate all images\n",
    "    N_GENERATE = 600\n",
    "\n",
    "    generated_images = []\n",
    "\n",
    "    for class_i in range(N_CLASSES):\n",
    "        iterator = tqdm(range(N_GENERATE))\n",
    "        for _ in iterator:\n",
    "            random_latent_vectors = np.random.normal(size=(1, noise_dim)).astype(np.float32)\n",
    "            gen_img = model(label_i=np.array([[class_i]], dtype=np.int32), noise_i=random_latent_vectors)[0]\n",
    "            # scale from [-1,1] to [0,1]\n",
    "            gen_img = (gen_img + 1) / 2.0\n",
    "            gen_img = np.clip(gen_img * 255.0, 0, 255).astype(np.float32)\n",
    "            generated_images.append(gen_img)\n",
    "        iterator.close()\n",
    "\n",
    "    images1 = generated_images\n",
    "    images2 = []\n",
    "    for class_i in range(N_CLASSES):\n",
    "        images2 += CLASS_TO_IMGS[str(class_i)][:N_GENERATE]\n",
    "    # fid between images1 and images2\n",
    "    fid = calculate_fid(model_incv3, images1, images2)\n",
    "    print('FID (different): %.3f' % fid)\n",
    "    fid_list.append(fid)\n",
    "file_name = '-'.join(exp_name.split('/'))\n",
    "np.save(f'results/{file_name}.npy', np.asarray(fid_list))"
   ]
  },
  {
   "cell_type": "code",
   "execution_count": null,
   "metadata": {},
   "outputs": [],
   "source": []
  },
  {
   "cell_type": "code",
   "execution_count": null,
   "metadata": {},
   "outputs": [],
   "source": []
  },
  {
   "cell_type": "code",
   "execution_count": null,
   "metadata": {},
   "outputs": [],
   "source": []
  },
  {
   "cell_type": "code",
   "execution_count": null,
   "metadata": {},
   "outputs": [],
   "source": []
  }
 ],
 "metadata": {
  "kernelspec": {
   "display_name": "Python 3",
   "language": "python",
   "name": "python3"
  },
  "language_info": {
   "codemirror_mode": {
    "name": "ipython",
    "version": 3
   },
   "file_extension": ".py",
   "mimetype": "text/x-python",
   "name": "python",
   "nbconvert_exporter": "python",
   "pygments_lexer": "ipython3",
   "version": "3.8.5"
  }
 },
 "nbformat": 4,
 "nbformat_minor": 2
}
