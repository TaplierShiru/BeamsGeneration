{
 "cells": [
  {
   "cell_type": "code",
   "execution_count": 1,
   "metadata": {},
   "outputs": [],
   "source": [
    "# https://keras.io/examples/generative/wgan_gp/\n",
    "#\n",
    "\n",
    "import os\n",
    "os.environ[\"CUDA_VISIBLE_DEVICES\"] = str(0)\n",
    "import time\n",
    "import sys\n",
    "import numpy as np\n",
    "import tensorflow as tf\n",
    "from tensorflow import keras\n",
    "from tensorflow.keras import layers\n",
    "from tensorflow.keras.layers import *\n",
    "\n",
    "from tqdm import tqdm\n",
    "import matplotlib.pyplot as plt\n",
    "import glob\n",
    "from sklearn.utils import shuffle\n",
    "\n",
    "from numpy import expand_dims\n",
    "from numpy import zeros\n",
    "from numpy import ones\n",
    "from numpy.random import randn\n",
    "from numpy.random import randint\n",
    "\n",
    "# example of loading the generator model and generating images\n",
    "from numpy import asarray\n",
    "from numpy.random import randn\n",
    "from numpy.random import randint\n",
    "from tensorflow.keras.models import load_model\n",
    "from matplotlib import pyplot\n",
    "\n",
    "\n",
    "import tensorflow as tf\n",
    "\n",
    "\n",
    "from tensorflow.keras.datasets.fashion_mnist import load_data\n",
    "from tensorflow.keras.optimizers import Adam\n",
    "from tensorflow.keras.models import Model\n",
    "from tensorflow.keras.layers import Input\n",
    "from tensorflow.keras.layers import Dense\n",
    "from tensorflow.keras.layers import Reshape\n",
    "from tensorflow.keras.layers import Flatten\n",
    "from tensorflow.keras.layers import Conv2D\n",
    "from tensorflow.keras.layers import Conv2DTranspose\n",
    "from tensorflow.keras.layers import LeakyReLU\n",
    "from tensorflow.keras.layers import Dropout\n",
    "from tensorflow.keras.layers import Embedding\n",
    "from tensorflow.keras.layers import Concatenate\n",
    "from tensorflow.keras.layers import BatchNormalization\n",
    "from tensorflow.keras import layers as L\n",
    "from tensorflow.keras import initializers\n",
    "\n",
    "import numpy\n",
    "from numpy import cov\n",
    "from numpy import trace\n",
    "from numpy import iscomplexobj\n",
    "from numpy import asarray\n",
    "from numpy.random import randint\n",
    "from scipy.linalg import sqrtm\n",
    "from tensorflow.keras.applications.inception_v3 import InceptionV3\n",
    "from tensorflow.keras.applications.inception_v3 import preprocess_input\n",
    "from skimage.transform import resize\n",
    "\n",
    "from skimage import io\n",
    "import cv2\n",
    "import numpy as np\n",
    "import matplotlib.pyplot as plt\n",
    "from tqdm import tqdm\n",
    "import glob\n",
    "from sklearn.utils import shuffle"
   ]
  },
  {
   "cell_type": "code",
   "execution_count": 2,
   "metadata": {},
   "outputs": [],
   "source": [
    "foldername2class = {\n",
    "\t'0.0':  0,\n",
    "\t'0.05': 1,\n",
    "\t'0.1':  2,\n",
    "\t'0.15': 3,\n",
    "\t'0.2':  4,\n",
    "\t'0.25': 5,\n",
    "\t'0.3':  6,\n",
    "\t'0.35': 7,\n",
    "\t'0.4':  8,\n",
    "\t'0.45': 9,\n",
    "\t'0.5':  10,\n",
    "\t'0.55': 11,\n",
    "\t'0.6':  12,\n",
    "\t'0.65': 13,\n",
    "\t'0.7':  14,\n",
    "\t'0.75': 15,\n",
    "\t'0.8':  16,\n",
    "\t'0.85': 17,\n",
    "\t'0.9':  18,\n",
    "\t'0.95': 19,\n",
    "\t'1.0':  20,\n",
    "}"
   ]
  },
  {
   "cell_type": "code",
   "execution_count": 3,
   "metadata": {},
   "outputs": [
    {
     "name": "stderr",
     "output_type": "stream",
     "text": [
      "100%|██████████| 21/21 [00:00<00:00, 123.99it/s]\n"
     ]
    }
   ],
   "source": [
    "IMG_SHAPE = (128, 128, 3)\n",
    "BATCH_SIZE = 10\n",
    "N_CLASSES = len(foldername2class)\n",
    "# Size of the noise vector\n",
    "noise_dim = 100\n",
    "\n",
    "\n",
    "PATH_DATA = '../../../expand_double_modes'\n",
    "\n",
    "train_images_path = []\n",
    "\n",
    "iterator = tqdm(glob.glob(PATH_DATA + \"/*\"))\n",
    "for single_folder in iterator:\n",
    "    img_folder = shuffle(glob.glob(single_folder + '/*'))\n",
    "    for indx, single_img_path in enumerate(img_folder):\n",
    "        train_images_path.append(single_img_path)\n",
    "iterator.close()\n",
    "\n",
    "train_images_path = shuffle(train_images_path)"
   ]
  },
  {
   "cell_type": "code",
   "execution_count": 4,
   "metadata": {},
   "outputs": [
    {
     "name": "stderr",
     "output_type": "stream",
     "text": [
      "100%|██████████| 37800/37800 [01:20<00:00, 470.89it/s]\n"
     ]
    }
   ],
   "source": [
    "CLASS_TO_IMGS = {}\n",
    "\n",
    "\n",
    "def preprocess_images(images):\n",
    "  images = (images - 127.5) / 127.5\n",
    "  return images.astype('float32')\n",
    "\n",
    "def load_dataset(path_list: list):\n",
    "    iterator = tqdm(path_list)\n",
    "    for single_path in iterator:\n",
    "        label_s = foldername2class[single_path.split('/')[-2]]\n",
    "        image = io.imread(single_path)\n",
    "        image = cv2.resize(image, (IMG_SHAPE[1], IMG_SHAPE[0]))\n",
    "        image_s = np.asarray(image, dtype=np.float32)[..., :3]\n",
    "        if CLASS_TO_IMGS.get(str(label_s)) is None:\n",
    "            CLASS_TO_IMGS[str(label_s)] = []\n",
    "        CLASS_TO_IMGS[str(label_s)] += [image_s]\n",
    "    iterator.close()\n",
    "load_dataset(train_images_path)"
   ]
  },
  {
   "cell_type": "code",
   "execution_count": 5,
   "metadata": {},
   "outputs": [],
   "source": [
    "# prepare the inception v3 model\n",
    "model_incv3 = InceptionV3(include_top=False, pooling='avg', input_shape=(299,299,3))\n",
    "# scale an array of images to a new size\n",
    "def scale_images(images, new_shape):\n",
    "    images_list = list()\n",
    "    for image in images:\n",
    "        # resize with nearest neighbor interpolation\n",
    "        new_image = resize(image, new_shape, 0)\n",
    "        # store\n",
    "        images_list.append(new_image)\n",
    "    return asarray(images_list)\n",
    "\n",
    "# calculate frechet inception distance\n",
    "def calculate_fid(model, images1, images2, batch_calc=256):\n",
    "    assert len(images1) == len(images2)\n",
    "    n_batches = len(images1) // batch_calc\n",
    "    images1, images2 = images1[:n_batches * batch_calc], images2[:n_batches * batch_calc]\n",
    "    iterator = tqdm(range(n_batches))\n",
    "    res_1 = []\n",
    "    res_2 = []\n",
    "    \n",
    "    for i in iterator:\n",
    "        i1_b, i2_b = (\n",
    "            np.array(images1[i * batch_calc: (i+1)*batch_calc], dtype=np.float32), \n",
    "            np.array(images2[i * batch_calc: (i+1)*batch_calc], dtype=np.float32) \n",
    "        )\n",
    "        # resize\n",
    "        i1_b, i2_b = (\n",
    "            scale_images(i1_b, (299,299,3)), \n",
    "            scale_images(i2_b, (299,299,3))\n",
    "        )\n",
    "        # pre-process\n",
    "        i1_b, i2_b = (preprocess_input(i1_b), preprocess_input(i2_b))\n",
    "        # calculate activations\n",
    "        act1 = model.predict(i1_b)\n",
    "        act2 = model.predict(i2_b)\n",
    "        \n",
    "        res_1.append(act1)\n",
    "        res_2.append(act2)\n",
    "    iterator.close()\n",
    "    # calculate activations\n",
    "    act1 = np.concatenate(res_1, axis=0)\n",
    "    act2 = np.concatenate(res_2, axis=0)\n",
    "    # calculate mean and covariance statistics\n",
    "    mu1, sigma1 = act1.mean(axis=0), cov(act1, rowvar=False)\n",
    "    mu2, sigma2 = act2.mean(axis=0), cov(act2, rowvar=False)\n",
    "    # calculate sum squared difference between means\n",
    "    ssdiff = numpy.sum((mu1 - mu2)**2.0)\n",
    "    # calculate sqrt of product between cov\n",
    "    covmean = sqrtm(sigma1.dot(sigma2))\n",
    "    # check and correct imaginary numbers from sqrt\n",
    "    if iscomplexobj(covmean):\n",
    "        covmean = covmean.real\n",
    "    # calculate score\n",
    "    fid = ssdiff + trace(sigma1 + sigma2 - 2.0 * covmean)\n",
    "    return fid"
   ]
  },
  {
   "cell_type": "code",
   "execution_count": 6,
   "metadata": {},
   "outputs": [],
   "source": [
    "exp_name = 'cgan/ce_loss'"
   ]
  },
  {
   "cell_type": "code",
   "execution_count": 7,
   "metadata": {
    "scrolled": true
   },
   "outputs": [
    {
     "name": "stderr",
     "output_type": "stream",
     "text": [
      "100%|██████████| 600/600 [00:06<00:00, 91.78it/s] \n",
      "100%|██████████| 600/600 [00:03<00:00, 168.33it/s]\n",
      "100%|██████████| 600/600 [00:03<00:00, 177.82it/s]\n",
      "100%|██████████| 600/600 [00:03<00:00, 185.82it/s]\n",
      "100%|██████████| 600/600 [00:03<00:00, 182.48it/s]\n",
      "100%|██████████| 600/600 [00:03<00:00, 168.26it/s]\n",
      "100%|██████████| 600/600 [00:03<00:00, 160.31it/s]\n",
      "100%|██████████| 600/600 [00:03<00:00, 159.41it/s]\n",
      "100%|██████████| 600/600 [00:03<00:00, 156.38it/s]\n",
      "100%|██████████| 600/600 [00:03<00:00, 167.96it/s]\n",
      "100%|██████████| 600/600 [00:03<00:00, 161.02it/s]\n",
      "100%|██████████| 600/600 [00:03<00:00, 168.85it/s]\n",
      "100%|██████████| 600/600 [00:03<00:00, 157.56it/s]\n",
      "100%|██████████| 600/600 [00:03<00:00, 165.73it/s]\n",
      "100%|██████████| 600/600 [00:03<00:00, 166.04it/s]\n",
      "100%|██████████| 600/600 [00:03<00:00, 164.95it/s]\n",
      "100%|██████████| 600/600 [00:03<00:00, 160.40it/s]\n",
      "100%|██████████| 600/600 [00:03<00:00, 161.90it/s]\n",
      "100%|██████████| 600/600 [00:03<00:00, 154.20it/s]\n",
      "100%|██████████| 600/600 [00:03<00:00, 167.17it/s]\n",
      "100%|██████████| 600/600 [00:03<00:00, 166.67it/s]\n",
      "100%|██████████| 49/49 [03:20<00:00,  4.08s/it]\n"
     ]
    },
    {
     "name": "stdout",
     "output_type": "stream",
     "text": [
      "FID (different): 141.885\n"
     ]
    },
    {
     "name": "stderr",
     "output_type": "stream",
     "text": [
      "100%|██████████| 600/600 [00:13<00:00, 44.30it/s] \n",
      "100%|██████████| 600/600 [00:13<00:00, 43.66it/s] \n",
      "100%|██████████| 600/600 [00:19<00:00, 30.43it/s]\n",
      "100%|██████████| 600/600 [00:16<00:00, 35.53it/s] \n",
      "100%|██████████| 600/600 [00:06<00:00, 90.48it/s] \n",
      "100%|██████████| 600/600 [00:09<00:00, 66.01it/s] \n",
      "100%|██████████| 600/600 [00:18<00:00, 31.58it/s]\n",
      "100%|██████████| 600/600 [00:19<00:00, 30.44it/s]\n",
      "100%|██████████| 600/600 [00:17<00:00, 34.73it/s] \n",
      "100%|██████████| 600/600 [00:04<00:00, 149.48it/s]\n",
      "100%|██████████| 600/600 [00:03<00:00, 152.32it/s]\n",
      "100%|██████████| 600/600 [00:03<00:00, 153.93it/s]\n",
      "100%|██████████| 600/600 [00:03<00:00, 154.35it/s]\n",
      "100%|██████████| 600/600 [00:04<00:00, 144.96it/s]\n",
      "100%|██████████| 600/600 [00:04<00:00, 147.62it/s]\n",
      "100%|██████████| 600/600 [00:03<00:00, 157.84it/s]\n",
      "100%|██████████| 600/600 [00:04<00:00, 142.49it/s]\n",
      "100%|██████████| 600/600 [00:03<00:00, 162.56it/s]\n",
      "100%|██████████| 600/600 [00:03<00:00, 157.56it/s]\n",
      "100%|██████████| 600/600 [00:04<00:00, 139.57it/s]\n",
      "100%|██████████| 600/600 [00:04<00:00, 148.80it/s]\n",
      "100%|██████████| 49/49 [03:19<00:00,  4.07s/it]\n"
     ]
    },
    {
     "name": "stdout",
     "output_type": "stream",
     "text": [
      "FID (different): 121.009\n"
     ]
    },
    {
     "name": "stderr",
     "output_type": "stream",
     "text": [
      "100%|██████████| 600/600 [00:09<00:00, 64.23it/s] \n",
      "100%|██████████| 600/600 [00:03<00:00, 159.15it/s]\n",
      "100%|██████████| 600/600 [00:03<00:00, 177.00it/s]\n",
      "100%|██████████| 600/600 [00:03<00:00, 175.13it/s]\n",
      "100%|██████████| 600/600 [00:03<00:00, 165.77it/s]\n",
      "100%|██████████| 600/600 [00:03<00:00, 170.13it/s]\n",
      "100%|██████████| 600/600 [00:09<00:00, 65.23it/s] \n",
      "100%|██████████| 600/600 [00:19<00:00, 30.98it/s]\n",
      "100%|██████████| 600/600 [00:18<00:00, 32.27it/s] \n",
      "100%|██████████| 600/600 [00:11<00:00, 52.15it/s] \n",
      "100%|██████████| 600/600 [00:03<00:00, 179.37it/s]\n",
      "100%|██████████| 600/600 [00:03<00:00, 166.72it/s]\n",
      "100%|██████████| 600/600 [00:05<00:00, 103.75it/s]\n",
      "100%|██████████| 600/600 [00:19<00:00, 30.92it/s]\n",
      "100%|██████████| 600/600 [00:19<00:00, 30.89it/s]\n",
      "100%|██████████| 600/600 [00:17<00:00, 33.40it/s]\n",
      "100%|██████████| 600/600 [00:14<00:00, 40.93it/s] \n",
      "100%|██████████| 600/600 [00:03<00:00, 170.25it/s]\n",
      "100%|██████████| 600/600 [00:03<00:00, 169.77it/s]\n",
      "100%|██████████| 600/600 [00:03<00:00, 172.07it/s]\n",
      "100%|██████████| 600/600 [00:03<00:00, 168.96it/s]\n",
      "100%|██████████| 49/49 [03:18<00:00,  4.05s/it]\n"
     ]
    },
    {
     "name": "stdout",
     "output_type": "stream",
     "text": [
      "FID (different): 138.425\n"
     ]
    },
    {
     "name": "stderr",
     "output_type": "stream",
     "text": [
      "100%|██████████| 600/600 [00:04<00:00, 149.41it/s]\n",
      "100%|██████████| 600/600 [00:03<00:00, 157.00it/s]\n",
      "100%|██████████| 600/600 [00:03<00:00, 163.20it/s]\n",
      "100%|██████████| 600/600 [00:03<00:00, 170.01it/s]\n",
      "100%|██████████| 600/600 [00:03<00:00, 170.54it/s]\n",
      "100%|██████████| 600/600 [00:03<00:00, 167.33it/s]\n",
      "100%|██████████| 600/600 [00:03<00:00, 166.59it/s]\n",
      "100%|██████████| 600/600 [00:03<00:00, 171.90it/s]\n",
      "100%|██████████| 600/600 [00:03<00:00, 163.08it/s]\n",
      "100%|██████████| 600/600 [00:05<00:00, 100.99it/s]\n",
      "100%|██████████| 600/600 [00:20<00:00, 29.55it/s]\n",
      "100%|██████████| 600/600 [00:19<00:00, 30.33it/s]\n",
      "100%|██████████| 600/600 [00:18<00:00, 33.22it/s] \n",
      "100%|██████████| 600/600 [00:04<00:00, 122.77it/s]\n",
      "100%|██████████| 600/600 [00:03<00:00, 174.36it/s]\n",
      "100%|██████████| 600/600 [00:03<00:00, 156.81it/s]\n",
      "100%|██████████| 600/600 [00:03<00:00, 172.07it/s]\n",
      "100%|██████████| 600/600 [00:11<00:00, 51.83it/s] \n",
      "100%|██████████| 600/600 [00:19<00:00, 31.11it/s]\n",
      "100%|██████████| 600/600 [00:18<00:00, 32.29it/s]\n",
      "100%|██████████| 600/600 [00:18<00:00, 32.59it/s] \n",
      "100%|██████████| 49/49 [03:29<00:00,  4.27s/it]\n"
     ]
    },
    {
     "name": "stdout",
     "output_type": "stream",
     "text": [
      "FID (different): 137.435\n"
     ]
    },
    {
     "name": "stderr",
     "output_type": "stream",
     "text": [
      "100%|██████████| 600/600 [00:04<00:00, 145.35it/s]\n",
      "100%|██████████| 600/600 [00:03<00:00, 158.72it/s]\n",
      "100%|██████████| 600/600 [00:03<00:00, 168.98it/s]\n",
      "100%|██████████| 600/600 [00:03<00:00, 176.44it/s]\n",
      "100%|██████████| 600/600 [00:03<00:00, 166.58it/s]\n",
      "100%|██████████| 600/600 [00:03<00:00, 167.03it/s]\n",
      "100%|██████████| 600/600 [00:03<00:00, 171.60it/s]\n",
      "100%|██████████| 600/600 [00:03<00:00, 176.29it/s]\n",
      "100%|██████████| 600/600 [00:03<00:00, 171.05it/s]\n",
      "100%|██████████| 600/600 [00:03<00:00, 171.81it/s]\n",
      "100%|██████████| 600/600 [00:03<00:00, 163.35it/s]\n",
      "100%|██████████| 600/600 [00:03<00:00, 171.54it/s]\n",
      "100%|██████████| 600/600 [00:03<00:00, 167.37it/s]\n",
      "100%|██████████| 600/600 [00:03<00:00, 174.54it/s]\n",
      "100%|██████████| 600/600 [00:04<00:00, 141.37it/s]\n",
      "100%|██████████| 600/600 [00:18<00:00, 31.88it/s]\n",
      "100%|██████████| 600/600 [00:20<00:00, 29.69it/s]\n",
      "100%|██████████| 600/600 [00:17<00:00, 33.77it/s] \n",
      "100%|██████████| 600/600 [00:10<00:00, 58.97it/s] \n",
      "100%|██████████| 600/600 [00:03<00:00, 181.33it/s]\n",
      "100%|██████████| 600/600 [00:03<00:00, 161.21it/s]\n",
      "100%|██████████| 49/49 [04:11<00:00,  5.13s/it]\n"
     ]
    },
    {
     "name": "stdout",
     "output_type": "stream",
     "text": [
      "FID (different): 118.176\n"
     ]
    },
    {
     "name": "stderr",
     "output_type": "stream",
     "text": [
      "100%|██████████| 600/600 [00:04<00:00, 143.01it/s]\n",
      "100%|██████████| 600/600 [00:03<00:00, 169.02it/s]\n",
      "100%|██████████| 600/600 [00:03<00:00, 168.86it/s]\n",
      "100%|██████████| 600/600 [00:03<00:00, 171.10it/s]\n",
      "100%|██████████| 600/600 [00:03<00:00, 163.55it/s]\n",
      "100%|██████████| 600/600 [00:03<00:00, 161.45it/s]\n",
      "100%|██████████| 600/600 [00:03<00:00, 171.79it/s]\n",
      "100%|██████████| 600/600 [00:03<00:00, 172.63it/s]\n",
      "100%|██████████| 600/600 [00:03<00:00, 181.20it/s]\n",
      "100%|██████████| 600/600 [00:03<00:00, 176.76it/s]\n",
      "100%|██████████| 600/600 [00:03<00:00, 166.25it/s]\n",
      "100%|██████████| 600/600 [00:03<00:00, 169.03it/s]\n",
      "100%|██████████| 600/600 [00:03<00:00, 168.99it/s]\n",
      "100%|██████████| 600/600 [00:03<00:00, 175.31it/s]\n",
      "100%|██████████| 600/600 [00:03<00:00, 166.99it/s]\n",
      "100%|██████████| 600/600 [00:03<00:00, 164.64it/s]\n",
      "100%|██████████| 600/600 [00:04<00:00, 122.93it/s]\n",
      "100%|██████████| 600/600 [00:19<00:00, 31.54it/s]\n",
      "100%|██████████| 600/600 [00:18<00:00, 32.13it/s]\n",
      "100%|██████████| 600/600 [00:17<00:00, 34.67it/s] \n",
      "100%|██████████| 600/600 [00:08<00:00, 72.35it/s] \n",
      "100%|██████████| 49/49 [04:18<00:00,  5.27s/it]\n"
     ]
    },
    {
     "name": "stdout",
     "output_type": "stream",
     "text": [
      "FID (different): 113.136\n"
     ]
    },
    {
     "name": "stderr",
     "output_type": "stream",
     "text": [
      "100%|██████████| 600/600 [00:04<00:00, 141.42it/s]\n",
      "100%|██████████| 600/600 [00:03<00:00, 164.84it/s]\n",
      "100%|██████████| 600/600 [00:04<00:00, 147.65it/s]\n",
      "100%|██████████| 600/600 [00:04<00:00, 149.95it/s]\n",
      "100%|██████████| 600/600 [00:03<00:00, 158.70it/s]\n",
      "100%|██████████| 600/600 [00:03<00:00, 169.27it/s]\n",
      "100%|██████████| 600/600 [00:03<00:00, 169.65it/s]\n",
      "100%|██████████| 600/600 [00:03<00:00, 171.29it/s]\n",
      "100%|██████████| 600/600 [00:03<00:00, 173.80it/s]\n",
      "100%|██████████| 600/600 [00:03<00:00, 167.10it/s]\n",
      "100%|██████████| 600/600 [00:03<00:00, 164.97it/s]\n",
      "100%|██████████| 600/600 [00:03<00:00, 164.16it/s]\n",
      "100%|██████████| 600/600 [00:03<00:00, 165.44it/s]\n",
      "100%|██████████| 600/600 [00:03<00:00, 163.77it/s]\n",
      "100%|██████████| 600/600 [00:03<00:00, 173.60it/s]\n",
      "100%|██████████| 600/600 [00:03<00:00, 166.39it/s]\n",
      "100%|██████████| 600/600 [00:03<00:00, 171.74it/s]\n",
      "100%|██████████| 600/600 [00:03<00:00, 161.62it/s]\n",
      "100%|██████████| 600/600 [00:03<00:00, 167.23it/s]\n",
      "100%|██████████| 600/600 [00:03<00:00, 168.01it/s]\n",
      "100%|██████████| 600/600 [00:03<00:00, 175.41it/s]\n",
      "100%|██████████| 49/49 [05:09<00:00,  6.31s/it]\n"
     ]
    },
    {
     "name": "stdout",
     "output_type": "stream",
     "text": [
      "FID (different): 99.812\n"
     ]
    },
    {
     "name": "stderr",
     "output_type": "stream",
     "text": [
      "100%|██████████| 600/600 [00:04<00:00, 138.59it/s]\n",
      "100%|██████████| 600/600 [00:03<00:00, 169.49it/s]\n",
      "100%|██████████| 600/600 [00:03<00:00, 166.47it/s]\n",
      "100%|██████████| 600/600 [00:03<00:00, 161.73it/s]\n",
      "100%|██████████| 600/600 [00:03<00:00, 160.20it/s]\n",
      "100%|██████████| 600/600 [00:03<00:00, 163.13it/s]\n",
      "100%|██████████| 600/600 [00:03<00:00, 155.42it/s]\n",
      "100%|██████████| 600/600 [00:03<00:00, 169.61it/s]\n",
      "100%|██████████| 600/600 [00:03<00:00, 168.47it/s]\n",
      "100%|██████████| 600/600 [00:03<00:00, 165.33it/s]\n",
      "100%|██████████| 600/600 [00:03<00:00, 166.12it/s]\n",
      "100%|██████████| 600/600 [00:03<00:00, 161.49it/s]\n",
      "100%|██████████| 600/600 [00:03<00:00, 161.03it/s]\n",
      "100%|██████████| 600/600 [00:03<00:00, 168.72it/s]\n",
      "100%|██████████| 600/600 [00:03<00:00, 176.70it/s]\n",
      "100%|██████████| 600/600 [00:03<00:00, 164.54it/s]\n",
      "100%|██████████| 600/600 [00:03<00:00, 160.61it/s]\n",
      "100%|██████████| 600/600 [00:03<00:00, 162.67it/s]\n",
      "100%|██████████| 600/600 [00:03<00:00, 169.06it/s]\n",
      "100%|██████████| 600/600 [00:03<00:00, 161.93it/s]\n",
      "100%|██████████| 600/600 [00:03<00:00, 169.10it/s]\n",
      "100%|██████████| 49/49 [05:17<00:00,  6.48s/it]\n"
     ]
    },
    {
     "name": "stdout",
     "output_type": "stream",
     "text": [
      "FID (different): 98.188\n"
     ]
    },
    {
     "name": "stderr",
     "output_type": "stream",
     "text": [
      "100%|██████████| 600/600 [00:04<00:00, 143.78it/s]\n",
      "100%|██████████| 600/600 [00:03<00:00, 159.24it/s]\n",
      "100%|██████████| 600/600 [00:03<00:00, 157.55it/s]\n",
      "100%|██████████| 600/600 [00:03<00:00, 162.76it/s]\n",
      "100%|██████████| 600/600 [00:03<00:00, 166.90it/s]\n",
      "100%|██████████| 600/600 [00:03<00:00, 174.46it/s]\n",
      "100%|██████████| 600/600 [00:03<00:00, 165.20it/s]\n",
      "100%|██████████| 600/600 [00:03<00:00, 154.15it/s]\n",
      "100%|██████████| 600/600 [00:03<00:00, 156.16it/s]\n",
      "100%|██████████| 600/600 [00:03<00:00, 162.00it/s]\n",
      "100%|██████████| 600/600 [00:03<00:00, 170.16it/s]\n",
      "100%|██████████| 600/600 [00:03<00:00, 166.15it/s]\n",
      "100%|██████████| 600/600 [00:03<00:00, 159.77it/s]\n",
      "100%|██████████| 600/600 [00:03<00:00, 156.05it/s]\n",
      "100%|██████████| 600/600 [00:03<00:00, 153.40it/s]\n",
      "100%|██████████| 600/600 [00:03<00:00, 162.80it/s]\n",
      "100%|██████████| 600/600 [00:03<00:00, 161.34it/s]\n",
      "100%|██████████| 600/600 [00:03<00:00, 164.98it/s]\n",
      "100%|██████████| 600/600 [00:03<00:00, 162.10it/s]\n",
      "100%|██████████| 600/600 [00:03<00:00, 170.46it/s]\n",
      "100%|██████████| 600/600 [00:03<00:00, 161.41it/s]\n",
      "100%|██████████| 49/49 [05:17<00:00,  6.48s/it]\n"
     ]
    },
    {
     "name": "stdout",
     "output_type": "stream",
     "text": [
      "FID (different): 94.335\n"
     ]
    },
    {
     "name": "stderr",
     "output_type": "stream",
     "text": [
      "100%|██████████| 600/600 [00:04<00:00, 144.17it/s]\n",
      "100%|██████████| 600/600 [00:03<00:00, 160.04it/s]\n",
      "100%|██████████| 600/600 [00:03<00:00, 153.91it/s]\n",
      "100%|██████████| 600/600 [00:03<00:00, 165.24it/s]\n",
      "100%|██████████| 600/600 [00:03<00:00, 176.28it/s]\n",
      "100%|██████████| 600/600 [00:03<00:00, 171.77it/s]\n",
      "100%|██████████| 600/600 [00:03<00:00, 166.08it/s]\n",
      "100%|██████████| 600/600 [00:03<00:00, 172.14it/s]\n",
      "100%|██████████| 600/600 [00:03<00:00, 165.11it/s]\n",
      "100%|██████████| 600/600 [00:03<00:00, 168.25it/s]\n",
      "100%|██████████| 600/600 [00:03<00:00, 176.29it/s]\n",
      "100%|██████████| 600/600 [00:03<00:00, 170.12it/s]\n",
      "100%|██████████| 600/600 [00:03<00:00, 169.83it/s]\n",
      "100%|██████████| 600/600 [00:03<00:00, 160.80it/s]\n",
      "100%|██████████| 600/600 [00:03<00:00, 174.93it/s]\n",
      "100%|██████████| 600/600 [00:03<00:00, 174.19it/s]\n",
      "100%|██████████| 600/600 [00:03<00:00, 159.96it/s]\n",
      "100%|██████████| 600/600 [00:03<00:00, 165.99it/s]\n",
      "100%|██████████| 600/600 [00:03<00:00, 168.80it/s]\n",
      "100%|██████████| 600/600 [00:03<00:00, 162.84it/s]\n",
      "100%|██████████| 600/600 [00:03<00:00, 163.57it/s]\n",
      "100%|██████████| 49/49 [05:12<00:00,  6.38s/it]\n"
     ]
    },
    {
     "name": "stdout",
     "output_type": "stream",
     "text": [
      "FID (different): 88.289\n"
     ]
    }
   ],
   "source": [
    "fid_list = []\n",
    "for model_path in sorted(\n",
    "            glob.glob(\n",
    "                f'/raid/rustam/danil/beams_gan_speed_test/{exp_name}/ep_*/models/i_2999_ep_*'\n",
    "            ), key=lambda x: int(x.split('_')[-1])\n",
    "        ):\n",
    "    model = tf.saved_model.load(model_path)\n",
    "\n",
    "    # Generate all images\n",
    "    N_GENERATE = 600\n",
    "\n",
    "    generated_images = []\n",
    "\n",
    "    for class_i in range(N_CLASSES):\n",
    "        iterator = tqdm(range(N_GENERATE))\n",
    "        for _ in iterator:\n",
    "            random_latent_vectors = np.random.normal(size=(1, noise_dim)).astype(np.float32)\n",
    "            gen_img = model(label_i=np.array([[class_i]], dtype=np.int32), noise_i=random_latent_vectors)[0]\n",
    "            # scale from [-1,1] to [0,1]\n",
    "            gen_img = (gen_img + 1) / 2.0\n",
    "            gen_img = np.clip(gen_img * 255.0, 0, 255).astype(np.float32)\n",
    "            generated_images.append(gen_img)\n",
    "        iterator.close()\n",
    "\n",
    "    images1 = generated_images\n",
    "    images2 = []\n",
    "    for class_i in range(N_CLASSES):\n",
    "        images2 += CLASS_TO_IMGS[str(class_i)][:N_GENERATE]\n",
    "    # fid between images1 and images2\n",
    "    fid = calculate_fid(model_incv3, images1, images2)\n",
    "    print('FID (different): %.3f' % fid)\n",
    "    fid_list.append(fid)\n",
    "file_name = '-'.join(exp_name.split('/'))\n",
    "np.save(f'results/{file_name}.npy', np.asarray(fid_list))"
   ]
  },
  {
   "cell_type": "code",
   "execution_count": null,
   "metadata": {},
   "outputs": [],
   "source": []
  },
  {
   "cell_type": "code",
   "execution_count": null,
   "metadata": {},
   "outputs": [],
   "source": []
  },
  {
   "cell_type": "code",
   "execution_count": null,
   "metadata": {},
   "outputs": [],
   "source": []
  },
  {
   "cell_type": "code",
   "execution_count": null,
   "metadata": {},
   "outputs": [],
   "source": []
  }
 ],
 "metadata": {
  "kernelspec": {
   "display_name": "Python 3",
   "language": "python",
   "name": "python3"
  },
  "language_info": {
   "codemirror_mode": {
    "name": "ipython",
    "version": 3
   },
   "file_extension": ".py",
   "mimetype": "text/x-python",
   "name": "python",
   "nbconvert_exporter": "python",
   "pygments_lexer": "ipython3",
   "version": "3.8.5"
  }
 },
 "nbformat": 4,
 "nbformat_minor": 2
}
