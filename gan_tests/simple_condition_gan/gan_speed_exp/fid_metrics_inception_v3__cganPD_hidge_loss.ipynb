{
 "cells": [
  {
   "cell_type": "code",
   "execution_count": 1,
   "metadata": {},
   "outputs": [],
   "source": [
    "# https://keras.io/examples/generative/wgan_gp/\n",
    "#\n",
    "\n",
    "import os\n",
    "os.environ[\"CUDA_VISIBLE_DEVICES\"] = str(3)\n",
    "import time\n",
    "import sys\n",
    "import numpy as np\n",
    "import tensorflow as tf\n",
    "from tensorflow import keras\n",
    "from tensorflow.keras import layers\n",
    "from tensorflow.keras.layers import *\n",
    "\n",
    "from tqdm import tqdm\n",
    "import matplotlib.pyplot as plt\n",
    "import glob\n",
    "from sklearn.utils import shuffle\n",
    "\n",
    "from numpy import expand_dims\n",
    "from numpy import zeros\n",
    "from numpy import ones\n",
    "from numpy.random import randn\n",
    "from numpy.random import randint\n",
    "\n",
    "# example of loading the generator model and generating images\n",
    "from numpy import asarray\n",
    "from numpy.random import randn\n",
    "from numpy.random import randint\n",
    "from tensorflow.keras.models import load_model\n",
    "from matplotlib import pyplot\n",
    "\n",
    "\n",
    "import tensorflow as tf\n",
    "\n",
    "\n",
    "from tensorflow.keras.datasets.fashion_mnist import load_data\n",
    "from tensorflow.keras.optimizers import Adam\n",
    "from tensorflow.keras.models import Model\n",
    "from tensorflow.keras.layers import Input\n",
    "from tensorflow.keras.layers import Dense\n",
    "from tensorflow.keras.layers import Reshape\n",
    "from tensorflow.keras.layers import Flatten\n",
    "from tensorflow.keras.layers import Conv2D\n",
    "from tensorflow.keras.layers import Conv2DTranspose\n",
    "from tensorflow.keras.layers import LeakyReLU\n",
    "from tensorflow.keras.layers import Dropout\n",
    "from tensorflow.keras.layers import Embedding\n",
    "from tensorflow.keras.layers import Concatenate\n",
    "from tensorflow.keras.layers import BatchNormalization\n",
    "from tensorflow.keras import layers as L\n",
    "from tensorflow.keras import initializers\n",
    "\n",
    "import numpy\n",
    "from numpy import cov\n",
    "from numpy import trace\n",
    "from numpy import iscomplexobj\n",
    "from numpy import asarray\n",
    "from numpy.random import randint\n",
    "from scipy.linalg import sqrtm\n",
    "from tensorflow.keras.applications.inception_v3 import InceptionV3\n",
    "from tensorflow.keras.applications.inception_v3 import preprocess_input\n",
    "from skimage.transform import resize\n",
    "\n",
    "from skimage import io\n",
    "import cv2\n",
    "import numpy as np\n",
    "import matplotlib.pyplot as plt\n",
    "from tqdm import tqdm\n",
    "import glob\n",
    "from sklearn.utils import shuffle"
   ]
  },
  {
   "cell_type": "code",
   "execution_count": 2,
   "metadata": {},
   "outputs": [],
   "source": [
    "foldername2class = {\n",
    "\t'0.0':  0,\n",
    "\t'0.05': 1,\n",
    "\t'0.1':  2,\n",
    "\t'0.15': 3,\n",
    "\t'0.2':  4,\n",
    "\t'0.25': 5,\n",
    "\t'0.3':  6,\n",
    "\t'0.35': 7,\n",
    "\t'0.4':  8,\n",
    "\t'0.45': 9,\n",
    "\t'0.5':  10,\n",
    "\t'0.55': 11,\n",
    "\t'0.6':  12,\n",
    "\t'0.65': 13,\n",
    "\t'0.7':  14,\n",
    "\t'0.75': 15,\n",
    "\t'0.8':  16,\n",
    "\t'0.85': 17,\n",
    "\t'0.9':  18,\n",
    "\t'0.95': 19,\n",
    "\t'1.0':  20,\n",
    "}"
   ]
  },
  {
   "cell_type": "code",
   "execution_count": 3,
   "metadata": {},
   "outputs": [
    {
     "name": "stderr",
     "output_type": "stream",
     "text": [
      "100%|██████████| 21/21 [00:00<00:00, 123.10it/s]\n"
     ]
    }
   ],
   "source": [
    "IMG_SHAPE = (128, 128, 3)\n",
    "BATCH_SIZE = 10\n",
    "N_CLASSES = len(foldername2class)\n",
    "# Size of the noise vector\n",
    "noise_dim = 100\n",
    "\n",
    "\n",
    "PATH_DATA = '../../../expand_double_modes'\n",
    "\n",
    "train_images_path = []\n",
    "\n",
    "iterator = tqdm(glob.glob(PATH_DATA + \"/*\"))\n",
    "for single_folder in iterator:\n",
    "    img_folder = shuffle(glob.glob(single_folder + '/*'))\n",
    "    for indx, single_img_path in enumerate(img_folder):\n",
    "        train_images_path.append(single_img_path)\n",
    "iterator.close()\n",
    "\n",
    "train_images_path = shuffle(train_images_path)"
   ]
  },
  {
   "cell_type": "code",
   "execution_count": 4,
   "metadata": {},
   "outputs": [
    {
     "name": "stderr",
     "output_type": "stream",
     "text": [
      "100%|██████████| 37800/37800 [01:21<00:00, 461.15it/s]\n"
     ]
    }
   ],
   "source": [
    "CLASS_TO_IMGS = {}\n",
    "\n",
    "\n",
    "def preprocess_images(images):\n",
    "  images = (images - 127.5) / 127.5\n",
    "  return images.astype('float32')\n",
    "\n",
    "def load_dataset(path_list: list):\n",
    "    iterator = tqdm(path_list)\n",
    "    for single_path in iterator:\n",
    "        label_s = foldername2class[single_path.split('/')[-2]]\n",
    "        image = io.imread(single_path)\n",
    "        image = cv2.resize(image, (IMG_SHAPE[1], IMG_SHAPE[0]))\n",
    "        image_s = np.asarray(image, dtype=np.float32)[..., :3]\n",
    "        if CLASS_TO_IMGS.get(str(label_s)) is None:\n",
    "            CLASS_TO_IMGS[str(label_s)] = []\n",
    "        CLASS_TO_IMGS[str(label_s)] += [image_s]\n",
    "    iterator.close()\n",
    "load_dataset(train_images_path)"
   ]
  },
  {
   "cell_type": "code",
   "execution_count": 5,
   "metadata": {},
   "outputs": [],
   "source": [
    "# prepare the inception v3 model\n",
    "model_incv3 = InceptionV3(include_top=False, pooling='avg', input_shape=(299,299,3))\n",
    "# scale an array of images to a new size\n",
    "def scale_images(images, new_shape):\n",
    "    images_list = list()\n",
    "    for image in images:\n",
    "        # resize with nearest neighbor interpolation\n",
    "        new_image = resize(image, new_shape, 0)\n",
    "        # store\n",
    "        images_list.append(new_image)\n",
    "    return asarray(images_list)\n",
    "\n",
    "# calculate frechet inception distance\n",
    "def calculate_fid(model, images1, images2, batch_calc=256):\n",
    "    assert len(images1) == len(images2)\n",
    "    n_batches = len(images1) // batch_calc\n",
    "    images1, images2 = images1[:n_batches * batch_calc], images2[:n_batches * batch_calc]\n",
    "    iterator = tqdm(range(n_batches))\n",
    "    res_1 = []\n",
    "    res_2 = []\n",
    "    \n",
    "    for i in iterator:\n",
    "        i1_b, i2_b = (\n",
    "            np.array(images1[i * batch_calc: (i+1)*batch_calc], dtype=np.float32), \n",
    "            np.array(images2[i * batch_calc: (i+1)*batch_calc], dtype=np.float32) \n",
    "        )\n",
    "        # resize\n",
    "        i1_b, i2_b = (\n",
    "            scale_images(i1_b, (299,299,3)), \n",
    "            scale_images(i2_b, (299,299,3))\n",
    "        )\n",
    "        # pre-process\n",
    "        i1_b, i2_b = (preprocess_input(i1_b), preprocess_input(i2_b))\n",
    "        # calculate activations\n",
    "        act1 = model.predict(i1_b)\n",
    "        act2 = model.predict(i2_b)\n",
    "        \n",
    "        res_1.append(act1)\n",
    "        res_2.append(act2)\n",
    "    iterator.close()\n",
    "    # calculate activations\n",
    "    act1 = np.concatenate(res_1, axis=0)\n",
    "    act2 = np.concatenate(res_2, axis=0)\n",
    "    # calculate mean and covariance statistics\n",
    "    mu1, sigma1 = act1.mean(axis=0), cov(act1, rowvar=False)\n",
    "    mu2, sigma2 = act2.mean(axis=0), cov(act2, rowvar=False)\n",
    "    # calculate sum squared difference between means\n",
    "    ssdiff = numpy.sum((mu1 - mu2)**2.0)\n",
    "    # calculate sqrt of product between cov\n",
    "    covmean = sqrtm(sigma1.dot(sigma2))\n",
    "    # check and correct imaginary numbers from sqrt\n",
    "    if iscomplexobj(covmean):\n",
    "        covmean = covmean.real\n",
    "    # calculate score\n",
    "    fid = ssdiff + trace(sigma1 + sigma2 - 2.0 * covmean)\n",
    "    return fid"
   ]
  },
  {
   "cell_type": "code",
   "execution_count": 6,
   "metadata": {},
   "outputs": [],
   "source": [
    "exp_name = 'cgan_pd/hinge_loss'"
   ]
  },
  {
   "cell_type": "code",
   "execution_count": 7,
   "metadata": {
    "scrolled": true
   },
   "outputs": [
    {
     "name": "stderr",
     "output_type": "stream",
     "text": [
      "100%|██████████| 600/600 [00:06<00:00, 93.63it/s] \n",
      "100%|██████████| 600/600 [00:04<00:00, 146.52it/s]\n",
      "100%|██████████| 600/600 [00:04<00:00, 146.96it/s]\n",
      "100%|██████████| 600/600 [00:04<00:00, 145.86it/s]\n",
      "100%|██████████| 600/600 [00:03<00:00, 152.68it/s]\n",
      "100%|██████████| 600/600 [00:04<00:00, 139.59it/s]\n",
      "100%|██████████| 600/600 [00:04<00:00, 147.06it/s]\n",
      "100%|██████████| 600/600 [00:03<00:00, 153.03it/s]\n",
      "100%|██████████| 600/600 [00:03<00:00, 157.78it/s]\n",
      "100%|██████████| 600/600 [00:03<00:00, 163.43it/s]\n",
      "100%|██████████| 600/600 [00:04<00:00, 149.38it/s]\n",
      "100%|██████████| 600/600 [00:04<00:00, 146.13it/s]\n",
      "100%|██████████| 600/600 [00:03<00:00, 151.13it/s]\n",
      "100%|██████████| 600/600 [00:03<00:00, 150.82it/s]\n",
      "100%|██████████| 600/600 [00:03<00:00, 151.79it/s]\n",
      "100%|██████████| 600/600 [00:04<00:00, 147.49it/s]\n",
      "100%|██████████| 600/600 [00:04<00:00, 133.10it/s]\n",
      "100%|██████████| 600/600 [00:04<00:00, 147.61it/s]\n",
      "100%|██████████| 600/600 [00:04<00:00, 138.78it/s]\n",
      "100%|██████████| 600/600 [00:04<00:00, 143.20it/s]\n",
      "100%|██████████| 600/600 [00:04<00:00, 140.65it/s]\n",
      "100%|██████████| 49/49 [05:04<00:00,  6.22s/it]\n"
     ]
    },
    {
     "name": "stdout",
     "output_type": "stream",
     "text": [
      "FID (different): 150.965\n"
     ]
    },
    {
     "name": "stderr",
     "output_type": "stream",
     "text": [
      "100%|██████████| 600/600 [00:04<00:00, 123.72it/s]\n",
      "100%|██████████| 600/600 [00:04<00:00, 127.49it/s]\n",
      "100%|██████████| 600/600 [00:04<00:00, 133.09it/s]\n",
      "100%|██████████| 600/600 [00:04<00:00, 125.40it/s]\n",
      "100%|██████████| 600/600 [00:04<00:00, 126.26it/s]\n",
      "100%|██████████| 600/600 [00:04<00:00, 125.09it/s]\n",
      "100%|██████████| 600/600 [00:04<00:00, 122.58it/s]\n",
      "100%|██████████| 600/600 [00:04<00:00, 126.82it/s]\n",
      "100%|██████████| 600/600 [00:04<00:00, 122.53it/s]\n",
      "100%|██████████| 600/600 [00:04<00:00, 120.89it/s]\n",
      "100%|██████████| 600/600 [00:04<00:00, 124.26it/s]\n",
      "100%|██████████| 600/600 [00:04<00:00, 120.28it/s]\n",
      "100%|██████████| 600/600 [00:04<00:00, 120.68it/s]\n",
      "100%|██████████| 600/600 [00:04<00:00, 122.94it/s]\n",
      "100%|██████████| 600/600 [00:04<00:00, 123.12it/s]\n",
      "100%|██████████| 600/600 [00:04<00:00, 123.27it/s]\n",
      "100%|██████████| 600/600 [00:04<00:00, 130.50it/s]\n",
      "100%|██████████| 600/600 [00:04<00:00, 135.21it/s]\n",
      "100%|██████████| 600/600 [00:04<00:00, 132.38it/s]\n",
      "100%|██████████| 600/600 [00:04<00:00, 130.30it/s]\n",
      "100%|██████████| 600/600 [00:04<00:00, 131.48it/s]\n",
      "100%|██████████| 49/49 [05:03<00:00,  6.20s/it]\n"
     ]
    },
    {
     "name": "stdout",
     "output_type": "stream",
     "text": [
      "FID (different): 78.782\n"
     ]
    },
    {
     "name": "stderr",
     "output_type": "stream",
     "text": [
      "100%|██████████| 600/600 [00:04<00:00, 142.43it/s]\n",
      "100%|██████████| 600/600 [00:03<00:00, 155.89it/s]\n",
      "100%|██████████| 600/600 [00:03<00:00, 160.06it/s]\n",
      "100%|██████████| 600/600 [00:04<00:00, 146.00it/s]\n",
      "100%|██████████| 600/600 [00:04<00:00, 147.55it/s]\n",
      "100%|██████████| 600/600 [00:04<00:00, 140.36it/s]\n",
      "100%|██████████| 600/600 [00:04<00:00, 149.29it/s]\n",
      "100%|██████████| 600/600 [00:03<00:00, 151.94it/s]\n",
      "100%|██████████| 600/600 [00:04<00:00, 141.86it/s]\n",
      "100%|██████████| 600/600 [00:04<00:00, 148.56it/s]\n",
      "100%|██████████| 600/600 [00:04<00:00, 144.50it/s]\n",
      "100%|██████████| 600/600 [00:04<00:00, 146.45it/s]\n",
      "100%|██████████| 600/600 [00:03<00:00, 154.91it/s]\n",
      "100%|██████████| 600/600 [00:04<00:00, 148.72it/s]\n",
      "100%|██████████| 600/600 [00:04<00:00, 139.90it/s]\n",
      "100%|██████████| 600/600 [00:04<00:00, 144.50it/s]\n",
      "100%|██████████| 600/600 [00:04<00:00, 145.04it/s]\n",
      "100%|██████████| 600/600 [00:04<00:00, 149.48it/s]\n",
      "100%|██████████| 600/600 [00:04<00:00, 141.48it/s]\n",
      "100%|██████████| 600/600 [00:04<00:00, 147.38it/s]\n",
      "100%|██████████| 600/600 [00:04<00:00, 138.25it/s]\n",
      "100%|██████████| 49/49 [05:06<00:00,  6.26s/it]\n"
     ]
    },
    {
     "name": "stdout",
     "output_type": "stream",
     "text": [
      "FID (different): 94.404\n"
     ]
    },
    {
     "name": "stderr",
     "output_type": "stream",
     "text": [
      "100%|██████████| 600/600 [00:04<00:00, 124.02it/s]\n",
      "100%|██████████| 600/600 [00:04<00:00, 127.90it/s]\n",
      "100%|██████████| 600/600 [00:04<00:00, 131.33it/s]\n",
      "100%|██████████| 600/600 [00:04<00:00, 130.65it/s]\n",
      "100%|██████████| 600/600 [00:04<00:00, 130.79it/s]\n",
      "100%|██████████| 600/600 [00:04<00:00, 136.13it/s]\n",
      "100%|██████████| 600/600 [00:04<00:00, 134.06it/s]\n",
      "100%|██████████| 600/600 [00:04<00:00, 129.89it/s]\n",
      "100%|██████████| 600/600 [00:04<00:00, 130.29it/s]\n",
      "100%|██████████| 600/600 [00:04<00:00, 136.70it/s]\n",
      "100%|██████████| 600/600 [00:04<00:00, 127.09it/s]\n",
      "100%|██████████| 600/600 [00:04<00:00, 130.59it/s]\n",
      "100%|██████████| 600/600 [00:04<00:00, 128.60it/s]\n",
      "100%|██████████| 600/600 [00:04<00:00, 141.24it/s]\n",
      "100%|██████████| 600/600 [00:04<00:00, 142.11it/s]\n",
      "100%|██████████| 600/600 [00:04<00:00, 135.76it/s]\n",
      "100%|██████████| 600/600 [00:04<00:00, 130.56it/s]\n",
      "100%|██████████| 600/600 [00:04<00:00, 136.17it/s]\n",
      "100%|██████████| 600/600 [00:04<00:00, 139.16it/s]\n",
      "100%|██████████| 600/600 [00:04<00:00, 134.07it/s]\n",
      "100%|██████████| 600/600 [00:04<00:00, 130.45it/s]\n",
      "100%|██████████| 49/49 [05:17<00:00,  6.48s/it]\n"
     ]
    },
    {
     "name": "stdout",
     "output_type": "stream",
     "text": [
      "FID (different): 67.059\n"
     ]
    },
    {
     "name": "stderr",
     "output_type": "stream",
     "text": [
      "100%|██████████| 600/600 [00:04<00:00, 132.32it/s]\n",
      "100%|██████████| 600/600 [00:03<00:00, 154.39it/s]\n",
      "100%|██████████| 600/600 [00:03<00:00, 167.97it/s]\n",
      "100%|██████████| 600/600 [00:03<00:00, 167.29it/s]\n",
      "100%|██████████| 600/600 [00:03<00:00, 152.15it/s]\n",
      "100%|██████████| 600/600 [00:04<00:00, 148.72it/s]\n",
      "100%|██████████| 600/600 [00:03<00:00, 153.11it/s]\n",
      "100%|██████████| 600/600 [00:03<00:00, 160.26it/s]\n",
      "100%|██████████| 600/600 [00:03<00:00, 159.53it/s]\n",
      "100%|██████████| 600/600 [00:03<00:00, 161.94it/s]\n",
      "100%|██████████| 600/600 [00:03<00:00, 159.00it/s]\n",
      "100%|██████████| 600/600 [00:03<00:00, 164.88it/s]\n",
      "100%|██████████| 600/600 [00:03<00:00, 157.35it/s]\n",
      "100%|██████████| 600/600 [00:03<00:00, 154.62it/s]\n",
      "100%|██████████| 600/600 [00:04<00:00, 146.37it/s]\n",
      "100%|██████████| 600/600 [00:04<00:00, 146.72it/s]\n",
      "100%|██████████| 600/600 [00:03<00:00, 151.52it/s]\n",
      "100%|██████████| 600/600 [00:04<00:00, 147.77it/s]\n",
      "100%|██████████| 600/600 [00:03<00:00, 163.01it/s]\n",
      "100%|██████████| 600/600 [00:03<00:00, 167.17it/s]\n",
      "100%|██████████| 600/600 [00:03<00:00, 159.57it/s]\n",
      "100%|██████████| 49/49 [05:13<00:00,  6.39s/it]\n"
     ]
    },
    {
     "name": "stdout",
     "output_type": "stream",
     "text": [
      "FID (different): 61.380\n"
     ]
    },
    {
     "name": "stderr",
     "output_type": "stream",
     "text": [
      "100%|██████████| 600/600 [00:04<00:00, 124.54it/s]\n",
      "100%|██████████| 600/600 [00:04<00:00, 132.05it/s]\n",
      "100%|██████████| 600/600 [00:04<00:00, 127.98it/s]\n",
      "100%|██████████| 600/600 [00:04<00:00, 131.07it/s]\n",
      "100%|██████████| 600/600 [00:04<00:00, 131.20it/s]\n",
      "100%|██████████| 600/600 [00:04<00:00, 130.33it/s]\n",
      "100%|██████████| 600/600 [00:04<00:00, 133.21it/s]\n",
      "100%|██████████| 600/600 [00:04<00:00, 135.62it/s]\n",
      "100%|██████████| 600/600 [00:04<00:00, 135.33it/s]\n",
      "100%|██████████| 600/600 [00:04<00:00, 129.14it/s]\n",
      "100%|██████████| 600/600 [00:04<00:00, 132.02it/s]\n",
      "100%|██████████| 600/600 [00:04<00:00, 136.78it/s]\n",
      "100%|██████████| 600/600 [00:04<00:00, 131.45it/s]\n",
      "100%|██████████| 600/600 [00:03<00:00, 153.60it/s]\n",
      "100%|██████████| 600/600 [00:03<00:00, 160.29it/s]\n",
      "100%|██████████| 600/600 [00:03<00:00, 155.14it/s]\n",
      "100%|██████████| 600/600 [00:04<00:00, 141.47it/s]\n",
      "100%|██████████| 600/600 [00:04<00:00, 148.87it/s]\n",
      "100%|██████████| 600/600 [00:04<00:00, 140.59it/s]\n",
      "100%|██████████| 600/600 [00:03<00:00, 156.42it/s]\n",
      "100%|██████████| 600/600 [00:03<00:00, 152.91it/s]\n",
      "100%|██████████| 49/49 [04:54<00:00,  6.01s/it]\n"
     ]
    },
    {
     "name": "stdout",
     "output_type": "stream",
     "text": [
      "FID (different): 60.018\n"
     ]
    },
    {
     "name": "stderr",
     "output_type": "stream",
     "text": [
      "100%|██████████| 600/600 [00:05<00:00, 115.16it/s]\n",
      "100%|██████████| 600/600 [00:04<00:00, 123.99it/s]\n",
      "100%|██████████| 600/600 [00:04<00:00, 127.08it/s]\n",
      "100%|██████████| 600/600 [00:04<00:00, 128.10it/s]\n",
      "100%|██████████| 600/600 [00:04<00:00, 128.04it/s]\n",
      "100%|██████████| 600/600 [00:04<00:00, 129.10it/s]\n",
      "100%|██████████| 600/600 [00:04<00:00, 122.81it/s]\n",
      "100%|██████████| 600/600 [00:04<00:00, 125.73it/s]\n",
      "100%|██████████| 600/600 [00:04<00:00, 126.58it/s]\n",
      "100%|██████████| 600/600 [00:04<00:00, 126.64it/s]\n",
      "100%|██████████| 600/600 [00:04<00:00, 126.66it/s]\n",
      "100%|██████████| 600/600 [00:04<00:00, 134.99it/s]\n",
      "100%|██████████| 600/600 [00:04<00:00, 137.14it/s]\n",
      "100%|██████████| 600/600 [00:04<00:00, 136.23it/s]\n",
      "100%|██████████| 600/600 [00:04<00:00, 138.22it/s]\n",
      "100%|██████████| 600/600 [00:04<00:00, 135.34it/s]\n",
      "100%|██████████| 600/600 [00:04<00:00, 135.49it/s]\n",
      "100%|██████████| 600/600 [00:04<00:00, 132.39it/s]\n",
      "100%|██████████| 600/600 [00:04<00:00, 136.73it/s]\n",
      "100%|██████████| 600/600 [00:04<00:00, 127.24it/s]\n",
      "100%|██████████| 600/600 [00:04<00:00, 133.47it/s]\n",
      "100%|██████████| 49/49 [05:02<00:00,  6.18s/it]\n"
     ]
    },
    {
     "name": "stdout",
     "output_type": "stream",
     "text": [
      "FID (different): 59.609\n"
     ]
    },
    {
     "name": "stderr",
     "output_type": "stream",
     "text": [
      "100%|██████████| 600/600 [00:04<00:00, 133.20it/s]\n",
      "100%|██████████| 600/600 [00:04<00:00, 139.46it/s]\n",
      "100%|██████████| 600/600 [00:04<00:00, 137.32it/s]\n",
      "100%|██████████| 600/600 [00:04<00:00, 137.19it/s]\n",
      "100%|██████████| 600/600 [00:04<00:00, 148.00it/s]\n",
      "100%|██████████| 600/600 [00:04<00:00, 144.89it/s]\n",
      "100%|██████████| 600/600 [00:04<00:00, 138.26it/s]\n",
      "100%|██████████| 600/600 [00:04<00:00, 145.11it/s]\n",
      "100%|██████████| 600/600 [00:04<00:00, 131.56it/s]\n",
      "100%|██████████| 600/600 [00:04<00:00, 144.35it/s]\n",
      "100%|██████████| 600/600 [00:03<00:00, 152.11it/s]\n",
      "100%|██████████| 600/600 [00:03<00:00, 162.37it/s]\n",
      "100%|██████████| 600/600 [00:03<00:00, 151.50it/s]\n",
      "100%|██████████| 600/600 [00:03<00:00, 152.76it/s]\n",
      "100%|██████████| 600/600 [00:03<00:00, 157.53it/s]\n",
      "100%|██████████| 600/600 [00:03<00:00, 163.47it/s]\n",
      "100%|██████████| 600/600 [00:03<00:00, 156.57it/s]\n",
      "100%|██████████| 600/600 [00:03<00:00, 163.00it/s]\n",
      "100%|██████████| 600/600 [00:03<00:00, 159.78it/s]\n",
      "100%|██████████| 600/600 [00:03<00:00, 161.38it/s]\n",
      "100%|██████████| 600/600 [00:03<00:00, 160.94it/s]\n",
      "100%|██████████| 49/49 [05:06<00:00,  6.26s/it]\n"
     ]
    },
    {
     "name": "stdout",
     "output_type": "stream",
     "text": [
      "FID (different): 58.234\n"
     ]
    },
    {
     "name": "stderr",
     "output_type": "stream",
     "text": [
      "100%|██████████| 600/600 [00:05<00:00, 116.21it/s]\n",
      "100%|██████████| 600/600 [00:04<00:00, 121.49it/s]\n",
      "100%|██████████| 600/600 [00:04<00:00, 123.63it/s]\n",
      "100%|██████████| 600/600 [00:04<00:00, 126.21it/s]\n",
      "100%|██████████| 600/600 [00:04<00:00, 127.12it/s]\n",
      "100%|██████████| 600/600 [00:04<00:00, 124.41it/s]\n",
      "100%|██████████| 600/600 [00:04<00:00, 124.84it/s]\n",
      "100%|██████████| 600/600 [00:04<00:00, 122.67it/s]\n",
      "100%|██████████| 600/600 [00:04<00:00, 121.38it/s]\n",
      "100%|██████████| 600/600 [00:04<00:00, 125.57it/s]\n",
      "100%|██████████| 600/600 [00:04<00:00, 137.51it/s]\n",
      "100%|██████████| 600/600 [00:04<00:00, 131.24it/s]\n",
      "100%|██████████| 600/600 [00:04<00:00, 129.17it/s]\n",
      "100%|██████████| 600/600 [00:04<00:00, 132.17it/s]\n",
      "100%|██████████| 600/600 [00:04<00:00, 133.28it/s]\n",
      "100%|██████████| 600/600 [00:04<00:00, 135.02it/s]\n",
      "100%|██████████| 600/600 [00:04<00:00, 133.12it/s]\n",
      "100%|██████████| 600/600 [00:04<00:00, 131.52it/s]\n",
      "100%|██████████| 600/600 [00:04<00:00, 133.74it/s]\n",
      "100%|██████████| 600/600 [00:04<00:00, 135.34it/s]\n",
      "100%|██████████| 600/600 [00:17<00:00, 34.96it/s] \n",
      "100%|██████████| 49/49 [04:51<00:00,  5.95s/it]\n"
     ]
    },
    {
     "name": "stdout",
     "output_type": "stream",
     "text": [
      "FID (different): 46.464\n"
     ]
    },
    {
     "name": "stderr",
     "output_type": "stream",
     "text": [
      "100%|██████████| 600/600 [00:04<00:00, 145.28it/s]\n",
      "100%|██████████| 600/600 [00:03<00:00, 159.99it/s]\n",
      "100%|██████████| 600/600 [00:03<00:00, 164.20it/s]\n",
      "100%|██████████| 600/600 [00:03<00:00, 153.42it/s]\n",
      "100%|██████████| 600/600 [00:04<00:00, 149.41it/s]\n",
      "100%|██████████| 600/600 [00:03<00:00, 167.64it/s]\n",
      "100%|██████████| 600/600 [00:03<00:00, 155.93it/s]\n",
      "100%|██████████| 600/600 [00:03<00:00, 168.36it/s]\n",
      "100%|██████████| 600/600 [00:03<00:00, 161.43it/s]\n",
      "100%|██████████| 600/600 [00:03<00:00, 160.11it/s]\n",
      "100%|██████████| 600/600 [00:03<00:00, 156.85it/s]\n",
      "100%|██████████| 600/600 [00:03<00:00, 161.83it/s]\n",
      "100%|██████████| 600/600 [00:03<00:00, 161.46it/s]\n",
      "100%|██████████| 600/600 [00:03<00:00, 163.54it/s]\n",
      "100%|██████████| 600/600 [00:03<00:00, 154.88it/s]\n",
      "100%|██████████| 600/600 [00:03<00:00, 166.77it/s]\n",
      "100%|██████████| 600/600 [00:03<00:00, 156.64it/s]\n",
      "100%|██████████| 600/600 [00:03<00:00, 163.80it/s]\n",
      "100%|██████████| 600/600 [00:12<00:00, 48.41it/s] \n",
      "100%|██████████| 600/600 [00:19<00:00, 30.83it/s]\n",
      "100%|██████████| 600/600 [00:18<00:00, 33.29it/s] \n",
      "100%|██████████| 49/49 [04:05<00:00,  5.01s/it]\n"
     ]
    },
    {
     "name": "stdout",
     "output_type": "stream",
     "text": [
      "FID (different): 51.569\n"
     ]
    }
   ],
   "source": [
    "fid_list = []\n",
    "for model_path in sorted(\n",
    "            glob.glob(\n",
    "                f'/raid/rustam/danil/beams_gan_speed_test/{exp_name}/ep_*/models/i_2999_ep_*'\n",
    "            ), key=lambda x: int(x.split('_')[-1])\n",
    "        ):\n",
    "    model = tf.saved_model.load(model_path)\n",
    "\n",
    "    # Generate all images\n",
    "    N_GENERATE = 600\n",
    "\n",
    "    generated_images = []\n",
    "\n",
    "    for class_i in range(N_CLASSES):\n",
    "        iterator = tqdm(range(N_GENERATE))\n",
    "        for _ in iterator:\n",
    "            random_latent_vectors = np.random.normal(size=(1, noise_dim)).astype(np.float32)\n",
    "            gen_img = model(label_i=np.array([[class_i]], dtype=np.int32), noise_i=random_latent_vectors)[0]\n",
    "            # scale from [-1,1] to [0,1]\n",
    "            gen_img = (gen_img + 1) / 2.0\n",
    "            gen_img = np.clip(gen_img * 255.0, 0, 255).astype(np.float32)\n",
    "            generated_images.append(gen_img)\n",
    "        iterator.close()\n",
    "\n",
    "    images1 = generated_images\n",
    "    images2 = []\n",
    "    for class_i in range(N_CLASSES):\n",
    "        images2 += CLASS_TO_IMGS[str(class_i)][:N_GENERATE]\n",
    "    # fid between images1 and images2\n",
    "    fid = calculate_fid(model_incv3, images1, images2)\n",
    "    print('FID (different): %.3f' % fid)\n",
    "    fid_list.append(fid)\n",
    "file_name = '-'.join(exp_name.split('/'))\n",
    "np.save(f'results/{file_name}.npy', np.asarray(fid_list))"
   ]
  },
  {
   "cell_type": "code",
   "execution_count": null,
   "metadata": {},
   "outputs": [],
   "source": []
  },
  {
   "cell_type": "code",
   "execution_count": null,
   "metadata": {},
   "outputs": [],
   "source": []
  },
  {
   "cell_type": "code",
   "execution_count": null,
   "metadata": {},
   "outputs": [],
   "source": []
  },
  {
   "cell_type": "code",
   "execution_count": null,
   "metadata": {},
   "outputs": [],
   "source": []
  }
 ],
 "metadata": {
  "kernelspec": {
   "display_name": "Python 3",
   "language": "python",
   "name": "python3"
  },
  "language_info": {
   "codemirror_mode": {
    "name": "ipython",
    "version": 3
   },
   "file_extension": ".py",
   "mimetype": "text/x-python",
   "name": "python",
   "nbconvert_exporter": "python",
   "pygments_lexer": "ipython3",
   "version": "3.8.5"
  }
 },
 "nbformat": 4,
 "nbformat_minor": 2
}
