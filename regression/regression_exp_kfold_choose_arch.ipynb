{
 "cells": [
  {
   "cell_type": "code",
   "execution_count": 1,
   "metadata": {
    "colab": {
     "base_uri": "https://localhost:8080/"
    },
    "id": "jnVNmf0_UoQZ",
    "outputId": "0d83adba-608d-4551-a2d2-576a4a944311"
   },
   "outputs": [
    {
     "name": "stdout",
     "output_type": "stream",
     "text": [
      "WARNING:tensorflow:Deprecation warnings have been disabled. Set TF_ENABLE_DEPRECATION_WARNINGS=1 to re-enable them.\n",
      "WARNING:tensorflow:From /usr/local/lib/python3.8/dist-packages/makiflow/core/inference/maki_core.py:108: The name tf.Session is deprecated. Please use tf.compat.v1.Session instead.\n",
      "\n"
     ]
    }
   ],
   "source": [
    "import sys\n",
    "\n",
    "sys.path.append('..')\n",
    "\n",
    "from utils import (load_data, CLASSIFICATION, REGRESSION, coffe_norm, get_regression_model,\n",
    "                  save_conf_matrix, error_angle, eval_model, get_generator_wrapper, get_regression_model_peak_from_pool)\n",
    "import numpy as np\n",
    "import os\n",
    "import matplotlib.pyplot as plt \n",
    "import sys\n",
    "from glob import glob\n",
    "import json\n",
    "import tensorflow as tf\n",
    "from makiflow import set_main_gpu\n",
    "\n",
    "set_main_gpu(2)"
   ]
  },
  {
   "cell_type": "code",
   "execution_count": 2,
   "metadata": {
    "id": "foLn5zvGVMse"
   },
   "outputs": [],
   "source": [
    "EXP_FOLDER = 'exp_regression_kfold_1'\n",
    "#LR = 4e-3\n",
    "LR_POOL = [4e-3, 8e-3, 2e-2]\n",
    "BATCH_SIZE = 64\n",
    "EXP_FOLDERS = glob(os.path.join(EXP_FOLDER, '*'))\n",
    "EPOCHS = 30\n",
    "\n",
    "THR_PRED_LIST = [0.01, 0.05, 0.1, 0.15, 0.2]\n",
    "MODEL_INDX_RANGE = 5"
   ]
  },
  {
   "cell_type": "code",
   "execution_count": null,
   "metadata": {
    "colab": {
     "base_uri": "https://localhost:8080/"
    },
    "id": "0Fxo2li_VkpK",
    "outputId": "912c69ab-0097-43fa-d837-200326ae3429",
    "scrolled": true
   },
   "outputs": [
    {
     "name": "stderr",
     "output_type": "stream",
     "text": [
      "100%|██████████| 34020/34020 [00:52<00:00, 648.43it/s]\n",
      "100%|██████████| 3780/3780 [00:05<00:00, 647.82it/s]"
     ]
    },
    {
     "name": "stdout",
     "output_type": "stream",
     "text": [
      "train :  34020\n",
      "test:  3780\n",
      "WARNING:tensorflow:From /usr/local/lib/python3.8/dist-packages/makiflow/layers/untrainable_layers.py:44: The name tf.placeholder is deprecated. Please use tf.compat.v1.placeholder instead.\n",
      "\n",
      "WARNING:tensorflow:From /usr/local/lib/python3.8/dist-packages/makiflow/layers/untrainable_layers.py:494: The name tf.nn.max_pool is deprecated. Please use tf.nn.max_pool2d instead.\n",
      "\n"
     ]
    },
    {
     "name": "stderr",
     "output_type": "stream",
     "text": [
      "\n"
     ]
    },
    {
     "name": "stdout",
     "output_type": "stream",
     "text": [
      "WARNING:tensorflow:From /usr/local/lib/python3.8/dist-packages/makiflow/core/inference/maki_core.py:117: The name tf.variables_initializer is deprecated. Please use tf.compat.v1.variables_initializer instead.\n",
      "\n",
      "WARNING:tensorflow:From /usr/local/lib/python3.8/dist-packages/makiflow/layers/trainable_layers.py:1052: The name tf.assign is deprecated. Please use tf.compat.v1.assign instead.\n",
      "\n",
      "WARNING:tensorflow:From /usr/local/lib/python3.8/dist-packages/makiflow/core/training/tensorboard.py:41: The name tf.summary.scalar is deprecated. Please use tf.compat.v1.summary.scalar instead.\n",
      "\n",
      "Loss is built.\n",
      "WARNING:tensorflow:From ../utils/model_tools.py:136: The name tf.train.piecewise_constant_decay is deprecated. Please use tf.compat.v1.train.piecewise_constant_decay instead.\n",
      "\n",
      "WARNING:tensorflow:From ../utils/model_tools.py:141: The name tf.train.AdamOptimizer is deprecated. Please use tf.compat.v1.train.AdamOptimizer instead.\n",
      "\n",
      "ep:  0\n",
      "Collecting histogram tensors...\n",
      "WARNING:tensorflow:From /usr/local/lib/python3.8/dist-packages/makiflow/core/training/tensorboard.py:61: The name tf.summary.merge is deprecated. Please use tf.compat.v1.summary.merge instead.\n",
      "\n"
     ]
    },
    {
     "name": "stderr",
     "output_type": "stream",
     "text": [
      "\r",
      "  0%|          | 0/265 [00:00<?, ?it/s]"
     ]
    },
    {
     "name": "stdout",
     "output_type": "stream",
     "text": [
      "New optimizer is used.\n"
     ]
    },
    {
     "name": "stderr",
     "output_type": "stream",
     "text": [
      " 57%|█████▋    | 150/265 [02:18<01:59,  1.04s/it]"
     ]
    },
    {
     "name": "stdout",
     "output_type": "stream",
     "text": [
      "Epoch: 0\n",
      "Regression_Head_1: 0.1620178 \n",
      "Training_Loss: 0.1620178 \n",
      "\n",
      "\n"
     ]
    },
    {
     "name": "stderr",
     "output_type": "stream",
     "text": [
      "100%|██████████| 265/265 [03:51<00:00,  1.15it/s]\n"
     ]
    },
    {
     "name": "stdout",
     "output_type": "stream",
     "text": [
      "acc test:  {'0.01': 0.08951271186440678, '0.05': 0.3702330508474576, '0.1': 0.6054025423728814, '0.15': 0.741260593220339, '0.2': 0.8207097457627118}\n",
      "WARNING:tensorflow:From /usr/local/lib/python3.8/dist-packages/makiflow/core/inference/model_serializer.py:71: The name tf.train.Saver is deprecated. Please use tf.compat.v1.train.Saver instead.\n",
      "\n"
     ]
    },
    {
     "name": "stderr",
     "output_type": "stream",
     "text": [
      "\r",
      "  0%|          | 0/265 [00:00<?, ?it/s]"
     ]
    },
    {
     "name": "stdout",
     "output_type": "stream",
     "text": [
      "Weights are saved to exp_regression_kfold_1/1_exp/model_indx_0_w_lr_0.004/acc_0.82_ep_0_exp/weights.ckpt\n",
      "Model's architecture is saved to exp_regression_kfold_1/1_exp/model_indx_0_w_lr_0.004/acc_0.82_ep_0_exp/model.json.\n",
      "ep:  1\n"
     ]
    },
    {
     "name": "stderr",
     "output_type": "stream",
     "text": [
      " 57%|█████▋    | 150/265 [02:04<01:17,  1.48it/s]"
     ]
    },
    {
     "name": "stdout",
     "output_type": "stream",
     "text": [
      "Epoch: 0\n",
      "Regression_Head_1: 0.0967056 \n",
      "Training_Loss: 0.0967056 \n",
      "\n",
      "\n"
     ]
    },
    {
     "name": "stderr",
     "output_type": "stream",
     "text": [
      "100%|██████████| 265/265 [03:43<00:00,  1.18it/s]\n"
     ]
    },
    {
     "name": "stdout",
     "output_type": "stream",
     "text": [
      "acc test:  {'0.01': 0.025423728813559324, '0.05': 0.1506885593220339, '0.1': 0.2820444915254237, '0.15': 0.4329978813559322, '0.2': 0.5948093220338984}\n"
     ]
    },
    {
     "name": "stderr",
     "output_type": "stream",
     "text": [
      "\r",
      "  0%|          | 0/265 [00:00<?, ?it/s]"
     ]
    },
    {
     "name": "stdout",
     "output_type": "stream",
     "text": [
      "Weights are saved to exp_regression_kfold_1/1_exp/model_indx_0_w_lr_0.004/acc_0.59_ep_1_exp/weights.ckpt\n",
      "Model's architecture is saved to exp_regression_kfold_1/1_exp/model_indx_0_w_lr_0.004/acc_0.59_ep_1_exp/model.json.\n",
      "ep:  2\n"
     ]
    },
    {
     "name": "stderr",
     "output_type": "stream",
     "text": [
      " 57%|█████▋    | 150/265 [02:09<01:32,  1.25it/s]"
     ]
    },
    {
     "name": "stdout",
     "output_type": "stream",
     "text": [
      "Epoch: 0\n",
      "Regression_Head_1: 0.0771757 \n",
      "Training_Loss: 0.0771757 \n",
      "\n",
      "\n"
     ]
    },
    {
     "name": "stderr",
     "output_type": "stream",
     "text": [
      "100%|██████████| 265/265 [03:52<00:00,  1.14it/s]\n"
     ]
    },
    {
     "name": "stdout",
     "output_type": "stream",
     "text": [
      "acc test:  {'0.01': 0.13347457627118645, '0.05': 0.6435381355932204, '0.1': 0.9134004237288136, '0.15': 0.9766949152542372, '0.2': 0.993114406779661}\n"
     ]
    },
    {
     "name": "stderr",
     "output_type": "stream",
     "text": [
      "\r",
      "  0%|          | 0/265 [00:00<?, ?it/s]"
     ]
    },
    {
     "name": "stdout",
     "output_type": "stream",
     "text": [
      "Weights are saved to exp_regression_kfold_1/1_exp/model_indx_0_w_lr_0.004/acc_0.99_ep_2_exp/weights.ckpt\n",
      "Model's architecture is saved to exp_regression_kfold_1/1_exp/model_indx_0_w_lr_0.004/acc_0.99_ep_2_exp/model.json.\n",
      "ep:  3\n"
     ]
    },
    {
     "name": "stderr",
     "output_type": "stream",
     "text": [
      " 57%|█████▋    | 150/265 [02:08<01:35,  1.21it/s]"
     ]
    },
    {
     "name": "stdout",
     "output_type": "stream",
     "text": [
      "Epoch: 0\n",
      "Regression_Head_1: 0.0573763 \n",
      "Training_Loss: 0.0573763 \n",
      "\n",
      "\n"
     ]
    },
    {
     "name": "stderr",
     "output_type": "stream",
     "text": [
      "100%|██████████| 265/265 [03:42<00:00,  1.19it/s]\n"
     ]
    },
    {
     "name": "stdout",
     "output_type": "stream",
     "text": [
      "acc test:  {'0.01': 0.02992584745762712, '0.05': 0.15545550847457626, '0.1': 0.3305084745762712, '0.15': 0.4475635593220339, '0.2': 0.5071504237288136}\n"
     ]
    },
    {
     "name": "stderr",
     "output_type": "stream",
     "text": [
      "\r",
      "  0%|          | 0/265 [00:00<?, ?it/s]"
     ]
    },
    {
     "name": "stdout",
     "output_type": "stream",
     "text": [
      "Weights are saved to exp_regression_kfold_1/1_exp/model_indx_0_w_lr_0.004/acc_0.51_ep_3_exp/weights.ckpt\n",
      "Model's architecture is saved to exp_regression_kfold_1/1_exp/model_indx_0_w_lr_0.004/acc_0.51_ep_3_exp/model.json.\n",
      "ep:  4\n"
     ]
    },
    {
     "name": "stderr",
     "output_type": "stream",
     "text": [
      " 57%|█████▋    | 150/265 [02:15<01:12,  1.59it/s]"
     ]
    },
    {
     "name": "stdout",
     "output_type": "stream",
     "text": [
      "Epoch: 0\n",
      "Regression_Head_1: 0.0733006 \n",
      "Training_Loss: 0.0733006 \n",
      "\n",
      "\n"
     ]
    },
    {
     "name": "stderr",
     "output_type": "stream",
     "text": [
      "100%|██████████| 265/265 [03:55<00:00,  1.13it/s]\n"
     ]
    },
    {
     "name": "stdout",
     "output_type": "stream",
     "text": [
      "acc test:  {'0.01': 0.14777542372881355, '0.05': 0.4793432203389831, '0.1': 0.7913135593220338, '0.15': 0.953125, '0.2': 0.991260593220339}\n"
     ]
    },
    {
     "name": "stderr",
     "output_type": "stream",
     "text": [
      "\r",
      "  0%|          | 0/265 [00:00<?, ?it/s]"
     ]
    },
    {
     "name": "stdout",
     "output_type": "stream",
     "text": [
      "Weights are saved to exp_regression_kfold_1/1_exp/model_indx_0_w_lr_0.004/acc_0.99_ep_4_exp/weights.ckpt\n",
      "Model's architecture is saved to exp_regression_kfold_1/1_exp/model_indx_0_w_lr_0.004/acc_0.99_ep_4_exp/model.json.\n",
      "ep:  5\n"
     ]
    },
    {
     "name": "stderr",
     "output_type": "stream",
     "text": [
      " 57%|█████▋    | 150/265 [01:58<01:49,  1.05it/s]"
     ]
    },
    {
     "name": "stdout",
     "output_type": "stream",
     "text": [
      "Epoch: 0\n",
      "Regression_Head_1: 0.0625091 \n",
      "Training_Loss: 0.0625091 \n",
      "\n",
      "\n"
     ]
    },
    {
     "name": "stderr",
     "output_type": "stream",
     "text": [
      "100%|██████████| 265/265 [03:32<00:00,  1.25it/s]\n"
     ]
    },
    {
     "name": "stdout",
     "output_type": "stream",
     "text": [
      "acc test:  {'0.01': 0.07415254237288135, '0.05': 0.3474576271186441, '0.1': 0.6032838983050848, '0.15': 0.7608580508474576, '0.2': 0.8742055084745762}\n"
     ]
    },
    {
     "name": "stderr",
     "output_type": "stream",
     "text": [
      "\r",
      "  0%|          | 0/265 [00:00<?, ?it/s]"
     ]
    },
    {
     "name": "stdout",
     "output_type": "stream",
     "text": [
      "Weights are saved to exp_regression_kfold_1/1_exp/model_indx_0_w_lr_0.004/acc_0.87_ep_5_exp/weights.ckpt\n",
      "Model's architecture is saved to exp_regression_kfold_1/1_exp/model_indx_0_w_lr_0.004/acc_0.87_ep_5_exp/model.json.\n",
      "ep:  6\n"
     ]
    },
    {
     "name": "stderr",
     "output_type": "stream",
     "text": [
      " 57%|█████▋    | 150/265 [02:10<01:10,  1.64it/s]"
     ]
    },
    {
     "name": "stdout",
     "output_type": "stream",
     "text": [
      "Epoch: 0\n",
      "Regression_Head_1: 0.0537265 \n",
      "Training_Loss: 0.0537265 \n",
      "\n",
      "\n"
     ]
    },
    {
     "name": "stderr",
     "output_type": "stream",
     "text": [
      "100%|██████████| 265/265 [03:47<00:00,  1.16it/s]\n"
     ]
    },
    {
     "name": "stdout",
     "output_type": "stream",
     "text": [
      "acc test:  {'0.01': 0.026747881355932205, '0.05': 0.10540254237288135, '0.1': 0.2627118644067797, '0.15': 0.3599046610169492, '0.2': 0.484375}\n"
     ]
    },
    {
     "name": "stderr",
     "output_type": "stream",
     "text": [
      "\r",
      "  0%|          | 0/265 [00:00<?, ?it/s]"
     ]
    },
    {
     "name": "stdout",
     "output_type": "stream",
     "text": [
      "Weights are saved to exp_regression_kfold_1/1_exp/model_indx_0_w_lr_0.004/acc_0.48_ep_6_exp/weights.ckpt\n",
      "Model's architecture is saved to exp_regression_kfold_1/1_exp/model_indx_0_w_lr_0.004/acc_0.48_ep_6_exp/model.json.\n",
      "ep:  7\n"
     ]
    },
    {
     "name": "stderr",
     "output_type": "stream",
     "text": [
      " 57%|█████▋    | 150/265 [02:09<01:47,  1.06it/s]"
     ]
    },
    {
     "name": "stdout",
     "output_type": "stream",
     "text": [
      "Epoch: 0\n",
      "Regression_Head_1: 0.0524310 \n",
      "Training_Loss: 0.0524310 \n",
      "\n",
      "\n"
     ]
    },
    {
     "name": "stderr",
     "output_type": "stream",
     "text": [
      "100%|██████████| 265/265 [03:51<00:00,  1.15it/s]\n"
     ]
    },
    {
     "name": "stdout",
     "output_type": "stream",
     "text": [
      "acc test:  {'0.01': 0.020127118644067795, '0.05': 0.1440677966101695, '0.1': 0.3289194915254237, '0.15': 0.4841101694915254, '0.2': 0.5995762711864406}\n"
     ]
    },
    {
     "name": "stderr",
     "output_type": "stream",
     "text": [
      "\r",
      "  0%|          | 0/265 [00:00<?, ?it/s]"
     ]
    },
    {
     "name": "stdout",
     "output_type": "stream",
     "text": [
      "Weights are saved to exp_regression_kfold_1/1_exp/model_indx_0_w_lr_0.004/acc_0.6_ep_7_exp/weights.ckpt\n",
      "Model's architecture is saved to exp_regression_kfold_1/1_exp/model_indx_0_w_lr_0.004/acc_0.6_ep_7_exp/model.json.\n",
      "ep:  8\n"
     ]
    },
    {
     "name": "stderr",
     "output_type": "stream",
     "text": [
      " 57%|█████▋    | 150/265 [02:06<01:22,  1.39it/s]"
     ]
    },
    {
     "name": "stdout",
     "output_type": "stream",
     "text": [
      "Epoch: 0\n",
      "Regression_Head_1: 0.0586283 \n",
      "Training_Loss: 0.0586283 \n",
      "\n",
      "\n"
     ]
    },
    {
     "name": "stderr",
     "output_type": "stream",
     "text": [
      "100%|██████████| 265/265 [03:40<00:00,  1.20it/s]\n"
     ]
    },
    {
     "name": "stdout",
     "output_type": "stream",
     "text": [
      "acc test:  {'0.01': 0.07097457627118645, '0.05': 0.3977754237288136, '0.1': 0.8085275423728814, '0.15': 0.9359110169491526, '0.2': 0.9751059322033898}\n"
     ]
    },
    {
     "name": "stderr",
     "output_type": "stream",
     "text": [
      "\r",
      "  0%|          | 0/265 [00:00<?, ?it/s]"
     ]
    },
    {
     "name": "stdout",
     "output_type": "stream",
     "text": [
      "Weights are saved to exp_regression_kfold_1/1_exp/model_indx_0_w_lr_0.004/acc_0.98_ep_8_exp/weights.ckpt\n",
      "Model's architecture is saved to exp_regression_kfold_1/1_exp/model_indx_0_w_lr_0.004/acc_0.98_ep_8_exp/model.json.\n",
      "ep:  9\n"
     ]
    },
    {
     "name": "stderr",
     "output_type": "stream",
     "text": [
      " 57%|█████▋    | 150/265 [02:07<02:15,  1.18s/it]"
     ]
    },
    {
     "name": "stdout",
     "output_type": "stream",
     "text": [
      "Epoch: 0\n",
      "Regression_Head_1: 0.0502516 \n",
      "Training_Loss: 0.0502516 \n",
      "\n",
      "\n"
     ]
    },
    {
     "name": "stderr",
     "output_type": "stream",
     "text": [
      "100%|██████████| 265/265 [03:58<00:00,  1.11it/s]\n"
     ]
    },
    {
     "name": "stdout",
     "output_type": "stream",
     "text": [
      "acc test:  {'0.01': 0.023834745762711863, '0.05': 0.0958686440677966, '0.1': 0.2073622881355932, '0.15': 0.3432203389830508, '0.2': 0.477489406779661}\n"
     ]
    },
    {
     "name": "stderr",
     "output_type": "stream",
     "text": [
      "\r",
      "  0%|          | 0/265 [00:00<?, ?it/s]"
     ]
    },
    {
     "name": "stdout",
     "output_type": "stream",
     "text": [
      "Weights are saved to exp_regression_kfold_1/1_exp/model_indx_0_w_lr_0.004/acc_0.48_ep_9_exp/weights.ckpt\n",
      "Model's architecture is saved to exp_regression_kfold_1/1_exp/model_indx_0_w_lr_0.004/acc_0.48_ep_9_exp/model.json.\n",
      "ep:  10\n"
     ]
    },
    {
     "name": "stderr",
     "output_type": "stream",
     "text": [
      " 57%|█████▋    | 150/265 [02:08<01:39,  1.16it/s]"
     ]
    },
    {
     "name": "stdout",
     "output_type": "stream",
     "text": [
      "Epoch: 0\n",
      "Regression_Head_1: 0.0389235 \n",
      "Training_Loss: 0.0389235 \n",
      "\n",
      "\n"
     ]
    },
    {
     "name": "stderr",
     "output_type": "stream",
     "text": [
      "100%|██████████| 265/265 [03:41<00:00,  1.20it/s]\n"
     ]
    },
    {
     "name": "stdout",
     "output_type": "stream",
     "text": [
      "acc test:  {'0.01': 0.028072033898305086, '0.05': 0.1281779661016949, '0.1': 0.2624470338983051, '0.15': 0.4507415254237288, '0.2': 0.6191737288135594}\n"
     ]
    },
    {
     "name": "stderr",
     "output_type": "stream",
     "text": [
      "\r",
      "  0%|          | 0/265 [00:00<?, ?it/s]"
     ]
    },
    {
     "name": "stdout",
     "output_type": "stream",
     "text": [
      "Weights are saved to exp_regression_kfold_1/1_exp/model_indx_0_w_lr_0.004/acc_0.62_ep_10_exp/weights.ckpt\n",
      "Model's architecture is saved to exp_regression_kfold_1/1_exp/model_indx_0_w_lr_0.004/acc_0.62_ep_10_exp/model.json.\n",
      "ep:  11\n"
     ]
    },
    {
     "name": "stderr",
     "output_type": "stream",
     "text": [
      " 57%|█████▋    | 150/265 [02:14<02:01,  1.06s/it]"
     ]
    },
    {
     "name": "stdout",
     "output_type": "stream",
     "text": [
      "Epoch: 0\n",
      "Regression_Head_1: 0.0370023 \n",
      "Training_Loss: 0.0370023 \n",
      "\n",
      "\n"
     ]
    },
    {
     "name": "stderr",
     "output_type": "stream",
     "text": [
      "100%|██████████| 265/265 [03:56<00:00,  1.12it/s]\n"
     ]
    },
    {
     "name": "stdout",
     "output_type": "stream",
     "text": [
      "acc test:  {'0.01': 0.018273305084745763, '0.05': 0.1083156779661017, '0.1': 0.2658898305084746, '0.15': 0.4486228813559322, '0.2': 0.6009004237288136}\n"
     ]
    },
    {
     "name": "stderr",
     "output_type": "stream",
     "text": [
      "\r",
      "  0%|          | 0/265 [00:00<?, ?it/s]"
     ]
    },
    {
     "name": "stdout",
     "output_type": "stream",
     "text": [
      "Weights are saved to exp_regression_kfold_1/1_exp/model_indx_0_w_lr_0.004/acc_0.6_ep_11_exp/weights.ckpt\n",
      "Model's architecture is saved to exp_regression_kfold_1/1_exp/model_indx_0_w_lr_0.004/acc_0.6_ep_11_exp/model.json.\n",
      "ep:  12\n"
     ]
    },
    {
     "name": "stderr",
     "output_type": "stream",
     "text": [
      " 57%|█████▋    | 150/265 [02:10<01:41,  1.13it/s]"
     ]
    },
    {
     "name": "stdout",
     "output_type": "stream",
     "text": [
      "Epoch: 0\n",
      "Regression_Head_1: 0.0405709 \n",
      "Training_Loss: 0.0405709 \n",
      "\n",
      "\n"
     ]
    },
    {
     "name": "stderr",
     "output_type": "stream",
     "text": [
      "100%|██████████| 265/265 [03:46<00:00,  1.17it/s]\n"
     ]
    },
    {
     "name": "stdout",
     "output_type": "stream",
     "text": [
      "acc test:  {'0.01': 0.032574152542372885, '0.05': 0.21477754237288135, '0.1': 0.4491525423728814, '0.15': 0.5963983050847458, '0.2': 0.762447033898305}\n"
     ]
    },
    {
     "name": "stderr",
     "output_type": "stream",
     "text": [
      "\r",
      "  0%|          | 0/265 [00:00<?, ?it/s]"
     ]
    },
    {
     "name": "stdout",
     "output_type": "stream",
     "text": [
      "Weights are saved to exp_regression_kfold_1/1_exp/model_indx_0_w_lr_0.004/acc_0.76_ep_12_exp/weights.ckpt\n",
      "Model's architecture is saved to exp_regression_kfold_1/1_exp/model_indx_0_w_lr_0.004/acc_0.76_ep_12_exp/model.json.\n",
      "ep:  13\n"
     ]
    },
    {
     "name": "stderr",
     "output_type": "stream",
     "text": [
      " 57%|█████▋    | 150/265 [02:00<01:57,  1.02s/it]"
     ]
    },
    {
     "name": "stdout",
     "output_type": "stream",
     "text": [
      "Epoch: 0\n",
      "Regression_Head_1: 0.0403565 \n",
      "Training_Loss: 0.0403565 \n",
      "\n",
      "\n"
     ]
    },
    {
     "name": "stderr",
     "output_type": "stream",
     "text": [
      "100%|██████████| 265/265 [03:42<00:00,  1.19it/s]\n"
     ]
    },
    {
     "name": "stdout",
     "output_type": "stream",
     "text": [
      "acc test:  {'0.01': 0.034427966101694914, '0.05': 0.163135593220339, '0.1': 0.3471927966101695, '0.15': 0.4801377118644068, '0.2': 0.564353813559322}\n"
     ]
    },
    {
     "name": "stderr",
     "output_type": "stream",
     "text": [
      "\r",
      "  0%|          | 0/265 [00:00<?, ?it/s]"
     ]
    },
    {
     "name": "stdout",
     "output_type": "stream",
     "text": [
      "Weights are saved to exp_regression_kfold_1/1_exp/model_indx_0_w_lr_0.004/acc_0.56_ep_13_exp/weights.ckpt\n",
      "Model's architecture is saved to exp_regression_kfold_1/1_exp/model_indx_0_w_lr_0.004/acc_0.56_ep_13_exp/model.json.\n",
      "ep:  14\n"
     ]
    },
    {
     "name": "stderr",
     "output_type": "stream",
     "text": [
      " 57%|█████▋    | 150/265 [02:12<01:30,  1.27it/s]"
     ]
    },
    {
     "name": "stdout",
     "output_type": "stream",
     "text": [
      "Epoch: 0\n",
      "Regression_Head_1: 0.0302748 \n",
      "Training_Loss: 0.0302748 \n",
      "\n",
      "\n"
     ]
    },
    {
     "name": "stderr",
     "output_type": "stream",
     "text": [
      "100%|██████████| 265/265 [03:51<00:00,  1.15it/s]\n"
     ]
    },
    {
     "name": "stdout",
     "output_type": "stream",
     "text": [
      "acc test:  {'0.01': 0.02621822033898305, '0.05': 0.19703389830508475, '0.1': 0.5172139830508474, '0.15': 0.751853813559322, '0.2': 0.8945974576271186}\n"
     ]
    },
    {
     "name": "stderr",
     "output_type": "stream",
     "text": [
      "\r",
      "  0%|          | 0/265 [00:00<?, ?it/s]"
     ]
    },
    {
     "name": "stdout",
     "output_type": "stream",
     "text": [
      "Weights are saved to exp_regression_kfold_1/1_exp/model_indx_0_w_lr_0.004/acc_0.89_ep_14_exp/weights.ckpt\n",
      "Model's architecture is saved to exp_regression_kfold_1/1_exp/model_indx_0_w_lr_0.004/acc_0.89_ep_14_exp/model.json.\n",
      "ep:  15\n"
     ]
    },
    {
     "name": "stderr",
     "output_type": "stream",
     "text": [
      " 57%|█████▋    | 150/265 [02:13<01:44,  1.10it/s]"
     ]
    },
    {
     "name": "stdout",
     "output_type": "stream",
     "text": [
      "Epoch: 0\n",
      "Regression_Head_1: 0.0318772 \n",
      "Training_Loss: 0.0318772 \n",
      "\n",
      "\n"
     ]
    },
    {
     "name": "stderr",
     "output_type": "stream",
     "text": [
      "100%|██████████| 265/265 [03:43<00:00,  1.18it/s]\n"
     ]
    },
    {
     "name": "stdout",
     "output_type": "stream",
     "text": [
      "acc test:  {'0.01': 0.03416313559322034, '0.05': 0.3657309322033898, '0.1': 0.8058792372881356, '0.15': 0.9486228813559322, '0.2': 0.9878177966101694}\n"
     ]
    },
    {
     "name": "stderr",
     "output_type": "stream",
     "text": [
      "\r",
      "  0%|          | 0/265 [00:00<?, ?it/s]"
     ]
    },
    {
     "name": "stdout",
     "output_type": "stream",
     "text": [
      "Weights are saved to exp_regression_kfold_1/1_exp/model_indx_0_w_lr_0.004/acc_0.99_ep_15_exp/weights.ckpt\n",
      "Model's architecture is saved to exp_regression_kfold_1/1_exp/model_indx_0_w_lr_0.004/acc_0.99_ep_15_exp/model.json.\n",
      "ep:  16\n"
     ]
    },
    {
     "name": "stderr",
     "output_type": "stream",
     "text": [
      " 57%|█████▋    | 150/265 [02:01<01:09,  1.64it/s]"
     ]
    },
    {
     "name": "stdout",
     "output_type": "stream",
     "text": [
      "Epoch: 0\n",
      "Regression_Head_1: 0.0305741 \n",
      "Training_Loss: 0.0305741 \n",
      "\n",
      "\n"
     ]
    },
    {
     "name": "stderr",
     "output_type": "stream",
     "text": [
      "100%|██████████| 265/265 [03:40<00:00,  1.20it/s]\n"
     ]
    },
    {
     "name": "stdout",
     "output_type": "stream",
     "text": [
      "acc test:  {'0.01': 0.0579978813559322, '0.05': 0.3283898305084746, '0.1': 0.6035487288135594, '0.15': 0.814353813559322, '0.2': 0.9692796610169492}\n"
     ]
    },
    {
     "name": "stderr",
     "output_type": "stream",
     "text": [
      "\r",
      "  0%|          | 0/265 [00:00<?, ?it/s]"
     ]
    },
    {
     "name": "stdout",
     "output_type": "stream",
     "text": [
      "Weights are saved to exp_regression_kfold_1/1_exp/model_indx_0_w_lr_0.004/acc_0.97_ep_16_exp/weights.ckpt\n",
      "Model's architecture is saved to exp_regression_kfold_1/1_exp/model_indx_0_w_lr_0.004/acc_0.97_ep_16_exp/model.json.\n",
      "ep:  17\n"
     ]
    },
    {
     "name": "stderr",
     "output_type": "stream",
     "text": [
      " 57%|█████▋    | 150/265 [02:05<01:49,  1.05it/s]"
     ]
    },
    {
     "name": "stdout",
     "output_type": "stream",
     "text": [
      "Epoch: 0\n",
      "Regression_Head_1: 0.0286667 \n",
      "Training_Loss: 0.0286667 \n",
      "\n",
      "\n"
     ]
    },
    {
     "name": "stderr",
     "output_type": "stream",
     "text": [
      "100%|██████████| 265/265 [03:36<00:00,  1.23it/s]\n"
     ]
    },
    {
     "name": "stdout",
     "output_type": "stream",
     "text": [
      "acc test:  {'0.01': 0.06567796610169492, '0.05': 0.4518008474576271, '0.1': 0.8082627118644068, '0.15': 0.9777542372881356, '0.2': 0.9965572033898306}\n"
     ]
    },
    {
     "name": "stderr",
     "output_type": "stream",
     "text": [
      "\r",
      "  0%|          | 0/265 [00:00<?, ?it/s]"
     ]
    },
    {
     "name": "stdout",
     "output_type": "stream",
     "text": [
      "Weights are saved to exp_regression_kfold_1/1_exp/model_indx_0_w_lr_0.004/acc_1.0_ep_17_exp/weights.ckpt\n",
      "Model's architecture is saved to exp_regression_kfold_1/1_exp/model_indx_0_w_lr_0.004/acc_1.0_ep_17_exp/model.json.\n",
      "ep:  18\n"
     ]
    },
    {
     "name": "stderr",
     "output_type": "stream",
     "text": [
      " 57%|█████▋    | 150/265 [02:10<02:01,  1.05s/it]"
     ]
    },
    {
     "name": "stdout",
     "output_type": "stream",
     "text": [
      "Epoch: 0\n",
      "Regression_Head_1: 0.0297520 \n",
      "Training_Loss: 0.0297520 \n",
      "\n",
      "\n"
     ]
    },
    {
     "name": "stderr",
     "output_type": "stream",
     "text": [
      "100%|██████████| 265/265 [03:41<00:00,  1.19it/s]\n"
     ]
    },
    {
     "name": "stdout",
     "output_type": "stream",
     "text": [
      "acc test:  {'0.01': 0.032574152542372885, '0.05': 0.23252118644067796, '0.1': 0.5365466101694916, '0.15': 0.7854872881355932, '0.2': 0.9049258474576272}\n"
     ]
    },
    {
     "name": "stderr",
     "output_type": "stream",
     "text": [
      "\r",
      "  0%|          | 0/265 [00:00<?, ?it/s]"
     ]
    },
    {
     "name": "stdout",
     "output_type": "stream",
     "text": [
      "Weights are saved to exp_regression_kfold_1/1_exp/model_indx_0_w_lr_0.004/acc_0.9_ep_18_exp/weights.ckpt\n",
      "Model's architecture is saved to exp_regression_kfold_1/1_exp/model_indx_0_w_lr_0.004/acc_0.9_ep_18_exp/model.json.\n",
      "ep:  19\n"
     ]
    },
    {
     "name": "stderr",
     "output_type": "stream",
     "text": [
      " 57%|█████▋    | 150/265 [02:11<01:46,  1.08it/s]"
     ]
    },
    {
     "name": "stdout",
     "output_type": "stream",
     "text": [
      "Epoch: 0\n",
      "Regression_Head_1: 0.0301365 \n",
      "Training_Loss: 0.0301365 \n",
      "\n",
      "\n"
     ]
    },
    {
     "name": "stderr",
     "output_type": "stream",
     "text": [
      "100%|██████████| 265/265 [03:49<00:00,  1.16it/s]\n"
     ]
    },
    {
     "name": "stdout",
     "output_type": "stream",
     "text": [
      "acc test:  {'0.01': 0.057203389830508475, '0.05': 0.274364406779661, '0.1': 0.5720338983050848, '0.15': 0.786281779661017, '0.2': 0.9708686440677966}\n"
     ]
    },
    {
     "name": "stderr",
     "output_type": "stream",
     "text": [
      "\r",
      "  0%|          | 0/265 [00:00<?, ?it/s]"
     ]
    },
    {
     "name": "stdout",
     "output_type": "stream",
     "text": [
      "Weights are saved to exp_regression_kfold_1/1_exp/model_indx_0_w_lr_0.004/acc_0.97_ep_19_exp/weights.ckpt\n",
      "Model's architecture is saved to exp_regression_kfold_1/1_exp/model_indx_0_w_lr_0.004/acc_0.97_ep_19_exp/model.json.\n",
      "ep:  20\n"
     ]
    },
    {
     "name": "stderr",
     "output_type": "stream",
     "text": [
      " 57%|█████▋    | 150/265 [02:04<01:33,  1.23it/s]"
     ]
    },
    {
     "name": "stdout",
     "output_type": "stream",
     "text": [
      "Epoch: 0\n",
      "Regression_Head_1: 0.0329258 \n",
      "Training_Loss: 0.0329258 \n",
      "\n",
      "\n"
     ]
    },
    {
     "name": "stderr",
     "output_type": "stream",
     "text": [
      "100%|██████████| 265/265 [03:44<00:00,  1.18it/s]\n"
     ]
    },
    {
     "name": "stdout",
     "output_type": "stream",
     "text": [
      "acc test:  {'0.01': 0.032574152542372885, '0.05': 0.149364406779661, '0.1': 0.4065148305084746, '0.15': 0.6215572033898306, '0.2': 0.8352754237288136}\n"
     ]
    },
    {
     "name": "stderr",
     "output_type": "stream",
     "text": [
      "\r",
      "  0%|          | 0/265 [00:00<?, ?it/s]"
     ]
    },
    {
     "name": "stdout",
     "output_type": "stream",
     "text": [
      "Weights are saved to exp_regression_kfold_1/1_exp/model_indx_0_w_lr_0.004/acc_0.84_ep_20_exp/weights.ckpt\n",
      "Model's architecture is saved to exp_regression_kfold_1/1_exp/model_indx_0_w_lr_0.004/acc_0.84_ep_20_exp/model.json.\n",
      "ep:  21\n"
     ]
    },
    {
     "name": "stderr",
     "output_type": "stream",
     "text": [
      " 57%|█████▋    | 150/265 [02:03<01:44,  1.10it/s]"
     ]
    },
    {
     "name": "stdout",
     "output_type": "stream",
     "text": [
      "Epoch: 0\n",
      "Regression_Head_1: 0.0283674 \n",
      "Training_Loss: 0.0283674 \n",
      "\n",
      "\n"
     ]
    },
    {
     "name": "stderr",
     "output_type": "stream",
     "text": [
      "100%|██████████| 265/265 [03:47<00:00,  1.16it/s]\n"
     ]
    },
    {
     "name": "stdout",
     "output_type": "stream",
     "text": [
      "acc test:  {'0.01': 0.034427966101694914, '0.05': 0.164989406779661, '0.1': 0.4171080508474576, '0.15': 0.6310911016949152, '0.2': 0.8151483050847458}\n"
     ]
    },
    {
     "name": "stderr",
     "output_type": "stream",
     "text": [
      "\r",
      "  0%|          | 0/265 [00:00<?, ?it/s]"
     ]
    },
    {
     "name": "stdout",
     "output_type": "stream",
     "text": [
      "Weights are saved to exp_regression_kfold_1/1_exp/model_indx_0_w_lr_0.004/acc_0.82_ep_21_exp/weights.ckpt\n",
      "Model's architecture is saved to exp_regression_kfold_1/1_exp/model_indx_0_w_lr_0.004/acc_0.82_ep_21_exp/model.json.\n",
      "ep:  22\n"
     ]
    },
    {
     "name": "stderr",
     "output_type": "stream",
     "text": [
      " 57%|█████▋    | 150/265 [02:11<01:20,  1.42it/s]"
     ]
    },
    {
     "name": "stdout",
     "output_type": "stream",
     "text": [
      "Epoch: 0\n",
      "Regression_Head_1: 0.0274690 \n",
      "Training_Loss: 0.0274690 \n",
      "\n",
      "\n"
     ]
    },
    {
     "name": "stderr",
     "output_type": "stream",
     "text": [
      "100%|██████████| 265/265 [03:50<00:00,  1.15it/s]\n"
     ]
    },
    {
     "name": "stdout",
     "output_type": "stream",
     "text": [
      "acc test:  {'0.01': 0.18379237288135594, '0.05': 0.7195444915254238, '0.1': 0.9859639830508474, '0.15': 1.0, '0.2': 1.0}\n"
     ]
    },
    {
     "name": "stderr",
     "output_type": "stream",
     "text": [
      "\r",
      "  0%|          | 0/265 [00:00<?, ?it/s]"
     ]
    },
    {
     "name": "stdout",
     "output_type": "stream",
     "text": [
      "Weights are saved to exp_regression_kfold_1/1_exp/model_indx_0_w_lr_0.004/acc_1.0_ep_22_exp/weights.ckpt\n",
      "Model's architecture is saved to exp_regression_kfold_1/1_exp/model_indx_0_w_lr_0.004/acc_1.0_ep_22_exp/model.json.\n",
      "ep:  23\n"
     ]
    },
    {
     "name": "stderr",
     "output_type": "stream",
     "text": [
      " 57%|█████▋    | 150/265 [02:05<01:14,  1.54it/s]"
     ]
    },
    {
     "name": "stdout",
     "output_type": "stream",
     "text": [
      "Epoch: 0\n",
      "Regression_Head_1: 0.0304743 \n",
      "Training_Loss: 0.0304743 \n",
      "\n",
      "\n"
     ]
    },
    {
     "name": "stderr",
     "output_type": "stream",
     "text": [
      "100%|██████████| 265/265 [03:39<00:00,  1.21it/s]\n"
     ]
    },
    {
     "name": "stdout",
     "output_type": "stream",
     "text": [
      "acc test:  {'0.01': 0.04846398305084746, '0.05': 0.3765889830508475, '0.1': 0.7823093220338984, '0.15': 0.918697033898305, '0.2': 0.9623940677966102}\n"
     ]
    },
    {
     "name": "stderr",
     "output_type": "stream",
     "text": [
      "\r",
      "  0%|          | 0/265 [00:00<?, ?it/s]"
     ]
    },
    {
     "name": "stdout",
     "output_type": "stream",
     "text": [
      "Weights are saved to exp_regression_kfold_1/1_exp/model_indx_0_w_lr_0.004/acc_0.96_ep_23_exp/weights.ckpt\n",
      "Model's architecture is saved to exp_regression_kfold_1/1_exp/model_indx_0_w_lr_0.004/acc_0.96_ep_23_exp/model.json.\n",
      "ep:  24\n"
     ]
    },
    {
     "name": "stderr",
     "output_type": "stream",
     "text": [
      " 57%|█████▋    | 150/265 [02:02<02:00,  1.05s/it]"
     ]
    },
    {
     "name": "stdout",
     "output_type": "stream",
     "text": [
      "Epoch: 0\n",
      "Regression_Head_1: 0.0291462 \n",
      "Training_Loss: 0.0291462 \n",
      "\n",
      "\n"
     ]
    },
    {
     "name": "stderr",
     "output_type": "stream",
     "text": [
      "100%|██████████| 265/265 [03:37<00:00,  1.22it/s]\n"
     ]
    },
    {
     "name": "stdout",
     "output_type": "stream",
     "text": [
      "acc test:  {'0.01': 0.05958686440677966, '0.05': 0.435646186440678, '0.1': 0.8580508474576272, '0.15': 0.9804025423728814, '0.2': 0.9970868644067796}\n"
     ]
    },
    {
     "name": "stderr",
     "output_type": "stream",
     "text": [
      "\r",
      "  0%|          | 0/265 [00:00<?, ?it/s]"
     ]
    },
    {
     "name": "stdout",
     "output_type": "stream",
     "text": [
      "Weights are saved to exp_regression_kfold_1/1_exp/model_indx_0_w_lr_0.004/acc_1.0_ep_24_exp/weights.ckpt\n",
      "Model's architecture is saved to exp_regression_kfold_1/1_exp/model_indx_0_w_lr_0.004/acc_1.0_ep_24_exp/model.json.\n",
      "ep:  25\n"
     ]
    },
    {
     "name": "stderr",
     "output_type": "stream",
     "text": [
      " 57%|█████▋    | 150/265 [02:01<01:19,  1.45it/s]"
     ]
    },
    {
     "name": "stdout",
     "output_type": "stream",
     "text": [
      "Epoch: 0\n",
      "Regression_Head_1: 0.0275986 \n",
      "Training_Loss: 0.0275986 \n",
      "\n",
      "\n"
     ]
    },
    {
     "name": "stderr",
     "output_type": "stream",
     "text": [
      "100%|██████████| 265/265 [03:32<00:00,  1.25it/s]\n"
     ]
    },
    {
     "name": "stdout",
     "output_type": "stream",
     "text": [
      "acc test:  {'0.01': 0.05190677966101695, '0.05': 0.4409427966101695, '0.1': 0.873146186440678, '0.15': 0.9743114406779662, '0.2': 0.994968220338983}\n"
     ]
    },
    {
     "name": "stderr",
     "output_type": "stream",
     "text": [
      "\r",
      "  0%|          | 0/265 [00:00<?, ?it/s]"
     ]
    },
    {
     "name": "stdout",
     "output_type": "stream",
     "text": [
      "Weights are saved to exp_regression_kfold_1/1_exp/model_indx_0_w_lr_0.004/acc_0.99_ep_25_exp/weights.ckpt\n",
      "Model's architecture is saved to exp_regression_kfold_1/1_exp/model_indx_0_w_lr_0.004/acc_0.99_ep_25_exp/model.json.\n",
      "ep:  26\n"
     ]
    },
    {
     "name": "stderr",
     "output_type": "stream",
     "text": [
      " 57%|█████▋    | 150/265 [02:05<01:54,  1.00it/s]"
     ]
    },
    {
     "name": "stdout",
     "output_type": "stream",
     "text": [
      "Epoch: 0\n",
      "Regression_Head_1: 0.0275397 \n",
      "Training_Loss: 0.0275397 \n",
      "\n",
      "\n"
     ]
    },
    {
     "name": "stderr",
     "output_type": "stream",
     "text": [
      "100%|██████████| 265/265 [03:42<00:00,  1.19it/s]\n"
     ]
    },
    {
     "name": "stdout",
     "output_type": "stream",
     "text": [
      "acc test:  {'0.01': 0.036546610169491525, '0.05': 0.1573093220338983, '0.1': 0.4398834745762712, '0.15': 0.6347987288135594, '0.2': 0.8384533898305084}\n"
     ]
    },
    {
     "name": "stderr",
     "output_type": "stream",
     "text": [
      "\r",
      "  0%|          | 0/265 [00:00<?, ?it/s]"
     ]
    },
    {
     "name": "stdout",
     "output_type": "stream",
     "text": [
      "Weights are saved to exp_regression_kfold_1/1_exp/model_indx_0_w_lr_0.004/acc_0.84_ep_26_exp/weights.ckpt\n",
      "Model's architecture is saved to exp_regression_kfold_1/1_exp/model_indx_0_w_lr_0.004/acc_0.84_ep_26_exp/model.json.\n",
      "ep:  27\n"
     ]
    },
    {
     "name": "stderr",
     "output_type": "stream",
     "text": [
      " 57%|█████▋    | 150/265 [02:02<01:01,  1.86it/s]"
     ]
    },
    {
     "name": "stdout",
     "output_type": "stream",
     "text": [
      "Epoch: 0\n",
      "Regression_Head_1: 0.0284293 \n",
      "Training_Loss: 0.0284293 \n",
      "\n",
      "\n"
     ]
    },
    {
     "name": "stderr",
     "output_type": "stream",
     "text": [
      "100%|██████████| 265/265 [03:37<00:00,  1.22it/s]\n"
     ]
    },
    {
     "name": "stdout",
     "output_type": "stream",
     "text": [
      "acc test:  {'0.01': 0.06938559322033898, '0.05': 0.5407838983050848, '0.1': 0.8967161016949152, '0.15': 0.9592161016949152, '0.2': 0.9788135593220338}\n"
     ]
    },
    {
     "name": "stderr",
     "output_type": "stream",
     "text": [
      "\r",
      "  0%|          | 0/265 [00:00<?, ?it/s]"
     ]
    },
    {
     "name": "stdout",
     "output_type": "stream",
     "text": [
      "Weights are saved to exp_regression_kfold_1/1_exp/model_indx_0_w_lr_0.004/acc_0.98_ep_27_exp/weights.ckpt\n",
      "Model's architecture is saved to exp_regression_kfold_1/1_exp/model_indx_0_w_lr_0.004/acc_0.98_ep_27_exp/model.json.\n",
      "ep:  28\n"
     ]
    },
    {
     "name": "stderr",
     "output_type": "stream",
     "text": [
      " 57%|█████▋    | 150/265 [02:13<01:35,  1.20it/s]"
     ]
    },
    {
     "name": "stdout",
     "output_type": "stream",
     "text": [
      "Epoch: 0\n",
      "Regression_Head_1: 0.0267604 \n",
      "Training_Loss: 0.0267604 \n",
      "\n",
      "\n"
     ]
    },
    {
     "name": "stderr",
     "output_type": "stream",
     "text": [
      "100%|██████████| 265/265 [03:56<00:00,  1.12it/s]\n"
     ]
    },
    {
     "name": "stdout",
     "output_type": "stream",
     "text": [
      "acc test:  {'0.01': 0.03045550847457627, '0.05': 0.22404661016949154, '0.1': 0.5752118644067796, '0.15': 0.8482521186440678, '0.2': 0.9345868644067796}\n"
     ]
    },
    {
     "name": "stderr",
     "output_type": "stream",
     "text": [
      "\r",
      "  0%|          | 0/265 [00:00<?, ?it/s]"
     ]
    },
    {
     "name": "stdout",
     "output_type": "stream",
     "text": [
      "Weights are saved to exp_regression_kfold_1/1_exp/model_indx_0_w_lr_0.004/acc_0.93_ep_28_exp/weights.ckpt\n",
      "Model's architecture is saved to exp_regression_kfold_1/1_exp/model_indx_0_w_lr_0.004/acc_0.93_ep_28_exp/model.json.\n",
      "ep:  29\n"
     ]
    },
    {
     "name": "stderr",
     "output_type": "stream",
     "text": [
      " 57%|█████▋    | 150/265 [02:03<01:55,  1.01s/it]"
     ]
    },
    {
     "name": "stdout",
     "output_type": "stream",
     "text": [
      "Epoch: 0\n",
      "Regression_Head_1: 0.0257846 \n",
      "Training_Loss: 0.0257846 \n",
      "\n",
      "\n"
     ]
    },
    {
     "name": "stderr",
     "output_type": "stream",
     "text": [
      "100%|██████████| 265/265 [03:39<00:00,  1.21it/s]\n"
     ]
    },
    {
     "name": "stdout",
     "output_type": "stream",
     "text": [
      "acc test:  {'0.01': 0.04396186440677966, '0.05': 0.3548728813559322, '0.1': 0.8342161016949152, '0.15': 0.954978813559322, '0.2': 0.982521186440678}\n"
     ]
    },
    {
     "name": "stderr",
     "output_type": "stream",
     "text": [
      "\r",
      "  0%|          | 0/34020 [00:00<?, ?it/s]"
     ]
    },
    {
     "name": "stdout",
     "output_type": "stream",
     "text": [
      "Weights are saved to exp_regression_kfold_1/1_exp/model_indx_0_w_lr_0.004/acc_0.98_ep_29_exp/weights.ckpt\n",
      "Model's architecture is saved to exp_regression_kfold_1/1_exp/model_indx_0_w_lr_0.004/acc_0.98_ep_29_exp/model.json.\n"
     ]
    },
    {
     "name": "stderr",
     "output_type": "stream",
     "text": [
      "100%|██████████| 34020/34020 [00:52<00:00, 646.94it/s]\n",
      "100%|██████████| 3780/3780 [00:05<00:00, 641.19it/s]\n"
     ]
    },
    {
     "name": "stdout",
     "output_type": "stream",
     "text": [
      "train :  34020\n",
      "test:  3780\n",
      "Loss is built.\n",
      "ep:  0\n",
      "Collecting histogram tensors...\n"
     ]
    },
    {
     "name": "stderr",
     "output_type": "stream",
     "text": [
      "\r",
      "  0%|          | 0/265 [00:00<?, ?it/s]"
     ]
    },
    {
     "name": "stdout",
     "output_type": "stream",
     "text": [
      "New optimizer is used.\n"
     ]
    },
    {
     "name": "stderr",
     "output_type": "stream",
     "text": [
      " 57%|█████▋    | 150/265 [01:49<01:09,  1.64it/s]"
     ]
    },
    {
     "name": "stdout",
     "output_type": "stream",
     "text": [
      "Epoch: 0\n",
      "Regression_Head_1: 0.1595148 \n",
      "Training_Loss: 0.1595148 \n",
      "\n",
      "\n"
     ]
    },
    {
     "name": "stderr",
     "output_type": "stream",
     "text": [
      "100%|██████████| 265/265 [03:16<00:00,  1.35it/s]\n"
     ]
    },
    {
     "name": "stdout",
     "output_type": "stream",
     "text": [
      "acc test:  {'0.01': 0.05534957627118644, '0.05': 0.3326271186440678, '0.1': 0.626853813559322, '0.15': 0.777542372881356, '0.2': 0.8421610169491526}\n"
     ]
    },
    {
     "name": "stderr",
     "output_type": "stream",
     "text": [
      "\r",
      "  0%|          | 0/265 [00:00<?, ?it/s]"
     ]
    },
    {
     "name": "stdout",
     "output_type": "stream",
     "text": [
      "Weights are saved to exp_regression_kfold_1/1_exp/model_indx_0_w_lr_0.008/acc_0.84_ep_0_exp/weights.ckpt\n",
      "Model's architecture is saved to exp_regression_kfold_1/1_exp/model_indx_0_w_lr_0.008/acc_0.84_ep_0_exp/model.json.\n",
      "ep:  1\n"
     ]
    },
    {
     "name": "stderr",
     "output_type": "stream",
     "text": [
      " 57%|█████▋    | 150/265 [01:59<01:34,  1.21it/s]"
     ]
    },
    {
     "name": "stdout",
     "output_type": "stream",
     "text": [
      "Epoch: 0\n",
      "Regression_Head_1: 0.1130747 \n",
      "Training_Loss: 0.1130747 \n",
      "\n",
      "\n"
     ]
    },
    {
     "name": "stderr",
     "output_type": "stream",
     "text": [
      "100%|██████████| 265/265 [03:35<00:00,  1.23it/s]\n"
     ]
    },
    {
     "name": "stdout",
     "output_type": "stream",
     "text": [
      "acc test:  {'0.01': 0.06885593220338983, '0.05': 0.3477224576271186, '0.1': 0.619968220338983, '0.15': 0.7894597457627118, '0.2': 0.8795021186440678}\n"
     ]
    },
    {
     "name": "stderr",
     "output_type": "stream",
     "text": [
      "\r",
      "  0%|          | 0/265 [00:00<?, ?it/s]"
     ]
    },
    {
     "name": "stdout",
     "output_type": "stream",
     "text": [
      "Weights are saved to exp_regression_kfold_1/1_exp/model_indx_0_w_lr_0.008/acc_0.88_ep_1_exp/weights.ckpt\n",
      "Model's architecture is saved to exp_regression_kfold_1/1_exp/model_indx_0_w_lr_0.008/acc_0.88_ep_1_exp/model.json.\n",
      "ep:  2\n"
     ]
    },
    {
     "name": "stderr",
     "output_type": "stream",
     "text": [
      " 57%|█████▋    | 150/265 [02:02<01:07,  1.69it/s]"
     ]
    },
    {
     "name": "stdout",
     "output_type": "stream",
     "text": [
      "Epoch: 0\n",
      "Regression_Head_1: 0.0821209 \n",
      "Training_Loss: 0.0821209 \n",
      "\n",
      "\n"
     ]
    },
    {
     "name": "stderr",
     "output_type": "stream",
     "text": [
      "100%|██████████| 265/265 [03:38<00:00,  1.21it/s]\n"
     ]
    },
    {
     "name": "stdout",
     "output_type": "stream",
     "text": [
      "acc test:  {'0.01': 0.03734110169491525, '0.05': 0.23278601694915255, '0.1': 0.5235699152542372, '0.15': 0.7756885593220338, '0.2': 0.9134004237288136}\n"
     ]
    },
    {
     "name": "stderr",
     "output_type": "stream",
     "text": [
      "\r",
      "  0%|          | 0/265 [00:00<?, ?it/s]"
     ]
    },
    {
     "name": "stdout",
     "output_type": "stream",
     "text": [
      "Weights are saved to exp_regression_kfold_1/1_exp/model_indx_0_w_lr_0.008/acc_0.91_ep_2_exp/weights.ckpt\n",
      "Model's architecture is saved to exp_regression_kfold_1/1_exp/model_indx_0_w_lr_0.008/acc_0.91_ep_2_exp/model.json.\n",
      "ep:  3\n"
     ]
    },
    {
     "name": "stderr",
     "output_type": "stream",
     "text": [
      " 57%|█████▋    | 150/265 [01:57<01:40,  1.14it/s]"
     ]
    },
    {
     "name": "stdout",
     "output_type": "stream",
     "text": [
      "Epoch: 0\n",
      "Regression_Head_1: 0.0622454 \n",
      "Training_Loss: 0.0622454 \n",
      "\n",
      "\n"
     ]
    },
    {
     "name": "stderr",
     "output_type": "stream",
     "text": [
      "100%|██████████| 265/265 [03:24<00:00,  1.30it/s]\n"
     ]
    },
    {
     "name": "stdout",
     "output_type": "stream",
     "text": [
      "acc test:  {'0.01': 0.09772245762711865, '0.05': 0.4753707627118644, '0.1': 0.8728813559322034, '0.15': 0.9872881355932204, '0.2': 0.9997351694915254}\n"
     ]
    },
    {
     "name": "stderr",
     "output_type": "stream",
     "text": [
      "\r",
      "  0%|          | 0/265 [00:00<?, ?it/s]"
     ]
    },
    {
     "name": "stdout",
     "output_type": "stream",
     "text": [
      "Weights are saved to exp_regression_kfold_1/1_exp/model_indx_0_w_lr_0.008/acc_1.0_ep_3_exp/weights.ckpt\n",
      "Model's architecture is saved to exp_regression_kfold_1/1_exp/model_indx_0_w_lr_0.008/acc_1.0_ep_3_exp/model.json.\n",
      "ep:  4\n"
     ]
    },
    {
     "name": "stderr",
     "output_type": "stream",
     "text": [
      " 57%|█████▋    | 150/265 [01:58<01:32,  1.25it/s]"
     ]
    },
    {
     "name": "stdout",
     "output_type": "stream",
     "text": [
      "Epoch: 0\n",
      "Regression_Head_1: 0.0589471 \n",
      "Training_Loss: 0.0589471 \n",
      "\n",
      "\n"
     ]
    },
    {
     "name": "stderr",
     "output_type": "stream",
     "text": [
      "100%|██████████| 265/265 [03:27<00:00,  1.28it/s]\n"
     ]
    },
    {
     "name": "stdout",
     "output_type": "stream",
     "text": [
      "acc test:  {'0.01': 0.10063559322033898, '0.05': 0.4274364406779661, '0.1': 0.6069915254237288, '0.15': 0.8183262711864406, '0.2': 0.9380296610169492}\n"
     ]
    },
    {
     "name": "stderr",
     "output_type": "stream",
     "text": [
      "\r",
      "  0%|          | 0/265 [00:00<?, ?it/s]"
     ]
    },
    {
     "name": "stdout",
     "output_type": "stream",
     "text": [
      "Weights are saved to exp_regression_kfold_1/1_exp/model_indx_0_w_lr_0.008/acc_0.94_ep_4_exp/weights.ckpt\n",
      "Model's architecture is saved to exp_regression_kfold_1/1_exp/model_indx_0_w_lr_0.008/acc_0.94_ep_4_exp/model.json.\n",
      "ep:  5\n"
     ]
    },
    {
     "name": "stderr",
     "output_type": "stream",
     "text": [
      " 57%|█████▋    | 150/265 [01:59<01:30,  1.28it/s]"
     ]
    },
    {
     "name": "stdout",
     "output_type": "stream",
     "text": [
      "Epoch: 0\n",
      "Regression_Head_1: 0.0684601 \n",
      "Training_Loss: 0.0684601 \n",
      "\n",
      "\n"
     ]
    },
    {
     "name": "stderr",
     "output_type": "stream",
     "text": [
      "100%|██████████| 265/265 [03:27<00:00,  1.28it/s]\n"
     ]
    },
    {
     "name": "stdout",
     "output_type": "stream",
     "text": [
      "acc test:  {'0.01': 0.056673728813559324, '0.05': 0.23040254237288135, '0.1': 0.2923728813559322, '0.15': 0.34375, '0.2': 0.4009533898305085}\n"
     ]
    },
    {
     "name": "stderr",
     "output_type": "stream",
     "text": [
      "\r",
      "  0%|          | 0/265 [00:00<?, ?it/s]"
     ]
    },
    {
     "name": "stdout",
     "output_type": "stream",
     "text": [
      "Weights are saved to exp_regression_kfold_1/1_exp/model_indx_0_w_lr_0.008/acc_0.4_ep_5_exp/weights.ckpt\n",
      "Model's architecture is saved to exp_regression_kfold_1/1_exp/model_indx_0_w_lr_0.008/acc_0.4_ep_5_exp/model.json.\n",
      "ep:  6\n"
     ]
    },
    {
     "name": "stderr",
     "output_type": "stream",
     "text": [
      " 57%|█████▋    | 150/265 [02:01<01:41,  1.13it/s]"
     ]
    },
    {
     "name": "stdout",
     "output_type": "stream",
     "text": [
      "Epoch: 0\n",
      "Regression_Head_1: 0.0502648 \n",
      "Training_Loss: 0.0502648 \n",
      "\n",
      "\n"
     ]
    },
    {
     "name": "stderr",
     "output_type": "stream",
     "text": [
      "100%|██████████| 265/265 [03:34<00:00,  1.23it/s]\n"
     ]
    },
    {
     "name": "stdout",
     "output_type": "stream",
     "text": [
      "acc test:  {'0.01': 0.056673728813559324, '0.05': 0.2245762711864407, '0.1': 0.4523305084745763, '0.15': 0.6316207627118644, '0.2': 0.7179555084745762}\n"
     ]
    },
    {
     "name": "stderr",
     "output_type": "stream",
     "text": [
      "\r",
      "  0%|          | 0/265 [00:00<?, ?it/s]"
     ]
    },
    {
     "name": "stdout",
     "output_type": "stream",
     "text": [
      "Weights are saved to exp_regression_kfold_1/1_exp/model_indx_0_w_lr_0.008/acc_0.72_ep_6_exp/weights.ckpt\n",
      "Model's architecture is saved to exp_regression_kfold_1/1_exp/model_indx_0_w_lr_0.008/acc_0.72_ep_6_exp/model.json.\n",
      "ep:  7\n"
     ]
    },
    {
     "name": "stderr",
     "output_type": "stream",
     "text": [
      " 57%|█████▋    | 150/265 [01:59<01:08,  1.68it/s]"
     ]
    },
    {
     "name": "stdout",
     "output_type": "stream",
     "text": [
      "Epoch: 0\n",
      "Regression_Head_1: 0.0565552 \n",
      "Training_Loss: 0.0565552 \n",
      "\n",
      "\n"
     ]
    },
    {
     "name": "stderr",
     "output_type": "stream",
     "text": [
      "100%|██████████| 265/265 [03:29<00:00,  1.26it/s]\n"
     ]
    },
    {
     "name": "stdout",
     "output_type": "stream",
     "text": [
      "acc test:  {'0.01': 0.03919491525423729, '0.05': 0.2539724576271186, '0.1': 0.5619703389830508, '0.15': 0.6996822033898306, '0.2': 0.7963453389830508}\n"
     ]
    },
    {
     "name": "stderr",
     "output_type": "stream",
     "text": [
      "\r",
      "  0%|          | 0/265 [00:00<?, ?it/s]"
     ]
    },
    {
     "name": "stdout",
     "output_type": "stream",
     "text": [
      "Weights are saved to exp_regression_kfold_1/1_exp/model_indx_0_w_lr_0.008/acc_0.8_ep_7_exp/weights.ckpt\n",
      "Model's architecture is saved to exp_regression_kfold_1/1_exp/model_indx_0_w_lr_0.008/acc_0.8_ep_7_exp/model.json.\n",
      "ep:  8\n"
     ]
    },
    {
     "name": "stderr",
     "output_type": "stream",
     "text": [
      " 57%|█████▋    | 150/265 [01:57<01:14,  1.55it/s]"
     ]
    },
    {
     "name": "stdout",
     "output_type": "stream",
     "text": [
      "Epoch: 0\n",
      "Regression_Head_1: 0.0513646 \n",
      "Training_Loss: 0.0513646 \n",
      "\n",
      "\n"
     ]
    },
    {
     "name": "stderr",
     "output_type": "stream",
     "text": [
      "100%|██████████| 265/265 [03:27<00:00,  1.28it/s]\n"
     ]
    },
    {
     "name": "stdout",
     "output_type": "stream",
     "text": [
      "acc test:  {'0.01': 0.08050847457627118, '0.05': 0.4038665254237288, '0.1': 0.7131885593220338, '0.15': 0.8829449152542372, '0.2': 0.9613347457627118}\n"
     ]
    },
    {
     "name": "stderr",
     "output_type": "stream",
     "text": [
      "\r",
      "  0%|          | 0/265 [00:00<?, ?it/s]"
     ]
    },
    {
     "name": "stdout",
     "output_type": "stream",
     "text": [
      "Weights are saved to exp_regression_kfold_1/1_exp/model_indx_0_w_lr_0.008/acc_0.96_ep_8_exp/weights.ckpt\n",
      "Model's architecture is saved to exp_regression_kfold_1/1_exp/model_indx_0_w_lr_0.008/acc_0.96_ep_8_exp/model.json.\n",
      "ep:  9\n"
     ]
    },
    {
     "name": "stderr",
     "output_type": "stream",
     "text": [
      " 57%|█████▋    | 150/265 [02:00<01:45,  1.09it/s]"
     ]
    },
    {
     "name": "stdout",
     "output_type": "stream",
     "text": [
      "Epoch: 0\n",
      "Regression_Head_1: 0.0545852 \n",
      "Training_Loss: 0.0545852 \n",
      "\n",
      "\n"
     ]
    },
    {
     "name": "stderr",
     "output_type": "stream",
     "text": [
      "100%|██████████| 265/265 [03:28<00:00,  1.27it/s]\n"
     ]
    },
    {
     "name": "stdout",
     "output_type": "stream",
     "text": [
      "acc test:  {'0.01': 0.12420550847457627, '0.05': 0.5879237288135594, '0.1': 0.9690148305084746, '0.15': 0.9941737288135594, '0.2': 0.9976165254237288}\n"
     ]
    },
    {
     "name": "stderr",
     "output_type": "stream",
     "text": [
      "\r",
      "  0%|          | 0/265 [00:00<?, ?it/s]"
     ]
    },
    {
     "name": "stdout",
     "output_type": "stream",
     "text": [
      "Weights are saved to exp_regression_kfold_1/1_exp/model_indx_0_w_lr_0.008/acc_1.0_ep_9_exp/weights.ckpt\n",
      "Model's architecture is saved to exp_regression_kfold_1/1_exp/model_indx_0_w_lr_0.008/acc_1.0_ep_9_exp/model.json.\n",
      "ep:  10\n"
     ]
    },
    {
     "name": "stderr",
     "output_type": "stream",
     "text": [
      " 57%|█████▋    | 150/265 [02:01<01:32,  1.24it/s]"
     ]
    },
    {
     "name": "stdout",
     "output_type": "stream",
     "text": [
      "Epoch: 0\n",
      "Regression_Head_1: 0.0465544 \n",
      "Training_Loss: 0.0465544 \n",
      "\n",
      "\n"
     ]
    },
    {
     "name": "stderr",
     "output_type": "stream",
     "text": [
      "100%|██████████| 265/265 [03:32<00:00,  1.24it/s]\n"
     ]
    },
    {
     "name": "stdout",
     "output_type": "stream",
     "text": [
      "acc test:  {'0.01': 0.1149364406779661, '0.05': 0.4014830508474576, '0.1': 0.5429025423728814, '0.15': 0.7174258474576272, '0.2': 0.8471927966101694}\n"
     ]
    },
    {
     "name": "stderr",
     "output_type": "stream",
     "text": [
      "\r",
      "  0%|          | 0/265 [00:00<?, ?it/s]"
     ]
    },
    {
     "name": "stdout",
     "output_type": "stream",
     "text": [
      "Weights are saved to exp_regression_kfold_1/1_exp/model_indx_0_w_lr_0.008/acc_0.85_ep_10_exp/weights.ckpt\n",
      "Model's architecture is saved to exp_regression_kfold_1/1_exp/model_indx_0_w_lr_0.008/acc_0.85_ep_10_exp/model.json.\n",
      "ep:  11\n"
     ]
    },
    {
     "name": "stderr",
     "output_type": "stream",
     "text": [
      " 57%|█████▋    | 150/265 [01:53<01:08,  1.68it/s]"
     ]
    },
    {
     "name": "stdout",
     "output_type": "stream",
     "text": [
      "Epoch: 0\n",
      "Regression_Head_1: 0.0420234 \n",
      "Training_Loss: 0.0420234 \n",
      "\n",
      "\n"
     ]
    },
    {
     "name": "stderr",
     "output_type": "stream",
     "text": [
      "100%|██████████| 265/265 [03:21<00:00,  1.32it/s]\n"
     ]
    },
    {
     "name": "stdout",
     "output_type": "stream",
     "text": [
      "acc test:  {'0.01': 0.03945974576271186, '0.05': 0.15704449152542374, '0.1': 0.2163665254237288, '0.15': 0.283103813559322, '0.2': 0.3365995762711864}\n"
     ]
    },
    {
     "name": "stderr",
     "output_type": "stream",
     "text": [
      "\r",
      "  0%|          | 0/265 [00:00<?, ?it/s]"
     ]
    },
    {
     "name": "stdout",
     "output_type": "stream",
     "text": [
      "Weights are saved to exp_regression_kfold_1/1_exp/model_indx_0_w_lr_0.008/acc_0.34_ep_11_exp/weights.ckpt\n",
      "Model's architecture is saved to exp_regression_kfold_1/1_exp/model_indx_0_w_lr_0.008/acc_0.34_ep_11_exp/model.json.\n",
      "ep:  12\n"
     ]
    },
    {
     "name": "stderr",
     "output_type": "stream",
     "text": [
      " 57%|█████▋    | 150/265 [01:53<01:27,  1.31it/s]"
     ]
    },
    {
     "name": "stdout",
     "output_type": "stream",
     "text": [
      "Epoch: 0\n",
      "Regression_Head_1: 0.0412107 \n",
      "Training_Loss: 0.0412107 \n",
      "\n",
      "\n"
     ]
    },
    {
     "name": "stderr",
     "output_type": "stream",
     "text": [
      "100%|██████████| 265/265 [03:17<00:00,  1.34it/s]\n"
     ]
    },
    {
     "name": "stdout",
     "output_type": "stream",
     "text": [
      "acc test:  {'0.01': 0.2041843220338983, '0.05': 0.8177966101694916, '0.1': 0.9804025423728814, '0.15': 0.9936440677966102, '0.2': 0.9984110169491526}\n"
     ]
    },
    {
     "name": "stderr",
     "output_type": "stream",
     "text": [
      "\r",
      "  0%|          | 0/265 [00:00<?, ?it/s]"
     ]
    },
    {
     "name": "stdout",
     "output_type": "stream",
     "text": [
      "Weights are saved to exp_regression_kfold_1/1_exp/model_indx_0_w_lr_0.008/acc_1.0_ep_12_exp/weights.ckpt\n",
      "Model's architecture is saved to exp_regression_kfold_1/1_exp/model_indx_0_w_lr_0.008/acc_1.0_ep_12_exp/model.json.\n",
      "ep:  13\n"
     ]
    },
    {
     "name": "stderr",
     "output_type": "stream",
     "text": [
      " 57%|█████▋    | 150/265 [01:58<01:50,  1.04it/s]"
     ]
    },
    {
     "name": "stdout",
     "output_type": "stream",
     "text": [
      "Epoch: 0\n",
      "Regression_Head_1: 0.0425757 \n",
      "Training_Loss: 0.0425757 \n",
      "\n",
      "\n"
     ]
    },
    {
     "name": "stderr",
     "output_type": "stream",
     "text": [
      "100%|██████████| 265/265 [03:25<00:00,  1.29it/s]\n"
     ]
    },
    {
     "name": "stdout",
     "output_type": "stream",
     "text": [
      "acc test:  {'0.01': 0.01694915254237288, '0.05': 0.0871292372881356, '0.1': 0.1451271186440678, '0.15': 0.18140889830508475, '0.2': 0.211864406779661}\n"
     ]
    },
    {
     "name": "stderr",
     "output_type": "stream",
     "text": [
      "\r",
      "  0%|          | 0/265 [00:00<?, ?it/s]"
     ]
    },
    {
     "name": "stdout",
     "output_type": "stream",
     "text": [
      "Weights are saved to exp_regression_kfold_1/1_exp/model_indx_0_w_lr_0.008/acc_0.21_ep_13_exp/weights.ckpt\n",
      "Model's architecture is saved to exp_regression_kfold_1/1_exp/model_indx_0_w_lr_0.008/acc_0.21_ep_13_exp/model.json.\n",
      "ep:  14\n"
     ]
    },
    {
     "name": "stderr",
     "output_type": "stream",
     "text": [
      " 57%|█████▋    | 150/265 [01:56<01:17,  1.48it/s]"
     ]
    },
    {
     "name": "stdout",
     "output_type": "stream",
     "text": [
      "Epoch: 0\n",
      "Regression_Head_1: 0.0330561 \n",
      "Training_Loss: 0.0330561 \n",
      "\n",
      "\n"
     ]
    },
    {
     "name": "stderr",
     "output_type": "stream",
     "text": [
      "100%|██████████| 265/265 [03:20<00:00,  1.32it/s]\n"
     ]
    },
    {
     "name": "stdout",
     "output_type": "stream",
     "text": [
      "acc test:  {'0.01': 0.05614406779661017, '0.05': 0.3516949152542373, '0.1': 0.84375, '0.15': 0.9615995762711864, '0.2': 0.9936440677966102}\n"
     ]
    },
    {
     "name": "stderr",
     "output_type": "stream",
     "text": [
      "\r",
      "  0%|          | 0/265 [00:00<?, ?it/s]"
     ]
    },
    {
     "name": "stdout",
     "output_type": "stream",
     "text": [
      "Weights are saved to exp_regression_kfold_1/1_exp/model_indx_0_w_lr_0.008/acc_0.99_ep_14_exp/weights.ckpt\n",
      "Model's architecture is saved to exp_regression_kfold_1/1_exp/model_indx_0_w_lr_0.008/acc_0.99_ep_14_exp/model.json.\n",
      "ep:  15\n"
     ]
    },
    {
     "name": "stderr",
     "output_type": "stream",
     "text": [
      " 57%|█████▋    | 150/265 [01:59<01:43,  1.11it/s]"
     ]
    },
    {
     "name": "stdout",
     "output_type": "stream",
     "text": [
      "Epoch: 0\n",
      "Regression_Head_1: 0.0325602 \n",
      "Training_Loss: 0.0325602 \n",
      "\n",
      "\n"
     ]
    },
    {
     "name": "stderr",
     "output_type": "stream",
     "text": [
      "100%|██████████| 265/265 [03:31<00:00,  1.25it/s]\n"
     ]
    },
    {
     "name": "stdout",
     "output_type": "stream",
     "text": [
      "acc test:  {'0.01': 0.057203389830508475, '0.05': 0.4115466101694915, '0.1': 0.8779131355932204, '0.15': 0.9690148305084746, '0.2': 0.9941737288135594}\n"
     ]
    },
    {
     "name": "stderr",
     "output_type": "stream",
     "text": [
      "\r",
      "  0%|          | 0/265 [00:00<?, ?it/s]"
     ]
    },
    {
     "name": "stdout",
     "output_type": "stream",
     "text": [
      "Weights are saved to exp_regression_kfold_1/1_exp/model_indx_0_w_lr_0.008/acc_0.99_ep_15_exp/weights.ckpt\n",
      "Model's architecture is saved to exp_regression_kfold_1/1_exp/model_indx_0_w_lr_0.008/acc_0.99_ep_15_exp/model.json.\n",
      "ep:  16\n"
     ]
    },
    {
     "name": "stderr",
     "output_type": "stream",
     "text": [
      " 57%|█████▋    | 150/265 [02:01<01:34,  1.22it/s]"
     ]
    },
    {
     "name": "stdout",
     "output_type": "stream",
     "text": [
      "Epoch: 0\n",
      "Regression_Head_1: 0.0325710 \n",
      "Training_Loss: 0.0325710 \n",
      "\n",
      "\n"
     ]
    },
    {
     "name": "stderr",
     "output_type": "stream",
     "text": [
      "100%|██████████| 265/265 [03:30<00:00,  1.26it/s]\n"
     ]
    },
    {
     "name": "stdout",
     "output_type": "stream",
     "text": [
      "acc test:  {'0.01': 0.034427966101694914, '0.05': 0.1464512711864407, '0.1': 0.34375, '0.15': 0.6430084745762712, '0.2': 0.7804555084745762}\n"
     ]
    },
    {
     "name": "stderr",
     "output_type": "stream",
     "text": [
      "\r",
      "  0%|          | 0/265 [00:00<?, ?it/s]"
     ]
    },
    {
     "name": "stdout",
     "output_type": "stream",
     "text": [
      "Weights are saved to exp_regression_kfold_1/1_exp/model_indx_0_w_lr_0.008/acc_0.78_ep_16_exp/weights.ckpt\n",
      "Model's architecture is saved to exp_regression_kfold_1/1_exp/model_indx_0_w_lr_0.008/acc_0.78_ep_16_exp/model.json.\n",
      "ep:  17\n"
     ]
    },
    {
     "name": "stderr",
     "output_type": "stream",
     "text": [
      " 57%|█████▋    | 150/265 [01:55<01:31,  1.25it/s]"
     ]
    },
    {
     "name": "stdout",
     "output_type": "stream",
     "text": [
      "Epoch: 0\n",
      "Regression_Head_1: 0.0321695 \n",
      "Training_Loss: 0.0321695 \n",
      "\n",
      "\n"
     ]
    },
    {
     "name": "stderr",
     "output_type": "stream",
     "text": [
      "100%|██████████| 265/265 [03:26<00:00,  1.29it/s]\n"
     ]
    },
    {
     "name": "stdout",
     "output_type": "stream",
     "text": [
      "acc test:  {'0.01': 0.043697033898305086, '0.05': 0.2836334745762712, '0.1': 0.6742584745762712, '0.15': 0.8813559322033898, '0.2': 0.9565677966101694}\n"
     ]
    },
    {
     "name": "stderr",
     "output_type": "stream",
     "text": [
      "\r",
      "  0%|          | 0/265 [00:00<?, ?it/s]"
     ]
    },
    {
     "name": "stdout",
     "output_type": "stream",
     "text": [
      "Weights are saved to exp_regression_kfold_1/1_exp/model_indx_0_w_lr_0.008/acc_0.96_ep_17_exp/weights.ckpt\n",
      "Model's architecture is saved to exp_regression_kfold_1/1_exp/model_indx_0_w_lr_0.008/acc_0.96_ep_17_exp/model.json.\n",
      "ep:  18\n"
     ]
    },
    {
     "name": "stderr",
     "output_type": "stream",
     "text": [
      " 57%|█████▋    | 150/265 [02:02<01:16,  1.51it/s]"
     ]
    },
    {
     "name": "stdout",
     "output_type": "stream",
     "text": [
      "Epoch: 0\n",
      "Regression_Head_1: 0.0307075 \n",
      "Training_Loss: 0.0307075 \n",
      "\n",
      "\n"
     ]
    },
    {
     "name": "stderr",
     "output_type": "stream",
     "text": [
      "100%|██████████| 265/265 [03:38<00:00,  1.21it/s]\n"
     ]
    },
    {
     "name": "stdout",
     "output_type": "stream",
     "text": [
      "acc test:  {'0.01': 0.034957627118644065, '0.05': 0.17584745762711865, '0.1': 0.4822563559322034, '0.15': 0.7574152542372882, '0.2': 0.8900953389830508}\n"
     ]
    },
    {
     "name": "stderr",
     "output_type": "stream",
     "text": [
      "\r",
      "  0%|          | 0/265 [00:00<?, ?it/s]"
     ]
    },
    {
     "name": "stdout",
     "output_type": "stream",
     "text": [
      "Weights are saved to exp_regression_kfold_1/1_exp/model_indx_0_w_lr_0.008/acc_0.89_ep_18_exp/weights.ckpt\n",
      "Model's architecture is saved to exp_regression_kfold_1/1_exp/model_indx_0_w_lr_0.008/acc_0.89_ep_18_exp/model.json.\n",
      "ep:  19\n"
     ]
    },
    {
     "name": "stderr",
     "output_type": "stream",
     "text": [
      " 57%|█████▋    | 150/265 [02:01<01:34,  1.21it/s]"
     ]
    },
    {
     "name": "stdout",
     "output_type": "stream",
     "text": [
      "Epoch: 0\n",
      "Regression_Head_1: 0.0316128 \n",
      "Training_Loss: 0.0316128 \n",
      "\n",
      "\n"
     ]
    },
    {
     "name": "stderr",
     "output_type": "stream",
     "text": [
      "100%|██████████| 265/265 [03:35<00:00,  1.23it/s]\n"
     ]
    },
    {
     "name": "stdout",
     "output_type": "stream",
     "text": [
      "acc test:  {'0.01': 0.02913135593220339, '0.05': 0.15360169491525424, '0.1': 0.4221398305084746, '0.15': 0.6578389830508474, '0.2': 0.8040254237288136}\n"
     ]
    },
    {
     "name": "stderr",
     "output_type": "stream",
     "text": [
      "\r",
      "  0%|          | 0/265 [00:00<?, ?it/s]"
     ]
    },
    {
     "name": "stdout",
     "output_type": "stream",
     "text": [
      "Weights are saved to exp_regression_kfold_1/1_exp/model_indx_0_w_lr_0.008/acc_0.8_ep_19_exp/weights.ckpt\n",
      "Model's architecture is saved to exp_regression_kfold_1/1_exp/model_indx_0_w_lr_0.008/acc_0.8_ep_19_exp/model.json.\n",
      "ep:  20\n"
     ]
    },
    {
     "name": "stderr",
     "output_type": "stream",
     "text": [
      " 57%|█████▋    | 150/265 [01:59<01:14,  1.54it/s]"
     ]
    },
    {
     "name": "stdout",
     "output_type": "stream",
     "text": [
      "Epoch: 0\n",
      "Regression_Head_1: 0.0306476 \n",
      "Training_Loss: 0.0306476 \n",
      "\n",
      "\n"
     ]
    },
    {
     "name": "stderr",
     "output_type": "stream",
     "text": [
      "100%|██████████| 265/265 [03:28<00:00,  1.27it/s]\n"
     ]
    },
    {
     "name": "stdout",
     "output_type": "stream",
     "text": [
      "acc test:  {'0.01': 0.1170550847457627, '0.05': 0.6242055084745762, '0.1': 0.9353813559322034, '0.15': 0.9939088983050848, '0.2': 1.0}\n"
     ]
    },
    {
     "name": "stderr",
     "output_type": "stream",
     "text": [
      "\r",
      "  0%|          | 0/265 [00:00<?, ?it/s]"
     ]
    },
    {
     "name": "stdout",
     "output_type": "stream",
     "text": [
      "Weights are saved to exp_regression_kfold_1/1_exp/model_indx_0_w_lr_0.008/acc_1.0_ep_20_exp/weights.ckpt\n",
      "Model's architecture is saved to exp_regression_kfold_1/1_exp/model_indx_0_w_lr_0.008/acc_1.0_ep_20_exp/model.json.\n",
      "ep:  21\n"
     ]
    },
    {
     "name": "stderr",
     "output_type": "stream",
     "text": [
      " 57%|█████▋    | 150/265 [01:56<01:22,  1.40it/s]"
     ]
    },
    {
     "name": "stdout",
     "output_type": "stream",
     "text": [
      "Epoch: 0\n",
      "Regression_Head_1: 0.0315120 \n",
      "Training_Loss: 0.0315120 \n",
      "\n",
      "\n"
     ]
    },
    {
     "name": "stderr",
     "output_type": "stream",
     "text": [
      "100%|██████████| 265/265 [03:26<00:00,  1.29it/s]\n"
     ]
    },
    {
     "name": "stdout",
     "output_type": "stream",
     "text": [
      "acc test:  {'0.01': 0.04290254237288135, '0.05': 0.3162076271186441, '0.1': 0.7454978813559322, '0.15': 0.9329978813559322, '0.2': 0.988082627118644}\n"
     ]
    },
    {
     "name": "stderr",
     "output_type": "stream",
     "text": [
      "\r",
      "  0%|          | 0/265 [00:00<?, ?it/s]"
     ]
    },
    {
     "name": "stdout",
     "output_type": "stream",
     "text": [
      "Weights are saved to exp_regression_kfold_1/1_exp/model_indx_0_w_lr_0.008/acc_0.99_ep_21_exp/weights.ckpt\n",
      "Model's architecture is saved to exp_regression_kfold_1/1_exp/model_indx_0_w_lr_0.008/acc_0.99_ep_21_exp/model.json.\n",
      "ep:  22\n"
     ]
    },
    {
     "name": "stderr",
     "output_type": "stream",
     "text": [
      " 57%|█████▋    | 150/265 [01:55<01:45,  1.09it/s]"
     ]
    },
    {
     "name": "stdout",
     "output_type": "stream",
     "text": [
      "Epoch: 0\n",
      "Regression_Head_1: 0.0324331 \n",
      "Training_Loss: 0.0324331 \n",
      "\n",
      "\n"
     ]
    },
    {
     "name": "stderr",
     "output_type": "stream",
     "text": [
      "100%|██████████| 265/265 [03:29<00:00,  1.27it/s]\n"
     ]
    },
    {
     "name": "stdout",
     "output_type": "stream",
     "text": [
      "acc test:  {'0.01': 0.04766949152542373, '0.05': 0.3895656779661017, '0.1': 0.7828389830508474, '0.15': 0.934322033898305, '0.2': 0.9872881355932204}\n"
     ]
    },
    {
     "name": "stderr",
     "output_type": "stream",
     "text": [
      "\r",
      "  0%|          | 0/265 [00:00<?, ?it/s]"
     ]
    },
    {
     "name": "stdout",
     "output_type": "stream",
     "text": [
      "Weights are saved to exp_regression_kfold_1/1_exp/model_indx_0_w_lr_0.008/acc_0.99_ep_22_exp/weights.ckpt\n",
      "Model's architecture is saved to exp_regression_kfold_1/1_exp/model_indx_0_w_lr_0.008/acc_0.99_ep_22_exp/model.json.\n",
      "ep:  23\n"
     ]
    },
    {
     "name": "stderr",
     "output_type": "stream",
     "text": [
      " 57%|█████▋    | 150/265 [02:03<01:23,  1.37it/s]"
     ]
    },
    {
     "name": "stdout",
     "output_type": "stream",
     "text": [
      "Epoch: 0\n",
      "Regression_Head_1: 0.0308476 \n",
      "Training_Loss: 0.0308476 \n",
      "\n",
      "\n"
     ]
    },
    {
     "name": "stderr",
     "output_type": "stream",
     "text": [
      "100%|██████████| 265/265 [03:30<00:00,  1.26it/s]\n"
     ]
    },
    {
     "name": "stdout",
     "output_type": "stream",
     "text": [
      "acc test:  {'0.01': 0.041048728813559324, '0.05': 0.265625, '0.1': 0.6689618644067796, '0.15': 0.8784427966101694, '0.2': 0.9536546610169492}\n"
     ]
    },
    {
     "name": "stderr",
     "output_type": "stream",
     "text": [
      "\r",
      "  0%|          | 0/265 [00:00<?, ?it/s]"
     ]
    },
    {
     "name": "stdout",
     "output_type": "stream",
     "text": [
      "Weights are saved to exp_regression_kfold_1/1_exp/model_indx_0_w_lr_0.008/acc_0.95_ep_23_exp/weights.ckpt\n",
      "Model's architecture is saved to exp_regression_kfold_1/1_exp/model_indx_0_w_lr_0.008/acc_0.95_ep_23_exp/model.json.\n",
      "ep:  24\n"
     ]
    },
    {
     "name": "stderr",
     "output_type": "stream",
     "text": [
      " 57%|█████▋    | 150/265 [02:00<01:06,  1.73it/s]"
     ]
    },
    {
     "name": "stdout",
     "output_type": "stream",
     "text": [
      "Epoch: 0\n",
      "Regression_Head_1: 0.0306454 \n",
      "Training_Loss: 0.0306454 \n",
      "\n",
      "\n"
     ]
    },
    {
     "name": "stderr",
     "output_type": "stream",
     "text": [
      "100%|██████████| 265/265 [03:27<00:00,  1.28it/s]\n"
     ]
    },
    {
     "name": "stdout",
     "output_type": "stream",
     "text": [
      "acc test:  {'0.01': 0.06408898305084745, '0.05': 0.5222457627118644, '0.1': 0.8980402542372882, '0.15': 0.991260593220339, '0.2': 0.9997351694915254}\n"
     ]
    },
    {
     "name": "stderr",
     "output_type": "stream",
     "text": [
      "\r",
      "  0%|          | 0/265 [00:00<?, ?it/s]"
     ]
    },
    {
     "name": "stdout",
     "output_type": "stream",
     "text": [
      "Weights are saved to exp_regression_kfold_1/1_exp/model_indx_0_w_lr_0.008/acc_1.0_ep_24_exp/weights.ckpt\n",
      "Model's architecture is saved to exp_regression_kfold_1/1_exp/model_indx_0_w_lr_0.008/acc_1.0_ep_24_exp/model.json.\n",
      "ep:  25\n"
     ]
    },
    {
     "name": "stderr",
     "output_type": "stream",
     "text": [
      " 57%|█████▋    | 150/265 [02:04<01:28,  1.30it/s]"
     ]
    },
    {
     "name": "stdout",
     "output_type": "stream",
     "text": [
      "Epoch: 0\n",
      "Regression_Head_1: 0.0307005 \n",
      "Training_Loss: 0.0307005 \n",
      "\n",
      "\n"
     ]
    },
    {
     "name": "stderr",
     "output_type": "stream",
     "text": [
      "100%|██████████| 265/265 [03:32<00:00,  1.25it/s]\n"
     ]
    },
    {
     "name": "stdout",
     "output_type": "stream",
     "text": [
      "acc test:  {'0.01': 0.056673728813559324, '0.05': 0.3477224576271186, '0.1': 0.7854872881355932, '0.15': 0.9332627118644068, '0.2': 0.9822563559322034}\n"
     ]
    },
    {
     "name": "stderr",
     "output_type": "stream",
     "text": [
      "\r",
      "  0%|          | 0/265 [00:00<?, ?it/s]"
     ]
    },
    {
     "name": "stdout",
     "output_type": "stream",
     "text": [
      "Weights are saved to exp_regression_kfold_1/1_exp/model_indx_0_w_lr_0.008/acc_0.98_ep_25_exp/weights.ckpt\n",
      "Model's architecture is saved to exp_regression_kfold_1/1_exp/model_indx_0_w_lr_0.008/acc_0.98_ep_25_exp/model.json.\n",
      "ep:  26\n"
     ]
    },
    {
     "name": "stderr",
     "output_type": "stream",
     "text": [
      " 57%|█████▋    | 150/265 [01:50<01:40,  1.15it/s]"
     ]
    },
    {
     "name": "stdout",
     "output_type": "stream",
     "text": [
      "Epoch: 0\n",
      "Regression_Head_1: 0.0310985 \n",
      "Training_Loss: 0.0310985 \n",
      "\n",
      "\n"
     ]
    },
    {
     "name": "stderr",
     "output_type": "stream",
     "text": [
      "100%|██████████| 265/265 [03:24<00:00,  1.30it/s]\n"
     ]
    },
    {
     "name": "stdout",
     "output_type": "stream",
     "text": [
      "acc test:  {'0.01': 0.2052436440677966, '0.05': 0.7759533898305084, '0.1': 0.9729872881355932, '0.15': 0.996292372881356, '0.2': 0.9997351694915254}\n"
     ]
    },
    {
     "name": "stderr",
     "output_type": "stream",
     "text": [
      "\r",
      "  0%|          | 0/265 [00:00<?, ?it/s]"
     ]
    },
    {
     "name": "stdout",
     "output_type": "stream",
     "text": [
      "Weights are saved to exp_regression_kfold_1/1_exp/model_indx_0_w_lr_0.008/acc_1.0_ep_26_exp/weights.ckpt\n",
      "Model's architecture is saved to exp_regression_kfold_1/1_exp/model_indx_0_w_lr_0.008/acc_1.0_ep_26_exp/model.json.\n",
      "ep:  27\n"
     ]
    },
    {
     "name": "stderr",
     "output_type": "stream",
     "text": [
      " 57%|█████▋    | 150/265 [01:57<01:25,  1.35it/s]"
     ]
    },
    {
     "name": "stdout",
     "output_type": "stream",
     "text": [
      "Epoch: 0\n",
      "Regression_Head_1: 0.0292855 \n",
      "Training_Loss: 0.0292855 \n",
      "\n",
      "\n"
     ]
    },
    {
     "name": "stderr",
     "output_type": "stream",
     "text": [
      "100%|██████████| 265/265 [03:28<00:00,  1.27it/s]\n"
     ]
    },
    {
     "name": "stdout",
     "output_type": "stream",
     "text": [
      "acc test:  {'0.01': 0.2526483050847458, '0.05': 0.8871822033898306, '0.1': 0.987552966101695, '0.15': 1.0, '0.2': 1.0}\n"
     ]
    },
    {
     "name": "stderr",
     "output_type": "stream",
     "text": [
      "\r",
      "  0%|          | 0/265 [00:00<?, ?it/s]"
     ]
    },
    {
     "name": "stdout",
     "output_type": "stream",
     "text": [
      "Weights are saved to exp_regression_kfold_1/1_exp/model_indx_0_w_lr_0.008/acc_1.0_ep_27_exp/weights.ckpt\n",
      "Model's architecture is saved to exp_regression_kfold_1/1_exp/model_indx_0_w_lr_0.008/acc_1.0_ep_27_exp/model.json.\n",
      "ep:  28\n"
     ]
    },
    {
     "name": "stderr",
     "output_type": "stream",
     "text": [
      " 57%|█████▋    | 150/265 [02:02<01:58,  1.03s/it]"
     ]
    },
    {
     "name": "stdout",
     "output_type": "stream",
     "text": [
      "Epoch: 0\n",
      "Regression_Head_1: 0.0274902 \n",
      "Training_Loss: 0.0274902 \n",
      "\n",
      "\n"
     ]
    },
    {
     "name": "stderr",
     "output_type": "stream",
     "text": [
      "100%|██████████| 265/265 [03:33<00:00,  1.24it/s]\n"
     ]
    },
    {
     "name": "stdout",
     "output_type": "stream",
     "text": [
      "acc test:  {'0.01': 0.04846398305084746, '0.05': 0.430614406779661, '0.1': 0.8448093220338984, '0.15': 0.9560381355932204, '0.2': 0.9925847457627118}\n"
     ]
    },
    {
     "name": "stderr",
     "output_type": "stream",
     "text": [
      "\r",
      "  0%|          | 0/265 [00:00<?, ?it/s]"
     ]
    },
    {
     "name": "stdout",
     "output_type": "stream",
     "text": [
      "Weights are saved to exp_regression_kfold_1/1_exp/model_indx_0_w_lr_0.008/acc_0.99_ep_28_exp/weights.ckpt\n",
      "Model's architecture is saved to exp_regression_kfold_1/1_exp/model_indx_0_w_lr_0.008/acc_0.99_ep_28_exp/model.json.\n",
      "ep:  29\n"
     ]
    },
    {
     "name": "stderr",
     "output_type": "stream",
     "text": [
      " 57%|█████▋    | 150/265 [01:59<01:28,  1.30it/s]"
     ]
    },
    {
     "name": "stdout",
     "output_type": "stream",
     "text": [
      "Epoch: 0\n",
      "Regression_Head_1: 0.0284099 \n",
      "Training_Loss: 0.0284099 \n",
      "\n",
      "\n"
     ]
    },
    {
     "name": "stderr",
     "output_type": "stream",
     "text": [
      "100%|██████████| 265/265 [03:29<00:00,  1.27it/s]\n"
     ]
    },
    {
     "name": "stdout",
     "output_type": "stream",
     "text": [
      "acc test:  {'0.01': 0.07547669491525423, '0.05': 0.6739936440677966, '0.1': 0.9467690677966102, '0.15': 0.9947033898305084, '0.2': 0.9994703389830508}\n"
     ]
    },
    {
     "name": "stderr",
     "output_type": "stream",
     "text": [
      "\r",
      "  0%|          | 0/34020 [00:00<?, ?it/s]"
     ]
    },
    {
     "name": "stdout",
     "output_type": "stream",
     "text": [
      "Weights are saved to exp_regression_kfold_1/1_exp/model_indx_0_w_lr_0.008/acc_1.0_ep_29_exp/weights.ckpt\n",
      "Model's architecture is saved to exp_regression_kfold_1/1_exp/model_indx_0_w_lr_0.008/acc_1.0_ep_29_exp/model.json.\n"
     ]
    },
    {
     "name": "stderr",
     "output_type": "stream",
     "text": [
      "100%|██████████| 34020/34020 [00:51<00:00, 660.96it/s]\n",
      "100%|██████████| 3780/3780 [00:05<00:00, 665.56it/s]\n"
     ]
    },
    {
     "name": "stdout",
     "output_type": "stream",
     "text": [
      "train :  34020\n",
      "test:  3780\n",
      "Loss is built.\n",
      "ep:  0\n",
      "Collecting histogram tensors...\n"
     ]
    },
    {
     "name": "stderr",
     "output_type": "stream",
     "text": [
      "\r",
      "  0%|          | 0/265 [00:00<?, ?it/s]"
     ]
    },
    {
     "name": "stdout",
     "output_type": "stream",
     "text": [
      "New optimizer is used.\n"
     ]
    },
    {
     "name": "stderr",
     "output_type": "stream",
     "text": [
      " 57%|█████▋    | 150/265 [02:04<01:25,  1.35it/s]"
     ]
    },
    {
     "name": "stdout",
     "output_type": "stream",
     "text": [
      "Epoch: 0\n",
      "Regression_Head_1: 0.1866857 \n",
      "Training_Loss: 0.1866857 \n",
      "\n",
      "\n"
     ]
    },
    {
     "name": "stderr",
     "output_type": "stream",
     "text": [
      "100%|██████████| 265/265 [03:32<00:00,  1.25it/s]\n"
     ]
    },
    {
     "name": "stdout",
     "output_type": "stream",
     "text": [
      "acc test:  {'0.01': 0.012976694915254237, '0.05': 0.03866525423728814, '0.1': 0.07335805084745763, '0.15': 0.11016949152542373, '0.2': 0.131885593220339}\n"
     ]
    },
    {
     "name": "stderr",
     "output_type": "stream",
     "text": [
      "\r",
      "  0%|          | 0/265 [00:00<?, ?it/s]"
     ]
    },
    {
     "name": "stdout",
     "output_type": "stream",
     "text": [
      "Weights are saved to exp_regression_kfold_1/1_exp/model_indx_0_w_lr_0.02/acc_0.13_ep_0_exp/weights.ckpt\n",
      "Model's architecture is saved to exp_regression_kfold_1/1_exp/model_indx_0_w_lr_0.02/acc_0.13_ep_0_exp/model.json.\n",
      "ep:  1\n"
     ]
    },
    {
     "name": "stderr",
     "output_type": "stream",
     "text": [
      " 57%|█████▋    | 150/265 [01:59<01:13,  1.57it/s]"
     ]
    },
    {
     "name": "stdout",
     "output_type": "stream",
     "text": [
      "Epoch: 0\n",
      "Regression_Head_1: 0.1014972 \n",
      "Training_Loss: 0.1014972 \n",
      "\n",
      "\n"
     ]
    },
    {
     "name": "stderr",
     "output_type": "stream",
     "text": [
      "100%|██████████| 265/265 [03:36<00:00,  1.23it/s]\n"
     ]
    },
    {
     "name": "stdout",
     "output_type": "stream",
     "text": [
      "acc test:  {'0.01': 0.03548728813559322, '0.05': 0.211864406779661, '0.1': 0.511917372881356, '0.15': 0.684322033898305, '0.2': 0.7852224576271186}\n"
     ]
    },
    {
     "name": "stderr",
     "output_type": "stream",
     "text": [
      "\r",
      "  0%|          | 0/265 [00:00<?, ?it/s]"
     ]
    },
    {
     "name": "stdout",
     "output_type": "stream",
     "text": [
      "Weights are saved to exp_regression_kfold_1/1_exp/model_indx_0_w_lr_0.02/acc_0.79_ep_1_exp/weights.ckpt\n",
      "Model's architecture is saved to exp_regression_kfold_1/1_exp/model_indx_0_w_lr_0.02/acc_0.79_ep_1_exp/model.json.\n",
      "ep:  2\n"
     ]
    },
    {
     "name": "stderr",
     "output_type": "stream",
     "text": [
      " 57%|█████▋    | 150/265 [01:59<01:28,  1.30it/s]"
     ]
    },
    {
     "name": "stdout",
     "output_type": "stream",
     "text": [
      "Epoch: 0\n",
      "Regression_Head_1: 0.0840099 \n",
      "Training_Loss: 0.0840099 \n",
      "\n",
      "\n"
     ]
    },
    {
     "name": "stderr",
     "output_type": "stream",
     "text": [
      "100%|██████████| 265/265 [03:28<00:00,  1.27it/s]\n"
     ]
    },
    {
     "name": "stdout",
     "output_type": "stream",
     "text": [
      "acc test:  {'0.01': 0.05323093220338983, '0.05': 0.3511652542372881, '0.1': 0.8238877118644068, '0.15': 0.977489406779661, '0.2': 0.9941737288135594}\n"
     ]
    },
    {
     "name": "stderr",
     "output_type": "stream",
     "text": [
      "\r",
      "  0%|          | 0/265 [00:00<?, ?it/s]"
     ]
    },
    {
     "name": "stdout",
     "output_type": "stream",
     "text": [
      "Weights are saved to exp_regression_kfold_1/1_exp/model_indx_0_w_lr_0.02/acc_0.99_ep_2_exp/weights.ckpt\n",
      "Model's architecture is saved to exp_regression_kfold_1/1_exp/model_indx_0_w_lr_0.02/acc_0.99_ep_2_exp/model.json.\n",
      "ep:  3\n"
     ]
    },
    {
     "name": "stderr",
     "output_type": "stream",
     "text": [
      " 57%|█████▋    | 150/265 [01:51<01:15,  1.52it/s]"
     ]
    },
    {
     "name": "stdout",
     "output_type": "stream",
     "text": [
      "Epoch: 0\n",
      "Regression_Head_1: 0.0610978 \n",
      "Training_Loss: 0.0610978 \n",
      "\n",
      "\n"
     ]
    },
    {
     "name": "stderr",
     "output_type": "stream",
     "text": [
      "100%|██████████| 265/265 [03:20<00:00,  1.32it/s]\n"
     ]
    },
    {
     "name": "stdout",
     "output_type": "stream",
     "text": [
      "acc test:  {'0.01': 0.1072563559322034, '0.05': 0.5150953389830508, '0.1': 0.8222987288135594, '0.15': 0.9247881355932204, '0.2': 0.9573622881355932}\n"
     ]
    },
    {
     "name": "stderr",
     "output_type": "stream",
     "text": [
      "\r",
      "  0%|          | 0/265 [00:00<?, ?it/s]"
     ]
    },
    {
     "name": "stdout",
     "output_type": "stream",
     "text": [
      "Weights are saved to exp_regression_kfold_1/1_exp/model_indx_0_w_lr_0.02/acc_0.96_ep_3_exp/weights.ckpt\n",
      "Model's architecture is saved to exp_regression_kfold_1/1_exp/model_indx_0_w_lr_0.02/acc_0.96_ep_3_exp/model.json.\n",
      "ep:  4\n"
     ]
    },
    {
     "name": "stderr",
     "output_type": "stream",
     "text": [
      " 57%|█████▋    | 150/265 [02:04<01:44,  1.10it/s]"
     ]
    },
    {
     "name": "stdout",
     "output_type": "stream",
     "text": [
      "Epoch: 0\n",
      "Regression_Head_1: 0.0571553 \n",
      "Training_Loss: 0.0571553 \n",
      "\n",
      "\n"
     ]
    },
    {
     "name": "stderr",
     "output_type": "stream",
     "text": [
      "100%|██████████| 265/265 [03:34<00:00,  1.23it/s]\n"
     ]
    },
    {
     "name": "stdout",
     "output_type": "stream",
     "text": [
      "acc test:  {'0.01': 0.1263241525423729, '0.05': 0.6048728813559322, '0.1': 0.8641419491525424, '0.15': 0.961864406779661, '0.2': 0.9984110169491526}\n"
     ]
    },
    {
     "name": "stderr",
     "output_type": "stream",
     "text": [
      "\r",
      "  0%|          | 0/265 [00:00<?, ?it/s]"
     ]
    },
    {
     "name": "stdout",
     "output_type": "stream",
     "text": [
      "Weights are saved to exp_regression_kfold_1/1_exp/model_indx_0_w_lr_0.02/acc_1.0_ep_4_exp/weights.ckpt\n",
      "Model's architecture is saved to exp_regression_kfold_1/1_exp/model_indx_0_w_lr_0.02/acc_1.0_ep_4_exp/model.json.\n",
      "ep:  5\n"
     ]
    },
    {
     "name": "stderr",
     "output_type": "stream",
     "text": [
      " 57%|█████▋    | 150/265 [01:55<01:39,  1.15it/s]"
     ]
    },
    {
     "name": "stdout",
     "output_type": "stream",
     "text": [
      "Epoch: 0\n",
      "Regression_Head_1: 0.0604221 \n",
      "Training_Loss: 0.0604221 \n",
      "\n",
      "\n"
     ]
    },
    {
     "name": "stderr",
     "output_type": "stream",
     "text": [
      "100%|██████████| 265/265 [03:23<00:00,  1.30it/s]\n"
     ]
    },
    {
     "name": "stdout",
     "output_type": "stream",
     "text": [
      "acc test:  {'0.01': 0.194385593220339, '0.05': 0.6419491525423728, '0.1': 0.890625, '0.15': 0.9796080508474576, '0.2': 0.9965572033898306}\n"
     ]
    },
    {
     "name": "stderr",
     "output_type": "stream",
     "text": [
      "\r",
      "  0%|          | 0/265 [00:00<?, ?it/s]"
     ]
    },
    {
     "name": "stdout",
     "output_type": "stream",
     "text": [
      "Weights are saved to exp_regression_kfold_1/1_exp/model_indx_0_w_lr_0.02/acc_1.0_ep_5_exp/weights.ckpt\n",
      "Model's architecture is saved to exp_regression_kfold_1/1_exp/model_indx_0_w_lr_0.02/acc_1.0_ep_5_exp/model.json.\n",
      "ep:  6\n"
     ]
    },
    {
     "name": "stderr",
     "output_type": "stream",
     "text": [
      " 57%|█████▋    | 150/265 [01:58<01:24,  1.37it/s]"
     ]
    },
    {
     "name": "stdout",
     "output_type": "stream",
     "text": [
      "Epoch: 0\n",
      "Regression_Head_1: 0.0504545 \n",
      "Training_Loss: 0.0504545 \n",
      "\n",
      "\n"
     ]
    },
    {
     "name": "stderr",
     "output_type": "stream",
     "text": [
      "100%|██████████| 265/265 [03:25<00:00,  1.29it/s]\n"
     ]
    },
    {
     "name": "stdout",
     "output_type": "stream",
     "text": [
      "acc test:  {'0.01': 0.14115466101694915, '0.05': 0.6882944915254238, '0.1': 0.9375, '0.15': 0.9928495762711864, '0.2': 1.0}\n"
     ]
    },
    {
     "name": "stderr",
     "output_type": "stream",
     "text": [
      "\r",
      "  0%|          | 0/265 [00:00<?, ?it/s]"
     ]
    },
    {
     "name": "stdout",
     "output_type": "stream",
     "text": [
      "Weights are saved to exp_regression_kfold_1/1_exp/model_indx_0_w_lr_0.02/acc_1.0_ep_6_exp/weights.ckpt\n",
      "Model's architecture is saved to exp_regression_kfold_1/1_exp/model_indx_0_w_lr_0.02/acc_1.0_ep_6_exp/model.json.\n",
      "ep:  7\n"
     ]
    },
    {
     "name": "stderr",
     "output_type": "stream",
     "text": [
      " 57%|█████▋    | 150/265 [02:00<01:53,  1.02it/s]"
     ]
    },
    {
     "name": "stdout",
     "output_type": "stream",
     "text": [
      "Epoch: 0\n",
      "Regression_Head_1: 0.0529665 \n",
      "Training_Loss: 0.0529665 \n",
      "\n",
      "\n"
     ]
    },
    {
     "name": "stderr",
     "output_type": "stream",
     "text": [
      "100%|██████████| 265/265 [03:31<00:00,  1.25it/s]\n"
     ]
    },
    {
     "name": "stdout",
     "output_type": "stream",
     "text": [
      "acc test:  {'0.01': 0.10116525423728813, '0.05': 0.524364406779661, '0.1': 0.8972457627118644, '0.15': 0.9896716101694916, '0.2': 0.9984110169491526}\n"
     ]
    },
    {
     "name": "stderr",
     "output_type": "stream",
     "text": [
      "\r",
      "  0%|          | 0/265 [00:00<?, ?it/s]"
     ]
    },
    {
     "name": "stdout",
     "output_type": "stream",
     "text": [
      "Weights are saved to exp_regression_kfold_1/1_exp/model_indx_0_w_lr_0.02/acc_1.0_ep_7_exp/weights.ckpt\n",
      "Model's architecture is saved to exp_regression_kfold_1/1_exp/model_indx_0_w_lr_0.02/acc_1.0_ep_7_exp/model.json.\n",
      "ep:  8\n"
     ]
    },
    {
     "name": "stderr",
     "output_type": "stream",
     "text": [
      " 57%|█████▋    | 150/265 [01:54<01:31,  1.26it/s]"
     ]
    },
    {
     "name": "stdout",
     "output_type": "stream",
     "text": [
      "Epoch: 0\n",
      "Regression_Head_1: 0.0510415 \n",
      "Training_Loss: 0.0510415 \n",
      "\n",
      "\n"
     ]
    },
    {
     "name": "stderr",
     "output_type": "stream",
     "text": [
      "100%|██████████| 265/265 [03:18<00:00,  1.34it/s]\n"
     ]
    },
    {
     "name": "stdout",
     "output_type": "stream",
     "text": [
      "acc test:  {'0.01': 0.15916313559322035, '0.05': 0.6986228813559322, '0.1': 0.9459745762711864, '0.15': 0.9976165254237288, '0.2': 1.0}\n"
     ]
    },
    {
     "name": "stderr",
     "output_type": "stream",
     "text": [
      "\r",
      "  0%|          | 0/265 [00:00<?, ?it/s]"
     ]
    },
    {
     "name": "stdout",
     "output_type": "stream",
     "text": [
      "Weights are saved to exp_regression_kfold_1/1_exp/model_indx_0_w_lr_0.02/acc_1.0_ep_8_exp/weights.ckpt\n",
      "Model's architecture is saved to exp_regression_kfold_1/1_exp/model_indx_0_w_lr_0.02/acc_1.0_ep_8_exp/model.json.\n",
      "ep:  9\n"
     ]
    },
    {
     "name": "stderr",
     "output_type": "stream",
     "text": [
      " 57%|█████▋    | 150/265 [01:57<01:22,  1.39it/s]"
     ]
    },
    {
     "name": "stdout",
     "output_type": "stream",
     "text": [
      "Epoch: 0\n",
      "Regression_Head_1: 0.0459348 \n",
      "Training_Loss: 0.0459348 \n",
      "\n",
      "\n"
     ]
    },
    {
     "name": "stderr",
     "output_type": "stream",
     "text": [
      "100%|██████████| 265/265 [03:26<00:00,  1.28it/s]\n"
     ]
    },
    {
     "name": "stdout",
     "output_type": "stream",
     "text": [
      "acc test:  {'0.01': 0.08183262711864407, '0.05': 0.388771186440678, '0.1': 0.6472457627118644, '0.15': 0.824417372881356, '0.2': 0.9311440677966102}\n"
     ]
    },
    {
     "name": "stderr",
     "output_type": "stream",
     "text": [
      "\r",
      "  0%|          | 0/265 [00:00<?, ?it/s]"
     ]
    },
    {
     "name": "stdout",
     "output_type": "stream",
     "text": [
      "Weights are saved to exp_regression_kfold_1/1_exp/model_indx_0_w_lr_0.02/acc_0.93_ep_9_exp/weights.ckpt\n",
      "Model's architecture is saved to exp_regression_kfold_1/1_exp/model_indx_0_w_lr_0.02/acc_0.93_ep_9_exp/model.json.\n",
      "ep:  10\n"
     ]
    },
    {
     "name": "stderr",
     "output_type": "stream",
     "text": [
      " 57%|█████▋    | 150/265 [02:06<01:26,  1.33it/s]"
     ]
    },
    {
     "name": "stdout",
     "output_type": "stream",
     "text": [
      "Epoch: 0\n",
      "Regression_Head_1: 0.0466884 \n",
      "Training_Loss: 0.0466884 \n",
      "\n",
      "\n"
     ]
    },
    {
     "name": "stderr",
     "output_type": "stream",
     "text": [
      "100%|██████████| 265/265 [03:40<00:00,  1.20it/s]\n"
     ]
    },
    {
     "name": "stdout",
     "output_type": "stream",
     "text": [
      "acc test:  {'0.01': 0.01933262711864407, '0.05': 0.10354872881355932, '0.1': 0.3665254237288136, '0.15': 0.6276483050847458, '0.2': 0.7457627118644068}\n"
     ]
    },
    {
     "name": "stderr",
     "output_type": "stream",
     "text": [
      "\r",
      "  0%|          | 0/265 [00:00<?, ?it/s]"
     ]
    },
    {
     "name": "stdout",
     "output_type": "stream",
     "text": [
      "Weights are saved to exp_regression_kfold_1/1_exp/model_indx_0_w_lr_0.02/acc_0.75_ep_10_exp/weights.ckpt\n",
      "Model's architecture is saved to exp_regression_kfold_1/1_exp/model_indx_0_w_lr_0.02/acc_0.75_ep_10_exp/model.json.\n",
      "ep:  11\n"
     ]
    },
    {
     "name": "stderr",
     "output_type": "stream",
     "text": [
      " 57%|█████▋    | 150/265 [02:00<01:34,  1.22it/s]"
     ]
    },
    {
     "name": "stdout",
     "output_type": "stream",
     "text": [
      "Epoch: 0\n",
      "Regression_Head_1: 0.0525329 \n",
      "Training_Loss: 0.0525329 \n",
      "\n",
      "\n"
     ]
    },
    {
     "name": "stderr",
     "output_type": "stream",
     "text": [
      "100%|██████████| 265/265 [03:30<00:00,  1.26it/s]\n"
     ]
    },
    {
     "name": "stdout",
     "output_type": "stream",
     "text": [
      "acc test:  {'0.01': 0.0579978813559322, '0.05': 0.2915783898305085, '0.1': 0.533103813559322, '0.15': 0.715572033898305, '0.2': 0.8180614406779662}\n"
     ]
    },
    {
     "name": "stderr",
     "output_type": "stream",
     "text": [
      "\r",
      "  0%|          | 0/265 [00:00<?, ?it/s]"
     ]
    },
    {
     "name": "stdout",
     "output_type": "stream",
     "text": [
      "Weights are saved to exp_regression_kfold_1/1_exp/model_indx_0_w_lr_0.02/acc_0.82_ep_11_exp/weights.ckpt\n",
      "Model's architecture is saved to exp_regression_kfold_1/1_exp/model_indx_0_w_lr_0.02/acc_0.82_ep_11_exp/model.json.\n",
      "ep:  12\n"
     ]
    },
    {
     "name": "stderr",
     "output_type": "stream",
     "text": [
      " 57%|█████▋    | 150/265 [02:01<01:16,  1.51it/s]"
     ]
    },
    {
     "name": "stdout",
     "output_type": "stream",
     "text": [
      "Epoch: 0\n",
      "Regression_Head_1: 0.0454073 \n",
      "Training_Loss: 0.0454073 \n",
      "\n",
      "\n"
     ]
    },
    {
     "name": "stderr",
     "output_type": "stream",
     "text": [
      "100%|██████████| 265/265 [03:25<00:00,  1.29it/s]\n"
     ]
    },
    {
     "name": "stdout",
     "output_type": "stream",
     "text": [
      "acc test:  {'0.01': 0.12976694915254236, '0.05': 0.4984110169491525, '0.1': 0.7590042372881356, '0.15': 0.8816207627118644, '0.2': 0.9266419491525424}\n"
     ]
    },
    {
     "name": "stderr",
     "output_type": "stream",
     "text": [
      "\r",
      "  0%|          | 0/265 [00:00<?, ?it/s]"
     ]
    },
    {
     "name": "stdout",
     "output_type": "stream",
     "text": [
      "Weights are saved to exp_regression_kfold_1/1_exp/model_indx_0_w_lr_0.02/acc_0.93_ep_12_exp/weights.ckpt\n",
      "Model's architecture is saved to exp_regression_kfold_1/1_exp/model_indx_0_w_lr_0.02/acc_0.93_ep_12_exp/model.json.\n",
      "ep:  13\n"
     ]
    },
    {
     "name": "stderr",
     "output_type": "stream",
     "text": [
      " 57%|█████▋    | 150/265 [01:56<01:41,  1.14it/s]"
     ]
    },
    {
     "name": "stdout",
     "output_type": "stream",
     "text": [
      "Epoch: 0\n",
      "Regression_Head_1: 0.0400855 \n",
      "Training_Loss: 0.0400855 \n",
      "\n",
      "\n"
     ]
    },
    {
     "name": "stderr",
     "output_type": "stream",
     "text": [
      "100%|██████████| 265/265 [03:25<00:00,  1.29it/s]\n"
     ]
    },
    {
     "name": "stdout",
     "output_type": "stream",
     "text": [
      "acc test:  {'0.01': 0.10116525423728813, '0.05': 0.590572033898305, '0.1': 0.9088983050847458, '0.15': 0.9753707627118644, '0.2': 0.9917902542372882}\n"
     ]
    },
    {
     "name": "stderr",
     "output_type": "stream",
     "text": [
      "\r",
      "  0%|          | 0/265 [00:00<?, ?it/s]"
     ]
    },
    {
     "name": "stdout",
     "output_type": "stream",
     "text": [
      "Weights are saved to exp_regression_kfold_1/1_exp/model_indx_0_w_lr_0.02/acc_0.99_ep_13_exp/weights.ckpt\n",
      "Model's architecture is saved to exp_regression_kfold_1/1_exp/model_indx_0_w_lr_0.02/acc_0.99_ep_13_exp/model.json.\n",
      "ep:  14\n"
     ]
    },
    {
     "name": "stderr",
     "output_type": "stream",
     "text": [
      " 57%|█████▋    | 150/265 [02:02<01:58,  1.03s/it]"
     ]
    },
    {
     "name": "stdout",
     "output_type": "stream",
     "text": [
      "Epoch: 0\n",
      "Regression_Head_1: 0.0346072 \n",
      "Training_Loss: 0.0346072 \n",
      "\n",
      "\n"
     ]
    },
    {
     "name": "stderr",
     "output_type": "stream",
     "text": [
      "100%|██████████| 265/265 [03:35<00:00,  1.23it/s]\n"
     ]
    },
    {
     "name": "stdout",
     "output_type": "stream",
     "text": [
      "acc test:  {'0.01': 0.2844279661016949, '0.05': 0.881885593220339, '0.1': 0.9917902542372882, '0.15': 1.0, '0.2': 1.0}\n"
     ]
    },
    {
     "name": "stderr",
     "output_type": "stream",
     "text": [
      "\r",
      "  0%|          | 0/265 [00:00<?, ?it/s]"
     ]
    },
    {
     "name": "stdout",
     "output_type": "stream",
     "text": [
      "Weights are saved to exp_regression_kfold_1/1_exp/model_indx_0_w_lr_0.02/acc_1.0_ep_14_exp/weights.ckpt\n",
      "Model's architecture is saved to exp_regression_kfold_1/1_exp/model_indx_0_w_lr_0.02/acc_1.0_ep_14_exp/model.json.\n",
      "ep:  15\n"
     ]
    },
    {
     "name": "stderr",
     "output_type": "stream",
     "text": [
      " 57%|█████▋    | 150/265 [01:49<01:30,  1.27it/s]"
     ]
    },
    {
     "name": "stdout",
     "output_type": "stream",
     "text": [
      "Epoch: 0\n",
      "Regression_Head_1: 0.0335167 \n",
      "Training_Loss: 0.0335167 \n",
      "\n",
      "\n"
     ]
    },
    {
     "name": "stderr",
     "output_type": "stream",
     "text": [
      "100%|██████████| 265/265 [03:19<00:00,  1.33it/s]\n"
     ]
    },
    {
     "name": "stdout",
     "output_type": "stream",
     "text": [
      "acc test:  {'0.01': 0.3003177966101695, '0.05': 0.9290254237288136, '0.1': 0.9936440677966102, '0.15': 0.9989406779661016, '0.2': 0.9992055084745762}\n"
     ]
    },
    {
     "name": "stderr",
     "output_type": "stream",
     "text": [
      "\r",
      "  0%|          | 0/265 [00:00<?, ?it/s]"
     ]
    },
    {
     "name": "stdout",
     "output_type": "stream",
     "text": [
      "Weights are saved to exp_regression_kfold_1/1_exp/model_indx_0_w_lr_0.02/acc_1.0_ep_15_exp/weights.ckpt\n",
      "Model's architecture is saved to exp_regression_kfold_1/1_exp/model_indx_0_w_lr_0.02/acc_1.0_ep_15_exp/model.json.\n",
      "ep:  16\n"
     ]
    },
    {
     "name": "stderr",
     "output_type": "stream",
     "text": [
      " 57%|█████▋    | 150/265 [02:00<01:12,  1.59it/s]"
     ]
    },
    {
     "name": "stdout",
     "output_type": "stream",
     "text": [
      "Epoch: 0\n",
      "Regression_Head_1: 0.0308979 \n",
      "Training_Loss: 0.0308979 \n",
      "\n",
      "\n"
     ]
    },
    {
     "name": "stderr",
     "output_type": "stream",
     "text": [
      "100%|██████████| 265/265 [03:32<00:00,  1.25it/s]\n"
     ]
    },
    {
     "name": "stdout",
     "output_type": "stream",
     "text": [
      "acc test:  {'0.01': 0.07229872881355932, '0.05': 0.5704449152542372, '0.1': 0.861228813559322, '0.15': 0.9459745762711864, '0.2': 0.9713983050847458}\n"
     ]
    },
    {
     "name": "stderr",
     "output_type": "stream",
     "text": [
      "\r",
      "  0%|          | 0/265 [00:00<?, ?it/s]"
     ]
    },
    {
     "name": "stdout",
     "output_type": "stream",
     "text": [
      "Weights are saved to exp_regression_kfold_1/1_exp/model_indx_0_w_lr_0.02/acc_0.97_ep_16_exp/weights.ckpt\n",
      "Model's architecture is saved to exp_regression_kfold_1/1_exp/model_indx_0_w_lr_0.02/acc_0.97_ep_16_exp/model.json.\n",
      "ep:  17\n"
     ]
    },
    {
     "name": "stderr",
     "output_type": "stream",
     "text": [
      " 57%|█████▋    | 150/265 [01:52<01:37,  1.18it/s]"
     ]
    },
    {
     "name": "stdout",
     "output_type": "stream",
     "text": [
      "Epoch: 0\n",
      "Regression_Head_1: 0.0341250 \n",
      "Training_Loss: 0.0341250 \n",
      "\n",
      "\n"
     ]
    },
    {
     "name": "stderr",
     "output_type": "stream",
     "text": [
      "100%|██████████| 265/265 [03:15<00:00,  1.35it/s]\n"
     ]
    },
    {
     "name": "stdout",
     "output_type": "stream",
     "text": [
      "acc test:  {'0.01': 0.2221927966101695, '0.05': 0.7076271186440678, '0.1': 0.8810911016949152, '0.15': 0.9547139830508474, '0.2': 0.981197033898305}\n"
     ]
    },
    {
     "name": "stderr",
     "output_type": "stream",
     "text": [
      "\r",
      "  0%|          | 0/265 [00:00<?, ?it/s]"
     ]
    },
    {
     "name": "stdout",
     "output_type": "stream",
     "text": [
      "Weights are saved to exp_regression_kfold_1/1_exp/model_indx_0_w_lr_0.02/acc_0.98_ep_17_exp/weights.ckpt\n",
      "Model's architecture is saved to exp_regression_kfold_1/1_exp/model_indx_0_w_lr_0.02/acc_0.98_ep_17_exp/model.json.\n",
      "ep:  18\n"
     ]
    },
    {
     "name": "stderr",
     "output_type": "stream",
     "text": [
      " 57%|█████▋    | 150/265 [01:54<01:50,  1.04it/s]"
     ]
    },
    {
     "name": "stdout",
     "output_type": "stream",
     "text": [
      "Epoch: 0\n",
      "Regression_Head_1: 0.0329158 \n",
      "Training_Loss: 0.0329158 \n",
      "\n",
      "\n"
     ]
    },
    {
     "name": "stderr",
     "output_type": "stream",
     "text": [
      "100%|██████████| 265/265 [03:25<00:00,  1.29it/s]\n"
     ]
    },
    {
     "name": "stdout",
     "output_type": "stream",
     "text": [
      "acc test:  {'0.01': 0.2613877118644068, '0.05': 0.7211334745762712, '0.1': 0.8990995762711864, '0.15': 0.9788135593220338, '0.2': 0.9965572033898306}\n"
     ]
    },
    {
     "name": "stderr",
     "output_type": "stream",
     "text": [
      "\r",
      "  0%|          | 0/265 [00:00<?, ?it/s]"
     ]
    },
    {
     "name": "stdout",
     "output_type": "stream",
     "text": [
      "Weights are saved to exp_regression_kfold_1/1_exp/model_indx_0_w_lr_0.02/acc_1.0_ep_18_exp/weights.ckpt\n",
      "Model's architecture is saved to exp_regression_kfold_1/1_exp/model_indx_0_w_lr_0.02/acc_1.0_ep_18_exp/model.json.\n",
      "ep:  19\n"
     ]
    },
    {
     "name": "stderr",
     "output_type": "stream",
     "text": [
      " 57%|█████▋    | 150/265 [02:02<01:29,  1.29it/s]"
     ]
    },
    {
     "name": "stdout",
     "output_type": "stream",
     "text": [
      "Epoch: 0\n",
      "Regression_Head_1: 0.0309851 \n",
      "Training_Loss: 0.0309851 \n",
      "\n",
      "\n"
     ]
    },
    {
     "name": "stderr",
     "output_type": "stream",
     "text": [
      "100%|██████████| 265/265 [03:33<00:00,  1.24it/s]\n"
     ]
    },
    {
     "name": "stdout",
     "output_type": "stream",
     "text": [
      "acc test:  {'0.01': 0.1999470338983051, '0.05': 0.534427966101695, '0.1': 0.6308262711864406, '0.15': 0.6702860169491526, '0.2': 0.7004766949152542}\n"
     ]
    },
    {
     "name": "stderr",
     "output_type": "stream",
     "text": [
      "\r",
      "  0%|          | 0/265 [00:00<?, ?it/s]"
     ]
    },
    {
     "name": "stdout",
     "output_type": "stream",
     "text": [
      "Weights are saved to exp_regression_kfold_1/1_exp/model_indx_0_w_lr_0.02/acc_0.7_ep_19_exp/weights.ckpt\n",
      "Model's architecture is saved to exp_regression_kfold_1/1_exp/model_indx_0_w_lr_0.02/acc_0.7_ep_19_exp/model.json.\n",
      "ep:  20\n"
     ]
    },
    {
     "name": "stderr",
     "output_type": "stream",
     "text": [
      " 57%|█████▋    | 150/265 [01:51<01:57,  1.02s/it]"
     ]
    },
    {
     "name": "stdout",
     "output_type": "stream",
     "text": [
      "Epoch: 0\n",
      "Regression_Head_1: 0.0337747 \n",
      "Training_Loss: 0.0337747 \n",
      "\n",
      "\n"
     ]
    },
    {
     "name": "stderr",
     "output_type": "stream",
     "text": [
      "100%|██████████| 265/265 [03:28<00:00,  1.27it/s]\n"
     ]
    },
    {
     "name": "stdout",
     "output_type": "stream",
     "text": [
      "acc test:  {'0.01': 0.21027542372881355, '0.05': 0.7497351694915254, '0.1': 0.9147245762711864, '0.15': 0.958156779661017, '0.2': 0.9849046610169492}\n"
     ]
    },
    {
     "name": "stderr",
     "output_type": "stream",
     "text": [
      "\r",
      "  0%|          | 0/265 [00:00<?, ?it/s]"
     ]
    },
    {
     "name": "stdout",
     "output_type": "stream",
     "text": [
      "Weights are saved to exp_regression_kfold_1/1_exp/model_indx_0_w_lr_0.02/acc_0.98_ep_20_exp/weights.ckpt\n",
      "Model's architecture is saved to exp_regression_kfold_1/1_exp/model_indx_0_w_lr_0.02/acc_0.98_ep_20_exp/model.json.\n",
      "ep:  21\n"
     ]
    },
    {
     "name": "stderr",
     "output_type": "stream",
     "text": [
      " 57%|█████▋    | 150/265 [02:03<01:43,  1.11it/s]"
     ]
    },
    {
     "name": "stdout",
     "output_type": "stream",
     "text": [
      "Epoch: 0\n",
      "Regression_Head_1: 0.0314856 \n",
      "Training_Loss: 0.0314856 \n",
      "\n",
      "\n"
     ]
    },
    {
     "name": "stderr",
     "output_type": "stream",
     "text": [
      "100%|██████████| 265/265 [03:30<00:00,  1.26it/s]\n"
     ]
    },
    {
     "name": "stdout",
     "output_type": "stream",
     "text": [
      "acc test:  {'0.01': 0.2799258474576271, '0.05': 0.7433792372881356, '0.1': 0.833156779661017, '0.15': 0.8826800847457628, '0.2': 0.9157838983050848}\n"
     ]
    },
    {
     "name": "stderr",
     "output_type": "stream",
     "text": [
      "\r",
      "  0%|          | 0/265 [00:00<?, ?it/s]"
     ]
    },
    {
     "name": "stdout",
     "output_type": "stream",
     "text": [
      "Weights are saved to exp_regression_kfold_1/1_exp/model_indx_0_w_lr_0.02/acc_0.92_ep_21_exp/weights.ckpt\n",
      "Model's architecture is saved to exp_regression_kfold_1/1_exp/model_indx_0_w_lr_0.02/acc_0.92_ep_21_exp/model.json.\n",
      "ep:  22\n"
     ]
    },
    {
     "name": "stderr",
     "output_type": "stream",
     "text": [
      " 57%|█████▋    | 150/265 [01:59<01:51,  1.04it/s]"
     ]
    },
    {
     "name": "stdout",
     "output_type": "stream",
     "text": [
      "Epoch: 0\n",
      "Regression_Head_1: 0.0320717 \n",
      "Training_Loss: 0.0320717 \n",
      "\n",
      "\n"
     ]
    },
    {
     "name": "stderr",
     "output_type": "stream",
     "text": [
      "100%|██████████| 265/265 [03:41<00:00,  1.19it/s]\n"
     ]
    },
    {
     "name": "stdout",
     "output_type": "stream",
     "text": [
      "acc test:  {'0.01': 0.3185911016949153, '0.05': 0.815677966101695, '0.1': 0.9740466101694916, '0.15': 0.9992055084745762, '0.2': 1.0}\n"
     ]
    },
    {
     "name": "stderr",
     "output_type": "stream",
     "text": [
      "\r",
      "  0%|          | 0/265 [00:00<?, ?it/s]"
     ]
    },
    {
     "name": "stdout",
     "output_type": "stream",
     "text": [
      "Weights are saved to exp_regression_kfold_1/1_exp/model_indx_0_w_lr_0.02/acc_1.0_ep_22_exp/weights.ckpt\n",
      "Model's architecture is saved to exp_regression_kfold_1/1_exp/model_indx_0_w_lr_0.02/acc_1.0_ep_22_exp/model.json.\n",
      "ep:  23\n"
     ]
    },
    {
     "name": "stderr",
     "output_type": "stream",
     "text": [
      " 57%|█████▋    | 150/265 [01:56<01:55,  1.01s/it]"
     ]
    },
    {
     "name": "stdout",
     "output_type": "stream",
     "text": [
      "Epoch: 0\n",
      "Regression_Head_1: 0.0311810 \n",
      "Training_Loss: 0.0311810 \n",
      "\n",
      "\n"
     ]
    },
    {
     "name": "stderr",
     "output_type": "stream",
     "text": [
      "100%|██████████| 265/265 [03:29<00:00,  1.26it/s]\n"
     ]
    },
    {
     "name": "stdout",
     "output_type": "stream",
     "text": [
      "acc test:  {'0.01': 0.3445444915254237, '0.05': 0.8810911016949152, '0.1': 0.9883474576271186, '0.15': 0.9992055084745762, '0.2': 0.9994703389830508}\n"
     ]
    },
    {
     "name": "stderr",
     "output_type": "stream",
     "text": [
      "\r",
      "  0%|          | 0/265 [00:00<?, ?it/s]"
     ]
    },
    {
     "name": "stdout",
     "output_type": "stream",
     "text": [
      "Weights are saved to exp_regression_kfold_1/1_exp/model_indx_0_w_lr_0.02/acc_1.0_ep_23_exp/weights.ckpt\n",
      "Model's architecture is saved to exp_regression_kfold_1/1_exp/model_indx_0_w_lr_0.02/acc_1.0_ep_23_exp/model.json.\n",
      "ep:  24\n"
     ]
    },
    {
     "name": "stderr",
     "output_type": "stream",
     "text": [
      " 57%|█████▋    | 150/265 [02:00<01:08,  1.67it/s]"
     ]
    },
    {
     "name": "stdout",
     "output_type": "stream",
     "text": [
      "Epoch: 0\n",
      "Regression_Head_1: 0.0304615 \n",
      "Training_Loss: 0.0304615 \n",
      "\n",
      "\n"
     ]
    },
    {
     "name": "stderr",
     "output_type": "stream",
     "text": [
      "100%|██████████| 265/265 [03:33<00:00,  1.24it/s]\n"
     ]
    },
    {
     "name": "stdout",
     "output_type": "stream",
     "text": [
      "acc test:  {'0.01': 0.3996292372881356, '0.05': 0.9859639830508474, '0.1': 0.9997351694915254, '0.15': 0.9997351694915254, '0.2': 0.9997351694915254}\n"
     ]
    },
    {
     "name": "stderr",
     "output_type": "stream",
     "text": [
      "\r",
      "  0%|          | 0/265 [00:00<?, ?it/s]"
     ]
    },
    {
     "name": "stdout",
     "output_type": "stream",
     "text": [
      "Weights are saved to exp_regression_kfold_1/1_exp/model_indx_0_w_lr_0.02/acc_1.0_ep_24_exp/weights.ckpt\n",
      "Model's architecture is saved to exp_regression_kfold_1/1_exp/model_indx_0_w_lr_0.02/acc_1.0_ep_24_exp/model.json.\n",
      "ep:  25\n"
     ]
    },
    {
     "name": "stderr",
     "output_type": "stream",
     "text": [
      " 57%|█████▋    | 150/265 [01:52<01:47,  1.07it/s]"
     ]
    },
    {
     "name": "stdout",
     "output_type": "stream",
     "text": [
      "Epoch: 0\n",
      "Regression_Head_1: 0.0317053 \n",
      "Training_Loss: 0.0317053 \n",
      "\n",
      "\n"
     ]
    },
    {
     "name": "stderr",
     "output_type": "stream",
     "text": [
      "100%|██████████| 265/265 [03:22<00:00,  1.31it/s]\n"
     ]
    },
    {
     "name": "stdout",
     "output_type": "stream",
     "text": [
      "acc test:  {'0.01': 0.2052436440677966, '0.05': 0.7108050847457628, '0.1': 0.9152542372881356, '0.15': 0.984375, '0.2': 0.9989406779661016}\n"
     ]
    },
    {
     "name": "stderr",
     "output_type": "stream",
     "text": [
      "\r",
      "  0%|          | 0/265 [00:00<?, ?it/s]"
     ]
    },
    {
     "name": "stdout",
     "output_type": "stream",
     "text": [
      "Weights are saved to exp_regression_kfold_1/1_exp/model_indx_0_w_lr_0.02/acc_1.0_ep_25_exp/weights.ckpt\n",
      "Model's architecture is saved to exp_regression_kfold_1/1_exp/model_indx_0_w_lr_0.02/acc_1.0_ep_25_exp/model.json.\n",
      "ep:  26\n"
     ]
    },
    {
     "name": "stderr",
     "output_type": "stream",
     "text": [
      " 57%|█████▋    | 150/265 [02:01<01:50,  1.04it/s]"
     ]
    },
    {
     "name": "stdout",
     "output_type": "stream",
     "text": [
      "Epoch: 0\n",
      "Regression_Head_1: 0.0320997 \n",
      "Training_Loss: 0.0320997 \n",
      "\n",
      "\n"
     ]
    },
    {
     "name": "stderr",
     "output_type": "stream",
     "text": [
      "100%|██████████| 265/265 [03:28<00:00,  1.27it/s]\n"
     ]
    },
    {
     "name": "stdout",
     "output_type": "stream",
     "text": [
      "acc test:  {'0.01': 0.2629766949152542, '0.05': 0.7513241525423728, '0.1': 0.9345868644067796, '0.15': 0.9933792372881356, '0.2': 0.9994703389830508}\n"
     ]
    },
    {
     "name": "stderr",
     "output_type": "stream",
     "text": [
      "\r",
      "  0%|          | 0/265 [00:00<?, ?it/s]"
     ]
    },
    {
     "name": "stdout",
     "output_type": "stream",
     "text": [
      "Weights are saved to exp_regression_kfold_1/1_exp/model_indx_0_w_lr_0.02/acc_1.0_ep_26_exp/weights.ckpt\n",
      "Model's architecture is saved to exp_regression_kfold_1/1_exp/model_indx_0_w_lr_0.02/acc_1.0_ep_26_exp/model.json.\n",
      "ep:  27\n"
     ]
    },
    {
     "name": "stderr",
     "output_type": "stream",
     "text": [
      " 57%|█████▋    | 150/265 [01:57<01:43,  1.11it/s]"
     ]
    },
    {
     "name": "stdout",
     "output_type": "stream",
     "text": [
      "Epoch: 0\n",
      "Regression_Head_1: 0.0337190 \n",
      "Training_Loss: 0.0337190 \n",
      "\n",
      "\n"
     ]
    },
    {
     "name": "stderr",
     "output_type": "stream",
     "text": [
      "100%|██████████| 265/265 [03:25<00:00,  1.29it/s]\n"
     ]
    },
    {
     "name": "stdout",
     "output_type": "stream",
     "text": [
      "acc test:  {'0.01': 0.1861758474576271, '0.05': 0.762447033898305, '0.1': 0.9192266949152542, '0.15': 0.9692796610169492, '0.2': 0.9917902542372882}\n"
     ]
    },
    {
     "name": "stderr",
     "output_type": "stream",
     "text": [
      "\r",
      "  0%|          | 0/265 [00:00<?, ?it/s]"
     ]
    },
    {
     "name": "stdout",
     "output_type": "stream",
     "text": [
      "Weights are saved to exp_regression_kfold_1/1_exp/model_indx_0_w_lr_0.02/acc_0.99_ep_27_exp/weights.ckpt\n",
      "Model's architecture is saved to exp_regression_kfold_1/1_exp/model_indx_0_w_lr_0.02/acc_0.99_ep_27_exp/model.json.\n",
      "ep:  28\n"
     ]
    },
    {
     "name": "stderr",
     "output_type": "stream",
     "text": [
      " 57%|█████▋    | 150/265 [02:02<01:42,  1.12it/s]"
     ]
    },
    {
     "name": "stdout",
     "output_type": "stream",
     "text": [
      "Epoch: 0\n",
      "Regression_Head_1: 0.0302882 \n",
      "Training_Loss: 0.0302882 \n",
      "\n",
      "\n"
     ]
    },
    {
     "name": "stderr",
     "output_type": "stream",
     "text": [
      "100%|██████████| 265/265 [03:31<00:00,  1.25it/s]\n"
     ]
    },
    {
     "name": "stdout",
     "output_type": "stream",
     "text": [
      "acc test:  {'0.01': 0.4382944915254237, '0.05': 0.9014830508474576, '0.1': 0.9957627118644068, '0.15': 1.0, '0.2': 1.0}\n"
     ]
    },
    {
     "name": "stderr",
     "output_type": "stream",
     "text": [
      "\r",
      "  0%|          | 0/265 [00:00<?, ?it/s]"
     ]
    },
    {
     "name": "stdout",
     "output_type": "stream",
     "text": [
      "Weights are saved to exp_regression_kfold_1/1_exp/model_indx_0_w_lr_0.02/acc_1.0_ep_28_exp/weights.ckpt\n",
      "Model's architecture is saved to exp_regression_kfold_1/1_exp/model_indx_0_w_lr_0.02/acc_1.0_ep_28_exp/model.json.\n",
      "ep:  29\n"
     ]
    },
    {
     "name": "stderr",
     "output_type": "stream",
     "text": [
      " 57%|█████▋    | 150/265 [01:54<01:54,  1.01it/s]"
     ]
    },
    {
     "name": "stdout",
     "output_type": "stream",
     "text": [
      "Epoch: 0\n",
      "Regression_Head_1: 0.0302191 \n",
      "Training_Loss: 0.0302191 \n",
      "\n",
      "\n"
     ]
    },
    {
     "name": "stderr",
     "output_type": "stream",
     "text": [
      "100%|██████████| 265/265 [03:20<00:00,  1.32it/s]\n"
     ]
    },
    {
     "name": "stdout",
     "output_type": "stream",
     "text": [
      "acc test:  {'0.01': 0.4155190677966102, '0.05': 0.8826800847457628, '0.1': 0.9928495762711864, '0.15': 1.0, '0.2': 1.0}\n"
     ]
    },
    {
     "name": "stderr",
     "output_type": "stream",
     "text": [
      "  0%|          | 62/34020 [00:00<00:55, 616.49it/s]"
     ]
    },
    {
     "name": "stdout",
     "output_type": "stream",
     "text": [
      "Weights are saved to exp_regression_kfold_1/1_exp/model_indx_0_w_lr_0.02/acc_1.0_ep_29_exp/weights.ckpt\n",
      "Model's architecture is saved to exp_regression_kfold_1/1_exp/model_indx_0_w_lr_0.02/acc_1.0_ep_29_exp/model.json.\n"
     ]
    },
    {
     "name": "stderr",
     "output_type": "stream",
     "text": [
      "100%|██████████| 34020/34020 [00:50<00:00, 680.25it/s]\n",
      "100%|██████████| 3780/3780 [00:05<00:00, 687.70it/s]\n"
     ]
    },
    {
     "name": "stdout",
     "output_type": "stream",
     "text": [
      "train :  34020\n",
      "test:  3780\n",
      "Loss is built.\n",
      "ep:  0\n",
      "Collecting histogram tensors...\n"
     ]
    },
    {
     "name": "stderr",
     "output_type": "stream",
     "text": [
      "\r",
      "  0%|          | 0/265 [00:00<?, ?it/s]"
     ]
    },
    {
     "name": "stdout",
     "output_type": "stream",
     "text": [
      "New optimizer is used.\n"
     ]
    },
    {
     "name": "stderr",
     "output_type": "stream",
     "text": [
      " 57%|█████▋    | 150/265 [02:06<01:45,  1.09it/s]"
     ]
    },
    {
     "name": "stdout",
     "output_type": "stream",
     "text": [
      "Epoch: 0\n",
      "Regression_Head_1: 0.2873917 \n",
      "Training_Loss: 0.2873917 \n",
      "\n",
      "\n"
     ]
    },
    {
     "name": "stderr",
     "output_type": "stream",
     "text": [
      "100%|██████████| 265/265 [03:36<00:00,  1.22it/s]\n"
     ]
    },
    {
     "name": "stdout",
     "output_type": "stream",
     "text": [
      "acc test:  {'0.01': 0.017213983050847457, '0.05': 0.09957627118644068, '0.1': 0.21610169491525424, '0.15': 0.3559322033898305, '0.2': 0.4814618644067797}\n"
     ]
    },
    {
     "name": "stderr",
     "output_type": "stream",
     "text": [
      "\r",
      "  0%|          | 0/265 [00:00<?, ?it/s]"
     ]
    },
    {
     "name": "stdout",
     "output_type": "stream",
     "text": [
      "Weights are saved to exp_regression_kfold_1/1_exp/model_indx_1_w_lr_0.004/acc_0.48_ep_0_exp/weights.ckpt\n",
      "Model's architecture is saved to exp_regression_kfold_1/1_exp/model_indx_1_w_lr_0.004/acc_0.48_ep_0_exp/model.json.\n",
      "ep:  1\n"
     ]
    },
    {
     "name": "stderr",
     "output_type": "stream",
     "text": [
      " 57%|█████▋    | 150/265 [01:48<01:13,  1.57it/s]"
     ]
    },
    {
     "name": "stdout",
     "output_type": "stream",
     "text": [
      "Epoch: 0\n",
      "Regression_Head_1: 0.1336810 \n",
      "Training_Loss: 0.1336810 \n",
      "\n",
      "\n"
     ]
    },
    {
     "name": "stderr",
     "output_type": "stream",
     "text": [
      "100%|██████████| 265/265 [03:21<00:00,  1.32it/s]\n"
     ]
    },
    {
     "name": "stdout",
     "output_type": "stream",
     "text": [
      "acc test:  {'0.01': 0.03840042372881356, '0.05': 0.17690677966101695, '0.1': 0.3005826271186441, '0.15': 0.4385593220338983, '0.2': 0.5773305084745762}\n"
     ]
    },
    {
     "name": "stderr",
     "output_type": "stream",
     "text": [
      "\r",
      "  0%|          | 0/265 [00:00<?, ?it/s]"
     ]
    },
    {
     "name": "stdout",
     "output_type": "stream",
     "text": [
      "Weights are saved to exp_regression_kfold_1/1_exp/model_indx_1_w_lr_0.004/acc_0.58_ep_1_exp/weights.ckpt\n",
      "Model's architecture is saved to exp_regression_kfold_1/1_exp/model_indx_1_w_lr_0.004/acc_0.58_ep_1_exp/model.json.\n",
      "ep:  2\n"
     ]
    },
    {
     "name": "stderr",
     "output_type": "stream",
     "text": [
      " 57%|█████▋    | 150/265 [02:03<01:47,  1.07it/s]"
     ]
    },
    {
     "name": "stdout",
     "output_type": "stream",
     "text": [
      "Epoch: 0\n",
      "Regression_Head_1: 0.1189804 \n",
      "Training_Loss: 0.1189804 \n",
      "\n",
      "\n"
     ]
    },
    {
     "name": "stderr",
     "output_type": "stream",
     "text": [
      "100%|██████████| 265/265 [03:36<00:00,  1.22it/s]\n"
     ]
    },
    {
     "name": "stdout",
     "output_type": "stream",
     "text": [
      "acc test:  {'0.01': 0.05985169491525424, '0.05': 0.3188559322033898, '0.1': 0.6382415254237288, '0.15': 0.8808262711864406, '0.2': 0.9676906779661016}\n"
     ]
    },
    {
     "name": "stderr",
     "output_type": "stream",
     "text": [
      "\r",
      "  0%|          | 0/265 [00:00<?, ?it/s]"
     ]
    },
    {
     "name": "stdout",
     "output_type": "stream",
     "text": [
      "Weights are saved to exp_regression_kfold_1/1_exp/model_indx_1_w_lr_0.004/acc_0.97_ep_2_exp/weights.ckpt\n",
      "Model's architecture is saved to exp_regression_kfold_1/1_exp/model_indx_1_w_lr_0.004/acc_0.97_ep_2_exp/model.json.\n",
      "ep:  3\n"
     ]
    },
    {
     "name": "stderr",
     "output_type": "stream",
     "text": [
      " 57%|█████▋    | 150/265 [02:07<01:44,  1.10it/s]"
     ]
    },
    {
     "name": "stdout",
     "output_type": "stream",
     "text": [
      "Epoch: 0\n",
      "Regression_Head_1: 0.1350652 \n",
      "Training_Loss: 0.1350652 \n",
      "\n",
      "\n"
     ]
    },
    {
     "name": "stderr",
     "output_type": "stream",
     "text": [
      "100%|██████████| 265/265 [03:40<00:00,  1.20it/s]\n"
     ]
    },
    {
     "name": "stdout",
     "output_type": "stream",
     "text": [
      "acc test:  {'0.01': 0.012447033898305085, '0.05': 0.06276483050847458, '0.1': 0.1316207627118644, '0.15': 0.19041313559322035, '0.2': 0.24523305084745764}\n"
     ]
    },
    {
     "name": "stderr",
     "output_type": "stream",
     "text": [
      "\r",
      "  0%|          | 0/265 [00:00<?, ?it/s]"
     ]
    },
    {
     "name": "stdout",
     "output_type": "stream",
     "text": [
      "Weights are saved to exp_regression_kfold_1/1_exp/model_indx_1_w_lr_0.004/acc_0.25_ep_3_exp/weights.ckpt\n",
      "Model's architecture is saved to exp_regression_kfold_1/1_exp/model_indx_1_w_lr_0.004/acc_0.25_ep_3_exp/model.json.\n",
      "ep:  4\n"
     ]
    },
    {
     "name": "stderr",
     "output_type": "stream",
     "text": [
      " 57%|█████▋    | 150/265 [01:56<01:58,  1.03s/it]"
     ]
    },
    {
     "name": "stdout",
     "output_type": "stream",
     "text": [
      "Epoch: 0\n",
      "Regression_Head_1: 0.1611055 \n",
      "Training_Loss: 0.1611055 \n",
      "\n",
      "\n"
     ]
    },
    {
     "name": "stderr",
     "output_type": "stream",
     "text": [
      "100%|██████████| 265/265 [03:31<00:00,  1.25it/s]\n"
     ]
    },
    {
     "name": "stdout",
     "output_type": "stream",
     "text": [
      "acc test:  {'0.01': 0.001059322033898305, '0.05': 0.0034427966101694915, '0.1': 0.009004237288135594, '0.15': 0.038135593220338986, '0.2': 0.07203389830508475}\n"
     ]
    },
    {
     "name": "stderr",
     "output_type": "stream",
     "text": [
      "\r",
      "  0%|          | 0/265 [00:00<?, ?it/s]"
     ]
    },
    {
     "name": "stdout",
     "output_type": "stream",
     "text": [
      "Weights are saved to exp_regression_kfold_1/1_exp/model_indx_1_w_lr_0.004/acc_0.07_ep_4_exp/weights.ckpt\n",
      "Model's architecture is saved to exp_regression_kfold_1/1_exp/model_indx_1_w_lr_0.004/acc_0.07_ep_4_exp/model.json.\n",
      "ep:  5\n"
     ]
    },
    {
     "name": "stderr",
     "output_type": "stream",
     "text": [
      " 57%|█████▋    | 150/265 [01:50<01:09,  1.65it/s]"
     ]
    },
    {
     "name": "stdout",
     "output_type": "stream",
     "text": [
      "Epoch: 0\n",
      "Regression_Head_1: 0.0765843 \n",
      "Training_Loss: 0.0765843 \n",
      "\n",
      "\n"
     ]
    },
    {
     "name": "stderr",
     "output_type": "stream",
     "text": [
      "100%|██████████| 265/265 [03:17<00:00,  1.34it/s]\n"
     ]
    },
    {
     "name": "stdout",
     "output_type": "stream",
     "text": [
      "acc test:  {'0.01': 0.0013241525423728813, '0.05': 0.02913135593220339, '0.1': 0.3405720338983051, '0.15': 0.8490466101694916, '0.2': 0.9743114406779662}\n"
     ]
    },
    {
     "name": "stderr",
     "output_type": "stream",
     "text": [
      "\r",
      "  0%|          | 0/265 [00:00<?, ?it/s]"
     ]
    },
    {
     "name": "stdout",
     "output_type": "stream",
     "text": [
      "Weights are saved to exp_regression_kfold_1/1_exp/model_indx_1_w_lr_0.004/acc_0.97_ep_5_exp/weights.ckpt\n",
      "Model's architecture is saved to exp_regression_kfold_1/1_exp/model_indx_1_w_lr_0.004/acc_0.97_ep_5_exp/model.json.\n",
      "ep:  6\n"
     ]
    },
    {
     "name": "stderr",
     "output_type": "stream",
     "text": [
      " 57%|█████▋    | 150/265 [01:59<01:19,  1.44it/s]"
     ]
    },
    {
     "name": "stdout",
     "output_type": "stream",
     "text": [
      "Epoch: 0\n",
      "Regression_Head_1: 0.0708165 \n",
      "Training_Loss: 0.0708165 \n",
      "\n",
      "\n"
     ]
    },
    {
     "name": "stderr",
     "output_type": "stream",
     "text": [
      "100%|██████████| 265/265 [03:34<00:00,  1.23it/s]\n"
     ]
    },
    {
     "name": "stdout",
     "output_type": "stream",
     "text": [
      "acc test:  {'0.01': 0.004502118644067797, '0.05': 0.02065677966101695, '0.1': 0.1551906779661017, '0.15': 0.6557203389830508, '0.2': 0.8551377118644068}\n"
     ]
    },
    {
     "name": "stderr",
     "output_type": "stream",
     "text": [
      "\r",
      "  0%|          | 0/265 [00:00<?, ?it/s]"
     ]
    },
    {
     "name": "stdout",
     "output_type": "stream",
     "text": [
      "Weights are saved to exp_regression_kfold_1/1_exp/model_indx_1_w_lr_0.004/acc_0.86_ep_6_exp/weights.ckpt\n",
      "Model's architecture is saved to exp_regression_kfold_1/1_exp/model_indx_1_w_lr_0.004/acc_0.86_ep_6_exp/model.json.\n",
      "ep:  7\n"
     ]
    },
    {
     "name": "stderr",
     "output_type": "stream",
     "text": [
      " 57%|█████▋    | 150/265 [01:59<01:18,  1.47it/s]"
     ]
    },
    {
     "name": "stdout",
     "output_type": "stream",
     "text": [
      "Epoch: 0\n",
      "Regression_Head_1: 0.0903281 \n",
      "Training_Loss: 0.0903281 \n",
      "\n",
      "\n"
     ]
    },
    {
     "name": "stderr",
     "output_type": "stream",
     "text": [
      "100%|██████████| 265/265 [03:28<00:00,  1.27it/s]\n"
     ]
    },
    {
     "name": "stdout",
     "output_type": "stream",
     "text": [
      "acc test:  {'0.01': 0.20497881355932204, '0.05': 0.8498411016949152, '0.1': 0.9915254237288136, '0.15': 1.0, '0.2': 1.0}\n"
     ]
    },
    {
     "name": "stderr",
     "output_type": "stream",
     "text": [
      "\r",
      "  0%|          | 0/265 [00:00<?, ?it/s]"
     ]
    },
    {
     "name": "stdout",
     "output_type": "stream",
     "text": [
      "Weights are saved to exp_regression_kfold_1/1_exp/model_indx_1_w_lr_0.004/acc_1.0_ep_7_exp/weights.ckpt\n",
      "Model's architecture is saved to exp_regression_kfold_1/1_exp/model_indx_1_w_lr_0.004/acc_1.0_ep_7_exp/model.json.\n",
      "ep:  8\n"
     ]
    },
    {
     "name": "stderr",
     "output_type": "stream",
     "text": [
      " 57%|█████▋    | 150/265 [01:56<01:17,  1.49it/s]"
     ]
    },
    {
     "name": "stdout",
     "output_type": "stream",
     "text": [
      "Epoch: 0\n",
      "Regression_Head_1: 0.0812769 \n",
      "Training_Loss: 0.0812769 \n",
      "\n",
      "\n"
     ]
    },
    {
     "name": "stderr",
     "output_type": "stream",
     "text": [
      "100%|██████████| 265/265 [03:21<00:00,  1.31it/s]\n"
     ]
    },
    {
     "name": "stdout",
     "output_type": "stream",
     "text": [
      "acc test:  {'0.01': 0.001059322033898305, '0.05': 0.009798728813559322, '0.1': 0.05031779661016949, '0.15': 0.3307733050847458, '0.2': 0.918697033898305}\n"
     ]
    },
    {
     "name": "stderr",
     "output_type": "stream",
     "text": [
      "\r",
      "  0%|          | 0/265 [00:00<?, ?it/s]"
     ]
    },
    {
     "name": "stdout",
     "output_type": "stream",
     "text": [
      "Weights are saved to exp_regression_kfold_1/1_exp/model_indx_1_w_lr_0.004/acc_0.92_ep_8_exp/weights.ckpt\n",
      "Model's architecture is saved to exp_regression_kfold_1/1_exp/model_indx_1_w_lr_0.004/acc_0.92_ep_8_exp/model.json.\n",
      "ep:  9\n"
     ]
    },
    {
     "name": "stderr",
     "output_type": "stream",
     "text": [
      " 57%|█████▋    | 150/265 [01:56<01:19,  1.45it/s]"
     ]
    },
    {
     "name": "stdout",
     "output_type": "stream",
     "text": [
      "Epoch: 0\n",
      "Regression_Head_1: 0.0827643 \n",
      "Training_Loss: 0.0827643 \n",
      "\n",
      "\n"
     ]
    },
    {
     "name": "stderr",
     "output_type": "stream",
     "text": [
      "100%|██████████| 265/265 [03:27<00:00,  1.28it/s]\n"
     ]
    },
    {
     "name": "stdout",
     "output_type": "stream",
     "text": [
      "acc test:  {'0.01': 0.0, '0.05': 0.0034427966101694915, '0.1': 0.03389830508474576, '0.15': 0.21504237288135594, '0.2': 0.848781779661017}\n"
     ]
    },
    {
     "name": "stderr",
     "output_type": "stream",
     "text": [
      "\r",
      "  0%|          | 0/265 [00:00<?, ?it/s]"
     ]
    },
    {
     "name": "stdout",
     "output_type": "stream",
     "text": [
      "Weights are saved to exp_regression_kfold_1/1_exp/model_indx_1_w_lr_0.004/acc_0.85_ep_9_exp/weights.ckpt\n",
      "Model's architecture is saved to exp_regression_kfold_1/1_exp/model_indx_1_w_lr_0.004/acc_0.85_ep_9_exp/model.json.\n",
      "ep:  10\n"
     ]
    },
    {
     "name": "stderr",
     "output_type": "stream",
     "text": [
      " 57%|█████▋    | 150/265 [01:58<01:49,  1.05it/s]"
     ]
    },
    {
     "name": "stdout",
     "output_type": "stream",
     "text": [
      "Epoch: 0\n",
      "Regression_Head_1: 0.0649712 \n",
      "Training_Loss: 0.0649712 \n",
      "\n",
      "\n"
     ]
    },
    {
     "name": "stderr",
     "output_type": "stream",
     "text": [
      "100%|██████████| 265/265 [03:28<00:00,  1.27it/s]\n"
     ]
    },
    {
     "name": "stdout",
     "output_type": "stream",
     "text": [
      "acc test:  {'0.01': 0.0, '0.05': 0.0007944915254237289, '0.1': 0.00847457627118644, '0.15': 0.025423728813559324, '0.2': 0.1652542372881356}\n"
     ]
    },
    {
     "name": "stderr",
     "output_type": "stream",
     "text": [
      "\r",
      "  0%|          | 0/265 [00:00<?, ?it/s]"
     ]
    },
    {
     "name": "stdout",
     "output_type": "stream",
     "text": [
      "Weights are saved to exp_regression_kfold_1/1_exp/model_indx_1_w_lr_0.004/acc_0.17_ep_10_exp/weights.ckpt\n",
      "Model's architecture is saved to exp_regression_kfold_1/1_exp/model_indx_1_w_lr_0.004/acc_0.17_ep_10_exp/model.json.\n",
      "ep:  11\n"
     ]
    },
    {
     "name": "stderr",
     "output_type": "stream",
     "text": [
      " 57%|█████▋    | 150/265 [01:56<01:43,  1.11it/s]"
     ]
    },
    {
     "name": "stdout",
     "output_type": "stream",
     "text": [
      "Epoch: 0\n",
      "Regression_Head_1: 0.0643082 \n",
      "Training_Loss: 0.0643082 \n",
      "\n",
      "\n"
     ]
    },
    {
     "name": "stderr",
     "output_type": "stream",
     "text": [
      "100%|██████████| 265/265 [03:26<00:00,  1.29it/s]\n"
     ]
    },
    {
     "name": "stdout",
     "output_type": "stream",
     "text": [
      "acc test:  {'0.01': 0.24258474576271186, '0.05': 0.829978813559322, '0.1': 0.9904661016949152, '0.15': 0.9976165254237288, '0.2': 1.0}\n"
     ]
    },
    {
     "name": "stderr",
     "output_type": "stream",
     "text": [
      "\r",
      "  0%|          | 0/265 [00:00<?, ?it/s]"
     ]
    },
    {
     "name": "stdout",
     "output_type": "stream",
     "text": [
      "Weights are saved to exp_regression_kfold_1/1_exp/model_indx_1_w_lr_0.004/acc_1.0_ep_11_exp/weights.ckpt\n",
      "Model's architecture is saved to exp_regression_kfold_1/1_exp/model_indx_1_w_lr_0.004/acc_1.0_ep_11_exp/model.json.\n",
      "ep:  12\n"
     ]
    },
    {
     "name": "stderr",
     "output_type": "stream",
     "text": [
      " 57%|█████▋    | 150/265 [01:57<01:46,  1.08it/s]"
     ]
    },
    {
     "name": "stdout",
     "output_type": "stream",
     "text": [
      "Epoch: 0\n",
      "Regression_Head_1: 0.0825712 \n",
      "Training_Loss: 0.0825712 \n",
      "\n",
      "\n"
     ]
    },
    {
     "name": "stderr",
     "output_type": "stream",
     "text": [
      "100%|██████████| 265/265 [03:27<00:00,  1.28it/s]\n"
     ]
    },
    {
     "name": "stdout",
     "output_type": "stream",
     "text": [
      "acc test:  {'0.01': 0.0, '0.05': 0.007150423728813559, '0.1': 0.11546610169491525, '0.15': 0.8196504237288136, '0.2': 0.987552966101695}\n"
     ]
    },
    {
     "name": "stderr",
     "output_type": "stream",
     "text": [
      "\r",
      "  0%|          | 0/265 [00:00<?, ?it/s]"
     ]
    },
    {
     "name": "stdout",
     "output_type": "stream",
     "text": [
      "Weights are saved to exp_regression_kfold_1/1_exp/model_indx_1_w_lr_0.004/acc_0.99_ep_12_exp/weights.ckpt\n",
      "Model's architecture is saved to exp_regression_kfold_1/1_exp/model_indx_1_w_lr_0.004/acc_0.99_ep_12_exp/model.json.\n",
      "ep:  13\n"
     ]
    },
    {
     "name": "stderr",
     "output_type": "stream",
     "text": [
      " 57%|█████▋    | 150/265 [02:00<01:19,  1.44it/s]"
     ]
    },
    {
     "name": "stdout",
     "output_type": "stream",
     "text": [
      "Epoch: 0\n",
      "Regression_Head_1: 0.0603332 \n",
      "Training_Loss: 0.0603332 \n",
      "\n",
      "\n"
     ]
    },
    {
     "name": "stderr",
     "output_type": "stream",
     "text": [
      "100%|██████████| 265/265 [03:39<00:00,  1.21it/s]\n"
     ]
    },
    {
     "name": "stdout",
     "output_type": "stream",
     "text": [
      "acc test:  {'0.01': 0.0, '0.05': 0.0, '0.1': 0.0, '0.15': 0.0007944915254237289, '0.2': 0.024629237288135594}\n"
     ]
    },
    {
     "name": "stderr",
     "output_type": "stream",
     "text": [
      "\r",
      "  0%|          | 0/265 [00:00<?, ?it/s]"
     ]
    },
    {
     "name": "stdout",
     "output_type": "stream",
     "text": [
      "Weights are saved to exp_regression_kfold_1/1_exp/model_indx_1_w_lr_0.004/acc_0.02_ep_13_exp/weights.ckpt\n",
      "Model's architecture is saved to exp_regression_kfold_1/1_exp/model_indx_1_w_lr_0.004/acc_0.02_ep_13_exp/model.json.\n",
      "ep:  14\n"
     ]
    },
    {
     "name": "stderr",
     "output_type": "stream",
     "text": [
      " 57%|█████▋    | 150/265 [01:54<01:25,  1.35it/s]"
     ]
    },
    {
     "name": "stdout",
     "output_type": "stream",
     "text": [
      "Epoch: 0\n",
      "Regression_Head_1: 0.0651938 \n",
      "Training_Loss: 0.0651938 \n",
      "\n",
      "\n"
     ]
    },
    {
     "name": "stderr",
     "output_type": "stream",
     "text": [
      "100%|██████████| 265/265 [03:22<00:00,  1.31it/s]\n"
     ]
    },
    {
     "name": "stdout",
     "output_type": "stream",
     "text": [
      "acc test:  {'0.01': 0.002913135593220339, '0.05': 0.461864406779661, '0.1': 0.977489406779661, '0.15': 1.0, '0.2': 1.0}\n"
     ]
    },
    {
     "name": "stderr",
     "output_type": "stream",
     "text": [
      "\r",
      "  0%|          | 0/265 [00:00<?, ?it/s]"
     ]
    },
    {
     "name": "stdout",
     "output_type": "stream",
     "text": [
      "Weights are saved to exp_regression_kfold_1/1_exp/model_indx_1_w_lr_0.004/acc_1.0_ep_14_exp/weights.ckpt\n",
      "Model's architecture is saved to exp_regression_kfold_1/1_exp/model_indx_1_w_lr_0.004/acc_1.0_ep_14_exp/model.json.\n",
      "ep:  15\n"
     ]
    },
    {
     "name": "stderr",
     "output_type": "stream",
     "text": [
      " 27%|██▋       | 72/265 [00:58<02:19,  1.39it/s]IOPub message rate exceeded.\n",
      "The notebook server will temporarily stop sending output\n",
      "to the client in order to avoid crashing it.\n",
      "To change this limit, set the config variable\n",
      "`--NotebookApp.iopub_msg_rate_limit`.\n",
      "\n",
      "Current values:\n",
      "NotebookApp.iopub_msg_rate_limit=1000.0 (msgs/sec)\n",
      "NotebookApp.rate_limit_window=3.0 (secs)\n",
      "\n",
      " 57%|█████▋    | 150/265 [01:49<01:34,  1.22it/s]"
     ]
    },
    {
     "name": "stdout",
     "output_type": "stream",
     "text": [
      "Epoch: 0\n",
      "Regression_Head_1: 0.0721938 \n",
      "Training_Loss: 0.0721938 \n",
      "\n",
      "\n"
     ]
    },
    {
     "name": "stderr",
     "output_type": "stream",
     "text": [
      "100%|██████████| 265/265 [03:20<00:00,  1.32it/s]\n"
     ]
    },
    {
     "name": "stdout",
     "output_type": "stream",
     "text": [
      "acc test:  {'0.01': 0.14565677966101695, '0.05': 0.5945444915254238, '0.1': 0.8297139830508474, '0.15': 0.949417372881356, '0.2': 0.9830508474576272}\n"
     ]
    },
    {
     "name": "stderr",
     "output_type": "stream",
     "text": [
      "\r",
      "  0%|          | 0/265 [00:00<?, ?it/s]"
     ]
    },
    {
     "name": "stdout",
     "output_type": "stream",
     "text": [
      "Weights are saved to exp_regression_kfold_1/1_exp/model_indx_1_w_lr_0.008/acc_0.98_ep_13_exp/weights.ckpt\n",
      "Model's architecture is saved to exp_regression_kfold_1/1_exp/model_indx_1_w_lr_0.008/acc_0.98_ep_13_exp/model.json.\n",
      "ep:  14\n"
     ]
    },
    {
     "name": "stderr",
     "output_type": "stream",
     "text": [
      " 41%|████      | 108/265 [01:26<01:59,  1.32it/s]"
     ]
    }
   ],
   "source": [
    "for path_to_exp in EXP_FOLDERS:\n",
    "    for model_indx in range(MODEL_INDX_RANGE):\n",
    "        for lr_value in LR_POOL:\n",
    "            # Create folder\n",
    "            path_to_model_folder = os.path.join(\n",
    "                path_to_exp, \n",
    "                f'model_indx_{model_indx}_w_lr_{lr_value}'\n",
    "            )\n",
    "            os.makedirs(path_to_model_folder, exist_ok=True)\n",
    "            # At start of each experiments - create new dataset (shuffle it)\n",
    "            Xtrain, Ytrain, Xtest, Ytest, pred2params, config_data = load_data(\n",
    "                path_exp_folder=path_to_exp,\n",
    "                path_to_data='..',\n",
    "                use_saved=True,\n",
    "                size_hw=(336, 336),\n",
    "                test_div=0.8,\n",
    "                data_type=REGRESSION,\n",
    "                filename_config='config_data'\n",
    "            )\n",
    "\n",
    "            Ytrain = np.array(Ytrain).astype(np.float32).reshape(-1, 1)\n",
    "            Ytest = np.array(Ytest).astype(np.float32).reshape(-1, 1)\n",
    "\n",
    "            # Create model\n",
    "            model, trainer, opt, global_step, sess = get_regression_model_peak_from_pool(\n",
    "                size_hw=(336, 336), \n",
    "                batch_size=BATCH_SIZE, \n",
    "                size_dataset=len(Ytrain),\n",
    "                lr=lr_value,\n",
    "                indx_model=model_indx\n",
    "            )\n",
    "\n",
    "            gen = get_generator_wrapper(Xtrain, Ytrain, BATCH_SIZE)\n",
    "            accur_list = []\n",
    "            max_acc_np = np.float32(0.0)\n",
    "\n",
    "            for epoch_num in range(EPOCHS):\n",
    "                # Each epoch:\n",
    "                # Train -> eval -> create folder -> save weights/arch -> save results\n",
    "                print('ep: ', epoch_num)\n",
    "                info1 = trainer.fit_generator(\n",
    "                    gen, optimizer=opt, epochs=1, \n",
    "                    iter=len(Xtrain)//(2*BATCH_SIZE), print_period=150, global_step=global_step\n",
    "                )\n",
    "                predictions = eval_model(\n",
    "                    model, \n",
    "                    Xtest, Ytest, \n",
    "                    BATCH_SIZE, \n",
    "                    calc_mean=False, is_classic=False, return_predict_only=True\n",
    "                ).reshape(-1, 1)\n",
    "                # {value_thr: pred_acc}\n",
    "                json_pred_info = dict()\n",
    "                for thr_value in THR_PRED_LIST:\n",
    "                    abs_pr_and_y = np.abs(predictions - Ytest[:len(predictions)])\n",
    "                    pred_acc = np.mean(abs_pr_and_y <= thr_value)\n",
    "                    json_pred_info[str(thr_value)] = pred_acc\n",
    "                    max_acc_np = np.max([max_acc_np, pred_acc])\n",
    "                print('acc test: ', json_pred_info)\n",
    "                accur_list.append(json_pred_info)\n",
    "                # Create folder\n",
    "                path_to_s_epoch = os.path.join(\n",
    "                    path_to_model_folder, \n",
    "                    f'acc_{round(json_pred_info[str(THR_PRED_LIST[-1])], 2)}_ep_{epoch_num}_exp'\n",
    "                )\n",
    "                os.makedirs(path_to_s_epoch, exist_ok=True)\n",
    "                # acc info - write into json\n",
    "                with open(os.path.join(path_to_s_epoch, 'acc_data.json'), 'w') as fp:\n",
    "                    json.dump(json_pred_info, fp)\n",
    "                # Save weights/arch\n",
    "                model.save_weights(os.path.join(path_to_s_epoch, 'weights.ckpt'))\n",
    "                model.save_architecture(os.path.join(path_to_s_epoch, 'model.json'))\n",
    "                # Save results\n",
    "                \"\"\"\n",
    "                save_conf_matrix(\n",
    "                    Ytest, predictions, \n",
    "                    os.path.join(path_to_s_epoch, 'conf_matrix'),\n",
    "                    save_np=True\n",
    "                )\n",
    "                error_angle(\n",
    "                    os.path.join(path_to_s_epoch, 'error_angle_all_class'), \n",
    "                    config_data, Ytest, predictions,\n",
    "                    save_np=True\n",
    "                )\n",
    "                \"\"\"\n",
    "            np.save(os.path.join(path_to_model_folder, 'max_acc.npy'), np.float32(max_acc_np))\n",
    "            fig = plt.figure(figsize=(8, 8))\n",
    "            for thr_value in THR_PRED_LIST:\n",
    "                pred_taken = [single[str(thr_value)] for single in accur_list]\n",
    "                plt.plot(pred_taken)\n",
    "            plt.legend(list(map(lambda x: str(x), THR_PRED_LIST)))\n",
    "            fig.savefig(os.path.join(path_to_model_folder, 'acc.png'))\n",
    "            # Clear plt figures\n",
    "            plt.close('all')\n",
    "            # close session and reset graph\n",
    "            sess.close()\n",
    "            tf.reset_default_graph()"
   ]
  },
  {
   "cell_type": "code",
   "execution_count": null,
   "metadata": {},
   "outputs": [],
   "source": [
    "%matplotlib inline"
   ]
  },
  {
   "cell_type": "code",
   "execution_count": null,
   "metadata": {},
   "outputs": [],
   "source": [
    "plt.imshow(Xtest[-100])"
   ]
  },
  {
   "cell_type": "code",
   "execution_count": null,
   "metadata": {},
   "outputs": [],
   "source": [
    "Ytest[-100]"
   ]
  },
  {
   "cell_type": "code",
   "execution_count": null,
   "metadata": {},
   "outputs": [],
   "source": [
    "len(acc_test)"
   ]
  },
  {
   "cell_type": "code",
   "execution_count": null,
   "metadata": {},
   "outputs": [],
   "source": [
    "len(predictions)"
   ]
  },
  {
   "cell_type": "code",
   "execution_count": null,
   "metadata": {},
   "outputs": [],
   "source": [
    "1"
   ]
  },
  {
   "cell_type": "code",
   "execution_count": null,
   "metadata": {},
   "outputs": [],
   "source": [
    "2"
   ]
  },
  {
   "cell_type": "code",
   "execution_count": null,
   "metadata": {},
   "outputs": [],
   "source": []
  }
 ],
 "metadata": {
  "accelerator": "GPU",
  "colab": {
   "collapsed_sections": [],
   "name": "classification.ipynb",
   "provenance": []
  },
  "kernelspec": {
   "display_name": "Python 3",
   "language": "python",
   "name": "python3"
  },
  "language_info": {
   "codemirror_mode": {
    "name": "ipython",
    "version": 3
   },
   "file_extension": ".py",
   "mimetype": "text/x-python",
   "name": "python",
   "nbconvert_exporter": "python",
   "pygments_lexer": "ipython3",
   "version": "3.8.5"
  }
 },
 "nbformat": 4,
 "nbformat_minor": 1
}
