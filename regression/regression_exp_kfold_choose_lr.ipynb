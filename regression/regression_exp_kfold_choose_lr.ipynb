{
 "cells": [
  {
   "cell_type": "code",
   "execution_count": 1,
   "metadata": {
    "colab": {
     "base_uri": "https://localhost:8080/"
    },
    "id": "jnVNmf0_UoQZ",
    "outputId": "0d83adba-608d-4551-a2d2-576a4a944311"
   },
   "outputs": [
    {
     "name": "stdout",
     "output_type": "stream",
     "text": [
      "WARNING:tensorflow:Deprecation warnings have been disabled. Set TF_ENABLE_DEPRECATION_WARNINGS=1 to re-enable them.\n",
      "WARNING:tensorflow:From /usr/local/lib/python3.8/dist-packages/makiflow/core/inference/maki_core.py:108: The name tf.Session is deprecated. Please use tf.compat.v1.Session instead.\n",
      "\n"
     ]
    }
   ],
   "source": [
    "import sys\n",
    "\n",
    "sys.path.append('..')\n",
    "\n",
    "from utils import (load_data, CLASSIFICATION, REGRESSION, coffe_norm, get_regression_model,\n",
    "                  save_conf_matrix, error_angle, eval_model, get_generator_wrapper, get_regression_model_peak_from_pool)\n",
    "import numpy as np\n",
    "import os\n",
    "import matplotlib.pyplot as plt \n",
    "import sys\n",
    "from glob import glob\n",
    "import json\n",
    "import tensorflow as tf\n",
    "from makiflow import set_main_gpu\n",
    "\n",
    "set_main_gpu(2)"
   ]
  },
  {
   "cell_type": "code",
   "execution_count": 2,
   "metadata": {
    "id": "foLn5zvGVMse"
   },
   "outputs": [],
   "source": [
    "EXP_FOLDER = 'exp_regression_lr_choose'\n",
    "#LR = 4e-3\n",
    "LR_POOL = [1e-6, 1e-5, 1e-4, 1e-3, 1e-2, 1e-1]\n",
    "BATCH_SIZE = 64\n",
    "EXP_FOLDERS = glob(os.path.join(EXP_FOLDER, '*'))\n",
    "EPOCHS = 30\n",
    "\n",
    "THR_PRED_LIST = [0.01, 0.05, 0.1, 0.15, 0.2]\n",
    "MODEL_INDX_RANGE = 5"
   ]
  },
  {
   "cell_type": "code",
   "execution_count": null,
   "metadata": {
    "colab": {
     "base_uri": "https://localhost:8080/"
    },
    "id": "0Fxo2li_VkpK",
    "outputId": "912c69ab-0097-43fa-d837-200326ae3429",
    "scrolled": true
   },
   "outputs": [
    {
     "name": "stderr",
     "output_type": "stream",
     "text": [
      "  0%|          | 19/34020 [00:00<03:08, 180.52it/s]"
     ]
    },
    {
     "name": "stdout",
     "output_type": "stream",
     "text": [
      "Read data from config file:  config_data\n"
     ]
    },
    {
     "name": "stderr",
     "output_type": "stream",
     "text": [
      "100%|██████████| 34020/34020 [01:36<00:00, 351.56it/s]\n",
      "100%|██████████| 3780/3780 [00:10<00:00, 350.37it/s]"
     ]
    },
    {
     "name": "stdout",
     "output_type": "stream",
     "text": [
      "train :  34020\n",
      "test:  3780\n",
      "WARNING:tensorflow:From /usr/local/lib/python3.8/dist-packages/makiflow/layers/untrainable_layers.py:44: The name tf.placeholder is deprecated. Please use tf.compat.v1.placeholder instead.\n",
      "\n",
      "WARNING:tensorflow:From /usr/local/lib/python3.8/dist-packages/makiflow/layers/untrainable_layers.py:494: The name tf.nn.max_pool is deprecated. Please use tf.nn.max_pool2d instead.\n",
      "\n"
     ]
    },
    {
     "name": "stderr",
     "output_type": "stream",
     "text": [
      "\n"
     ]
    },
    {
     "name": "stdout",
     "output_type": "stream",
     "text": [
      "WARNING:tensorflow:From /usr/local/lib/python3.8/dist-packages/makiflow/core/inference/maki_core.py:117: The name tf.variables_initializer is deprecated. Please use tf.compat.v1.variables_initializer instead.\n",
      "\n",
      "WARNING:tensorflow:From /usr/local/lib/python3.8/dist-packages/makiflow/layers/trainable_layers.py:1052: The name tf.assign is deprecated. Please use tf.compat.v1.assign instead.\n",
      "\n",
      "WARNING:tensorflow:From /usr/local/lib/python3.8/dist-packages/makiflow/core/training/tensorboard.py:41: The name tf.summary.scalar is deprecated. Please use tf.compat.v1.summary.scalar instead.\n",
      "\n",
      "Loss is built.\n",
      "WARNING:tensorflow:From ../utils/model_tools.py:186: The name tf.train.piecewise_constant_decay is deprecated. Please use tf.compat.v1.train.piecewise_constant_decay instead.\n",
      "\n",
      "WARNING:tensorflow:From ../utils/model_tools.py:191: The name tf.train.AdamOptimizer is deprecated. Please use tf.compat.v1.train.AdamOptimizer instead.\n",
      "\n",
      "ep:  0\n",
      "Collecting histogram tensors...\n",
      "WARNING:tensorflow:From /usr/local/lib/python3.8/dist-packages/makiflow/core/training/tensorboard.py:61: The name tf.summary.merge is deprecated. Please use tf.compat.v1.summary.merge instead.\n",
      "\n"
     ]
    },
    {
     "name": "stderr",
     "output_type": "stream",
     "text": [
      "\r",
      "  0%|          | 0/265 [00:00<?, ?it/s]"
     ]
    },
    {
     "name": "stdout",
     "output_type": "stream",
     "text": [
      "New optimizer is used.\n"
     ]
    },
    {
     "name": "stderr",
     "output_type": "stream",
     "text": [
      " 57%|█████▋    | 150/265 [02:57<02:19,  1.22s/it]"
     ]
    },
    {
     "name": "stdout",
     "output_type": "stream",
     "text": [
      "Epoch: 0\n",
      "Regression_Head_1: 0.9246403 \n",
      "Training_Loss: 0.9246403 \n",
      "\n",
      "\n"
     ]
    },
    {
     "name": "stderr",
     "output_type": "stream",
     "text": [
      "100%|██████████| 265/265 [04:55<00:00,  1.11s/it]\n"
     ]
    },
    {
     "name": "stdout",
     "output_type": "stream",
     "text": [
      "acc test:  {'0.01': 0.0066207627118644065, '0.05': 0.024629237288135594, '0.1': 0.05534957627118644, '0.15': 0.08342161016949153, '0.2': 0.1128177966101695}\n",
      "WARNING:tensorflow:From /usr/local/lib/python3.8/dist-packages/makiflow/core/inference/model_serializer.py:71: The name tf.train.Saver is deprecated. Please use tf.compat.v1.train.Saver instead.\n",
      "\n"
     ]
    },
    {
     "name": "stderr",
     "output_type": "stream",
     "text": [
      "\r",
      "  0%|          | 0/265 [00:00<?, ?it/s]"
     ]
    },
    {
     "name": "stdout",
     "output_type": "stream",
     "text": [
      "Weights are saved to exp_regression_lr_choose/1_exp/model_indx_w_lr_1e-06/acc_0.11_ep_0_exp/weights.ckpt\n",
      "Model's architecture is saved to exp_regression_lr_choose/1_exp/model_indx_w_lr_1e-06/acc_0.11_ep_0_exp/model.json.\n",
      "ep:  1\n"
     ]
    },
    {
     "name": "stderr",
     "output_type": "stream",
     "text": [
      " 57%|█████▋    | 150/265 [02:28<01:39,  1.16it/s]"
     ]
    },
    {
     "name": "stdout",
     "output_type": "stream",
     "text": [
      "Epoch: 0\n",
      "Regression_Head_1: 0.7802906 \n",
      "Training_Loss: 0.7802906 \n",
      "\n",
      "\n"
     ]
    },
    {
     "name": "stderr",
     "output_type": "stream",
     "text": [
      "100%|██████████| 265/265 [04:17<00:00,  1.03it/s]\n"
     ]
    },
    {
     "name": "stdout",
     "output_type": "stream",
     "text": [
      "acc test:  {'0.01': 0.009269067796610169, '0.05': 0.036546610169491525, '0.1': 0.06514830508474577, '0.15': 0.09772245762711865, '0.2': 0.12870762711864406}\n"
     ]
    },
    {
     "name": "stderr",
     "output_type": "stream",
     "text": [
      "\r",
      "  0%|          | 0/265 [00:00<?, ?it/s]"
     ]
    },
    {
     "name": "stdout",
     "output_type": "stream",
     "text": [
      "Weights are saved to exp_regression_lr_choose/1_exp/model_indx_w_lr_1e-06/acc_0.13_ep_1_exp/weights.ckpt\n",
      "Model's architecture is saved to exp_regression_lr_choose/1_exp/model_indx_w_lr_1e-06/acc_0.13_ep_1_exp/model.json.\n",
      "ep:  2\n"
     ]
    },
    {
     "name": "stderr",
     "output_type": "stream",
     "text": [
      " 57%|█████▋    | 150/265 [02:31<01:40,  1.15it/s]"
     ]
    },
    {
     "name": "stdout",
     "output_type": "stream",
     "text": [
      "Epoch: 0\n",
      "Regression_Head_1: 0.7719873 \n",
      "Training_Loss: 0.7719873 \n",
      "\n",
      "\n"
     ]
    },
    {
     "name": "stderr",
     "output_type": "stream",
     "text": [
      "100%|██████████| 265/265 [04:24<00:00,  1.00it/s]\n"
     ]
    },
    {
     "name": "stdout",
     "output_type": "stream",
     "text": [
      "acc test:  {'0.01': 0.008209745762711865, '0.05': 0.0357521186440678, '0.1': 0.07547669491525423, '0.15': 0.1014300847457627, '0.2': 0.1350635593220339}\n"
     ]
    },
    {
     "name": "stderr",
     "output_type": "stream",
     "text": [
      "\r",
      "  0%|          | 0/265 [00:00<?, ?it/s]"
     ]
    },
    {
     "name": "stdout",
     "output_type": "stream",
     "text": [
      "Weights are saved to exp_regression_lr_choose/1_exp/model_indx_w_lr_1e-06/acc_0.14_ep_2_exp/weights.ckpt\n",
      "Model's architecture is saved to exp_regression_lr_choose/1_exp/model_indx_w_lr_1e-06/acc_0.14_ep_2_exp/model.json.\n",
      "ep:  3\n"
     ]
    },
    {
     "name": "stderr",
     "output_type": "stream",
     "text": [
      " 57%|█████▋    | 150/265 [02:25<01:51,  1.03it/s]"
     ]
    },
    {
     "name": "stdout",
     "output_type": "stream",
     "text": [
      "Epoch: 0\n",
      "Regression_Head_1: 0.6968190 \n",
      "Training_Loss: 0.6968190 \n",
      "\n",
      "\n"
     ]
    },
    {
     "name": "stderr",
     "output_type": "stream",
     "text": [
      "100%|██████████| 265/265 [04:20<00:00,  1.02it/s]\n"
     ]
    },
    {
     "name": "stdout",
     "output_type": "stream",
     "text": [
      "acc test:  {'0.01': 0.007150423728813559, '0.05': 0.03787076271186441, '0.1': 0.06938559322033898, '0.15': 0.11414194915254237, '0.2': 0.1549258474576271}\n"
     ]
    },
    {
     "name": "stderr",
     "output_type": "stream",
     "text": [
      "\r",
      "  0%|          | 0/265 [00:00<?, ?it/s]"
     ]
    },
    {
     "name": "stdout",
     "output_type": "stream",
     "text": [
      "Weights are saved to exp_regression_lr_choose/1_exp/model_indx_w_lr_1e-06/acc_0.15_ep_3_exp/weights.ckpt\n",
      "Model's architecture is saved to exp_regression_lr_choose/1_exp/model_indx_w_lr_1e-06/acc_0.15_ep_3_exp/model.json.\n",
      "ep:  4\n"
     ]
    },
    {
     "name": "stderr",
     "output_type": "stream",
     "text": [
      " 57%|█████▋    | 150/265 [02:23<02:00,  1.05s/it]"
     ]
    },
    {
     "name": "stdout",
     "output_type": "stream",
     "text": [
      "Epoch: 0\n",
      "Regression_Head_1: 0.6458642 \n",
      "Training_Loss: 0.6458642 \n",
      "\n",
      "\n"
     ]
    },
    {
     "name": "stderr",
     "output_type": "stream",
     "text": [
      "100%|██████████| 265/265 [04:16<00:00,  1.03it/s]\n"
     ]
    },
    {
     "name": "stdout",
     "output_type": "stream",
     "text": [
      "acc test:  {'0.01': 0.007944915254237288, '0.05': 0.03840042372881356, '0.1': 0.0701800847457627, '0.15': 0.1059322033898305, '0.2': 0.14459745762711865}\n"
     ]
    },
    {
     "name": "stderr",
     "output_type": "stream",
     "text": [
      "\r",
      "  0%|          | 0/265 [00:00<?, ?it/s]"
     ]
    },
    {
     "name": "stdout",
     "output_type": "stream",
     "text": [
      "Weights are saved to exp_regression_lr_choose/1_exp/model_indx_w_lr_1e-06/acc_0.14_ep_4_exp/weights.ckpt\n",
      "Model's architecture is saved to exp_regression_lr_choose/1_exp/model_indx_w_lr_1e-06/acc_0.14_ep_4_exp/model.json.\n",
      "ep:  5\n"
     ]
    },
    {
     "name": "stderr",
     "output_type": "stream",
     "text": [
      " 57%|█████▋    | 150/265 [02:36<02:08,  1.11s/it]"
     ]
    },
    {
     "name": "stdout",
     "output_type": "stream",
     "text": [
      "Epoch: 0\n",
      "Regression_Head_1: 0.6618524 \n",
      "Training_Loss: 0.6618524 \n",
      "\n",
      "\n"
     ]
    },
    {
     "name": "stderr",
     "output_type": "stream",
     "text": [
      "100%|██████████| 265/265 [04:29<00:00,  1.02s/it]\n"
     ]
    },
    {
     "name": "stdout",
     "output_type": "stream",
     "text": [
      "acc test:  {'0.01': 0.007415254237288136, '0.05': 0.036546610169491525, '0.1': 0.07521186440677965, '0.15': 0.10963983050847458, '0.2': 0.1483050847457627}\n"
     ]
    },
    {
     "name": "stderr",
     "output_type": "stream",
     "text": [
      "\r",
      "  0%|          | 0/265 [00:00<?, ?it/s]"
     ]
    },
    {
     "name": "stdout",
     "output_type": "stream",
     "text": [
      "Weights are saved to exp_regression_lr_choose/1_exp/model_indx_w_lr_1e-06/acc_0.15_ep_5_exp/weights.ckpt\n",
      "Model's architecture is saved to exp_regression_lr_choose/1_exp/model_indx_w_lr_1e-06/acc_0.15_ep_5_exp/model.json.\n",
      "ep:  6\n"
     ]
    },
    {
     "name": "stderr",
     "output_type": "stream",
     "text": [
      " 57%|█████▋    | 150/265 [02:32<01:57,  1.02s/it]"
     ]
    },
    {
     "name": "stdout",
     "output_type": "stream",
     "text": [
      "Epoch: 0\n",
      "Regression_Head_1: 0.6118927 \n",
      "Training_Loss: 0.6118927 \n",
      "\n",
      "\n"
     ]
    },
    {
     "name": "stderr",
     "output_type": "stream",
     "text": [
      "100%|██████████| 265/265 [04:32<00:00,  1.03s/it]\n"
     ]
    },
    {
     "name": "stdout",
     "output_type": "stream",
     "text": [
      "acc test:  {'0.01': 0.0060911016949152545, '0.05': 0.03840042372881356, '0.1': 0.07944915254237288, '0.15': 0.12658898305084745, '0.2': 0.163135593220339}\n"
     ]
    },
    {
     "name": "stderr",
     "output_type": "stream",
     "text": [
      "\r",
      "  0%|          | 0/265 [00:00<?, ?it/s]"
     ]
    },
    {
     "name": "stdout",
     "output_type": "stream",
     "text": [
      "Weights are saved to exp_regression_lr_choose/1_exp/model_indx_w_lr_1e-06/acc_0.16_ep_6_exp/weights.ckpt\n",
      "Model's architecture is saved to exp_regression_lr_choose/1_exp/model_indx_w_lr_1e-06/acc_0.16_ep_6_exp/model.json.\n",
      "ep:  7\n"
     ]
    },
    {
     "name": "stderr",
     "output_type": "stream",
     "text": [
      " 57%|█████▋    | 150/265 [02:26<01:54,  1.01it/s]"
     ]
    },
    {
     "name": "stdout",
     "output_type": "stream",
     "text": [
      "Epoch: 0\n",
      "Regression_Head_1: 0.5959106 \n",
      "Training_Loss: 0.5959106 \n",
      "\n",
      "\n"
     ]
    },
    {
     "name": "stderr",
     "output_type": "stream",
     "text": [
      "100%|██████████| 265/265 [04:22<00:00,  1.01it/s]\n"
     ]
    },
    {
     "name": "stdout",
     "output_type": "stream",
     "text": [
      "acc test:  {'0.01': 0.008209745762711865, '0.05': 0.03840042372881356, '0.1': 0.078125, '0.15': 0.1194385593220339, '0.2': 0.15545550847457626}\n"
     ]
    },
    {
     "name": "stderr",
     "output_type": "stream",
     "text": [
      "\r",
      "  0%|          | 0/265 [00:00<?, ?it/s]"
     ]
    },
    {
     "name": "stdout",
     "output_type": "stream",
     "text": [
      "Weights are saved to exp_regression_lr_choose/1_exp/model_indx_w_lr_1e-06/acc_0.16_ep_7_exp/weights.ckpt\n",
      "Model's architecture is saved to exp_regression_lr_choose/1_exp/model_indx_w_lr_1e-06/acc_0.16_ep_7_exp/model.json.\n",
      "ep:  8\n"
     ]
    },
    {
     "name": "stderr",
     "output_type": "stream",
     "text": [
      " 57%|█████▋    | 150/265 [02:36<01:58,  1.03s/it]"
     ]
    },
    {
     "name": "stdout",
     "output_type": "stream",
     "text": [
      "Epoch: 0\n",
      "Regression_Head_1: 0.5676556 \n",
      "Training_Loss: 0.5676556 \n",
      "\n",
      "\n"
     ]
    },
    {
     "name": "stderr",
     "output_type": "stream",
     "text": [
      "100%|██████████| 265/265 [04:33<00:00,  1.03s/it]\n"
     ]
    },
    {
     "name": "stdout",
     "output_type": "stream",
     "text": [
      "acc test:  {'0.01': 0.0066207627118644065, '0.05': 0.04078389830508475, '0.1': 0.0770656779661017, '0.15': 0.11758474576271187, '0.2': 0.15625}\n"
     ]
    },
    {
     "name": "stderr",
     "output_type": "stream",
     "text": [
      "\r",
      "  0%|          | 0/265 [00:00<?, ?it/s]"
     ]
    },
    {
     "name": "stdout",
     "output_type": "stream",
     "text": [
      "Weights are saved to exp_regression_lr_choose/1_exp/model_indx_w_lr_1e-06/acc_0.16_ep_8_exp/weights.ckpt\n",
      "Model's architecture is saved to exp_regression_lr_choose/1_exp/model_indx_w_lr_1e-06/acc_0.16_ep_8_exp/model.json.\n",
      "ep:  9\n"
     ]
    },
    {
     "name": "stderr",
     "output_type": "stream",
     "text": [
      " 57%|█████▋    | 150/265 [02:31<02:20,  1.22s/it]"
     ]
    },
    {
     "name": "stdout",
     "output_type": "stream",
     "text": [
      "Epoch: 0\n",
      "Regression_Head_1: 0.5574595 \n",
      "Training_Loss: 0.5574595 \n",
      "\n",
      "\n"
     ]
    },
    {
     "name": "stderr",
     "output_type": "stream",
     "text": [
      "100%|██████████| 265/265 [04:28<00:00,  1.01s/it]\n"
     ]
    },
    {
     "name": "stdout",
     "output_type": "stream",
     "text": [
      "acc test:  {'0.01': 0.0060911016949152545, '0.05': 0.03416313559322034, '0.1': 0.06991525423728813, '0.15': 0.11255296610169492, '0.2': 0.14883474576271186}\n"
     ]
    },
    {
     "name": "stderr",
     "output_type": "stream",
     "text": [
      "\r",
      "  0%|          | 0/265 [00:00<?, ?it/s]"
     ]
    },
    {
     "name": "stdout",
     "output_type": "stream",
     "text": [
      "Weights are saved to exp_regression_lr_choose/1_exp/model_indx_w_lr_1e-06/acc_0.15_ep_9_exp/weights.ckpt\n",
      "Model's architecture is saved to exp_regression_lr_choose/1_exp/model_indx_w_lr_1e-06/acc_0.15_ep_9_exp/model.json.\n",
      "ep:  10\n"
     ]
    },
    {
     "name": "stderr",
     "output_type": "stream",
     "text": [
      " 57%|█████▋    | 150/265 [02:21<01:57,  1.02s/it]"
     ]
    },
    {
     "name": "stdout",
     "output_type": "stream",
     "text": [
      "Epoch: 0\n",
      "Regression_Head_1: 0.5406285 \n",
      "Training_Loss: 0.5406285 \n",
      "\n",
      "\n"
     ]
    },
    {
     "name": "stderr",
     "output_type": "stream",
     "text": [
      "100%|██████████| 265/265 [04:10<00:00,  1.06it/s]\n"
     ]
    },
    {
     "name": "stdout",
     "output_type": "stream",
     "text": [
      "acc test:  {'0.01': 0.006885593220338983, '0.05': 0.037076271186440676, '0.1': 0.07971398305084745, '0.15': 0.12235169491525423, '0.2': 0.16340042372881355}\n"
     ]
    },
    {
     "name": "stderr",
     "output_type": "stream",
     "text": [
      "\r",
      "  0%|          | 0/265 [00:00<?, ?it/s]"
     ]
    },
    {
     "name": "stdout",
     "output_type": "stream",
     "text": [
      "Weights are saved to exp_regression_lr_choose/1_exp/model_indx_w_lr_1e-06/acc_0.16_ep_10_exp/weights.ckpt\n",
      "Model's architecture is saved to exp_regression_lr_choose/1_exp/model_indx_w_lr_1e-06/acc_0.16_ep_10_exp/model.json.\n",
      "ep:  11\n"
     ]
    },
    {
     "name": "stderr",
     "output_type": "stream",
     "text": [
      " 57%|█████▋    | 150/265 [02:31<01:33,  1.23it/s]"
     ]
    },
    {
     "name": "stdout",
     "output_type": "stream",
     "text": [
      "Epoch: 0\n",
      "Regression_Head_1: 0.5403805 \n",
      "Training_Loss: 0.5403805 \n",
      "\n",
      "\n"
     ]
    },
    {
     "name": "stderr",
     "output_type": "stream",
     "text": [
      "100%|██████████| 265/265 [04:21<00:00,  1.01it/s]\n"
     ]
    },
    {
     "name": "stdout",
     "output_type": "stream",
     "text": [
      "acc test:  {'0.01': 0.009004237288135594, '0.05': 0.048728813559322036, '0.1': 0.09136652542372882, '0.15': 0.1393008474576271, '0.2': 0.1819385593220339}\n"
     ]
    },
    {
     "name": "stderr",
     "output_type": "stream",
     "text": [
      "\r",
      "  0%|          | 0/265 [00:00<?, ?it/s]"
     ]
    },
    {
     "name": "stdout",
     "output_type": "stream",
     "text": [
      "Weights are saved to exp_regression_lr_choose/1_exp/model_indx_w_lr_1e-06/acc_0.18_ep_11_exp/weights.ckpt\n",
      "Model's architecture is saved to exp_regression_lr_choose/1_exp/model_indx_w_lr_1e-06/acc_0.18_ep_11_exp/model.json.\n",
      "ep:  12\n"
     ]
    },
    {
     "name": "stderr",
     "output_type": "stream",
     "text": [
      " 57%|█████▋    | 150/265 [02:21<01:38,  1.17it/s]"
     ]
    },
    {
     "name": "stdout",
     "output_type": "stream",
     "text": [
      "Epoch: 0\n",
      "Regression_Head_1: 0.5168232 \n",
      "Training_Loss: 0.5168232 \n",
      "\n",
      "\n"
     ]
    },
    {
     "name": "stderr",
     "output_type": "stream",
     "text": [
      "100%|██████████| 265/265 [08:45<00:00,  1.98s/it]\n"
     ]
    },
    {
     "name": "stdout",
     "output_type": "stream",
     "text": [
      "acc test:  {'0.01': 0.010063559322033898, '0.05': 0.048728813559322036, '0.1': 0.08845338983050847, '0.15': 0.1350635593220339, '0.2': 0.1763771186440678}\n"
     ]
    },
    {
     "name": "stderr",
     "output_type": "stream",
     "text": [
      "\r",
      "  0%|          | 0/265 [00:00<?, ?it/s]"
     ]
    },
    {
     "name": "stdout",
     "output_type": "stream",
     "text": [
      "Weights are saved to exp_regression_lr_choose/1_exp/model_indx_w_lr_1e-06/acc_0.18_ep_12_exp/weights.ckpt\n",
      "Model's architecture is saved to exp_regression_lr_choose/1_exp/model_indx_w_lr_1e-06/acc_0.18_ep_12_exp/model.json.\n",
      "ep:  13\n"
     ]
    },
    {
     "name": "stderr",
     "output_type": "stream",
     "text": [
      " 57%|█████▋    | 150/265 [02:12<01:29,  1.28it/s]"
     ]
    },
    {
     "name": "stdout",
     "output_type": "stream",
     "text": [
      "Epoch: 0\n",
      "Regression_Head_1: 0.5047976 \n",
      "Training_Loss: 0.5047976 \n",
      "\n",
      "\n"
     ]
    },
    {
     "name": "stderr",
     "output_type": "stream",
     "text": [
      "100%|██████████| 265/265 [03:45<00:00,  1.18it/s]\n"
     ]
    },
    {
     "name": "stdout",
     "output_type": "stream",
     "text": [
      "acc test:  {'0.01': 0.008739406779661016, '0.05': 0.041578389830508475, '0.1': 0.0815677966101695, '0.15': 0.12685381355932204, '0.2': 0.1716101694915254}\n"
     ]
    },
    {
     "name": "stderr",
     "output_type": "stream",
     "text": [
      "\r",
      "  0%|          | 0/265 [00:00<?, ?it/s]"
     ]
    },
    {
     "name": "stdout",
     "output_type": "stream",
     "text": [
      "Weights are saved to exp_regression_lr_choose/1_exp/model_indx_w_lr_1e-06/acc_0.17_ep_13_exp/weights.ckpt\n",
      "Model's architecture is saved to exp_regression_lr_choose/1_exp/model_indx_w_lr_1e-06/acc_0.17_ep_13_exp/model.json.\n",
      "ep:  14\n"
     ]
    },
    {
     "name": "stderr",
     "output_type": "stream",
     "text": [
      " 57%|█████▋    | 150/265 [02:04<01:49,  1.05it/s]"
     ]
    },
    {
     "name": "stdout",
     "output_type": "stream",
     "text": [
      "Epoch: 0\n",
      "Regression_Head_1: 0.5136474 \n",
      "Training_Loss: 0.5136474 \n",
      "\n",
      "\n"
     ]
    },
    {
     "name": "stderr",
     "output_type": "stream",
     "text": [
      "100%|██████████| 265/265 [03:40<00:00,  1.20it/s]\n"
     ]
    },
    {
     "name": "stdout",
     "output_type": "stream",
     "text": [
      "acc test:  {'0.01': 0.008739406779661016, '0.05': 0.042108050847457626, '0.1': 0.08209745762711865, '0.15': 0.12764830508474576, '0.2': 0.1708156779661017}\n"
     ]
    },
    {
     "name": "stderr",
     "output_type": "stream",
     "text": [
      "\r",
      "  0%|          | 0/265 [00:00<?, ?it/s]"
     ]
    },
    {
     "name": "stdout",
     "output_type": "stream",
     "text": [
      "Weights are saved to exp_regression_lr_choose/1_exp/model_indx_w_lr_1e-06/acc_0.17_ep_14_exp/weights.ckpt\n",
      "Model's architecture is saved to exp_regression_lr_choose/1_exp/model_indx_w_lr_1e-06/acc_0.17_ep_14_exp/model.json.\n",
      "ep:  15\n"
     ]
    },
    {
     "name": "stderr",
     "output_type": "stream",
     "text": [
      " 57%|█████▋    | 150/265 [02:05<02:09,  1.12s/it]"
     ]
    },
    {
     "name": "stdout",
     "output_type": "stream",
     "text": [
      "Epoch: 0\n",
      "Regression_Head_1: 0.5113618 \n",
      "Training_Loss: 0.5113618 \n",
      "\n",
      "\n"
     ]
    },
    {
     "name": "stderr",
     "output_type": "stream",
     "text": [
      "100%|██████████| 265/265 [03:45<00:00,  1.17it/s]\n"
     ]
    },
    {
     "name": "stdout",
     "output_type": "stream",
     "text": [
      "acc test:  {'0.01': 0.00847457627118644, '0.05': 0.041578389830508475, '0.1': 0.0860699152542373, '0.15': 0.13665254237288135, '0.2': 0.1808792372881356}\n"
     ]
    },
    {
     "name": "stderr",
     "output_type": "stream",
     "text": [
      "\r",
      "  0%|          | 0/265 [00:00<?, ?it/s]"
     ]
    },
    {
     "name": "stdout",
     "output_type": "stream",
     "text": [
      "Weights are saved to exp_regression_lr_choose/1_exp/model_indx_w_lr_1e-06/acc_0.18_ep_15_exp/weights.ckpt\n",
      "Model's architecture is saved to exp_regression_lr_choose/1_exp/model_indx_w_lr_1e-06/acc_0.18_ep_15_exp/model.json.\n",
      "ep:  16\n"
     ]
    },
    {
     "name": "stderr",
     "output_type": "stream",
     "text": [
      " 57%|█████▋    | 150/265 [02:13<01:45,  1.09it/s]"
     ]
    },
    {
     "name": "stdout",
     "output_type": "stream",
     "text": [
      "Epoch: 0\n",
      "Regression_Head_1: 0.5053803 \n",
      "Training_Loss: 0.5053803 \n",
      "\n",
      "\n"
     ]
    },
    {
     "name": "stderr",
     "output_type": "stream",
     "text": [
      "100%|██████████| 265/265 [03:58<00:00,  1.11it/s]\n"
     ]
    },
    {
     "name": "stdout",
     "output_type": "stream",
     "text": [
      "acc test:  {'0.01': 0.011122881355932203, '0.05': 0.0479343220338983, '0.1': 0.09745762711864407, '0.15': 0.14565677966101695, '0.2': 0.1999470338983051}\n"
     ]
    },
    {
     "name": "stderr",
     "output_type": "stream",
     "text": [
      "\r",
      "  0%|          | 0/265 [00:00<?, ?it/s]"
     ]
    },
    {
     "name": "stdout",
     "output_type": "stream",
     "text": [
      "Weights are saved to exp_regression_lr_choose/1_exp/model_indx_w_lr_1e-06/acc_0.2_ep_16_exp/weights.ckpt\n",
      "Model's architecture is saved to exp_regression_lr_choose/1_exp/model_indx_w_lr_1e-06/acc_0.2_ep_16_exp/model.json.\n",
      "ep:  17\n"
     ]
    },
    {
     "name": "stderr",
     "output_type": "stream",
     "text": [
      " 57%|█████▋    | 150/265 [02:01<01:34,  1.22it/s]"
     ]
    },
    {
     "name": "stdout",
     "output_type": "stream",
     "text": [
      "Epoch: 0\n",
      "Regression_Head_1: 0.5029245 \n",
      "Training_Loss: 0.5029245 \n",
      "\n",
      "\n"
     ]
    },
    {
     "name": "stderr",
     "output_type": "stream",
     "text": [
      "100%|██████████| 265/265 [03:38<00:00,  1.21it/s]\n"
     ]
    },
    {
     "name": "stdout",
     "output_type": "stream",
     "text": [
      "acc test:  {'0.01': 0.010328389830508475, '0.05': 0.04608050847457627, '0.1': 0.0948093220338983, '0.15': 0.1371822033898305, '0.2': 0.1816737288135593}\n"
     ]
    },
    {
     "name": "stderr",
     "output_type": "stream",
     "text": [
      "\r",
      "  0%|          | 0/265 [00:00<?, ?it/s]"
     ]
    },
    {
     "name": "stdout",
     "output_type": "stream",
     "text": [
      "Weights are saved to exp_regression_lr_choose/1_exp/model_indx_w_lr_1e-06/acc_0.18_ep_17_exp/weights.ckpt\n",
      "Model's architecture is saved to exp_regression_lr_choose/1_exp/model_indx_w_lr_1e-06/acc_0.18_ep_17_exp/model.json.\n",
      "ep:  18\n"
     ]
    },
    {
     "name": "stderr",
     "output_type": "stream",
     "text": [
      " 57%|█████▋    | 150/265 [02:03<01:55,  1.00s/it]"
     ]
    },
    {
     "name": "stdout",
     "output_type": "stream",
     "text": [
      "Epoch: 0\n",
      "Regression_Head_1: 0.4946964 \n",
      "Training_Loss: 0.4946964 \n",
      "\n",
      "\n"
     ]
    },
    {
     "name": "stderr",
     "output_type": "stream",
     "text": [
      "100%|██████████| 265/265 [03:44<00:00,  1.18it/s]\n"
     ]
    },
    {
     "name": "stdout",
     "output_type": "stream",
     "text": [
      "acc test:  {'0.01': 0.006885593220338983, '0.05': 0.036016949152542374, '0.1': 0.07229872881355932, '0.15': 0.11679025423728813, '0.2': 0.15466101694915255}\n"
     ]
    },
    {
     "name": "stderr",
     "output_type": "stream",
     "text": [
      "\r",
      "  0%|          | 0/265 [00:00<?, ?it/s]"
     ]
    },
    {
     "name": "stdout",
     "output_type": "stream",
     "text": [
      "Weights are saved to exp_regression_lr_choose/1_exp/model_indx_w_lr_1e-06/acc_0.15_ep_18_exp/weights.ckpt\n",
      "Model's architecture is saved to exp_regression_lr_choose/1_exp/model_indx_w_lr_1e-06/acc_0.15_ep_18_exp/model.json.\n",
      "ep:  19\n"
     ]
    },
    {
     "name": "stderr",
     "output_type": "stream",
     "text": [
      " 57%|█████▋    | 150/265 [02:06<01:40,  1.15it/s]"
     ]
    },
    {
     "name": "stdout",
     "output_type": "stream",
     "text": [
      "Epoch: 0\n",
      "Regression_Head_1: 0.4815075 \n",
      "Training_Loss: 0.4815075 \n",
      "\n",
      "\n"
     ]
    },
    {
     "name": "stderr",
     "output_type": "stream",
     "text": [
      "100%|██████████| 265/265 [03:47<00:00,  1.17it/s]\n"
     ]
    },
    {
     "name": "stdout",
     "output_type": "stream",
     "text": [
      "acc test:  {'0.01': 0.0060911016949152545, '0.05': 0.042108050847457626, '0.1': 0.08448093220338983, '0.15': 0.13559322033898305, '0.2': 0.180614406779661}\n"
     ]
    },
    {
     "name": "stderr",
     "output_type": "stream",
     "text": [
      "\r",
      "  0%|          | 0/265 [00:00<?, ?it/s]"
     ]
    },
    {
     "name": "stdout",
     "output_type": "stream",
     "text": [
      "Weights are saved to exp_regression_lr_choose/1_exp/model_indx_w_lr_1e-06/acc_0.18_ep_19_exp/weights.ckpt\n",
      "Model's architecture is saved to exp_regression_lr_choose/1_exp/model_indx_w_lr_1e-06/acc_0.18_ep_19_exp/model.json.\n",
      "ep:  20\n"
     ]
    },
    {
     "name": "stderr",
     "output_type": "stream",
     "text": [
      " 57%|█████▋    | 150/265 [02:03<01:06,  1.74it/s]"
     ]
    },
    {
     "name": "stdout",
     "output_type": "stream",
     "text": [
      "Epoch: 0\n",
      "Regression_Head_1: 0.4894469 \n",
      "Training_Loss: 0.4894469 \n",
      "\n",
      "\n"
     ]
    },
    {
     "name": "stderr",
     "output_type": "stream",
     "text": [
      "100%|██████████| 265/265 [03:38<00:00,  1.21it/s]\n"
     ]
    },
    {
     "name": "stdout",
     "output_type": "stream",
     "text": [
      "acc test:  {'0.01': 0.00847457627118644, '0.05': 0.039989406779661014, '0.1': 0.08050847457627118, '0.15': 0.11996822033898305, '0.2': 0.1641949152542373}\n"
     ]
    },
    {
     "name": "stderr",
     "output_type": "stream",
     "text": [
      "\r",
      "  0%|          | 0/265 [00:00<?, ?it/s]"
     ]
    },
    {
     "name": "stdout",
     "output_type": "stream",
     "text": [
      "Weights are saved to exp_regression_lr_choose/1_exp/model_indx_w_lr_1e-06/acc_0.16_ep_20_exp/weights.ckpt\n",
      "Model's architecture is saved to exp_regression_lr_choose/1_exp/model_indx_w_lr_1e-06/acc_0.16_ep_20_exp/model.json.\n",
      "ep:  21\n"
     ]
    },
    {
     "name": "stderr",
     "output_type": "stream",
     "text": [
      " 57%|█████▋    | 150/265 [02:09<01:42,  1.12it/s]"
     ]
    },
    {
     "name": "stdout",
     "output_type": "stream",
     "text": [
      "Epoch: 0\n",
      "Regression_Head_1: 0.4926125 \n",
      "Training_Loss: 0.4926125 \n",
      "\n",
      "\n"
     ]
    },
    {
     "name": "stderr",
     "output_type": "stream",
     "text": [
      "100%|██████████| 265/265 [03:48<00:00,  1.16it/s]\n"
     ]
    },
    {
     "name": "stdout",
     "output_type": "stream",
     "text": [
      "acc test:  {'0.01': 0.008739406779661016, '0.05': 0.03787076271186441, '0.1': 0.07838983050847458, '0.15': 0.1204978813559322, '0.2': 0.1618114406779661}\n"
     ]
    },
    {
     "name": "stderr",
     "output_type": "stream",
     "text": [
      "\r",
      "  0%|          | 0/265 [00:00<?, ?it/s]"
     ]
    },
    {
     "name": "stdout",
     "output_type": "stream",
     "text": [
      "Weights are saved to exp_regression_lr_choose/1_exp/model_indx_w_lr_1e-06/acc_0.16_ep_21_exp/weights.ckpt\n",
      "Model's architecture is saved to exp_regression_lr_choose/1_exp/model_indx_w_lr_1e-06/acc_0.16_ep_21_exp/model.json.\n",
      "ep:  22\n"
     ]
    },
    {
     "name": "stderr",
     "output_type": "stream",
     "text": [
      " 57%|█████▋    | 150/265 [02:06<01:25,  1.35it/s]"
     ]
    },
    {
     "name": "stdout",
     "output_type": "stream",
     "text": [
      "Epoch: 0\n",
      "Regression_Head_1: 0.4991935 \n",
      "Training_Loss: 0.4991935 \n",
      "\n",
      "\n"
     ]
    },
    {
     "name": "stderr",
     "output_type": "stream",
     "text": [
      "100%|██████████| 265/265 [03:43<00:00,  1.19it/s]\n"
     ]
    },
    {
     "name": "stdout",
     "output_type": "stream",
     "text": [
      "acc test:  {'0.01': 0.007150423728813559, '0.05': 0.04051906779661017, '0.1': 0.08421610169491525, '0.15': 0.12235169491525423, '0.2': 0.1620762711864407}\n"
     ]
    },
    {
     "name": "stderr",
     "output_type": "stream",
     "text": [
      "\r",
      "  0%|          | 0/265 [00:00<?, ?it/s]"
     ]
    },
    {
     "name": "stdout",
     "output_type": "stream",
     "text": [
      "Weights are saved to exp_regression_lr_choose/1_exp/model_indx_w_lr_1e-06/acc_0.16_ep_22_exp/weights.ckpt\n",
      "Model's architecture is saved to exp_regression_lr_choose/1_exp/model_indx_w_lr_1e-06/acc_0.16_ep_22_exp/model.json.\n",
      "ep:  23\n"
     ]
    },
    {
     "name": "stderr",
     "output_type": "stream",
     "text": [
      " 57%|█████▋    | 150/265 [01:57<01:31,  1.25it/s]"
     ]
    },
    {
     "name": "stdout",
     "output_type": "stream",
     "text": [
      "Epoch: 0\n",
      "Regression_Head_1: 0.4795688 \n",
      "Training_Loss: 0.4795688 \n",
      "\n",
      "\n"
     ]
    },
    {
     "name": "stderr",
     "output_type": "stream",
     "text": [
      "100%|██████████| 265/265 [03:31<00:00,  1.25it/s]\n"
     ]
    },
    {
     "name": "stdout",
     "output_type": "stream",
     "text": [
      "acc test:  {'0.01': 0.009269067796610169, '0.05': 0.041048728813559324, '0.1': 0.0847457627118644, '0.15': 0.1284427966101695, '0.2': 0.17664194915254236}\n"
     ]
    },
    {
     "name": "stderr",
     "output_type": "stream",
     "text": [
      "\r",
      "  0%|          | 0/265 [00:00<?, ?it/s]"
     ]
    },
    {
     "name": "stdout",
     "output_type": "stream",
     "text": [
      "Weights are saved to exp_regression_lr_choose/1_exp/model_indx_w_lr_1e-06/acc_0.18_ep_23_exp/weights.ckpt\n",
      "Model's architecture is saved to exp_regression_lr_choose/1_exp/model_indx_w_lr_1e-06/acc_0.18_ep_23_exp/model.json.\n",
      "ep:  24\n"
     ]
    },
    {
     "name": "stderr",
     "output_type": "stream",
     "text": [
      " 57%|█████▋    | 150/265 [02:08<01:36,  1.19it/s]"
     ]
    },
    {
     "name": "stdout",
     "output_type": "stream",
     "text": [
      "Epoch: 0\n",
      "Regression_Head_1: 0.4756629 \n",
      "Training_Loss: 0.4756629 \n",
      "\n",
      "\n"
     ]
    },
    {
     "name": "stderr",
     "output_type": "stream",
     "text": [
      "100%|██████████| 265/265 [03:43<00:00,  1.18it/s]\n"
     ]
    },
    {
     "name": "stdout",
     "output_type": "stream",
     "text": [
      "acc test:  {'0.01': 0.00847457627118644, '0.05': 0.04263771186440678, '0.1': 0.0826271186440678, '0.15': 0.11996822033898305, '0.2': 0.1586334745762712}\n"
     ]
    },
    {
     "name": "stderr",
     "output_type": "stream",
     "text": [
      "\r",
      "  0%|          | 0/265 [00:00<?, ?it/s]"
     ]
    },
    {
     "name": "stdout",
     "output_type": "stream",
     "text": [
      "Weights are saved to exp_regression_lr_choose/1_exp/model_indx_w_lr_1e-06/acc_0.16_ep_24_exp/weights.ckpt\n",
      "Model's architecture is saved to exp_regression_lr_choose/1_exp/model_indx_w_lr_1e-06/acc_0.16_ep_24_exp/model.json.\n",
      "ep:  25\n"
     ]
    },
    {
     "name": "stderr",
     "output_type": "stream",
     "text": [
      " 57%|█████▋    | 150/265 [02:07<01:33,  1.23it/s]"
     ]
    },
    {
     "name": "stdout",
     "output_type": "stream",
     "text": [
      "Epoch: 0\n",
      "Regression_Head_1: 0.4894957 \n",
      "Training_Loss: 0.4894957 \n",
      "\n",
      "\n"
     ]
    },
    {
     "name": "stderr",
     "output_type": "stream",
     "text": [
      "100%|██████████| 265/265 [03:39<00:00,  1.21it/s]\n"
     ]
    },
    {
     "name": "stdout",
     "output_type": "stream",
     "text": [
      "acc test:  {'0.01': 0.0066207627118644065, '0.05': 0.037076271186440676, '0.1': 0.07282838983050847, '0.15': 0.11679025423728813, '0.2': 0.15333686440677965}\n"
     ]
    },
    {
     "name": "stderr",
     "output_type": "stream",
     "text": [
      "\r",
      "  0%|          | 0/265 [00:00<?, ?it/s]"
     ]
    },
    {
     "name": "stdout",
     "output_type": "stream",
     "text": [
      "Weights are saved to exp_regression_lr_choose/1_exp/model_indx_w_lr_1e-06/acc_0.15_ep_25_exp/weights.ckpt\n",
      "Model's architecture is saved to exp_regression_lr_choose/1_exp/model_indx_w_lr_1e-06/acc_0.15_ep_25_exp/model.json.\n",
      "ep:  26\n"
     ]
    },
    {
     "name": "stderr",
     "output_type": "stream",
     "text": [
      " 57%|█████▋    | 150/265 [02:08<01:34,  1.21it/s]"
     ]
    },
    {
     "name": "stdout",
     "output_type": "stream",
     "text": [
      "Epoch: 0\n",
      "Regression_Head_1: 0.4863751 \n",
      "Training_Loss: 0.4863751 \n",
      "\n",
      "\n"
     ]
    },
    {
     "name": "stderr",
     "output_type": "stream",
     "text": [
      "100%|██████████| 265/265 [03:44<00:00,  1.18it/s]\n"
     ]
    },
    {
     "name": "stdout",
     "output_type": "stream",
     "text": [
      "acc test:  {'0.01': 0.007150423728813559, '0.05': 0.043697033898305086, '0.1': 0.09507415254237288, '0.15': 0.13665254237288135, '0.2': 0.17929025423728814}\n"
     ]
    },
    {
     "name": "stderr",
     "output_type": "stream",
     "text": [
      "\r",
      "  0%|          | 0/265 [00:00<?, ?it/s]"
     ]
    },
    {
     "name": "stdout",
     "output_type": "stream",
     "text": [
      "Weights are saved to exp_regression_lr_choose/1_exp/model_indx_w_lr_1e-06/acc_0.18_ep_26_exp/weights.ckpt\n",
      "Model's architecture is saved to exp_regression_lr_choose/1_exp/model_indx_w_lr_1e-06/acc_0.18_ep_26_exp/model.json.\n",
      "ep:  27\n"
     ]
    },
    {
     "name": "stderr",
     "output_type": "stream",
     "text": [
      " 57%|█████▋    | 150/265 [02:07<01:30,  1.26it/s]"
     ]
    },
    {
     "name": "stdout",
     "output_type": "stream",
     "text": [
      "Epoch: 0\n",
      "Regression_Head_1: 0.4895659 \n",
      "Training_Loss: 0.4895659 \n",
      "\n",
      "\n"
     ]
    },
    {
     "name": "stderr",
     "output_type": "stream",
     "text": [
      "100%|██████████| 265/265 [03:44<00:00,  1.18it/s]\n"
     ]
    },
    {
     "name": "stdout",
     "output_type": "stream",
     "text": [
      "acc test:  {'0.01': 0.007944915254237288, '0.05': 0.036546610169491525, '0.1': 0.08315677966101695, '0.15': 0.12658898305084745, '0.2': 0.1721398305084746}\n"
     ]
    },
    {
     "name": "stderr",
     "output_type": "stream",
     "text": [
      "\r",
      "  0%|          | 0/265 [00:00<?, ?it/s]"
     ]
    },
    {
     "name": "stdout",
     "output_type": "stream",
     "text": [
      "Weights are saved to exp_regression_lr_choose/1_exp/model_indx_w_lr_1e-06/acc_0.17_ep_27_exp/weights.ckpt\n",
      "Model's architecture is saved to exp_regression_lr_choose/1_exp/model_indx_w_lr_1e-06/acc_0.17_ep_27_exp/model.json.\n",
      "ep:  28\n"
     ]
    },
    {
     "name": "stderr",
     "output_type": "stream",
     "text": [
      " 57%|█████▋    | 150/265 [02:05<01:51,  1.03it/s]"
     ]
    },
    {
     "name": "stdout",
     "output_type": "stream",
     "text": [
      "Epoch: 0\n",
      "Regression_Head_1: 0.4726488 \n",
      "Training_Loss: 0.4726488 \n",
      "\n",
      "\n"
     ]
    },
    {
     "name": "stderr",
     "output_type": "stream",
     "text": [
      "100%|██████████| 265/265 [03:41<00:00,  1.20it/s]\n"
     ]
    },
    {
     "name": "stdout",
     "output_type": "stream",
     "text": [
      "acc test:  {'0.01': 0.009269067796610169, '0.05': 0.04740466101694915, '0.1': 0.08977754237288135, '0.15': 0.13691737288135594, '0.2': 0.18591101694915255}\n"
     ]
    },
    {
     "name": "stderr",
     "output_type": "stream",
     "text": [
      "\r",
      "  0%|          | 0/265 [00:00<?, ?it/s]"
     ]
    },
    {
     "name": "stdout",
     "output_type": "stream",
     "text": [
      "Weights are saved to exp_regression_lr_choose/1_exp/model_indx_w_lr_1e-06/acc_0.19_ep_28_exp/weights.ckpt\n",
      "Model's architecture is saved to exp_regression_lr_choose/1_exp/model_indx_w_lr_1e-06/acc_0.19_ep_28_exp/model.json.\n",
      "ep:  29\n"
     ]
    },
    {
     "name": "stderr",
     "output_type": "stream",
     "text": [
      " 57%|█████▋    | 150/265 [02:05<01:56,  1.01s/it]"
     ]
    },
    {
     "name": "stdout",
     "output_type": "stream",
     "text": [
      "Epoch: 0\n",
      "Regression_Head_1: 0.4957424 \n",
      "Training_Loss: 0.4957424 \n",
      "\n",
      "\n"
     ]
    },
    {
     "name": "stderr",
     "output_type": "stream",
     "text": [
      "100%|██████████| 265/265 [03:41<00:00,  1.20it/s]\n"
     ]
    },
    {
     "name": "stdout",
     "output_type": "stream",
     "text": [
      "acc test:  {'0.01': 0.010858050847457628, '0.05': 0.052701271186440676, '0.1': 0.0971927966101695, '0.15': 0.14247881355932204, '0.2': 0.1872351694915254}\n",
      "Weights are saved to exp_regression_lr_choose/1_exp/model_indx_w_lr_1e-06/acc_0.19_ep_29_exp/weights.ckpt\n",
      "Model's architecture is saved to exp_regression_lr_choose/1_exp/model_indx_w_lr_1e-06/acc_0.19_ep_29_exp/model.json.\n"
     ]
    },
    {
     "name": "stderr",
     "output_type": "stream",
     "text": [
      "  0%|          | 31/34020 [00:00<01:50, 308.56it/s]"
     ]
    },
    {
     "name": "stdout",
     "output_type": "stream",
     "text": [
      "Read data from config file:  config_data\n"
     ]
    },
    {
     "name": "stderr",
     "output_type": "stream",
     "text": [
      "100%|██████████| 34020/34020 [01:02<00:00, 540.72it/s]\n",
      "100%|██████████| 3780/3780 [00:06<00:00, 560.34it/s]\n"
     ]
    },
    {
     "name": "stdout",
     "output_type": "stream",
     "text": [
      "train :  34020\n",
      "test:  3780\n",
      "Loss is built.\n",
      "ep:  0\n",
      "Collecting histogram tensors...\n"
     ]
    },
    {
     "name": "stderr",
     "output_type": "stream",
     "text": [
      "\r",
      "  0%|          | 0/265 [00:00<?, ?it/s]"
     ]
    },
    {
     "name": "stdout",
     "output_type": "stream",
     "text": [
      "New optimizer is used.\n"
     ]
    },
    {
     "name": "stderr",
     "output_type": "stream",
     "text": [
      " 57%|█████▋    | 150/265 [01:59<01:33,  1.23it/s]"
     ]
    },
    {
     "name": "stdout",
     "output_type": "stream",
     "text": [
      "Epoch: 0\n",
      "Regression_Head_1: 0.6716682 \n",
      "Training_Loss: 0.6716682 \n",
      "\n",
      "\n"
     ]
    },
    {
     "name": "stderr",
     "output_type": "stream",
     "text": [
      "100%|██████████| 265/265 [03:31<00:00,  1.25it/s]\n"
     ]
    },
    {
     "name": "stdout",
     "output_type": "stream",
     "text": [
      "acc test:  {'0.01': 0.00211864406779661, '0.05': 0.015095338983050847, '0.1': 0.033103813559322036, '0.15': 0.04925847457627119, '0.2': 0.0680614406779661}\n"
     ]
    },
    {
     "name": "stderr",
     "output_type": "stream",
     "text": [
      "\r",
      "  0%|          | 0/265 [00:00<?, ?it/s]"
     ]
    },
    {
     "name": "stdout",
     "output_type": "stream",
     "text": [
      "Weights are saved to exp_regression_lr_choose/1_exp/model_indx_w_lr_1e-05/acc_0.07_ep_0_exp/weights.ckpt\n",
      "Model's architecture is saved to exp_regression_lr_choose/1_exp/model_indx_w_lr_1e-05/acc_0.07_ep_0_exp/model.json.\n",
      "ep:  1\n"
     ]
    },
    {
     "name": "stderr",
     "output_type": "stream",
     "text": [
      " 57%|█████▋    | 150/265 [01:55<01:58,  1.03s/it]"
     ]
    },
    {
     "name": "stdout",
     "output_type": "stream",
     "text": [
      "Epoch: 0\n",
      "Regression_Head_1: 0.4922071 \n",
      "Training_Loss: 0.4922071 \n",
      "\n",
      "\n"
     ]
    },
    {
     "name": "stderr",
     "output_type": "stream",
     "text": [
      "100%|██████████| 265/265 [03:27<00:00,  1.28it/s]\n"
     ]
    },
    {
     "name": "stdout",
     "output_type": "stream",
     "text": [
      "acc test:  {'0.01': 0.00211864406779661, '0.05': 0.011652542372881356, '0.1': 0.024364406779661018, '0.15': 0.03734110169491525, '0.2': 0.05323093220338983}\n"
     ]
    },
    {
     "name": "stderr",
     "output_type": "stream",
     "text": [
      "\r",
      "  0%|          | 0/265 [00:00<?, ?it/s]"
     ]
    },
    {
     "name": "stdout",
     "output_type": "stream",
     "text": [
      "Weights are saved to exp_regression_lr_choose/1_exp/model_indx_w_lr_1e-05/acc_0.05_ep_1_exp/weights.ckpt\n",
      "Model's architecture is saved to exp_regression_lr_choose/1_exp/model_indx_w_lr_1e-05/acc_0.05_ep_1_exp/model.json.\n",
      "ep:  2\n"
     ]
    },
    {
     "name": "stderr",
     "output_type": "stream",
     "text": [
      " 57%|█████▋    | 150/265 [02:00<01:48,  1.06it/s]"
     ]
    },
    {
     "name": "stdout",
     "output_type": "stream",
     "text": [
      "Epoch: 0\n",
      "Regression_Head_1: 0.3909494 \n",
      "Training_Loss: 0.3909494 \n",
      "\n",
      "\n"
     ]
    },
    {
     "name": "stderr",
     "output_type": "stream",
     "text": [
      "100%|██████████| 265/265 [03:31<00:00,  1.25it/s]\n"
     ]
    },
    {
     "name": "stdout",
     "output_type": "stream",
     "text": [
      "acc test:  {'0.01': 0.008739406779661016, '0.05': 0.04978813559322034, '0.1': 0.09216101694915255, '0.15': 0.14353813559322035, '0.2': 0.20259533898305085}\n"
     ]
    },
    {
     "name": "stderr",
     "output_type": "stream",
     "text": [
      "\r",
      "  0%|          | 0/265 [00:00<?, ?it/s]"
     ]
    },
    {
     "name": "stdout",
     "output_type": "stream",
     "text": [
      "Weights are saved to exp_regression_lr_choose/1_exp/model_indx_w_lr_1e-05/acc_0.2_ep_2_exp/weights.ckpt\n",
      "Model's architecture is saved to exp_regression_lr_choose/1_exp/model_indx_w_lr_1e-05/acc_0.2_ep_2_exp/model.json.\n",
      "ep:  3\n"
     ]
    },
    {
     "name": "stderr",
     "output_type": "stream",
     "text": [
      " 57%|█████▋    | 150/265 [02:00<01:23,  1.37it/s]"
     ]
    },
    {
     "name": "stdout",
     "output_type": "stream",
     "text": [
      "Epoch: 0\n",
      "Regression_Head_1: 0.3056510 \n",
      "Training_Loss: 0.3056510 \n",
      "\n",
      "\n"
     ]
    },
    {
     "name": "stderr",
     "output_type": "stream",
     "text": [
      "100%|██████████| 265/265 [03:27<00:00,  1.27it/s]\n"
     ]
    },
    {
     "name": "stdout",
     "output_type": "stream",
     "text": [
      "acc test:  {'0.01': 0.0023834745762711866, '0.05': 0.015095338983050847, '0.1': 0.02621822033898305, '0.15': 0.043697033898305086, '0.2': 0.05826271186440678}\n"
     ]
    },
    {
     "name": "stderr",
     "output_type": "stream",
     "text": [
      "\r",
      "  0%|          | 0/265 [00:00<?, ?it/s]"
     ]
    },
    {
     "name": "stdout",
     "output_type": "stream",
     "text": [
      "Weights are saved to exp_regression_lr_choose/1_exp/model_indx_w_lr_1e-05/acc_0.06_ep_3_exp/weights.ckpt\n",
      "Model's architecture is saved to exp_regression_lr_choose/1_exp/model_indx_w_lr_1e-05/acc_0.06_ep_3_exp/model.json.\n",
      "ep:  4\n"
     ]
    },
    {
     "name": "stderr",
     "output_type": "stream",
     "text": [
      " 57%|█████▋    | 150/265 [01:58<01:50,  1.04it/s]"
     ]
    },
    {
     "name": "stdout",
     "output_type": "stream",
     "text": [
      "Epoch: 0\n",
      "Regression_Head_1: 0.2437006 \n",
      "Training_Loss: 0.2437006 \n",
      "\n",
      "\n"
     ]
    },
    {
     "name": "stderr",
     "output_type": "stream",
     "text": [
      "100%|██████████| 265/265 [03:31<00:00,  1.25it/s]\n"
     ]
    },
    {
     "name": "stdout",
     "output_type": "stream",
     "text": [
      "acc test:  {'0.01': 0.011387711864406779, '0.05': 0.05455508474576271, '0.1': 0.11096398305084745, '0.15': 0.17266949152542374, '0.2': 0.243114406779661}\n"
     ]
    },
    {
     "name": "stderr",
     "output_type": "stream",
     "text": [
      "\r",
      "  0%|          | 0/265 [00:00<?, ?it/s]"
     ]
    },
    {
     "name": "stdout",
     "output_type": "stream",
     "text": [
      "Weights are saved to exp_regression_lr_choose/1_exp/model_indx_w_lr_1e-05/acc_0.24_ep_4_exp/weights.ckpt\n",
      "Model's architecture is saved to exp_regression_lr_choose/1_exp/model_indx_w_lr_1e-05/acc_0.24_ep_4_exp/model.json.\n",
      "ep:  5\n"
     ]
    },
    {
     "name": "stderr",
     "output_type": "stream",
     "text": [
      " 57%|█████▋    | 150/265 [02:03<01:05,  1.76it/s]"
     ]
    },
    {
     "name": "stdout",
     "output_type": "stream",
     "text": [
      "Epoch: 0\n",
      "Regression_Head_1: 0.1857659 \n",
      "Training_Loss: 0.1857659 \n",
      "\n",
      "\n"
     ]
    },
    {
     "name": "stderr",
     "output_type": "stream",
     "text": [
      "100%|██████████| 265/265 [03:39<00:00,  1.21it/s]\n"
     ]
    },
    {
     "name": "stdout",
     "output_type": "stream",
     "text": [
      "acc test:  {'0.01': 0.005031779661016949, '0.05': 0.030985169491525424, '0.1': 0.07097457627118645, '0.15': 0.1128177966101695, '0.2': 0.16790254237288135}\n"
     ]
    },
    {
     "name": "stderr",
     "output_type": "stream",
     "text": [
      "\r",
      "  0%|          | 0/265 [00:00<?, ?it/s]"
     ]
    },
    {
     "name": "stdout",
     "output_type": "stream",
     "text": [
      "Weights are saved to exp_regression_lr_choose/1_exp/model_indx_w_lr_1e-05/acc_0.17_ep_5_exp/weights.ckpt\n",
      "Model's architecture is saved to exp_regression_lr_choose/1_exp/model_indx_w_lr_1e-05/acc_0.17_ep_5_exp/model.json.\n",
      "ep:  6\n"
     ]
    },
    {
     "name": "stderr",
     "output_type": "stream",
     "text": [
      " 57%|█████▋    | 150/265 [01:53<01:05,  1.75it/s]"
     ]
    },
    {
     "name": "stdout",
     "output_type": "stream",
     "text": [
      "Epoch: 0\n",
      "Regression_Head_1: 0.1436729 \n",
      "Training_Loss: 0.1436729 \n",
      "\n",
      "\n"
     ]
    },
    {
     "name": "stderr",
     "output_type": "stream",
     "text": [
      "100%|██████████| 265/265 [03:16<00:00,  1.35it/s]\n"
     ]
    },
    {
     "name": "stdout",
     "output_type": "stream",
     "text": [
      "acc test:  {'0.01': 0.034957627118644065, '0.05': 0.17266949152542374, '0.1': 0.3448093220338983, '0.15': 0.4962923728813559, '0.2': 0.621292372881356}\n"
     ]
    },
    {
     "name": "stderr",
     "output_type": "stream",
     "text": [
      "\r",
      "  0%|          | 0/265 [00:00<?, ?it/s]"
     ]
    },
    {
     "name": "stdout",
     "output_type": "stream",
     "text": [
      "Weights are saved to exp_regression_lr_choose/1_exp/model_indx_w_lr_1e-05/acc_0.62_ep_6_exp/weights.ckpt\n",
      "Model's architecture is saved to exp_regression_lr_choose/1_exp/model_indx_w_lr_1e-05/acc_0.62_ep_6_exp/model.json.\n",
      "ep:  7\n"
     ]
    },
    {
     "name": "stderr",
     "output_type": "stream",
     "text": [
      " 57%|█████▋    | 150/265 [01:55<01:56,  1.01s/it]"
     ]
    },
    {
     "name": "stdout",
     "output_type": "stream",
     "text": [
      "Epoch: 0\n",
      "Regression_Head_1: 0.1185466 \n",
      "Training_Loss: 0.1185466 \n",
      "\n",
      "\n"
     ]
    },
    {
     "name": "stderr",
     "output_type": "stream",
     "text": [
      "100%|██████████| 265/265 [03:28<00:00,  1.27it/s]\n"
     ]
    },
    {
     "name": "stdout",
     "output_type": "stream",
     "text": [
      "acc test:  {'0.01': 0.014565677966101694, '0.05': 0.0725635593220339, '0.1': 0.14671610169491525, '0.15': 0.2497351694915254, '0.2': 0.3551377118644068}\n"
     ]
    },
    {
     "name": "stderr",
     "output_type": "stream",
     "text": [
      "\r",
      "  0%|          | 0/265 [00:00<?, ?it/s]"
     ]
    },
    {
     "name": "stdout",
     "output_type": "stream",
     "text": [
      "Weights are saved to exp_regression_lr_choose/1_exp/model_indx_w_lr_1e-05/acc_0.36_ep_7_exp/weights.ckpt\n",
      "Model's architecture is saved to exp_regression_lr_choose/1_exp/model_indx_w_lr_1e-05/acc_0.36_ep_7_exp/model.json.\n",
      "ep:  8\n"
     ]
    },
    {
     "name": "stderr",
     "output_type": "stream",
     "text": [
      " 57%|█████▋    | 150/265 [01:56<01:50,  1.04it/s]"
     ]
    },
    {
     "name": "stdout",
     "output_type": "stream",
     "text": [
      "Epoch: 0\n",
      "Regression_Head_1: 0.0896832 \n",
      "Training_Loss: 0.0896832 \n",
      "\n",
      "\n"
     ]
    },
    {
     "name": "stderr",
     "output_type": "stream",
     "text": [
      "100%|██████████| 265/265 [03:30<00:00,  1.26it/s]\n"
     ]
    },
    {
     "name": "stdout",
     "output_type": "stream",
     "text": [
      "acc test:  {'0.01': 0.018273305084745763, '0.05': 0.07971398305084745, '0.1': 0.17346398305084745, '0.15': 0.2669491525423729, '0.2': 0.3718220338983051}\n"
     ]
    },
    {
     "name": "stderr",
     "output_type": "stream",
     "text": [
      "\r",
      "  0%|          | 0/265 [00:00<?, ?it/s]"
     ]
    },
    {
     "name": "stdout",
     "output_type": "stream",
     "text": [
      "Weights are saved to exp_regression_lr_choose/1_exp/model_indx_w_lr_1e-05/acc_0.37_ep_8_exp/weights.ckpt\n",
      "Model's architecture is saved to exp_regression_lr_choose/1_exp/model_indx_w_lr_1e-05/acc_0.37_ep_8_exp/model.json.\n",
      "ep:  9\n"
     ]
    },
    {
     "name": "stderr",
     "output_type": "stream",
     "text": [
      " 57%|█████▋    | 150/265 [01:56<01:16,  1.51it/s]"
     ]
    },
    {
     "name": "stdout",
     "output_type": "stream",
     "text": [
      "Epoch: 0\n",
      "Regression_Head_1: 0.0903849 \n",
      "Training_Loss: 0.0903849 \n",
      "\n",
      "\n"
     ]
    },
    {
     "name": "stderr",
     "output_type": "stream",
     "text": [
      "100%|██████████| 265/265 [03:34<00:00,  1.23it/s]\n"
     ]
    },
    {
     "name": "stdout",
     "output_type": "stream",
     "text": [
      "acc test:  {'0.01': 0.027277542372881356, '0.05': 0.1427436440677966, '0.1': 0.3103813559322034, '0.15': 0.4830508474576271, '0.2': 0.6220868644067796}\n"
     ]
    },
    {
     "name": "stderr",
     "output_type": "stream",
     "text": [
      "\r",
      "  0%|          | 0/265 [00:00<?, ?it/s]"
     ]
    },
    {
     "name": "stdout",
     "output_type": "stream",
     "text": [
      "Weights are saved to exp_regression_lr_choose/1_exp/model_indx_w_lr_1e-05/acc_0.62_ep_9_exp/weights.ckpt\n",
      "Model's architecture is saved to exp_regression_lr_choose/1_exp/model_indx_w_lr_1e-05/acc_0.62_ep_9_exp/model.json.\n",
      "ep:  10\n"
     ]
    },
    {
     "name": "stderr",
     "output_type": "stream",
     "text": [
      " 57%|█████▋    | 150/265 [01:46<00:57,  1.99it/s]"
     ]
    },
    {
     "name": "stdout",
     "output_type": "stream",
     "text": [
      "Epoch: 0\n",
      "Regression_Head_1: 0.0831666 \n",
      "Training_Loss: 0.0831666 \n",
      "\n",
      "\n"
     ]
    },
    {
     "name": "stderr",
     "output_type": "stream",
     "text": [
      "100%|██████████| 265/265 [03:16<00:00,  1.35it/s]\n"
     ]
    },
    {
     "name": "stdout",
     "output_type": "stream",
     "text": [
      "acc test:  {'0.01': 0.018273305084745763, '0.05': 0.09507415254237288, '0.1': 0.1909427966101695, '0.15': 0.3085275423728814, '0.2': 0.453125}\n"
     ]
    },
    {
     "name": "stderr",
     "output_type": "stream",
     "text": [
      "\r",
      "  0%|          | 0/265 [00:00<?, ?it/s]"
     ]
    },
    {
     "name": "stdout",
     "output_type": "stream",
     "text": [
      "Weights are saved to exp_regression_lr_choose/1_exp/model_indx_w_lr_1e-05/acc_0.45_ep_10_exp/weights.ckpt\n",
      "Model's architecture is saved to exp_regression_lr_choose/1_exp/model_indx_w_lr_1e-05/acc_0.45_ep_10_exp/model.json.\n",
      "ep:  11\n"
     ]
    },
    {
     "name": "stderr",
     "output_type": "stream",
     "text": [
      " 57%|█████▋    | 150/265 [01:55<01:44,  1.10it/s]"
     ]
    },
    {
     "name": "stdout",
     "output_type": "stream",
     "text": [
      "Epoch: 0\n",
      "Regression_Head_1: 0.0780220 \n",
      "Training_Loss: 0.0780220 \n",
      "\n",
      "\n"
     ]
    },
    {
     "name": "stderr",
     "output_type": "stream",
     "text": [
      " 62%|██████▏   | 165/265 [02:05<00:47,  2.10it/s]"
     ]
    }
   ],
   "source": [
    "for path_to_exp in EXP_FOLDERS:\n",
    "    for lr_value in LR_POOL:\n",
    "        # Create folder\n",
    "        path_to_model_folder = os.path.join(\n",
    "            path_to_exp, \n",
    "            f'model_indx_w_lr_{lr_value}'\n",
    "        )\n",
    "        os.makedirs(path_to_model_folder, exist_ok=True)\n",
    "        # At start of each experiments - create new dataset (shuffle it)\n",
    "        Xtrain, Ytrain, Xtest, Ytest, pred2params, config_data = load_data(\n",
    "            path_exp_folder=path_to_exp,\n",
    "            path_to_data='..',\n",
    "            use_saved=True,\n",
    "            size_hw=(336, 336),\n",
    "            test_div=0.8,\n",
    "            data_type=REGRESSION,\n",
    "            filename_config='config_data'\n",
    "        )\n",
    "\n",
    "        Ytrain = np.array(Ytrain).astype(np.float32).reshape(-1, 1)\n",
    "        Ytest = np.array(Ytest).astype(np.float32).reshape(-1, 1)\n",
    "\n",
    "        # Create model\n",
    "        model, trainer, opt, global_step, sess = get_regression_model(\n",
    "            size_hw=(336, 336), \n",
    "            batch_size=BATCH_SIZE, \n",
    "            size_dataset=len(Ytrain),\n",
    "            lr=lr_value\n",
    "        )\n",
    "\n",
    "        gen = get_generator_wrapper(Xtrain, Ytrain, BATCH_SIZE)\n",
    "        accur_list = []\n",
    "        max_acc_np = np.float32(0.0)\n",
    "\n",
    "        for epoch_num in range(EPOCHS):\n",
    "            # Each epoch:\n",
    "            # Train -> eval -> create folder -> save weights/arch -> save results\n",
    "            print('ep: ', epoch_num)\n",
    "            info1 = trainer.fit_generator(\n",
    "                gen, optimizer=opt, epochs=1, \n",
    "                iter=len(Xtrain)//(2*BATCH_SIZE), print_period=150, global_step=global_step\n",
    "            )\n",
    "            predictions = eval_model(\n",
    "                model, \n",
    "                Xtest, Ytest, \n",
    "                BATCH_SIZE, \n",
    "                calc_mean=False, is_classic=False, return_predict_only=True\n",
    "            ).reshape(-1, 1)\n",
    "            # {value_thr: pred_acc}\n",
    "            json_pred_info = dict()\n",
    "            for thr_value in THR_PRED_LIST:\n",
    "                abs_pr_and_y = np.abs(predictions - Ytest[:len(predictions)])\n",
    "                pred_acc = np.mean(abs_pr_and_y <= thr_value)\n",
    "                json_pred_info[str(thr_value)] = pred_acc\n",
    "                max_acc_np = np.max([max_acc_np, pred_acc])\n",
    "            print('acc test: ', json_pred_info)\n",
    "            accur_list.append(json_pred_info)\n",
    "            # Create folder\n",
    "            path_to_s_epoch = os.path.join(\n",
    "                path_to_model_folder, \n",
    "                f'acc_{round(json_pred_info[str(THR_PRED_LIST[-1])], 2)}_ep_{epoch_num}_exp'\n",
    "            )\n",
    "            os.makedirs(path_to_s_epoch, exist_ok=True)\n",
    "            # acc info - write into json\n",
    "            with open(os.path.join(path_to_s_epoch, 'acc_data.json'), 'w') as fp:\n",
    "                json.dump(json_pred_info, fp)\n",
    "            # Save weights/arch\n",
    "            model.save_weights(os.path.join(path_to_s_epoch, 'weights.ckpt'))\n",
    "            model.save_architecture(os.path.join(path_to_s_epoch, 'model.json'))\n",
    "            # Save results\n",
    "            \"\"\"\n",
    "            save_conf_matrix(\n",
    "                Ytest, predictions, \n",
    "                os.path.join(path_to_s_epoch, 'conf_matrix'),\n",
    "                save_np=True\n",
    "            )\n",
    "            error_angle(\n",
    "                os.path.join(path_to_s_epoch, 'error_angle_all_class'), \n",
    "                config_data, Ytest, predictions,\n",
    "                save_np=True\n",
    "            )\n",
    "            \"\"\"\n",
    "        np.save(os.path.join(path_to_model_folder, 'max_acc.npy'), np.float32(max_acc_np))\n",
    "        fig = plt.figure(figsize=(8, 8))\n",
    "        for thr_value in THR_PRED_LIST:\n",
    "            pred_taken = [single[str(thr_value)] for single in accur_list]\n",
    "            plt.plot(pred_taken)\n",
    "        plt.legend(list(map(lambda x: str(x), THR_PRED_LIST)))\n",
    "        fig.savefig(os.path.join(path_to_model_folder, 'acc.png'))\n",
    "        # Clear plt figures\n",
    "        plt.close('all')\n",
    "        # close session and reset graph\n",
    "        sess.close()\n",
    "        tf.reset_default_graph()"
   ]
  },
  {
   "cell_type": "code",
   "execution_count": null,
   "metadata": {},
   "outputs": [],
   "source": [
    "%matplotlib inline"
   ]
  },
  {
   "cell_type": "code",
   "execution_count": null,
   "metadata": {},
   "outputs": [],
   "source": [
    "plt.imshow(Xtest[-100])"
   ]
  },
  {
   "cell_type": "code",
   "execution_count": null,
   "metadata": {},
   "outputs": [],
   "source": [
    "Ytest[-100]"
   ]
  },
  {
   "cell_type": "code",
   "execution_count": null,
   "metadata": {},
   "outputs": [],
   "source": [
    "len(acc_test)"
   ]
  },
  {
   "cell_type": "code",
   "execution_count": null,
   "metadata": {},
   "outputs": [],
   "source": [
    "len(predictions)"
   ]
  },
  {
   "cell_type": "code",
   "execution_count": null,
   "metadata": {},
   "outputs": [],
   "source": [
    "1"
   ]
  },
  {
   "cell_type": "code",
   "execution_count": null,
   "metadata": {},
   "outputs": [],
   "source": [
    "2"
   ]
  },
  {
   "cell_type": "code",
   "execution_count": null,
   "metadata": {},
   "outputs": [],
   "source": []
  }
 ],
 "metadata": {
  "accelerator": "GPU",
  "colab": {
   "collapsed_sections": [],
   "name": "classification.ipynb",
   "provenance": []
  },
  "kernelspec": {
   "display_name": "Python 3",
   "language": "python",
   "name": "python3"
  },
  "language_info": {
   "codemirror_mode": {
    "name": "ipython",
    "version": 3
   },
   "file_extension": ".py",
   "mimetype": "text/x-python",
   "name": "python",
   "nbconvert_exporter": "python",
   "pygments_lexer": "ipython3",
   "version": "3.8.5"
  }
 },
 "nbformat": 4,
 "nbformat_minor": 1
}
