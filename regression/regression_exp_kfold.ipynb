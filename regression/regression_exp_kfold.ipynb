{
 "cells": [
  {
   "cell_type": "code",
   "execution_count": 1,
   "metadata": {
    "colab": {
     "base_uri": "https://localhost:8080/"
    },
    "id": "jnVNmf0_UoQZ",
    "outputId": "0d83adba-608d-4551-a2d2-576a4a944311"
   },
   "outputs": [
    {
     "name": "stdout",
     "output_type": "stream",
     "text": [
      "WARNING:tensorflow:Deprecation warnings have been disabled. Set TF_ENABLE_DEPRECATION_WARNINGS=1 to re-enable them.\n",
      "WARNING:tensorflow:From /usr/local/lib/python3.8/dist-packages/makiflow/core/inference/maki_core.py:108: The name tf.Session is deprecated. Please use tf.compat.v1.Session instead.\n",
      "\n"
     ]
    }
   ],
   "source": [
    "import sys\n",
    "\n",
    "sys.path.append('..')\n",
    "\n",
    "from utils import (load_data, CLASSIFICATION, REGRESSION, coffe_norm, get_regression_model,\n",
    "                  save_conf_matrix, error_angle, eval_model, get_generator_wrapper)\n",
    "import numpy as np\n",
    "import os\n",
    "import matplotlib.pyplot as plt \n",
    "import sys\n",
    "from glob import glob\n",
    "import json\n",
    "import tensorflow as tf\n",
    "\n",
    "from makiflow import set_main_gpu\n",
    "\n",
    "set_main_gpu(2)"
   ]
  },
  {
   "cell_type": "code",
   "execution_count": 2,
   "metadata": {
    "id": "foLn5zvGVMse"
   },
   "outputs": [],
   "source": [
    "EXP_FOLDER = 'exp_regression_kfold_4'\n",
    "LR = 8e-3\n",
    "BATCH_SIZE = 64\n",
    "EXP_FOLDERS = glob(os.path.join(EXP_FOLDER, '*'))\n",
    "EPOCHS = 30\n",
    "\n",
    "THR_PRED_LIST = [0.01, 0.05, 0.1, 0.15, 0.2]"
   ]
  },
  {
   "cell_type": "code",
   "execution_count": null,
   "metadata": {
    "colab": {
     "base_uri": "https://localhost:8080/"
    },
    "id": "0Fxo2li_VkpK",
    "outputId": "912c69ab-0097-43fa-d837-200326ae3429",
    "scrolled": true
   },
   "outputs": [
    {
     "name": "stderr",
     "output_type": "stream",
     "text": [
      "  0%|          | 65/34020 [00:00<00:52, 644.15it/s]"
     ]
    },
    {
     "name": "stdout",
     "output_type": "stream",
     "text": [
      "Read data from config file:  config_data\n"
     ]
    },
    {
     "name": "stderr",
     "output_type": "stream",
     "text": [
      "100%|██████████| 34020/34020 [00:53<00:00, 635.38it/s]\n",
      "100%|██████████| 3780/3780 [00:05<00:00, 645.74it/s]"
     ]
    },
    {
     "name": "stdout",
     "output_type": "stream",
     "text": [
      "train :  34020\n",
      "test:  3780\n",
      "WARNING:tensorflow:From /usr/local/lib/python3.8/dist-packages/makiflow/layers/untrainable_layers.py:44: The name tf.placeholder is deprecated. Please use tf.compat.v1.placeholder instead.\n",
      "\n"
     ]
    },
    {
     "name": "stderr",
     "output_type": "stream",
     "text": [
      "\n"
     ]
    },
    {
     "name": "stdout",
     "output_type": "stream",
     "text": [
      "WARNING:tensorflow:From /usr/local/lib/python3.8/dist-packages/makiflow/layers/untrainable_layers.py:494: The name tf.nn.max_pool is deprecated. Please use tf.nn.max_pool2d instead.\n",
      "\n",
      "WARNING:tensorflow:From /usr/local/lib/python3.8/dist-packages/makiflow/core/inference/maki_core.py:117: The name tf.variables_initializer is deprecated. Please use tf.compat.v1.variables_initializer instead.\n",
      "\n",
      "WARNING:tensorflow:From /usr/local/lib/python3.8/dist-packages/makiflow/layers/trainable_layers.py:1052: The name tf.assign is deprecated. Please use tf.compat.v1.assign instead.\n",
      "\n",
      "WARNING:tensorflow:From /usr/local/lib/python3.8/dist-packages/makiflow/core/training/tensorboard.py:41: The name tf.summary.scalar is deprecated. Please use tf.compat.v1.summary.scalar instead.\n",
      "\n",
      "Loss is built.\n",
      "WARNING:tensorflow:From ../utils/model_tools.py:186: The name tf.train.piecewise_constant_decay is deprecated. Please use tf.compat.v1.train.piecewise_constant_decay instead.\n",
      "\n",
      "WARNING:tensorflow:From ../utils/model_tools.py:191: The name tf.train.AdamOptimizer is deprecated. Please use tf.compat.v1.train.AdamOptimizer instead.\n",
      "\n",
      "ep:  0\n",
      "Collecting histogram tensors...\n",
      "WARNING:tensorflow:From /usr/local/lib/python3.8/dist-packages/makiflow/core/training/tensorboard.py:61: The name tf.summary.merge is deprecated. Please use tf.compat.v1.summary.merge instead.\n",
      "\n"
     ]
    },
    {
     "name": "stderr",
     "output_type": "stream",
     "text": [
      "\r",
      "  0%|          | 0/265 [00:00<?, ?it/s]"
     ]
    },
    {
     "name": "stdout",
     "output_type": "stream",
     "text": [
      "New optimizer is used.\n"
     ]
    },
    {
     "name": "stderr",
     "output_type": "stream",
     "text": [
      " 57%|█████▋    | 150/265 [02:19<01:39,  1.15it/s]"
     ]
    },
    {
     "name": "stdout",
     "output_type": "stream",
     "text": [
      "Epoch: 0\n",
      "Regression_Head_1: 0.2430825 \n",
      "Training_Loss: 0.2430825 \n",
      "\n",
      "\n"
     ]
    },
    {
     "name": "stderr",
     "output_type": "stream",
     "text": [
      "100%|██████████| 265/265 [03:54<00:00,  1.13it/s]\n"
     ]
    },
    {
     "name": "stdout",
     "output_type": "stream",
     "text": [
      "acc test:  {'0.01': 0.0031779661016949155, '0.05': 0.014300847457627119, '0.1': 0.030985169491525424, '0.15': 0.046610169491525424, '0.2': 0.06991525423728813}\n",
      "WARNING:tensorflow:From /usr/local/lib/python3.8/dist-packages/makiflow/core/inference/model_serializer.py:71: The name tf.train.Saver is deprecated. Please use tf.compat.v1.train.Saver instead.\n",
      "\n"
     ]
    },
    {
     "name": "stderr",
     "output_type": "stream",
     "text": [
      "\r",
      "  0%|          | 0/265 [00:00<?, ?it/s]"
     ]
    },
    {
     "name": "stdout",
     "output_type": "stream",
     "text": [
      "Weights are saved to exp_regression_kfold_4/1_exp/acc_0.07_ep_0_exp/weights.ckpt\n",
      "Model's architecture is saved to exp_regression_kfold_4/1_exp/acc_0.07_ep_0_exp/model.json.\n",
      "ep:  1\n"
     ]
    },
    {
     "name": "stderr",
     "output_type": "stream",
     "text": [
      " 57%|█████▋    | 150/265 [01:57<01:01,  1.86it/s]"
     ]
    },
    {
     "name": "stdout",
     "output_type": "stream",
     "text": [
      "Epoch: 0\n",
      "Regression_Head_1: 0.1882958 \n",
      "Training_Loss: 0.1882958 \n",
      "\n",
      "\n"
     ]
    },
    {
     "name": "stderr",
     "output_type": "stream",
     "text": [
      "100%|██████████| 265/265 [03:35<00:00,  1.23it/s]\n"
     ]
    },
    {
     "name": "stdout",
     "output_type": "stream",
     "text": [
      "acc test:  {'0.01': 0.011652542372881356, '0.05': 0.06038135593220339, '0.1': 0.11784957627118645, '0.15': 0.17558262711864406, '0.2': 0.2677436440677966}\n"
     ]
    },
    {
     "name": "stderr",
     "output_type": "stream",
     "text": [
      "\r",
      "  0%|          | 0/265 [00:00<?, ?it/s]"
     ]
    },
    {
     "name": "stdout",
     "output_type": "stream",
     "text": [
      "Weights are saved to exp_regression_kfold_4/1_exp/acc_0.27_ep_1_exp/weights.ckpt\n",
      "Model's architecture is saved to exp_regression_kfold_4/1_exp/acc_0.27_ep_1_exp/model.json.\n",
      "ep:  2\n"
     ]
    },
    {
     "name": "stderr",
     "output_type": "stream",
     "text": [
      " 57%|█████▋    | 150/265 [02:06<01:26,  1.32it/s]"
     ]
    },
    {
     "name": "stdout",
     "output_type": "stream",
     "text": [
      "Epoch: 0\n",
      "Regression_Head_1: 0.1269942 \n",
      "Training_Loss: 0.1269942 \n",
      "\n",
      "\n"
     ]
    },
    {
     "name": "stderr",
     "output_type": "stream",
     "text": [
      "100%|██████████| 265/265 [03:45<00:00,  1.17it/s]\n"
     ]
    },
    {
     "name": "stdout",
     "output_type": "stream",
     "text": [
      "acc test:  {'0.01': 0.0066207627118644065, '0.05': 0.030985169491525424, '0.1': 0.05746822033898305, '0.15': 0.07944915254237288, '0.2': 0.10116525423728813}\n"
     ]
    },
    {
     "name": "stderr",
     "output_type": "stream",
     "text": [
      "\r",
      "  0%|          | 0/265 [00:00<?, ?it/s]"
     ]
    },
    {
     "name": "stdout",
     "output_type": "stream",
     "text": [
      "Weights are saved to exp_regression_kfold_4/1_exp/acc_0.1_ep_2_exp/weights.ckpt\n",
      "Model's architecture is saved to exp_regression_kfold_4/1_exp/acc_0.1_ep_2_exp/model.json.\n",
      "ep:  3\n"
     ]
    },
    {
     "name": "stderr",
     "output_type": "stream",
     "text": [
      " 57%|█████▋    | 150/265 [02:08<01:13,  1.56it/s]"
     ]
    },
    {
     "name": "stdout",
     "output_type": "stream",
     "text": [
      "Epoch: 0\n",
      "Regression_Head_1: 0.1168314 \n",
      "Training_Loss: 0.1168314 \n",
      "\n",
      "\n"
     ]
    },
    {
     "name": "stderr",
     "output_type": "stream",
     "text": [
      "100%|██████████| 265/265 [03:41<00:00,  1.19it/s]\n"
     ]
    },
    {
     "name": "stdout",
     "output_type": "stream",
     "text": [
      "acc test:  {'0.01': 0.0031779661016949155, '0.05': 0.021451271186440676, '0.1': 0.04422669491525424, '0.15': 0.06965042372881355, '0.2': 0.11440677966101695}\n"
     ]
    },
    {
     "name": "stderr",
     "output_type": "stream",
     "text": [
      "\r",
      "  0%|          | 0/265 [00:00<?, ?it/s]"
     ]
    },
    {
     "name": "stdout",
     "output_type": "stream",
     "text": [
      "Weights are saved to exp_regression_kfold_4/1_exp/acc_0.11_ep_3_exp/weights.ckpt\n",
      "Model's architecture is saved to exp_regression_kfold_4/1_exp/acc_0.11_ep_3_exp/model.json.\n",
      "ep:  4\n"
     ]
    },
    {
     "name": "stderr",
     "output_type": "stream",
     "text": [
      " 57%|█████▋    | 150/265 [02:05<01:30,  1.27it/s]"
     ]
    },
    {
     "name": "stdout",
     "output_type": "stream",
     "text": [
      "Epoch: 0\n",
      "Regression_Head_1: 0.1153712 \n",
      "Training_Loss: 0.1153712 \n",
      "\n",
      "\n"
     ]
    },
    {
     "name": "stderr",
     "output_type": "stream",
     "text": [
      "100%|██████████| 265/265 [03:41<00:00,  1.20it/s]\n"
     ]
    },
    {
     "name": "stdout",
     "output_type": "stream",
     "text": [
      "acc test:  {'0.01': 0.007415254237288136, '0.05': 0.03628177966101695, '0.1': 0.07627118644067797, '0.15': 0.1252648305084746, '0.2': 0.1763771186440678}\n"
     ]
    },
    {
     "name": "stderr",
     "output_type": "stream",
     "text": [
      "\r",
      "  0%|          | 0/265 [00:00<?, ?it/s]"
     ]
    },
    {
     "name": "stdout",
     "output_type": "stream",
     "text": [
      "Weights are saved to exp_regression_kfold_4/1_exp/acc_0.18_ep_4_exp/weights.ckpt\n",
      "Model's architecture is saved to exp_regression_kfold_4/1_exp/acc_0.18_ep_4_exp/model.json.\n",
      "ep:  5\n"
     ]
    },
    {
     "name": "stderr",
     "output_type": "stream",
     "text": [
      " 57%|█████▋    | 150/265 [02:07<01:52,  1.02it/s]"
     ]
    },
    {
     "name": "stdout",
     "output_type": "stream",
     "text": [
      "Epoch: 0\n",
      "Regression_Head_1: 0.0888890 \n",
      "Training_Loss: 0.0888890 \n",
      "\n",
      "\n"
     ]
    },
    {
     "name": "stderr",
     "output_type": "stream",
     "text": [
      "100%|██████████| 265/265 [03:47<00:00,  1.17it/s]\n"
     ]
    },
    {
     "name": "stdout",
     "output_type": "stream",
     "text": [
      "acc test:  {'0.01': 0.011387711864406779, '0.05': 0.06514830508474577, '0.1': 0.14804025423728814, '0.15': 0.22695974576271186, '0.2': 0.3042902542372881}\n"
     ]
    },
    {
     "name": "stderr",
     "output_type": "stream",
     "text": [
      "\r",
      "  0%|          | 0/265 [00:00<?, ?it/s]"
     ]
    },
    {
     "name": "stdout",
     "output_type": "stream",
     "text": [
      "Weights are saved to exp_regression_kfold_4/1_exp/acc_0.3_ep_5_exp/weights.ckpt\n",
      "Model's architecture is saved to exp_regression_kfold_4/1_exp/acc_0.3_ep_5_exp/model.json.\n",
      "ep:  6\n"
     ]
    },
    {
     "name": "stderr",
     "output_type": "stream",
     "text": [
      " 57%|█████▋    | 150/265 [02:30<01:59,  1.04s/it]"
     ]
    },
    {
     "name": "stdout",
     "output_type": "stream",
     "text": [
      "Epoch: 0\n",
      "Regression_Head_1: 0.0901050 \n",
      "Training_Loss: 0.0901050 \n",
      "\n",
      "\n"
     ]
    },
    {
     "name": "stderr",
     "output_type": "stream",
     "text": [
      "100%|██████████| 265/265 [04:24<00:00,  1.00it/s]\n"
     ]
    },
    {
     "name": "stdout",
     "output_type": "stream",
     "text": [
      "acc test:  {'0.01': 0.05958686440677966, '0.05': 0.2801906779661017, '0.1': 0.5534957627118644, '0.15': 0.7666843220338984, '0.2': 0.8990995762711864}\n"
     ]
    },
    {
     "name": "stderr",
     "output_type": "stream",
     "text": [
      "\r",
      "  0%|          | 0/265 [00:00<?, ?it/s]"
     ]
    },
    {
     "name": "stdout",
     "output_type": "stream",
     "text": [
      "Weights are saved to exp_regression_kfold_4/1_exp/acc_0.9_ep_6_exp/weights.ckpt\n",
      "Model's architecture is saved to exp_regression_kfold_4/1_exp/acc_0.9_ep_6_exp/model.json.\n",
      "ep:  7\n"
     ]
    },
    {
     "name": "stderr",
     "output_type": "stream",
     "text": [
      " 57%|█████▋    | 150/265 [02:40<02:13,  1.16s/it]"
     ]
    },
    {
     "name": "stdout",
     "output_type": "stream",
     "text": [
      "Epoch: 0\n",
      "Regression_Head_1: 0.0632166 \n",
      "Training_Loss: 0.0632166 \n",
      "\n",
      "\n"
     ]
    },
    {
     "name": "stderr",
     "output_type": "stream",
     "text": [
      "100%|██████████| 265/265 [04:27<00:00,  1.01s/it]\n"
     ]
    },
    {
     "name": "stdout",
     "output_type": "stream",
     "text": [
      "acc test:  {'0.01': 0.0670021186440678, '0.05': 0.2939618644067797, '0.1': 0.4115466101694915, '0.15': 0.4782838983050847, '0.2': 0.5357521186440678}\n"
     ]
    },
    {
     "name": "stderr",
     "output_type": "stream",
     "text": [
      "\r",
      "  0%|          | 0/265 [00:00<?, ?it/s]"
     ]
    },
    {
     "name": "stdout",
     "output_type": "stream",
     "text": [
      "Weights are saved to exp_regression_kfold_4/1_exp/acc_0.54_ep_7_exp/weights.ckpt\n",
      "Model's architecture is saved to exp_regression_kfold_4/1_exp/acc_0.54_ep_7_exp/model.json.\n",
      "ep:  8\n"
     ]
    },
    {
     "name": "stderr",
     "output_type": "stream",
     "text": [
      " 57%|█████▋    | 150/265 [02:30<01:57,  1.02s/it]"
     ]
    },
    {
     "name": "stdout",
     "output_type": "stream",
     "text": [
      "Epoch: 0\n",
      "Regression_Head_1: 0.0862493 \n",
      "Training_Loss: 0.0862493 \n",
      "\n",
      "\n"
     ]
    },
    {
     "name": "stderr",
     "output_type": "stream",
     "text": [
      "100%|██████████| 265/265 [04:19<00:00,  1.02it/s]\n"
     ]
    },
    {
     "name": "stdout",
     "output_type": "stream",
     "text": [
      "acc test:  {'0.01': 0.034957627118644065, '0.05': 0.18140889830508475, '0.1': 0.3795021186440678, '0.15': 0.5317796610169492, '0.2': 0.628707627118644}\n"
     ]
    },
    {
     "name": "stderr",
     "output_type": "stream",
     "text": [
      "\r",
      "  0%|          | 0/265 [00:00<?, ?it/s]"
     ]
    },
    {
     "name": "stdout",
     "output_type": "stream",
     "text": [
      "Weights are saved to exp_regression_kfold_4/1_exp/acc_0.63_ep_8_exp/weights.ckpt\n",
      "Model's architecture is saved to exp_regression_kfold_4/1_exp/acc_0.63_ep_8_exp/model.json.\n",
      "ep:  9\n"
     ]
    },
    {
     "name": "stderr",
     "output_type": "stream",
     "text": [
      " 57%|█████▋    | 150/265 [02:32<01:00,  1.91it/s]"
     ]
    },
    {
     "name": "stdout",
     "output_type": "stream",
     "text": [
      "Epoch: 0\n",
      "Regression_Head_1: 0.1131629 \n",
      "Training_Loss: 0.1131629 \n",
      "\n",
      "\n"
     ]
    },
    {
     "name": "stderr",
     "output_type": "stream",
     "text": [
      "100%|██████████| 265/265 [04:18<00:00,  1.02it/s]\n"
     ]
    },
    {
     "name": "stdout",
     "output_type": "stream",
     "text": [
      "acc test:  {'0.01': 0.1003707627118644, '0.05': 0.4192266949152542, '0.1': 0.6620762711864406, '0.15': 0.8034957627118644, '0.2': 0.9340572033898306}\n"
     ]
    },
    {
     "name": "stderr",
     "output_type": "stream",
     "text": [
      "\r",
      "  0%|          | 0/265 [00:00<?, ?it/s]"
     ]
    },
    {
     "name": "stdout",
     "output_type": "stream",
     "text": [
      "Weights are saved to exp_regression_kfold_4/1_exp/acc_0.93_ep_9_exp/weights.ckpt\n",
      "Model's architecture is saved to exp_regression_kfold_4/1_exp/acc_0.93_ep_9_exp/model.json.\n",
      "ep:  10\n"
     ]
    },
    {
     "name": "stderr",
     "output_type": "stream",
     "text": [
      " 57%|█████▋    | 150/265 [02:30<01:40,  1.15it/s]"
     ]
    },
    {
     "name": "stdout",
     "output_type": "stream",
     "text": [
      "Epoch: 0\n",
      "Regression_Head_1: 0.1165657 \n",
      "Training_Loss: 0.1165657 \n",
      "\n",
      "\n"
     ]
    },
    {
     "name": "stderr",
     "output_type": "stream",
     "text": [
      "100%|██████████| 265/265 [04:22<00:00,  1.01it/s]\n"
     ]
    },
    {
     "name": "stdout",
     "output_type": "stream",
     "text": [
      "acc test:  {'0.01': 0.06991525423728813, '0.05': 0.4202860169491525, '0.1': 0.8196504237288136, '0.15': 0.9613347457627118, '0.2': 0.9833156779661016}\n"
     ]
    },
    {
     "name": "stderr",
     "output_type": "stream",
     "text": [
      "\r",
      "  0%|          | 0/265 [00:00<?, ?it/s]"
     ]
    },
    {
     "name": "stdout",
     "output_type": "stream",
     "text": [
      "Weights are saved to exp_regression_kfold_4/1_exp/acc_0.98_ep_10_exp/weights.ckpt\n",
      "Model's architecture is saved to exp_regression_kfold_4/1_exp/acc_0.98_ep_10_exp/model.json.\n",
      "ep:  11\n"
     ]
    },
    {
     "name": "stderr",
     "output_type": "stream",
     "text": [
      " 57%|█████▋    | 150/265 [02:26<01:35,  1.20it/s]"
     ]
    },
    {
     "name": "stdout",
     "output_type": "stream",
     "text": [
      "Epoch: 0\n",
      "Regression_Head_1: 0.0764218 \n",
      "Training_Loss: 0.0764218 \n",
      "\n",
      "\n"
     ]
    },
    {
     "name": "stderr",
     "output_type": "stream",
     "text": [
      "100%|██████████| 265/265 [04:11<00:00,  1.05it/s]\n"
     ]
    },
    {
     "name": "stdout",
     "output_type": "stream",
     "text": [
      "acc test:  {'0.01': 0.09348516949152542, '0.05': 0.4139300847457627, '0.1': 0.6663135593220338, '0.15': 0.8416313559322034, '0.2': 0.946239406779661}\n"
     ]
    },
    {
     "name": "stderr",
     "output_type": "stream",
     "text": [
      "\r",
      "  0%|          | 0/265 [00:00<?, ?it/s]"
     ]
    },
    {
     "name": "stdout",
     "output_type": "stream",
     "text": [
      "Weights are saved to exp_regression_kfold_4/1_exp/acc_0.95_ep_11_exp/weights.ckpt\n",
      "Model's architecture is saved to exp_regression_kfold_4/1_exp/acc_0.95_ep_11_exp/model.json.\n",
      "ep:  12\n"
     ]
    },
    {
     "name": "stderr",
     "output_type": "stream",
     "text": [
      " 57%|█████▋    | 150/265 [02:30<02:01,  1.06s/it]"
     ]
    },
    {
     "name": "stdout",
     "output_type": "stream",
     "text": [
      "Epoch: 0\n",
      "Regression_Head_1: 0.0745415 \n",
      "Training_Loss: 0.0745415 \n",
      "\n",
      "\n"
     ]
    },
    {
     "name": "stderr",
     "output_type": "stream",
     "text": [
      "100%|██████████| 265/265 [04:22<00:00,  1.01it/s]\n"
     ]
    },
    {
     "name": "stdout",
     "output_type": "stream",
     "text": [
      "acc test:  {'0.01': 0.06170550847457627, '0.05': 0.4192266949152542, '0.1': 0.6880296610169492, '0.15': 0.7698622881355932, '0.2': 0.8636122881355932}\n"
     ]
    },
    {
     "name": "stderr",
     "output_type": "stream",
     "text": [
      "\r",
      "  0%|          | 0/265 [00:00<?, ?it/s]"
     ]
    },
    {
     "name": "stdout",
     "output_type": "stream",
     "text": [
      "Weights are saved to exp_regression_kfold_4/1_exp/acc_0.86_ep_12_exp/weights.ckpt\n",
      "Model's architecture is saved to exp_regression_kfold_4/1_exp/acc_0.86_ep_12_exp/model.json.\n",
      "ep:  13\n"
     ]
    },
    {
     "name": "stderr",
     "output_type": "stream",
     "text": [
      " 57%|█████▋    | 150/265 [02:29<01:23,  1.38it/s]"
     ]
    },
    {
     "name": "stdout",
     "output_type": "stream",
     "text": [
      "Epoch: 0\n",
      "Regression_Head_1: 0.0600222 \n",
      "Training_Loss: 0.0600222 \n",
      "\n",
      "\n"
     ]
    },
    {
     "name": "stderr",
     "output_type": "stream",
     "text": [
      "100%|██████████| 265/265 [04:18<00:00,  1.02it/s]\n"
     ]
    },
    {
     "name": "stdout",
     "output_type": "stream",
     "text": [
      "acc test:  {'0.01': 0.0680614406779661, '0.05': 0.3360699152542373, '0.1': 0.5783898305084746, '0.15': 0.6965042372881356, '0.2': 0.7738347457627118}\n"
     ]
    },
    {
     "name": "stderr",
     "output_type": "stream",
     "text": [
      "\r",
      "  0%|          | 0/265 [00:00<?, ?it/s]"
     ]
    },
    {
     "name": "stdout",
     "output_type": "stream",
     "text": [
      "Weights are saved to exp_regression_kfold_4/1_exp/acc_0.77_ep_13_exp/weights.ckpt\n",
      "Model's architecture is saved to exp_regression_kfold_4/1_exp/acc_0.77_ep_13_exp/model.json.\n",
      "ep:  14\n"
     ]
    },
    {
     "name": "stderr",
     "output_type": "stream",
     "text": [
      " 57%|█████▋    | 150/265 [02:20<01:19,  1.45it/s]"
     ]
    },
    {
     "name": "stdout",
     "output_type": "stream",
     "text": [
      "Epoch: 0\n",
      "Regression_Head_1: 0.0419522 \n",
      "Training_Loss: 0.0419522 \n",
      "\n",
      "\n"
     ]
    },
    {
     "name": "stderr",
     "output_type": "stream",
     "text": [
      "100%|██████████| 265/265 [04:13<00:00,  1.04it/s]\n"
     ]
    },
    {
     "name": "stdout",
     "output_type": "stream",
     "text": [
      "acc test:  {'0.01': 0.07971398305084745, '0.05': 0.3125, '0.1': 0.7018008474576272, '0.15': 0.8927436440677966, '0.2': 0.9658368644067796}\n"
     ]
    },
    {
     "name": "stderr",
     "output_type": "stream",
     "text": [
      "\r",
      "  0%|          | 0/265 [00:00<?, ?it/s]"
     ]
    },
    {
     "name": "stdout",
     "output_type": "stream",
     "text": [
      "Weights are saved to exp_regression_kfold_4/1_exp/acc_0.97_ep_14_exp/weights.ckpt\n",
      "Model's architecture is saved to exp_regression_kfold_4/1_exp/acc_0.97_ep_14_exp/model.json.\n",
      "ep:  15\n"
     ]
    },
    {
     "name": "stderr",
     "output_type": "stream",
     "text": [
      " 57%|█████▋    | 150/265 [02:24<01:17,  1.48it/s]"
     ]
    },
    {
     "name": "stdout",
     "output_type": "stream",
     "text": [
      "Epoch: 0\n",
      "Regression_Head_1: 0.0367564 \n",
      "Training_Loss: 0.0367564 \n",
      "\n",
      "\n"
     ]
    },
    {
     "name": "stderr",
     "output_type": "stream",
     "text": [
      "100%|██████████| 265/265 [04:16<00:00,  1.03it/s]\n"
     ]
    },
    {
     "name": "stdout",
     "output_type": "stream",
     "text": [
      "acc test:  {'0.01': 0.06885593220338983, '0.05': 0.2915783898305085, '0.1': 0.5307203389830508, '0.15': 0.8029661016949152, '0.2': 0.8980402542372882}\n"
     ]
    },
    {
     "name": "stderr",
     "output_type": "stream",
     "text": [
      "\r",
      "  0%|          | 0/265 [00:00<?, ?it/s]"
     ]
    },
    {
     "name": "stdout",
     "output_type": "stream",
     "text": [
      "Weights are saved to exp_regression_kfold_4/1_exp/acc_0.9_ep_15_exp/weights.ckpt\n",
      "Model's architecture is saved to exp_regression_kfold_4/1_exp/acc_0.9_ep_15_exp/model.json.\n",
      "ep:  16\n"
     ]
    },
    {
     "name": "stderr",
     "output_type": "stream",
     "text": [
      " 57%|█████▋    | 150/265 [02:26<01:28,  1.31it/s]"
     ]
    },
    {
     "name": "stdout",
     "output_type": "stream",
     "text": [
      "Epoch: 0\n",
      "Regression_Head_1: 0.0382777 \n",
      "Training_Loss: 0.0382777 \n",
      "\n",
      "\n"
     ]
    },
    {
     "name": "stderr",
     "output_type": "stream",
     "text": [
      "100%|██████████| 265/265 [04:14<00:00,  1.04it/s]\n"
     ]
    },
    {
     "name": "stdout",
     "output_type": "stream",
     "text": [
      "acc test:  {'0.01': 0.09798728813559322, '0.05': 0.3877118644067797, '0.1': 0.7372881355932204, '0.15': 0.8996292372881356, '0.2': 0.9666313559322034}\n"
     ]
    },
    {
     "name": "stderr",
     "output_type": "stream",
     "text": [
      "\r",
      "  0%|          | 0/265 [00:00<?, ?it/s]"
     ]
    },
    {
     "name": "stdout",
     "output_type": "stream",
     "text": [
      "Weights are saved to exp_regression_kfold_4/1_exp/acc_0.97_ep_16_exp/weights.ckpt\n",
      "Model's architecture is saved to exp_regression_kfold_4/1_exp/acc_0.97_ep_16_exp/model.json.\n",
      "ep:  17\n"
     ]
    },
    {
     "name": "stderr",
     "output_type": "stream",
     "text": [
      " 57%|█████▋    | 150/265 [02:30<02:06,  1.10s/it]"
     ]
    },
    {
     "name": "stdout",
     "output_type": "stream",
     "text": [
      "Epoch: 0\n",
      "Regression_Head_1: 0.0416117 \n",
      "Training_Loss: 0.0416117 \n",
      "\n",
      "\n"
     ]
    },
    {
     "name": "stderr",
     "output_type": "stream",
     "text": [
      "100%|██████████| 265/265 [04:24<00:00,  1.00it/s]\n"
     ]
    },
    {
     "name": "stdout",
     "output_type": "stream",
     "text": [
      "acc test:  {'0.01': 0.06832627118644068, '0.05': 0.2783368644067797, '0.1': 0.4841101694915254, '0.15': 0.7113347457627118, '0.2': 0.8463983050847458}\n"
     ]
    },
    {
     "name": "stderr",
     "output_type": "stream",
     "text": [
      "\r",
      "  0%|          | 0/265 [00:00<?, ?it/s]"
     ]
    },
    {
     "name": "stdout",
     "output_type": "stream",
     "text": [
      "Weights are saved to exp_regression_kfold_4/1_exp/acc_0.85_ep_17_exp/weights.ckpt\n",
      "Model's architecture is saved to exp_regression_kfold_4/1_exp/acc_0.85_ep_17_exp/model.json.\n",
      "ep:  18\n"
     ]
    },
    {
     "name": "stderr",
     "output_type": "stream",
     "text": [
      " 57%|█████▋    | 150/265 [02:28<01:58,  1.03s/it]"
     ]
    },
    {
     "name": "stdout",
     "output_type": "stream",
     "text": [
      "Epoch: 0\n",
      "Regression_Head_1: 0.0382787 \n",
      "Training_Loss: 0.0382787 \n",
      "\n",
      "\n"
     ]
    },
    {
     "name": "stderr",
     "output_type": "stream",
     "text": [
      "100%|██████████| 265/265 [04:17<00:00,  1.03it/s]\n"
     ]
    },
    {
     "name": "stdout",
     "output_type": "stream",
     "text": [
      "acc test:  {'0.01': 0.0770656779661017, '0.05': 0.4107521186440678, '0.1': 0.7841631355932204, '0.15': 0.9128707627118644, '0.2': 0.9740466101694916}\n"
     ]
    },
    {
     "name": "stderr",
     "output_type": "stream",
     "text": [
      "\r",
      "  0%|          | 0/265 [00:00<?, ?it/s]"
     ]
    },
    {
     "name": "stdout",
     "output_type": "stream",
     "text": [
      "Weights are saved to exp_regression_kfold_4/1_exp/acc_0.97_ep_18_exp/weights.ckpt\n",
      "Model's architecture is saved to exp_regression_kfold_4/1_exp/acc_0.97_ep_18_exp/model.json.\n",
      "ep:  19\n"
     ]
    },
    {
     "name": "stderr",
     "output_type": "stream",
     "text": [
      " 57%|█████▋    | 150/265 [02:42<01:58,  1.03s/it]"
     ]
    },
    {
     "name": "stdout",
     "output_type": "stream",
     "text": [
      "Epoch: 0\n",
      "Regression_Head_1: 0.0435570 \n",
      "Training_Loss: 0.0435570 \n",
      "\n",
      "\n"
     ]
    },
    {
     "name": "stderr",
     "output_type": "stream",
     "text": [
      "100%|██████████| 265/265 [04:35<00:00,  1.04s/it]\n"
     ]
    }
   ],
   "source": [
    "for path_to_exp in EXP_FOLDERS:\n",
    "    # At start of each experiments - create new dataset (shuffle it)\n",
    "    Xtrain, Ytrain, Xtest, Ytest, pred2params, config_data = load_data(\n",
    "        path_exp_folder=path_to_exp,\n",
    "        path_to_data='..',\n",
    "        use_saved=True,\n",
    "        size_hw=(336, 336),\n",
    "        test_div=0.8,\n",
    "        data_type=REGRESSION,\n",
    "        filename_config='config_data'\n",
    "    )\n",
    "\n",
    "    Ytrain = np.array(Ytrain).astype(np.float32).reshape(-1, 1)\n",
    "    Ytest = np.array(Ytest).astype(np.float32).reshape(-1, 1)\n",
    "    \n",
    "    # Create model\n",
    "    model, trainer, opt, global_step, sess = get_regression_model(\n",
    "        size_hw=(336, 336), \n",
    "        batch_size=BATCH_SIZE, \n",
    "        size_dataset=len(Ytrain),\n",
    "        lr=LR\n",
    "    )\n",
    "    \n",
    "    gen = get_generator_wrapper(Xtrain, Ytrain, BATCH_SIZE)\n",
    "    accur_list = []\n",
    "\n",
    "    for epoch_num in range(EPOCHS):\n",
    "        # Each epoch:\n",
    "        # Train -> eval -> create folder -> save weights/arch -> save results\n",
    "        print('ep: ', epoch_num)\n",
    "        info1 = trainer.fit_generator(\n",
    "            gen, optimizer=opt, epochs=1, \n",
    "            iter=len(Xtrain)//(2*BATCH_SIZE), print_period=150, global_step=global_step\n",
    "        )\n",
    "        predictions = eval_model(\n",
    "            model, \n",
    "            Xtest, Ytest, \n",
    "            BATCH_SIZE, \n",
    "            calc_mean=False, is_classic=False, return_predict_only=True\n",
    "        ).reshape(-1, 1)\n",
    "        # {value_thr: pred_acc}\n",
    "        json_pred_info = dict()\n",
    "        for thr_value in THR_PRED_LIST:\n",
    "            abs_pr_and_y = np.abs(predictions - Ytest[:len(predictions)])\n",
    "            pred_acc = np.mean(abs_pr_and_y <= thr_value)\n",
    "            json_pred_info[str(thr_value)] = pred_acc\n",
    "        print('acc test: ', json_pred_info)\n",
    "        accur_list.append(json_pred_info)\n",
    "        # Create folder\n",
    "        path_to_s_epoch = os.path.join(\n",
    "            path_to_exp, \n",
    "            f'acc_{round(json_pred_info[str(THR_PRED_LIST[-1])], 2)}_ep_{epoch_num}_exp'\n",
    "        )\n",
    "        os.makedirs(path_to_s_epoch, exist_ok=True)\n",
    "        # acc info - write into json\n",
    "        with open(os.path.join(path_to_s_epoch, 'acc_data.json'), 'w') as fp:\n",
    "            json.dump(json_pred_info, fp)\n",
    "        # Save weights/arch\n",
    "        model.save_weights(os.path.join(path_to_s_epoch, 'weights.ckpt'))\n",
    "        model.save_architecture(os.path.join(path_to_s_epoch, 'model.json'))\n",
    "        # Save results\n",
    "        \"\"\"\n",
    "        save_conf_matrix(\n",
    "            Ytest, predictions, \n",
    "            os.path.join(path_to_s_epoch, 'conf_matrix'),\n",
    "            save_np=True\n",
    "        )\n",
    "        error_angle(\n",
    "            os.path.join(path_to_s_epoch, 'error_angle_all_class'), \n",
    "            config_data, Ytest, predictions,\n",
    "            save_np=True\n",
    "        )\n",
    "        \"\"\"\n",
    "    fig = plt.figure(figsize=(8, 8))\n",
    "    for thr_value in THR_PRED_LIST:\n",
    "        pred_taken = [single[str(thr_value)] for single in accur_list]\n",
    "        plt.plot(pred_taken)\n",
    "    plt.legend(list(map(lambda x: str(x), THR_PRED_LIST)))\n",
    "    fig.savefig(os.path.join(path_to_exp, 'acc.png'))\n",
    "    # Clear plt figures\n",
    "    plt.close('all')\n",
    "    # close session and reset graph\n",
    "    sess.close()\n",
    "    tf.reset_default_graph()"
   ]
  },
  {
   "cell_type": "code",
   "execution_count": null,
   "metadata": {},
   "outputs": [],
   "source": [
    "%matplotlib inline"
   ]
  },
  {
   "cell_type": "code",
   "execution_count": null,
   "metadata": {},
   "outputs": [],
   "source": [
    "plt.imshow(Xtest[-100])"
   ]
  },
  {
   "cell_type": "code",
   "execution_count": null,
   "metadata": {},
   "outputs": [],
   "source": [
    "Ytest[-100]"
   ]
  },
  {
   "cell_type": "code",
   "execution_count": null,
   "metadata": {},
   "outputs": [],
   "source": [
    "len(acc_test)"
   ]
  },
  {
   "cell_type": "code",
   "execution_count": null,
   "metadata": {},
   "outputs": [],
   "source": [
    "len(predictions)"
   ]
  },
  {
   "cell_type": "code",
   "execution_count": null,
   "metadata": {},
   "outputs": [],
   "source": [
    "1"
   ]
  },
  {
   "cell_type": "code",
   "execution_count": null,
   "metadata": {},
   "outputs": [],
   "source": [
    "2"
   ]
  },
  {
   "cell_type": "code",
   "execution_count": null,
   "metadata": {},
   "outputs": [],
   "source": []
  }
 ],
 "metadata": {
  "accelerator": "GPU",
  "colab": {
   "collapsed_sections": [],
   "name": "classification.ipynb",
   "provenance": []
  },
  "kernelspec": {
   "display_name": "Python 3",
   "language": "python",
   "name": "python3"
  },
  "language_info": {
   "codemirror_mode": {
    "name": "ipython",
    "version": 3
   },
   "file_extension": ".py",
   "mimetype": "text/x-python",
   "name": "python",
   "nbconvert_exporter": "python",
   "pygments_lexer": "ipython3",
   "version": "3.8.5"
  }
 },
 "nbformat": 4,
 "nbformat_minor": 1
}
